{
 "cells": [
  {
   "cell_type": "code",
   "execution_count": 1,
   "metadata": {},
   "outputs": [],
   "source": [
    "%matplotlib inline\n",
    "import matplotlib.pyplot as plt\n",
    "import seaborn as sns\n",
    "import altair\n",
    "import pandas as pd\n",
    "import numpy as np\n",
    "import networkx as nx\n",
    "import scipy\n",
    "import re\n",
    "import plotly.express as px\n",
    "from io import StringIO\n",
    "from copy import deepcopy\n",
    "from sklearn.decomposition import PCA\n",
    "from scipy.cluster.hierarchy import linkage, dendrogram, fcluster\n",
    "from scipy.spatial.distance import squareform\n",
    "from sklearn.model_selection import train_test_split\n",
    "from sklearn.feature_selection import SelectKBest\n",
    "from sklearn.feature_selection import mutual_info_regression\n"
   ]
  },
  {
   "cell_type": "code",
   "execution_count": 74,
   "metadata": {},
   "outputs": [],
   "source": [
    "raw_health = pd.read_csv('features_health-1.csv', index_col=0)\n",
    "raw_nonhealth = pd.read_csv('features_nonhealth_1.csv', index_col=0)"
   ]
  },
  {
   "cell_type": "code",
   "execution_count": 75,
   "metadata": {},
   "outputs": [],
   "source": [
    "coln_health = list(raw_health)\n",
    "\n",
    "for i in coln_health:\n",
    "    raw_health = raw_health[~raw_health[i].isin(['..'])]\n",
    "raw_health = raw_health.dropna()\n",
    "raw_health = raw_health.iloc[:,1:]\n",
    "raw_health = pd.DataFrame(raw_health, dtype=np.float)\n"
   ]
  },
  {
   "cell_type": "code",
   "execution_count": 76,
   "metadata": {},
   "outputs": [],
   "source": [
    "coln_nonhealth = list(raw_nonhealth)\n",
    "\n",
    "for i in coln_nonhealth:\n",
    "    raw_nonhealth = raw_nonhealth[~raw_nonhealth[i].isin(['..'])]\n",
    "raw_nonhealth = raw_nonhealth.dropna()\n",
    "raw_nonhealth = raw_nonhealth.iloc[:,1:]\n",
    "raw_nonhealth = pd.DataFrame(raw_nonhealth, dtype=np.float)\n"
   ]
  },
  {
   "cell_type": "code",
   "execution_count": 77,
   "metadata": {},
   "outputs": [
    {
     "data": {
      "text/plain": [
       "(265, 16)"
      ]
     },
     "execution_count": 77,
     "metadata": {},
     "output_type": "execute_result"
    }
   ],
   "source": [
    "raw_health.shape"
   ]
  },
  {
   "cell_type": "code",
   "execution_count": 78,
   "metadata": {},
   "outputs": [
    {
     "data": {
      "text/plain": [
       "(401, 15)"
      ]
     },
     "execution_count": 78,
     "metadata": {},
     "output_type": "execute_result"
    }
   ],
   "source": [
    "raw_nonhealth.shape"
   ]
  },
  {
   "cell_type": "code",
   "execution_count": 79,
   "metadata": {},
   "outputs": [
    {
     "data": {
      "text/html": [
       "<div>\n",
       "<style scoped>\n",
       "    .dataframe tbody tr th:only-of-type {\n",
       "        vertical-align: middle;\n",
       "    }\n",
       "\n",
       "    .dataframe tbody tr th {\n",
       "        vertical-align: top;\n",
       "    }\n",
       "\n",
       "    .dataframe thead th {\n",
       "        text-align: right;\n",
       "    }\n",
       "</style>\n",
       "<table border=\"1\" class=\"dataframe\">\n",
       "  <thead>\n",
       "    <tr style=\"text-align: right;\">\n",
       "      <th></th>\n",
       "      <th>%mental</th>\n",
       "      <th>mental admission/100,000(18-19)</th>\n",
       "      <th>%poor SA-heath</th>\n",
       "      <th>%psycho</th>\n",
       "      <th>%high BP</th>\n",
       "      <th>%overweight</th>\n",
       "      <th>%smoker</th>\n",
       "      <th>%alcohol</th>\n",
       "      <th>%exercise</th>\n",
       "      <th>self-harm rate/100,000</th>\n",
       "      <th>IMR/1,000</th>\n",
       "      <th>%HSV</th>\n",
       "      <th>%asthma</th>\n",
       "      <th>%COPD</th>\n",
       "      <th>%arthritis</th>\n",
       "      <th>%osteoporosis</th>\n",
       "    </tr>\n",
       "    <tr>\n",
       "      <th>Code\n",
       "(PHN/LGA)</th>\n",
       "      <th></th>\n",
       "      <th></th>\n",
       "      <th></th>\n",
       "      <th></th>\n",
       "      <th></th>\n",
       "      <th></th>\n",
       "      <th></th>\n",
       "      <th></th>\n",
       "      <th></th>\n",
       "      <th></th>\n",
       "      <th></th>\n",
       "      <th></th>\n",
       "      <th></th>\n",
       "      <th></th>\n",
       "      <th></th>\n",
       "      <th></th>\n",
       "    </tr>\n",
       "  </thead>\n",
       "  <tbody>\n",
       "    <tr>\n",
       "      <th>PHN101</th>\n",
       "      <td>17.5</td>\n",
       "      <td>516.8</td>\n",
       "      <td>12.4</td>\n",
       "      <td>10.4</td>\n",
       "      <td>22.8</td>\n",
       "      <td>35.3</td>\n",
       "      <td>12.3</td>\n",
       "      <td>14.3</td>\n",
       "      <td>62.0</td>\n",
       "      <td>8.5</td>\n",
       "      <td>3.0</td>\n",
       "      <td>4.4</td>\n",
       "      <td>8.2</td>\n",
       "      <td>2.0</td>\n",
       "      <td>12.5</td>\n",
       "      <td>4.6</td>\n",
       "    </tr>\n",
       "    <tr>\n",
       "      <th>11100</th>\n",
       "      <td>16.0</td>\n",
       "      <td>469.1</td>\n",
       "      <td>13.6</td>\n",
       "      <td>10.8</td>\n",
       "      <td>23.2</td>\n",
       "      <td>35.3</td>\n",
       "      <td>14.6</td>\n",
       "      <td>11.3</td>\n",
       "      <td>68.4</td>\n",
       "      <td>9.6</td>\n",
       "      <td>3.6</td>\n",
       "      <td>4.8</td>\n",
       "      <td>7.6</td>\n",
       "      <td>2.0</td>\n",
       "      <td>12.3</td>\n",
       "      <td>3.3</td>\n",
       "    </tr>\n",
       "    <tr>\n",
       "      <th>11300</th>\n",
       "      <td>15.5</td>\n",
       "      <td>503.9</td>\n",
       "      <td>12.3</td>\n",
       "      <td>11.1</td>\n",
       "      <td>23.9</td>\n",
       "      <td>34.5</td>\n",
       "      <td>12.3</td>\n",
       "      <td>10.1</td>\n",
       "      <td>66.7</td>\n",
       "      <td>7.9</td>\n",
       "      <td>3.3</td>\n",
       "      <td>4.6</td>\n",
       "      <td>6.9</td>\n",
       "      <td>1.8</td>\n",
       "      <td>12.2</td>\n",
       "      <td>5.2</td>\n",
       "    </tr>\n",
       "    <tr>\n",
       "      <th>11520</th>\n",
       "      <td>16.9</td>\n",
       "      <td>510.6</td>\n",
       "      <td>10.7</td>\n",
       "      <td>8.6</td>\n",
       "      <td>23.0</td>\n",
       "      <td>35.2</td>\n",
       "      <td>9.9</td>\n",
       "      <td>13.8</td>\n",
       "      <td>60.0</td>\n",
       "      <td>6.8</td>\n",
       "      <td>2.2</td>\n",
       "      <td>4.6</td>\n",
       "      <td>7.2</td>\n",
       "      <td>1.6</td>\n",
       "      <td>12.4</td>\n",
       "      <td>4.8</td>\n",
       "    </tr>\n",
       "    <tr>\n",
       "      <th>11570a</th>\n",
       "      <td>15.2</td>\n",
       "      <td>670.0</td>\n",
       "      <td>18.8</td>\n",
       "      <td>15.4</td>\n",
       "      <td>23.3</td>\n",
       "      <td>34.6</td>\n",
       "      <td>15.0</td>\n",
       "      <td>9.1</td>\n",
       "      <td>73.6</td>\n",
       "      <td>7.1</td>\n",
       "      <td>2.5</td>\n",
       "      <td>5.0</td>\n",
       "      <td>8.6</td>\n",
       "      <td>2.0</td>\n",
       "      <td>15.0</td>\n",
       "      <td>4.8</td>\n",
       "    </tr>\n",
       "  </tbody>\n",
       "</table>\n",
       "</div>"
      ],
      "text/plain": [
       "                 %mental  mental admission/100,000(18-19)  %poor SA-heath  \\\n",
       "Code\\n(PHN/LGA)                                                             \n",
       "PHN101              17.5                            516.8            12.4   \n",
       "11100               16.0                            469.1            13.6   \n",
       "11300               15.5                            503.9            12.3   \n",
       "11520               16.9                            510.6            10.7   \n",
       "11570a              15.2                            670.0            18.8   \n",
       "\n",
       "                 %psycho  %high BP  %overweight  %smoker  %alcohol  %exercise  \\\n",
       "Code\\n(PHN/LGA)                                                                 \n",
       "PHN101              10.4      22.8         35.3     12.3      14.3       62.0   \n",
       "11100               10.8      23.2         35.3     14.6      11.3       68.4   \n",
       "11300               11.1      23.9         34.5     12.3      10.1       66.7   \n",
       "11520                8.6      23.0         35.2      9.9      13.8       60.0   \n",
       "11570a              15.4      23.3         34.6     15.0       9.1       73.6   \n",
       "\n",
       "                 self-harm rate/100,000  IMR/1,000  %HSV  %asthma  %COPD  \\\n",
       "Code\\n(PHN/LGA)                                                            \n",
       "PHN101                              8.5        3.0   4.4      8.2    2.0   \n",
       "11100                               9.6        3.6   4.8      7.6    2.0   \n",
       "11300                               7.9        3.3   4.6      6.9    1.8   \n",
       "11520                               6.8        2.2   4.6      7.2    1.6   \n",
       "11570a                              7.1        2.5   5.0      8.6    2.0   \n",
       "\n",
       "                 %arthritis  %osteoporosis  \n",
       "Code\\n(PHN/LGA)                             \n",
       "PHN101                 12.5            4.6  \n",
       "11100                  12.3            3.3  \n",
       "11300                  12.2            5.2  \n",
       "11520                  12.4            4.8  \n",
       "11570a                 15.0            4.8  "
      ]
     },
     "execution_count": 79,
     "metadata": {},
     "output_type": "execute_result"
    }
   ],
   "source": [
    "raw_health.head()"
   ]
  },
  {
   "cell_type": "code",
   "execution_count": 81,
   "metadata": {},
   "outputs": [
    {
     "data": {
      "text/html": [
       "<div>\n",
       "<style scoped>\n",
       "    .dataframe tbody tr th:only-of-type {\n",
       "        vertical-align: middle;\n",
       "    }\n",
       "\n",
       "    .dataframe tbody tr th {\n",
       "        vertical-align: top;\n",
       "    }\n",
       "\n",
       "    .dataframe thead th {\n",
       "        text-align: right;\n",
       "    }\n",
       "</style>\n",
       "<table border=\"1\" class=\"dataframe\">\n",
       "  <thead>\n",
       "    <tr style=\"text-align: right;\">\n",
       "      <th></th>\n",
       "      <th>Adimissions for mental health related conditions, Persons - All hospitals 2016/17 Asr Per 100,000</th>\n",
       "      <th>% labour force participation</th>\n",
       "      <th>% private dwellings where Internet accessed</th>\n",
       "      <th>% persons living in crowded dwellings</th>\n",
       "      <th>Total fertility rate</th>\n",
       "      <th>% Permanent migrants under the Family stream visa\\n(total)</th>\n",
       "      <th>Aboriginal population as proportion of total population (%)</th>\n",
       "      <th>% households in dwellings receiving rent assistance</th>\n",
       "      <th>% persons living in social housing</th>\n",
       "      <th>% mortgage stress</th>\n",
       "      <th>% rental stress</th>\n",
       "      <th>% Low income households</th>\n",
       "      <th>% people receiving an unemployment benefit</th>\n",
       "      <th>% disability support pensioners</th>\n",
       "      <th>% unemployed</th>\n",
       "    </tr>\n",
       "    <tr>\n",
       "      <th>Code\n",
       "(PHN/LGA)</th>\n",
       "      <th></th>\n",
       "      <th></th>\n",
       "      <th></th>\n",
       "      <th></th>\n",
       "      <th></th>\n",
       "      <th></th>\n",
       "      <th></th>\n",
       "      <th></th>\n",
       "      <th></th>\n",
       "      <th></th>\n",
       "      <th></th>\n",
       "      <th></th>\n",
       "      <th></th>\n",
       "      <th></th>\n",
       "      <th></th>\n",
       "    </tr>\n",
       "  </thead>\n",
       "  <tbody>\n",
       "    <tr>\n",
       "      <th>11100</th>\n",
       "      <td>17.735</td>\n",
       "      <td>67.6</td>\n",
       "      <td>81.9</td>\n",
       "      <td>17.3</td>\n",
       "      <td>1.52</td>\n",
       "      <td>5.2</td>\n",
       "      <td>2.1</td>\n",
       "      <td>13.2</td>\n",
       "      <td>5.7</td>\n",
       "      <td>9.8</td>\n",
       "      <td>25.2</td>\n",
       "      <td>36.2</td>\n",
       "      <td>4.6</td>\n",
       "      <td>2.9</td>\n",
       "      <td>3.1</td>\n",
       "    </tr>\n",
       "    <tr>\n",
       "      <th>11300</th>\n",
       "      <td>21.541</td>\n",
       "      <td>62.9</td>\n",
       "      <td>84.1</td>\n",
       "      <td>21.7</td>\n",
       "      <td>1.12</td>\n",
       "      <td>6.4</td>\n",
       "      <td>0.5</td>\n",
       "      <td>13.9</td>\n",
       "      <td>2.4</td>\n",
       "      <td>13.8</td>\n",
       "      <td>33.2</td>\n",
       "      <td>39.5</td>\n",
       "      <td>3.8</td>\n",
       "      <td>2.2</td>\n",
       "      <td>3.8</td>\n",
       "    </tr>\n",
       "    <tr>\n",
       "      <th>11520</th>\n",
       "      <td>26.733</td>\n",
       "      <td>68.9</td>\n",
       "      <td>87.5</td>\n",
       "      <td>10.7</td>\n",
       "      <td>1.48</td>\n",
       "      <td>4.2</td>\n",
       "      <td>0.6</td>\n",
       "      <td>7.4</td>\n",
       "      <td>1.8</td>\n",
       "      <td>8.7</td>\n",
       "      <td>20.1</td>\n",
       "      <td>27.0</td>\n",
       "      <td>2.6</td>\n",
       "      <td>1.7</td>\n",
       "      <td>2.0</td>\n",
       "    </tr>\n",
       "    <tr>\n",
       "      <th>12930</th>\n",
       "      <td>15.623</td>\n",
       "      <td>63.9</td>\n",
       "      <td>85.4</td>\n",
       "      <td>14.8</td>\n",
       "      <td>1.47</td>\n",
       "      <td>6.9</td>\n",
       "      <td>0.6</td>\n",
       "      <td>13.2</td>\n",
       "      <td>2.1</td>\n",
       "      <td>12.8</td>\n",
       "      <td>29.4</td>\n",
       "      <td>36.8</td>\n",
       "      <td>4.2</td>\n",
       "      <td>2.4</td>\n",
       "      <td>3.1</td>\n",
       "    </tr>\n",
       "    <tr>\n",
       "      <th>14170</th>\n",
       "      <td>28.404</td>\n",
       "      <td>76.0</td>\n",
       "      <td>86.8</td>\n",
       "      <td>10.8</td>\n",
       "      <td>1.32</td>\n",
       "      <td>4.0</td>\n",
       "      <td>1.4</td>\n",
       "      <td>13.6</td>\n",
       "      <td>2.7</td>\n",
       "      <td>4.7</td>\n",
       "      <td>16.8</td>\n",
       "      <td>23.7</td>\n",
       "      <td>4.4</td>\n",
       "      <td>2.7</td>\n",
       "      <td>3.7</td>\n",
       "    </tr>\n",
       "  </tbody>\n",
       "</table>\n",
       "</div>"
      ],
      "text/plain": [
       "                 Adimissions for mental health related conditions, Persons - All hospitals 2016/17 Asr Per 100,000  \\\n",
       "Code\\n(PHN/LGA)                                                                                                      \n",
       "11100                                                       17.735                                                   \n",
       "11300                                                       21.541                                                   \n",
       "11520                                                       26.733                                                   \n",
       "12930                                                       15.623                                                   \n",
       "14170                                                       28.404                                                   \n",
       "\n",
       "                 % labour force participation  \\\n",
       "Code\\n(PHN/LGA)                                 \n",
       "11100                                    67.6   \n",
       "11300                                    62.9   \n",
       "11520                                    68.9   \n",
       "12930                                    63.9   \n",
       "14170                                    76.0   \n",
       "\n",
       "                 % private dwellings where Internet accessed  \\\n",
       "Code\\n(PHN/LGA)                                                \n",
       "11100                                                   81.9   \n",
       "11300                                                   84.1   \n",
       "11520                                                   87.5   \n",
       "12930                                                   85.4   \n",
       "14170                                                   86.8   \n",
       "\n",
       "                 % persons living in crowded dwellings  Total fertility rate  \\\n",
       "Code\\n(PHN/LGA)                                                                \n",
       "11100                                             17.3                  1.52   \n",
       "11300                                             21.7                  1.12   \n",
       "11520                                             10.7                  1.48   \n",
       "12930                                             14.8                  1.47   \n",
       "14170                                             10.8                  1.32   \n",
       "\n",
       "                 % Permanent migrants under the Family stream visa\\n(total)  \\\n",
       "Code\\n(PHN/LGA)                                                               \n",
       "11100                                                          5.2            \n",
       "11300                                                          6.4            \n",
       "11520                                                          4.2            \n",
       "12930                                                          6.9            \n",
       "14170                                                          4.0            \n",
       "\n",
       "                 Aboriginal population as proportion of total population (%)  \\\n",
       "Code\\n(PHN/LGA)                                                                \n",
       "11100                                                          2.1             \n",
       "11300                                                          0.5             \n",
       "11520                                                          0.6             \n",
       "12930                                                          0.6             \n",
       "14170                                                          1.4             \n",
       "\n",
       "                 % households in dwellings receiving rent assistance  \\\n",
       "Code\\n(PHN/LGA)                                                        \n",
       "11100                                                         13.2     \n",
       "11300                                                         13.9     \n",
       "11520                                                          7.4     \n",
       "12930                                                         13.2     \n",
       "14170                                                         13.6     \n",
       "\n",
       "                 % persons living in social housing  % mortgage stress  \\\n",
       "Code\\n(PHN/LGA)                                                          \n",
       "11100                                           5.7                9.8   \n",
       "11300                                           2.4               13.8   \n",
       "11520                                           1.8                8.7   \n",
       "12930                                           2.1               12.8   \n",
       "14170                                           2.7                4.7   \n",
       "\n",
       "                 % rental stress  % Low income households  \\\n",
       "Code\\n(PHN/LGA)                                             \n",
       "11100                       25.2                     36.2   \n",
       "11300                       33.2                     39.5   \n",
       "11520                       20.1                     27.0   \n",
       "12930                       29.4                     36.8   \n",
       "14170                       16.8                     23.7   \n",
       "\n",
       "                 % people receiving an unemployment benefit  \\\n",
       "Code\\n(PHN/LGA)                                               \n",
       "11100                                                   4.6   \n",
       "11300                                                   3.8   \n",
       "11520                                                   2.6   \n",
       "12930                                                   4.2   \n",
       "14170                                                   4.4   \n",
       "\n",
       "                 % disability support pensioners  % unemployed  \n",
       "Code\\n(PHN/LGA)                                                 \n",
       "11100                                        2.9           3.1  \n",
       "11300                                        2.2           3.8  \n",
       "11520                                        1.7           2.0  \n",
       "12930                                        2.4           3.1  \n",
       "14170                                        2.7           3.7  "
      ]
     },
     "execution_count": 81,
     "metadata": {},
     "output_type": "execute_result"
    }
   ],
   "source": [
    "raw_nonhealth.iloc[:,0] = raw_nonhealth.iloc[:,0] / 100\n",
    "raw_nonhealth.head()"
   ]
  },
  {
   "cell_type": "code",
   "execution_count": 82,
   "metadata": {},
   "outputs": [
    {
     "data": {
      "image/png": "[encoded data removed]",
      "text/plain": [
       "<Figure size 432x288 with 1 Axes>"
      ]
     },
     "metadata": {
      "needs_background": "light"
     },
     "output_type": "display_data"
    }
   ],
   "source": [
    "raw_nonhealth.head()\n",
    "_ = plt.hist(raw_nonhealth.iloc[:,0], bins=20)"
   ]
  },
  {
   "cell_type": "code",
   "execution_count": 83,
   "metadata": {},
   "outputs": [
    {
     "data": {
      "image/png": "[encoded data removed]",
      "text/plain": [
       "<Figure size 1152x432 with 2 Axes>"
      ]
     },
     "metadata": {
      "needs_background": "light"
     },
     "output_type": "display_data"
    },
    {
     "data": {
      "text/html": [
       "<div>\n",
       "<style scoped>\n",
       "    .dataframe tbody tr th:only-of-type {\n",
       "        vertical-align: middle;\n",
       "    }\n",
       "\n",
       "    .dataframe tbody tr th {\n",
       "        vertical-align: top;\n",
       "    }\n",
       "\n",
       "    .dataframe thead th {\n",
       "        text-align: right;\n",
       "    }\n",
       "</style>\n",
       "<table border=\"1\" class=\"dataframe\">\n",
       "  <thead>\n",
       "    <tr style=\"text-align: right;\">\n",
       "      <th></th>\n",
       "      <th>%poor SA-heath</th>\n",
       "      <th>%psycho</th>\n",
       "      <th>%high BP</th>\n",
       "      <th>%overweight</th>\n",
       "      <th>%smoker</th>\n",
       "      <th>%alcohol</th>\n",
       "      <th>%exercise</th>\n",
       "      <th>self-harm rate/100,000</th>\n",
       "      <th>IMR/1,000</th>\n",
       "      <th>%HSV</th>\n",
       "      <th>%asthma</th>\n",
       "      <th>%COPD</th>\n",
       "      <th>%arthritis</th>\n",
       "      <th>%osteoporosis</th>\n",
       "    </tr>\n",
       "    <tr>\n",
       "      <th>Code\n",
       "(PHN/LGA)</th>\n",
       "      <th></th>\n",
       "      <th></th>\n",
       "      <th></th>\n",
       "      <th></th>\n",
       "      <th></th>\n",
       "      <th></th>\n",
       "      <th></th>\n",
       "      <th></th>\n",
       "      <th></th>\n",
       "      <th></th>\n",
       "      <th></th>\n",
       "      <th></th>\n",
       "      <th></th>\n",
       "      <th></th>\n",
       "    </tr>\n",
       "  </thead>\n",
       "  <tbody>\n",
       "    <tr>\n",
       "      <th>PHN101</th>\n",
       "      <td>12.4</td>\n",
       "      <td>10.4</td>\n",
       "      <td>22.8</td>\n",
       "      <td>35.3</td>\n",
       "      <td>12.3</td>\n",
       "      <td>14.3</td>\n",
       "      <td>62.0</td>\n",
       "      <td>8.5</td>\n",
       "      <td>3.0</td>\n",
       "      <td>4.4</td>\n",
       "      <td>8.2</td>\n",
       "      <td>2.0</td>\n",
       "      <td>12.5</td>\n",
       "      <td>4.6</td>\n",
       "    </tr>\n",
       "    <tr>\n",
       "      <th>11100</th>\n",
       "      <td>13.6</td>\n",
       "      <td>10.8</td>\n",
       "      <td>23.2</td>\n",
       "      <td>35.3</td>\n",
       "      <td>14.6</td>\n",
       "      <td>11.3</td>\n",
       "      <td>68.4</td>\n",
       "      <td>9.6</td>\n",
       "      <td>3.6</td>\n",
       "      <td>4.8</td>\n",
       "      <td>7.6</td>\n",
       "      <td>2.0</td>\n",
       "      <td>12.3</td>\n",
       "      <td>3.3</td>\n",
       "    </tr>\n",
       "    <tr>\n",
       "      <th>11300</th>\n",
       "      <td>12.3</td>\n",
       "      <td>11.1</td>\n",
       "      <td>23.9</td>\n",
       "      <td>34.5</td>\n",
       "      <td>12.3</td>\n",
       "      <td>10.1</td>\n",
       "      <td>66.7</td>\n",
       "      <td>7.9</td>\n",
       "      <td>3.3</td>\n",
       "      <td>4.6</td>\n",
       "      <td>6.9</td>\n",
       "      <td>1.8</td>\n",
       "      <td>12.2</td>\n",
       "      <td>5.2</td>\n",
       "    </tr>\n",
       "    <tr>\n",
       "      <th>11520</th>\n",
       "      <td>10.7</td>\n",
       "      <td>8.6</td>\n",
       "      <td>23.0</td>\n",
       "      <td>35.2</td>\n",
       "      <td>9.9</td>\n",
       "      <td>13.8</td>\n",
       "      <td>60.0</td>\n",
       "      <td>6.8</td>\n",
       "      <td>2.2</td>\n",
       "      <td>4.6</td>\n",
       "      <td>7.2</td>\n",
       "      <td>1.6</td>\n",
       "      <td>12.4</td>\n",
       "      <td>4.8</td>\n",
       "    </tr>\n",
       "    <tr>\n",
       "      <th>11570a</th>\n",
       "      <td>18.8</td>\n",
       "      <td>15.4</td>\n",
       "      <td>23.3</td>\n",
       "      <td>34.6</td>\n",
       "      <td>15.0</td>\n",
       "      <td>9.1</td>\n",
       "      <td>73.6</td>\n",
       "      <td>7.1</td>\n",
       "      <td>2.5</td>\n",
       "      <td>5.0</td>\n",
       "      <td>8.6</td>\n",
       "      <td>2.0</td>\n",
       "      <td>15.0</td>\n",
       "      <td>4.8</td>\n",
       "    </tr>\n",
       "  </tbody>\n",
       "</table>\n",
       "</div>"
      ],
      "text/plain": [
       "                 %poor SA-heath  %psycho  %high BP  %overweight  %smoker  \\\n",
       "Code\\n(PHN/LGA)                                                            \n",
       "PHN101                     12.4     10.4      22.8         35.3     12.3   \n",
       "11100                      13.6     10.8      23.2         35.3     14.6   \n",
       "11300                      12.3     11.1      23.9         34.5     12.3   \n",
       "11520                      10.7      8.6      23.0         35.2      9.9   \n",
       "11570a                     18.8     15.4      23.3         34.6     15.0   \n",
       "\n",
       "                 %alcohol  %exercise  self-harm rate/100,000  IMR/1,000  %HSV  \\\n",
       "Code\\n(PHN/LGA)                                                                 \n",
       "PHN101               14.3       62.0                     8.5        3.0   4.4   \n",
       "11100                11.3       68.4                     9.6        3.6   4.8   \n",
       "11300                10.1       66.7                     7.9        3.3   4.6   \n",
       "11520                13.8       60.0                     6.8        2.2   4.6   \n",
       "11570a                9.1       73.6                     7.1        2.5   5.0   \n",
       "\n",
       "                 %asthma  %COPD  %arthritis  %osteoporosis  \n",
       "Code\\n(PHN/LGA)                                             \n",
       "PHN101               8.2    2.0        12.5            4.6  \n",
       "11100                7.6    2.0        12.3            3.3  \n",
       "11300                6.9    1.8        12.2            5.2  \n",
       "11520                7.2    1.6        12.4            4.8  \n",
       "11570a               8.6    2.0        15.0            4.8  "
      ]
     },
     "execution_count": 83,
     "metadata": {},
     "output_type": "execute_result"
    }
   ],
   "source": [
    "# for health-relevant data\n",
    "health_feature = raw_health.iloc[:,2:]\n",
    "log_data_health = np.log(health_feature + 1)\n",
    "\n",
    "fig, (ax1, ax2) = plt.subplots(1, 2, figsize=(16, 6))\n",
    "ax1.hist(health_feature.values.flatten(), bins=200)\n",
    "ax1.set_title('raw data value_health')\n",
    "ax1.set_xlabel('value')\n",
    "ax1.set_ylabel('num occurrences')\n",
    "ax2.hist(log_data_health.values.flatten(), bins=200)\n",
    "ax2.set_title('log data value_health')\n",
    "ax2.set_xlabel('log value')\n",
    "ax2.set_ylabel('num occurrences')\n",
    "plt.show()\n",
    "\n",
    "health_feature.head()"
   ]
  },
  {
   "cell_type": "code",
   "execution_count": 85,
   "metadata": {},
   "outputs": [
    {
     "data": {
      "image/png": "[encoded data removed]",
      "text/plain": [
       "<Figure size 1152x432 with 2 Axes>"
      ]
     },
     "metadata": {
      "needs_background": "light"
     },
     "output_type": "display_data"
    },
    {
     "data": {
      "text/html": [
       "<div>\n",
       "<style scoped>\n",
       "    .dataframe tbody tr th:only-of-type {\n",
       "        vertical-align: middle;\n",
       "    }\n",
       "\n",
       "    .dataframe tbody tr th {\n",
       "        vertical-align: top;\n",
       "    }\n",
       "\n",
       "    .dataframe thead th {\n",
       "        text-align: right;\n",
       "    }\n",
       "</style>\n",
       "<table border=\"1\" class=\"dataframe\">\n",
       "  <thead>\n",
       "    <tr style=\"text-align: right;\">\n",
       "      <th></th>\n",
       "      <th>% labour force participation</th>\n",
       "      <th>% private dwellings where Internet accessed</th>\n",
       "      <th>% persons living in crowded dwellings</th>\n",
       "      <th>Total fertility rate</th>\n",
       "      <th>% Permanent migrants under the Family stream visa\\n(total)</th>\n",
       "      <th>Aboriginal population as proportion of total population (%)</th>\n",
       "      <th>% households in dwellings receiving rent assistance</th>\n",
       "      <th>% persons living in social housing</th>\n",
       "      <th>% mortgage stress</th>\n",
       "      <th>% rental stress</th>\n",
       "      <th>% Low income households</th>\n",
       "      <th>% people receiving an unemployment benefit</th>\n",
       "      <th>% disability support pensioners</th>\n",
       "      <th>% unemployed</th>\n",
       "    </tr>\n",
       "    <tr>\n",
       "      <th>Code\n",
       "(PHN/LGA)</th>\n",
       "      <th></th>\n",
       "      <th></th>\n",
       "      <th></th>\n",
       "      <th></th>\n",
       "      <th></th>\n",
       "      <th></th>\n",
       "      <th></th>\n",
       "      <th></th>\n",
       "      <th></th>\n",
       "      <th></th>\n",
       "      <th></th>\n",
       "      <th></th>\n",
       "      <th></th>\n",
       "      <th></th>\n",
       "    </tr>\n",
       "  </thead>\n",
       "  <tbody>\n",
       "    <tr>\n",
       "      <th>11100</th>\n",
       "      <td>67.6</td>\n",
       "      <td>81.9</td>\n",
       "      <td>17.3</td>\n",
       "      <td>1.52</td>\n",
       "      <td>5.2</td>\n",
       "      <td>2.1</td>\n",
       "      <td>13.2</td>\n",
       "      <td>5.7</td>\n",
       "      <td>9.8</td>\n",
       "      <td>25.2</td>\n",
       "      <td>36.2</td>\n",
       "      <td>4.6</td>\n",
       "      <td>2.9</td>\n",
       "      <td>3.1</td>\n",
       "    </tr>\n",
       "    <tr>\n",
       "      <th>11300</th>\n",
       "      <td>62.9</td>\n",
       "      <td>84.1</td>\n",
       "      <td>21.7</td>\n",
       "      <td>1.12</td>\n",
       "      <td>6.4</td>\n",
       "      <td>0.5</td>\n",
       "      <td>13.9</td>\n",
       "      <td>2.4</td>\n",
       "      <td>13.8</td>\n",
       "      <td>33.2</td>\n",
       "      <td>39.5</td>\n",
       "      <td>3.8</td>\n",
       "      <td>2.2</td>\n",
       "      <td>3.8</td>\n",
       "    </tr>\n",
       "    <tr>\n",
       "      <th>11520</th>\n",
       "      <td>68.9</td>\n",
       "      <td>87.5</td>\n",
       "      <td>10.7</td>\n",
       "      <td>1.48</td>\n",
       "      <td>4.2</td>\n",
       "      <td>0.6</td>\n",
       "      <td>7.4</td>\n",
       "      <td>1.8</td>\n",
       "      <td>8.7</td>\n",
       "      <td>20.1</td>\n",
       "      <td>27.0</td>\n",
       "      <td>2.6</td>\n",
       "      <td>1.7</td>\n",
       "      <td>2.0</td>\n",
       "    </tr>\n",
       "    <tr>\n",
       "      <th>12930</th>\n",
       "      <td>63.9</td>\n",
       "      <td>85.4</td>\n",
       "      <td>14.8</td>\n",
       "      <td>1.47</td>\n",
       "      <td>6.9</td>\n",
       "      <td>0.6</td>\n",
       "      <td>13.2</td>\n",
       "      <td>2.1</td>\n",
       "      <td>12.8</td>\n",
       "      <td>29.4</td>\n",
       "      <td>36.8</td>\n",
       "      <td>4.2</td>\n",
       "      <td>2.4</td>\n",
       "      <td>3.1</td>\n",
       "    </tr>\n",
       "    <tr>\n",
       "      <th>14170</th>\n",
       "      <td>76.0</td>\n",
       "      <td>86.8</td>\n",
       "      <td>10.8</td>\n",
       "      <td>1.32</td>\n",
       "      <td>4.0</td>\n",
       "      <td>1.4</td>\n",
       "      <td>13.6</td>\n",
       "      <td>2.7</td>\n",
       "      <td>4.7</td>\n",
       "      <td>16.8</td>\n",
       "      <td>23.7</td>\n",
       "      <td>4.4</td>\n",
       "      <td>2.7</td>\n",
       "      <td>3.7</td>\n",
       "    </tr>\n",
       "  </tbody>\n",
       "</table>\n",
       "</div>"
      ],
      "text/plain": [
       "                 % labour force participation  \\\n",
       "Code\\n(PHN/LGA)                                 \n",
       "11100                                    67.6   \n",
       "11300                                    62.9   \n",
       "11520                                    68.9   \n",
       "12930                                    63.9   \n",
       "14170                                    76.0   \n",
       "\n",
       "                 % private dwellings where Internet accessed  \\\n",
       "Code\\n(PHN/LGA)                                                \n",
       "11100                                                   81.9   \n",
       "11300                                                   84.1   \n",
       "11520                                                   87.5   \n",
       "12930                                                   85.4   \n",
       "14170                                                   86.8   \n",
       "\n",
       "                 % persons living in crowded dwellings  Total fertility rate  \\\n",
       "Code\\n(PHN/LGA)                                                                \n",
       "11100                                             17.3                  1.52   \n",
       "11300                                             21.7                  1.12   \n",
       "11520                                             10.7                  1.48   \n",
       "12930                                             14.8                  1.47   \n",
       "14170                                             10.8                  1.32   \n",
       "\n",
       "                 % Permanent migrants under the Family stream visa\\n(total)  \\\n",
       "Code\\n(PHN/LGA)                                                               \n",
       "11100                                                          5.2            \n",
       "11300                                                          6.4            \n",
       "11520                                                          4.2            \n",
       "12930                                                          6.9            \n",
       "14170                                                          4.0            \n",
       "\n",
       "                 Aboriginal population as proportion of total population (%)  \\\n",
       "Code\\n(PHN/LGA)                                                                \n",
       "11100                                                          2.1             \n",
       "11300                                                          0.5             \n",
       "11520                                                          0.6             \n",
       "12930                                                          0.6             \n",
       "14170                                                          1.4             \n",
       "\n",
       "                 % households in dwellings receiving rent assistance  \\\n",
       "Code\\n(PHN/LGA)                                                        \n",
       "11100                                                         13.2     \n",
       "11300                                                         13.9     \n",
       "11520                                                          7.4     \n",
       "12930                                                         13.2     \n",
       "14170                                                         13.6     \n",
       "\n",
       "                 % persons living in social housing  % mortgage stress  \\\n",
       "Code\\n(PHN/LGA)                                                          \n",
       "11100                                           5.7                9.8   \n",
       "11300                                           2.4               13.8   \n",
       "11520                                           1.8                8.7   \n",
       "12930                                           2.1               12.8   \n",
       "14170                                           2.7                4.7   \n",
       "\n",
       "                 % rental stress  % Low income households  \\\n",
       "Code\\n(PHN/LGA)                                             \n",
       "11100                       25.2                     36.2   \n",
       "11300                       33.2                     39.5   \n",
       "11520                       20.1                     27.0   \n",
       "12930                       29.4                     36.8   \n",
       "14170                       16.8                     23.7   \n",
       "\n",
       "                 % people receiving an unemployment benefit  \\\n",
       "Code\\n(PHN/LGA)                                               \n",
       "11100                                                   4.6   \n",
       "11300                                                   3.8   \n",
       "11520                                                   2.6   \n",
       "12930                                                   4.2   \n",
       "14170                                                   4.4   \n",
       "\n",
       "                 % disability support pensioners  % unemployed  \n",
       "Code\\n(PHN/LGA)                                                 \n",
       "11100                                        2.9           3.1  \n",
       "11300                                        2.2           3.8  \n",
       "11520                                        1.7           2.0  \n",
       "12930                                        2.4           3.1  \n",
       "14170                                        2.7           3.7  "
      ]
     },
     "execution_count": 85,
     "metadata": {},
     "output_type": "execute_result"
    }
   ],
   "source": [
    "# for nonhealth-relevant data\n",
    "nonhealth_feature = raw_nonhealth.iloc[:,1:]\n",
    "log_data_nonhealth = np.log(nonhealth_feature + 1)\n",
    "\n",
    "fig, (ax1, ax2) = plt.subplots(1, 2, figsize=(16, 6))\n",
    "ax1.hist(nonhealth_feature, bins=200)\n",
    "ax1.set_title('raw data value_nonhealth')\n",
    "ax1.set_xlabel('value')\n",
    "ax1.set_ylabel('num occurrences')\n",
    "ax2.hist(log_data_nonhealth.values.flatten(), bins=200)\n",
    "ax2.set_title('log data value_nonhealth')\n",
    "ax2.set_xlabel('log value')\n",
    "ax2.set_ylabel('num occurrences')\n",
    "plt.show()\n",
    "\n",
    "nonhealth_feature.head()"
   ]
  },
  {
   "cell_type": "code",
   "execution_count": 63,
   "metadata": {},
   "outputs": [
    {
     "name": "stdout",
     "output_type": "stream",
     "text": [
      "4\n",
      "\n",
      "Variance ratio: [0.46808219 0.23758043 0.14717495 0.06996474]\n",
      "\n",
      "Explained variance: [0.49459636 0.251038   0.15551156 0.07392784]\n",
      "\n",
      "Explained variance: (265, 4)\n"
     ]
    }
   ],
   "source": [
    "# for health\n",
    "pca = PCA()\n",
    "health_pca = pca.fit_transform(log_data_health.to_numpy())\n",
    "var = 0\n",
    "n = 0\n",
    "# increase the value of n by 1, stop until n explaining 90% of the variance\n",
    "while var < 0.9:\n",
    "    var += pca.explained_variance_ratio_[n]\n",
    "    n += 1\n",
    "# update PCA with the correct number of components, namely, 'n' explaining 90% of the variance\n",
    "pca = PCA(n_components = n)\n",
    "health_pca = pca.fit_transform(log_data_health.to_numpy())\n",
    "health_pca_3_4 = np.delete(health_pca, np.s_[:2], 1)\n",
    "print(n)\n",
    "print(f'\\nVariance ratio: {pca.explained_variance_ratio_}')\n",
    "print(f'\\nExplained variance: {pca.explained_variance_}')\n",
    "print(f'\\nExplained variance: {np.shape(health_pca)}')"
   ]
  },
  {
   "cell_type": "code",
   "execution_count": 69,
   "metadata": {},
   "outputs": [
    {
     "data": {
      "application/vnd.plotly.v1+json": {
       "config": {
        "plotlyServerURL": "https://plot.ly"
       },
       "data": [
        {
         "diagonal": {
          "visible": false
         },
         "dimensions": [
          {
           "axis": {
            "matches": true
           },
           "label": "PC 1 (46.8%)",
           "values": [
            0.2729379455697455,
            0.08331693239070194,
            0.3040099888284394,
            0.642425281435382,
            0.3600867994101722,
            0.6260572531994304,
            0.39206243256341716,
            0.36489241410618883,
            0.6344323336308293,
            0.4638285783317908,
            0.9354401319251666,
            0.5217826207113511,
            0.8040246267292934,
            0.7547279146876795,
            0.5266864956358606,
            0.8488949830060907,
            0.6137005388316173,
            0.2064346185631794,
            0.08573458501946299,
            0.2777484724131199,
            0.5266864956358606,
            0.6804406786793703,
            0.06416657802602853,
            0.3600867994101719,
            0.20317428038282215,
            0.21642549204726455,
            0.5135249756978639,
            -0.2185020222286712,
            0.2585790069151367,
            0.10525653047073931,
            0.06021991736053103,
            0.49120015842575526,
            0.5302987570024462,
            0.40584179863072856,
            0.515155778900289,
            0.2981284999133222,
            -1.046630692463355,
            0.5849318268153276,
            -0.06382074779542943,
            0.31445370041704745,
            0.032357286102129824,
            -0.02532890516768973,
            0.5243461118392394,
            -0.20672836171005807,
            0.5721734086378266,
            -0.27830507350691863,
            -0.7468825695794904,
            0.14054357872031148,
            -0.8071397190186611,
            -0.3805390417062913,
            -1.1683299243027996,
            -0.6111949972913985,
            -0.2686681793301776
           ]
          },
          {
           "axis": {
            "matches": true
           },
           "label": "PC 2 (23.8%)",
           "values": [
            -0.4662051601372471,
            -0.5418962490759501,
            -0.6854294310193,
            -0.4636097402836109,
            -0.48922538832541285,
            -0.39589883797475983,
            -0.887150971602464,
            -0.9562947021093953,
            -0.3912703410351954,
            -0.5353751390529451,
            -0.35426176428325395,
            -0.8180438973824411,
            -0.034876909558343924,
            -0.10497463698308375,
            -0.7319244116268777,
            -0.3102067678170439,
            -0.5356818809529972,
            -0.7848302087336969,
            -0.6470959543519165,
            -0.8022749873242542,
            -0.7319244116268777,
            -0.5032304990849008,
            -0.48332002764955545,
            -0.48922538832541235,
            -0.5629840258425435,
            -0.5362155571398185,
            0.0891555423320443,
            0.1426153932833167,
            1.3423598200378688,
            -0.5682493568175614,
            -0.5506908699234333,
            -0.2274408629615312,
            -0.46630393411445853,
            -0.7531785791664385,
            -0.3160172168913321,
            -0.6466619694376173,
            0.06057387835102764,
            -0.5058342666674774,
            1.5858886066823348,
            0.25420179690784017,
            -0.07944180544727718,
            -0.1048584437987261,
            -0.20338186050100784,
            -0.11294459571798665,
            0.009368694192922944,
            -0.25944864598002376,
            0.42045187449001237,
            1.4309302403573914,
            -0.34012484203555093,
            -0.29656749976890945,
            -0.7512287830672808,
            0.04667574793087311,
            -0.35956065875942045
           ]
          },
          {
           "axis": {
            "matches": true
           },
           "label": "PC 3 (14.7%)",
           "values": [
            -0.3596822671579932,
            -0.24100026595041732,
            -0.42780174737776117,
            -0.602084142848744,
            0.07568878399465494,
            -0.4135488596055743,
            -0.22824206365532854,
            -0.3186405318753432,
            -0.7469811592789132,
            -0.6897280806514241,
            -1.0780752909563598,
            -0.8154743603677128,
            -0.9041768293823437,
            -0.6757931723828603,
            -0.41582520597477873,
            -0.5830136926822893,
            -0.8248592592026841,
            -0.11896543573043317,
            -0.008691267660467438,
            0.1191809124306872,
            -0.41582520597477873,
            -0.6055943421316133,
            0.14119909477156586,
            0.07568878399465531,
            0.3655703820521386,
            0.1428024831426326,
            -0.1449625745415258,
            0.20170167584565668,
            -0.1666858486632894,
            0.2478061724129151,
            0.055065066844396326,
            -0.8844627271911286,
            -0.512592226514538,
            -0.3346768152516308,
            -0.42627982331075426,
            0.24828162439945237,
            0.35035853136950834,
            -0.3376443179464769,
            -0.1603030551111345,
            -0.6171678230462069,
            -0.11909153866659812,
            -0.16881354867735263,
            -0.44661630254650825,
            -0.2993060884623516,
            -0.7768229532737542,
            0.42170719365673176,
            0.16839101911182958,
            -0.12584315544583277,
            -0.09436680649756336,
            -0.20416795146987762,
            0.38077744437967076,
            -0.08131405081895346,
            0.14340398574918345
           ]
          },
          {
           "axis": {
            "matches": true
           },
           "label": "PC 4 (7.0%)",
           "values": [
            -0.005747413902104659,
            0.12453021889355397,
            0.2915031203448747,
            -0.0012363647547658815,
            0.5948770298546177,
            0.24054958618036534,
            0.24194155781222743,
            0.640854251738301,
            -0.2161796287697957,
            -0.014212860728719764,
            -0.20386840807802234,
            -0.2940884908966889,
            -0.337865891468927,
            -0.3804845897456777,
            0.3981517168108444,
            0.20945361502479548,
            -0.12769376001445928,
            0.4815006864698102,
            0.6342659051721345,
            0.7588275376258731,
            0.3981517168108444,
            0.10378540558216752,
            0.4692680774464634,
            0.594877029854617,
            0.7794621327696769,
            0.6656330296974996,
            0.0444024088300445,
            -0.06259886611786744,
            0.0847732018912882,
            0.7275354198915289,
            0.5798439903961399,
            -0.1727358884135918,
            0.0035367245647183465,
            0.22587123322970912,
            0.07303965590371554,
            0.8554527906146677,
            -0.33070811479413853,
            -0.3063448498470417,
            0.09468480476064231,
            -0.19486009318940142,
            0.11597219719670271,
            0.1891160341639001,
            0.28500625500342486,
            0.3324357487552768,
            -0.1862486778125886,
            -0.5340581232574396,
            -0.4017843988651061,
            0.14034677407330778,
            -0.47625118557677065,
            -0.393219646999101,
            -0.5860808895702094,
            -0.5743789677122465,
            -0.3815887736069897
           ]
          }
         ],
         "hoverlabel": {
          "namelength": 0
         },
         "hovertemplate": "color=low<br>%{xaxis.title.text}=%{x}<br>%{yaxis.title.text}=%{y}",
         "legendgroup": "low",
         "marker": {
          "color": "#636efa",
          "symbol": "circle"
         },
         "name": "low",
         "showlegend": true,
         "type": "splom"
        },
        {
         "diagonal": {
          "visible": false
         },
         "dimensions": [
          {
           "axis": {
            "matches": true
           },
           "label": "PC 1 (46.8%)",
           "values": [
            0.36919136357115295,
            0.24353627346379308,
            0.41176126597346985,
            0.05795697856663337,
            0.6768699442836388,
            0.39896764845229893,
            0.9022978888157464,
            -0.16964461259600452,
            0.09923357653405285,
            0.1164006308050142,
            -0.07020879149724307,
            0.2102205101352347,
            -0.019011098753126683,
            -0.2892231520342144,
            -0.23812937524638458,
            -0.6939970057374392,
            -0.5006192636702246,
            -0.2748332231565574,
            -0.11688415665212827,
            -0.29025600932184953,
            0.010480635257177705,
            -0.5115454739324237,
            -0.117682586194607,
            0.8174266390078322,
            2.5453359786538385,
            -0.4829714566160051,
            -0.33711461394070724,
            -0.4794371523130668,
            -0.4449037175079423,
            -0.2614993756951246,
            -1.1772703444537378,
            -0.8167061678362303,
            -0.15780830567958526,
            -0.25003586715481435,
            -0.6722054137123327,
            -0.37871304385453436,
            -0.4849756838772755,
            -0.5918781805098726,
            -0.45167812007478436,
            -0.2493753498959019,
            -0.5337619579986391,
            -0.2927130284186507,
            0.34424082331723527,
            -0.6914998101512431,
            -0.26987690967786954,
            -0.16059075212866875,
            -0.4268693642659224,
            -0.0005343753591843855,
            -0.7714659731879554,
            0.4556288065905298,
            2.6182719622057102,
            0.34091981925619697,
            -0.29257863779966525,
            0.13225372733048002,
            0.15773985842624944,
            0.14559574087107727,
            0.1684208559824737,
            0.039408855242928545,
            0.28408023794557635,
            -0.23365410399569464,
            -0.06275728129359888,
            0.4775807538679278,
            0.36811213391933956,
            0.46549104316746265,
            0.31110569655487746,
            0.37741737484629045,
            0.14867167628613356,
            0.08196484951262664,
            0.3556920314681551,
            0.03932359522500867,
            0.13908702232343223,
            0.43960912719691414,
            -0.014307303443422535,
            0.09380054244513536,
            0.590206757148836,
            0.4116396088593676,
            0.05023955261915184,
            0.04644229792810661,
            0.4981371282307696,
            -0.20354955997002488,
            -0.2285198040009748,
            0.149791147716728,
            -0.4355575654944403,
            -0.35632968920754465,
            -0.3514504699452629,
            0.16368793453352506,
            -0.4250037841373975,
            -0.29008018939094476,
            -0.6352010843414598,
            -0.5519568150323202,
            -0.594556683583281,
            -0.48249352590264394,
            -0.16676511462949778,
            -0.3351975046139173,
            0.05395356827921244,
            0.266915385167328,
            0.7722831093271266,
            0.052188740641564556,
            0.5178138399317636,
            -0.19776873182137314,
            0.16162890839245495,
            0.2671366080970509,
            -0.21369697858003603,
            -0.07945919966588397,
            -0.2909409390239054,
            -0.07945919966588397,
            -0.5868966487546173,
            -0.2636475254532087,
            -0.1524113168135319,
            -0.14755508573813017,
            -0.9650117933114841,
            -1.0037913091569601,
            -0.9269071917292617,
            -0.3695316036375106,
            -0.6020635918240477,
            -0.4912698908098481,
            -0.7267620416602136,
            -0.7179280869953745,
            -0.15814107952361664,
            -0.6978867788211358,
            -0.8324068899939795,
            -0.5473438226197405,
            -0.6275539323589167,
            -0.8230046792287095,
            -0.017780241820367373,
            0.023430659693231232,
            0.17876603438960148,
            0.38649938410677664,
            0.02029934937711498,
            -0.2161245853516864,
            0.24967991090752448,
            -0.1563493827753055,
            -0.30935155479893756,
            -0.2504891971994844,
            -0.2969824197014734,
            0.36589706447668713,
            -0.2683038771729754,
            -0.6629102807750167,
            2.6195843622243586,
            -0.29109052685276343,
            0.024666873610230403,
            0.04992925505110509,
            0.04057137593794675,
            -0.21624951237368248,
            0.6263112111400441,
            -0.3597956824436717,
            2.9832720755278386,
            -0.22591871940067504,
            0.11715050902932167,
            -0.08573915552700453,
            -0.03485417313314655,
            -0.39136256646478523,
            0.43298774809741997,
            0.5655900115570254,
            -0.22275980697659054,
            -0.3391832328589481,
            -0.35145868797808044,
            0.0609507227334851,
            0.17312272624458389,
            0.21602270298271925,
            -0.5274979483915025,
            0.24690828719622163,
            2.716095054112467,
            -0.8924242841452121,
            -0.6993356806887145,
            2.6641302148234214,
            2.633835708058863,
            2.6625161971748463,
            0.40383297939961027,
            -0.7033955732791191,
            2.7114262079433975,
            -0.7710018175641414,
            0.19032810562547678,
            -0.4370446709608251,
            -0.44872442664484563,
            -0.6975723360621174,
            0.7887809501305001,
            -0.10947964718444225,
            -0.5801333773372096,
            -0.09273189143843624,
            0.739093260120368,
            -0.7030725390236295,
            -1.025015205208403,
            -0.8872974079510134,
            0.21341131022517404,
            0.38668652514915086
           ]
          },
          {
           "axis": {
            "matches": true
           },
           "label": "PC 2 (23.8%)",
           "values": [
            -0.14834142534065767,
            -0.4471849840918368,
            -0.17771860924750132,
            -0.1747586104167292,
            -0.05141938355298386,
            -0.1777942816701462,
            0.7989018449492392,
            -0.18126255148607046,
            0.1617040726479067,
            0.15431786321481322,
            -0.13732137269440886,
            -0.35646565389091084,
            -0.3229177158080863,
            -0.09832755948812014,
            0.0019766527430272163,
            0.29443937503517786,
            -0.1300289553484998,
            -0.24075027582089448,
            0.20350202534919606,
            0.3254651302238104,
            -0.0323292272746239,
            -0.1253676130586667,
            0.1548253913885731,
            0.9247376630486857,
            -0.0528935468270266,
            -0.023956509211216843,
            0.06658595289936588,
            -0.1614333571203801,
            -0.07866960445156171,
            -0.06379351559354522,
            -0.4136003813699121,
            -0.32648955196971025,
            0.2143101184878565,
            -0.15300782669212062,
            -0.14760252310224695,
            -0.144178451077655,
            -0.29994713358329705,
            -0.24105843115688483,
            0.0765860010026897,
            0.12093551706642958,
            0.2997091131042578,
            0.11464195477434683,
            1.2199929889677363,
            0.15514357344012752,
            -0.15760909232664483,
            0.35646266396980086,
            0.15222751384424743,
            1.4458029309681635,
            0.12779445716941565,
            1.2332911564617612,
            -0.11546299369411707,
            1.2385418241102528,
            0.1283511696646243,
            -0.371490373609554,
            -0.2677584955666898,
            0.015224652589658019,
            -0.26008813925565544,
            -0.06948383213381168,
            -0.2641454349823101,
            -1.1595436665405254,
            -0.339669653298103,
            -0.25980488147173386,
            -0.13210567776077442,
            0.08597064725452443,
            -0.3296502167304669,
            -0.5059479035794008,
            -0.2566663953516747,
            -0.025626560098679193,
            -0.45131678960405097,
            -0.042494689742209275,
            -0.10465350961219488,
            -0.22835064640240024,
            0.0030270695036352293,
            -0.35723238684714814,
            0.12369617210889558,
            0.18994012616749312,
            0.19422100252857438,
            -0.027995372457182924,
            -0.27866360999613354,
            0.22783559794495872,
            -0.23055111309339457,
            0.14552578989243584,
            0.5092178737087427,
            0.12064249258131153,
            0.33878386896581963,
            1.430146705243732,
            0.005186951634258427,
            -0.006565963844325526,
            0.2462722753294529,
            -0.09311592615931932,
            -0.11164156614655465,
            -0.21940391822472363,
            0.1558185997125658,
            0.12898360350982951,
            -0.4841270130852364,
            1.2627757755943252,
            0.9685803778947191,
            1.5051700076962997,
            1.1068157058639112,
            -0.3440582219025034,
            -0.3210787885856016,
            1.3857114200025533,
            -0.1772080624292836,
            -0.2704120760702666,
            -0.2380960399596954,
            -0.2704120760702666,
            -0.18386802459414295,
            -0.11893918270206266,
            0.12125006308745345,
            0.11703247302272353,
            -0.2726102222253582,
            -0.29902716159478615,
            -0.41788994660822626,
            -0.14272768668632693,
            0.25978889485669965,
            0.05045597965255681,
            0.28578004529668827,
            -0.20260426497378686,
            -0.09605859339355101,
            0.044277483760886784,
            -0.1017646479883922,
            0.051034769401804236,
            0.10734845570148281,
            0.23014834863544734,
            -0.030896807144247744,
            -0.24686932059646793,
            0.13284854375652538,
            0.02656680466940565,
            0.0542936466108899,
            0.0586692877530323,
            -0.17140775605249792,
            -0.3576227257076656,
            0.02549285686968392,
            -0.21451438459658326,
            -0.3538233274872635,
            1.16362010803172,
            -0.002407435217567955,
            0.05116463652565518,
            -0.14624914836272507,
            -0.2540902959375319,
            1.4738985904029802,
            0.041709223573331684,
            0.05507811346616655,
            -0.017853949546971157,
            1.0249609609512216,
            0.009187436239283342,
            -0.432931749874967,
            -0.7102786600589479,
            0.013209065630253852,
            0.13293392566064216,
            0.05234877125917381,
            -0.20228143669961327,
            0.3360180983134052,
            1.0829545135636802,
            0.08459985935565278,
            0.15624459248920336,
            0.3447178148731907,
            0.17130555013364987,
            -0.30705022526970766,
            -0.04464886427359013,
            0.23097041575304342,
            1.2744139554492788,
            -0.291995135770685,
            0.2041282898625854,
            0.2178225354968331,
            -0.08088651066087765,
            -0.09729395147610546,
            -0.16690615840844678,
            1.2949548709593515,
            0.18980805272103615,
            -0.1117294494649274,
            0.09868523223638638,
            1.470882630664467,
            0.06991513041685311,
            1.7557144991199165,
            -0.0020012434574295202,
            0.9588457298690316,
            0.2586997142777478,
            -0.8141243384294453,
            -0.2054557668664882,
            1.0196595334699912,
            -0.08671357149350341,
            -0.0743420851650232,
            -0.05395727522982296,
            -0.2132189940681782,
            -0.35421801298844113
           ]
          },
          {
           "axis": {
            "matches": true
           },
           "label": "PC 3 (14.7%)",
           "values": [
            -0.3956823296208792,
            -0.29804783152920866,
            -0.4033470762424624,
            -0.46532914447752954,
            -0.6350993632292672,
            -0.9005275105412854,
            -0.9626741868718833,
            -0.003704346493797916,
            -0.3618981033756529,
            -0.1501939242155175,
            0.08240428248449815,
            -0.1933977545251528,
            0.08178321670310407,
            -0.3783043596367858,
            0.02386735738760062,
            0.005747743350085274,
            0.14101352180714014,
            -0.32175222605246095,
            0.1734167216565688,
            0.054869704126695076,
            0.08982353261219372,
            0.2837169706085674,
            0.11139845552924843,
            -0.013304273110419963,
            1.4439152895361032,
            0.3261586112197976,
            0.13112008692036786,
            0.17507382133630695,
            0.10323300514696045,
            0.08197922922731303,
            0.10135511761499481,
            0.3765859035151655,
            0.028061605703233215,
            0.3406783598265289,
            0.22466971078556225,
            0.0786640982853683,
            0.13936326358384707,
            0.24177181921774563,
            0.040141908091576,
            -0.31366589954085355,
            0.1717726766999696,
            0.025432379847778293,
            0.07939256806569903,
            -0.07191815427468663,
            0.03823547237829472,
            -0.0626057916234147,
            0.08364334900566878,
            -0.3665731353370376,
            -0.028988050102396815,
            0.2735518354528261,
            1.157139634137682,
            -0.10934801748529577,
            0.03143373814290058,
            0.09363615913660094,
            0.08208463097350706,
            -0.01051506391196956,
            0.4057567051691296,
            -0.18358243595655166,
            0.04298137784503877,
            -0.25477543055404717,
            0.21254008113170206,
            -0.15299986489481943,
            0.053919292212490935,
            -0.17657969800054604,
            -0.2297091126282768,
            -0.19072135933273804,
            -0.10254799199412054,
            -0.11238252350188882,
            0.17921812004426071,
            0.10577265641989855,
            -0.12437734048110337,
            -0.7925915750948412,
            0.1885041265451212,
            0.06891689353528778,
            -0.5807764605661151,
            -0.2752163522099619,
            -0.04342654257991042,
            -0.40946378907931236,
            -0.5135179840681499,
            0.26243915623634934,
            0.30916646014329563,
            0.2628701204801707,
            0.24744748769752545,
            0.20635620651120554,
            0.0038102739585492104,
            -0.003540205477965573,
            0.19063723125676377,
            0.33090769956305466,
            0.2906604089865107,
            0.40567291178283105,
            0.14547912028073057,
            0.24729972079600382,
            0.1869465027982523,
            0.2148952324113307,
            0.3888945949461182,
            -0.21945825024558827,
            0.23018107772797292,
            -0.27683233048362066,
            0.14070190010351002,
            0.3163058273779201,
            -0.1890487436561185,
            -0.0745827974733508,
            -0.08671338361263765,
            -0.24504167474924096,
            -0.011311394600616627,
            -0.24504167474924096,
            0.3125469196509759,
            -0.06168296714999479,
            -0.02775560239752,
            -0.024281869433000626,
            0.28151056492862897,
            0.2526659958162811,
            0.2859905612380041,
            0.09813728895723146,
            0.25733184389941693,
            0.14637020730186365,
            0.330762089322545,
            0.16021589244322695,
            0.03038387520562255,
            0.23892099997685348,
            0.18281211104879233,
            0.15658326877602666,
            0.21916027350605705,
            0.2795990404322771,
            -0.039140395294515025,
            -0.05739259549343997,
            -0.08343185492058167,
            -0.5945492346289583,
            0.06493029612244465,
            0.20160534596134197,
            0.003282705524339104,
            -0.10490057237745297,
            0.18728081416890707,
            0.051098807521074804,
            0.3238758962234686,
            0.01472579008445536,
            -0.29854828224346275,
            0.15214049908995445,
            1.156081195896159,
            0.6870618198144277,
            -0.2412437315992485,
            -0.4030206505667751,
            -0.3661490975443096,
            -0.3848085312859643,
            -1.2144582433053388,
            -0.3875518995923633,
            -0.18741868391347502,
            -0.6352704188573368,
            -0.4555042835920416,
            -0.1716492110338067,
            -0.2625298833957565,
            -0.05099797325416442,
            -0.29316817692672414,
            -0.5838330180366562,
            -0.36998679755611313,
            0.01429058654398854,
            -0.11362740007516309,
            -0.13425337895210884,
            -0.661677258319342,
            -0.23706273377585277,
            0.047094153126545274,
            -0.5582043596826517,
            0.7986524532383522,
            -0.018161945031453807,
            0.07630949461370909,
            1.083622150751602,
            1.1123713789485021,
            0.9589920708580661,
            -0.20094957229249663,
            0.19359411990289396,
            0.8872431594996546,
            0.10264681008193334,
            0.04388451995674229,
            0.19603878024103363,
            -0.0715461842171936,
            0.5827676648519035,
            0.3668224385064393,
            -0.049546294983144466,
            -0.38903860363539366,
            -0.2457455116229028,
            0.30396484895860454,
            0.23529721099413156,
            0.27945372900078347,
            0.11930584867855494,
            -0.44722254004499923,
            -0.3568406919873199
           ]
          },
          {
           "axis": {
            "matches": true
           },
           "label": "PC 4 (7.0%)",
           "values": [
            -0.00031062306640423074,
            -0.0796203085675699,
            -0.2541654357600827,
            -0.04746435597068048,
            -0.2867860117683813,
            -0.44547597283737417,
            0.0592299376349046,
            -0.0058411038978964,
            -0.1153695606559932,
            -0.09321365407860119,
            0.17002962661521134,
            0.03739743548828487,
            0.5179625723567971,
            -0.16934144517152352,
            0.02216529026783143,
            -0.33373100833029984,
            -0.18504840278047102,
            -0.09115801277965693,
            0.18749472513064183,
            0.19181591111483826,
            0.11303298629063009,
            -0.16846477027358758,
            -0.02817747241726527,
            0.12948701303695612,
            -0.17763922299517876,
            -0.18394642069047631,
            0.06486957900877707,
            -0.11253463474736214,
            -0.15110692455053726,
            -0.046530251383930875,
            -0.2356612454944861,
            -0.497177664506168,
            -0.02119625483449595,
            0.016756506734293814,
            -0.06036962309645282,
            -0.09773210699842949,
            -0.07006395931305369,
            -0.16858981615251303,
            -0.0646553808508902,
            -0.14121036210075635,
            -0.03752099306586106,
            0.06388890181361205,
            0.2462820460018531,
            0.07739760298165856,
            -0.08060126113016061,
            -0.04175533746104642,
            -0.08022621472046024,
            0.259455765797939,
            -0.040102078876605336,
            0.11769596690298706,
            -0.23003791887395847,
            0.22098084557869077,
            0.09325124046664028,
            0.32861233876167106,
            0.23231067268459277,
            0.22567467909300704,
            0.7225328614146403,
            -0.16349888114548997,
            0.3792057763417684,
            -0.1557100458399793,
            0.4750231548654049,
            0.01467171592651219,
            0.32600444428915587,
            -0.1118323638769767,
            0.047683573307012554,
            -0.16325850177732007,
            0.10971102930345805,
            -0.027824548160260847,
            0.5864856404001171,
            -0.14305570513682558,
            0.09492871815457074,
            -0.3784181022430846,
            0.10250799935684164,
            0.5359357669654011,
            0.13578067461760468,
            0.09637604554705416,
            -0.18502874210563527,
            -0.3129184382597507,
            -0.2509932336641754,
            0.000464768165687655,
            -0.10075875764270803,
            -0.023816532816906218,
            -0.23778943862448337,
            -0.017658715058068084,
            0.11495911454024069,
            0.0668932902614894,
            0.08681952601170143,
            0.18067002753902842,
            -0.06948907191768958,
            -0.24966380363713922,
            -0.14354545829844695,
            0.007662664763723663,
            -0.019226110527212778,
            0.14212371145781869,
            -0.20373341980015558,
            0.31360954641144945,
            0.1679691476297125,
            0.06039043077469529,
            0.26739686524769696,
            -0.3640956500911995,
            -0.3236103004935013,
            0.023922854942796817,
            -0.06607756071468544,
            -0.05060304450943398,
            0.05195560204717687,
            -0.05060304450943398,
            0.19565504138363415,
            -0.1942022676149071,
            -0.09131506481576451,
            -0.0867906539098792,
            0.10878065137571657,
            0.05212025070231087,
            -0.3079228843008459,
            -0.0008220587099630512,
            -0.2079362762517136,
            -0.05945091324402982,
            -0.32802472124006277,
            -0.11663349950721498,
            -0.1990338199219531,
            -0.23539705079823012,
            -0.24892908172734368,
            -0.11323037395310995,
            -0.23974683612580378,
            -0.32063915192706866,
            0.24009300398381206,
            0.13371586868363408,
            0.20744845150633215,
            -0.033870558845086995,
            0.5620658152152339,
            0.6219991262248061,
            0.09382340968999675,
            0.18599319742791404,
            -0.0525909338935033,
            -0.07621482152746346,
            0.14606331594415575,
            0.4385042080795354,
            0.02142574293944218,
            0.1770173930268035,
            -0.23685374791206953,
            -0.08343758825298783,
            0.1911912686164769,
            -0.0563211098571665,
            0.16305672617047992,
            -0.16541011876824607,
            -0.13724301753473286,
            -0.23301839223967152,
            -0.6160351613175805,
            -0.37991582664116375,
            -0.023581353689572267,
            0.17532985748490512,
            0.017192021827837967,
            0.07218770256717005,
            0.11253448785016396,
            -0.08280137566333814,
            -0.2521539871520043,
            -0.21034065144592187,
            -0.0015795101115126968,
            0.0021678091553603003,
            -0.26911228079002053,
            0.08532738126913396,
            -0.2824469434913243,
            0.07315407423525473,
            -0.18543399224193316,
            -0.6005105089310537,
            0.0645794838269,
            -0.5058561131321323,
            -0.4776164845719468,
            -0.3500787099082769,
            -0.1474549309663493,
            -0.3153673681007845,
            -0.6201648416183712,
            -0.40027475174055116,
            -0.11781744585674493,
            0.004436155071556328,
            0.3071063286923904,
            0.022658002272470255,
            0.1971953521019795,
            -0.02419661359719547,
            -0.38943854744220885,
            -0.11515221071967896,
            0.1359785523236709,
            0.1709682695730609,
            -0.14296476774655467,
            -0.5644270835772152,
            0.040121646809210564,
            0.0036484288925473303
           ]
          }
         ],
         "hoverlabel": {
          "namelength": 0
         },
         "hovertemplate": "color=Medium<br>%{xaxis.title.text}=%{x}<br>%{yaxis.title.text}=%{y}",
         "legendgroup": "Medium",
         "marker": {
          "color": "#EF553B",
          "symbol": "circle"
         },
         "name": "Medium",
         "showlegend": true,
         "type": "splom"
        },
        {
         "diagonal": {
          "visible": false
         },
         "dimensions": [
          {
           "axis": {
            "matches": true
           },
           "label": "PC 1 (46.8%)",
           "values": [
            -0.8857014494683191,
            -0.5248361003445989,
            -0.7458598839186351,
            -0.43532505022332574,
            0.12337893554172019,
            -1.0704808734557065,
            -0.865652897235735,
            -0.415949859301468,
            -0.39946482078015205,
            -0.17089123162669964,
            -0.39738362974865665,
            -0.6414626669248733,
            -0.6006425722755174,
            -1.179538804509755,
            -0.6674669868010944,
            -0.8195376659984432,
            -0.6842204248731328,
            -0.3215124923601232,
            -0.6296726211298501,
            -0.687875922481824,
            -0.10308117059667232,
            -0.6057479838923194,
            2.624612897656984,
            -0.802193232101014,
            -0.05143558154261225,
            -0.5663939593916398
           ]
          },
          {
           "axis": {
            "matches": true
           },
           "label": "PC 2 (23.8%)",
           "values": [
            -0.24180613085058858,
            -0.39967498133777335,
            -0.03702561313164143,
            -0.16054742625173926,
            1.4781952091333341,
            -0.005499551588734764,
            -0.2219097017699279,
            0.15623356924531578,
            0.08726108474290577,
            0.1347262334984315,
            -0.07982725136287853,
            -0.1811836989585156,
            -0.2854854777169532,
            -0.05622351478041708,
            0.1078719188474386,
            -0.06738813504029119,
            -0.019411684733906063,
            0.400905830246926,
            0.17830221316874514,
            -0.12217959431621889,
            0.03269363237032005,
            -0.14987077141290572,
            -0.1886645804797584,
            -0.07755875375370615,
            0.12078947606754041,
            -0.3605071390948436
           ]
          },
          {
           "axis": {
            "matches": true
           },
           "label": "PC 3 (14.7%)",
           "values": [
            0.4253545299558194,
            0.27281980238435755,
            0.4885809706165787,
            0.5362945915389683,
            0.3186271092224558,
            0.252486369860205,
            0.41470527139024105,
            0.109967019699572,
            0.3230214916102367,
            0.1817573548099288,
            0.1490921755155146,
            0.2550915172793112,
            0.35202915638639226,
            0.41375697113082816,
            0.24713693483249555,
            0.3379547095467501,
            0.09277162131234447,
            0.4049451456470707,
            0.21459264053801042,
            0.5302757150659954,
            0.19721120549185475,
            0.6384658915939888,
            1.1643931163532666,
            0.5904872325284385,
            0.12349416392959674,
            0.8936083453528553
           ]
          },
          {
           "axis": {
            "matches": true
           },
           "label": "PC 4 (7.0%)",
           "values": [
            -0.03877978066509352,
            -0.16634179327794937,
            0.08362244733007776,
            -0.41607860302870353,
            0.04034917208974363,
            0.045984470964869496,
            -0.15450247736041006,
            0.06275906872074213,
            0.21654864370054955,
            0.040154002697433994,
            0.04945501670237527,
            0.0028028277691372603,
            0.12073541050329593,
            -0.03898738522795149,
            0.09514556288989792,
            0.14244319446326448,
            -0.04869557902044058,
            0.12014008725712855,
            0.1518749176667922,
            -0.37178252287524094,
            0.2020959908548996,
            0.4593450392257625,
            -0.1714881486032442,
            0.014853072495148579,
            0.23294947063288443,
            0.17275998626591269
           ]
          }
         ],
         "hoverlabel": {
          "namelength": 0
         },
         "hovertemplate": "color=High<br>%{xaxis.title.text}=%{x}<br>%{yaxis.title.text}=%{y}",
         "legendgroup": "High",
         "marker": {
          "color": "#00cc96",
          "symbol": "circle"
         },
         "name": "High",
         "showlegend": true,
         "type": "splom"
        }
       ],
       "layout": {
        "autosize": true,
        "dragmode": "pan",
        "legend": {
         "title": {
          "text": "color"
         },
         "tracegroupgap": 0
        },
        "margin": {
         "t": 60
        },
        "template": {
         "data": {
          "bar": [
           {
            "error_x": {
             "color": "#2a3f5f"
            },
            "error_y": {
             "color": "#2a3f5f"
            },
            "marker": {
             "line": {
              "color": "#E5ECF6",
              "width": 0.5
             }
            },
            "type": "bar"
           }
          ],
          "barpolar": [
           {
            "marker": {
             "line": {
              "color": "#E5ECF6",
              "width": 0.5
             }
            },
            "type": "barpolar"
           }
          ],
          "carpet": [
           {
            "aaxis": {
             "endlinecolor": "#2a3f5f",
             "gridcolor": "white",
             "linecolor": "white",
             "minorgridcolor": "white",
             "startlinecolor": "#2a3f5f"
            },
            "baxis": {
             "endlinecolor": "#2a3f5f",
             "gridcolor": "white",
             "linecolor": "white",
             "minorgridcolor": "white",
             "startlinecolor": "#2a3f5f"
            },
            "type": "carpet"
           }
          ],
          "choropleth": [
           {
            "colorbar": {
             "outlinewidth": 0,
             "ticks": ""
            },
            "type": "choropleth"
           }
          ],
          "contour": [
           {
            "colorbar": {
             "outlinewidth": 0,
             "ticks": ""
            },
            "colorscale": [
             [
              0,
              "#0d0887"
             ],
             [
              0.1111111111111111,
              "#46039f"
             ],
             [
              0.2222222222222222,
              "#7201a8"
             ],
             [
              0.3333333333333333,
              "#9c179e"
             ],
             [
              0.4444444444444444,
              "#bd3786"
             ],
             [
              0.5555555555555556,
              "#d8576b"
             ],
             [
              0.6666666666666666,
              "#ed7953"
             ],
             [
              0.7777777777777778,
              "#fb9f3a"
             ],
             [
              0.8888888888888888,
              "#fdca26"
             ],
             [
              1,
              "#f0f921"
             ]
            ],
            "type": "contour"
           }
          ],
          "contourcarpet": [
           {
            "colorbar": {
             "outlinewidth": 0,
             "ticks": ""
            },
            "type": "contourcarpet"
           }
          ],
          "heatmap": [
           {
            "colorbar": {
             "outlinewidth": 0,
             "ticks": ""
            },
            "colorscale": [
             [
              0,
              "#0d0887"
             ],
             [
              0.1111111111111111,
              "#46039f"
             ],
             [
              0.2222222222222222,
              "#7201a8"
             ],
             [
              0.3333333333333333,
              "#9c179e"
             ],
             [
              0.4444444444444444,
              "#bd3786"
             ],
             [
              0.5555555555555556,
              "#d8576b"
             ],
             [
              0.6666666666666666,
              "#ed7953"
             ],
             [
              0.7777777777777778,
              "#fb9f3a"
             ],
             [
              0.8888888888888888,
              "#fdca26"
             ],
             [
              1,
              "#f0f921"
             ]
            ],
            "type": "heatmap"
           }
          ],
          "heatmapgl": [
           {
            "colorbar": {
             "outlinewidth": 0,
             "ticks": ""
            },
            "colorscale": [
             [
              0,
              "#0d0887"
             ],
             [
              0.1111111111111111,
              "#46039f"
             ],
             [
              0.2222222222222222,
              "#7201a8"
             ],
             [
              0.3333333333333333,
              "#9c179e"
             ],
             [
              0.4444444444444444,
              "#bd3786"
             ],
             [
              0.5555555555555556,
              "#d8576b"
             ],
             [
              0.6666666666666666,
              "#ed7953"
             ],
             [
              0.7777777777777778,
              "#fb9f3a"
             ],
             [
              0.8888888888888888,
              "#fdca26"
             ],
             [
              1,
              "#f0f921"
             ]
            ],
            "type": "heatmapgl"
           }
          ],
          "histogram": [
           {
            "marker": {
             "colorbar": {
              "outlinewidth": 0,
              "ticks": ""
             }
            },
            "type": "histogram"
           }
          ],
          "histogram2d": [
           {
            "colorbar": {
             "outlinewidth": 0,
             "ticks": ""
            },
            "colorscale": [
             [
              0,
              "#0d0887"
             ],
             [
              0.1111111111111111,
              "#46039f"
             ],
             [
              0.2222222222222222,
              "#7201a8"
             ],
             [
              0.3333333333333333,
              "#9c179e"
             ],
             [
              0.4444444444444444,
              "#bd3786"
             ],
             [
              0.5555555555555556,
              "#d8576b"
             ],
             [
              0.6666666666666666,
              "#ed7953"
             ],
             [
              0.7777777777777778,
              "#fb9f3a"
             ],
             [
              0.8888888888888888,
              "#fdca26"
             ],
             [
              1,
              "#f0f921"
             ]
            ],
            "type": "histogram2d"
           }
          ],
          "histogram2dcontour": [
           {
            "colorbar": {
             "outlinewidth": 0,
             "ticks": ""
            },
            "colorscale": [
             [
              0,
              "#0d0887"
             ],
             [
              0.1111111111111111,
              "#46039f"
             ],
             [
              0.2222222222222222,
              "#7201a8"
             ],
             [
              0.3333333333333333,
              "#9c179e"
             ],
             [
              0.4444444444444444,
              "#bd3786"
             ],
             [
              0.5555555555555556,
              "#d8576b"
             ],
             [
              0.6666666666666666,
              "#ed7953"
             ],
             [
              0.7777777777777778,
              "#fb9f3a"
             ],
             [
              0.8888888888888888,
              "#fdca26"
             ],
             [
              1,
              "#f0f921"
             ]
            ],
            "type": "histogram2dcontour"
           }
          ],
          "mesh3d": [
           {
            "colorbar": {
             "outlinewidth": 0,
             "ticks": ""
            },
            "type": "mesh3d"
           }
          ],
          "parcoords": [
           {
            "line": {
             "colorbar": {
              "outlinewidth": 0,
              "ticks": ""
             }
            },
            "type": "parcoords"
           }
          ],
          "pie": [
           {
            "automargin": true,
            "type": "pie"
           }
          ],
          "scatter": [
           {
            "marker": {
             "colorbar": {
              "outlinewidth": 0,
              "ticks": ""
             }
            },
            "type": "scatter"
           }
          ],
          "scatter3d": [
           {
            "line": {
             "colorbar": {
              "outlinewidth": 0,
              "ticks": ""
             }
            },
            "marker": {
             "colorbar": {
              "outlinewidth": 0,
              "ticks": ""
             }
            },
            "type": "scatter3d"
           }
          ],
          "scattercarpet": [
           {
            "marker": {
             "colorbar": {
              "outlinewidth": 0,
              "ticks": ""
             }
            },
            "type": "scattercarpet"
           }
          ],
          "scattergeo": [
           {
            "marker": {
             "colorbar": {
              "outlinewidth": 0,
              "ticks": ""
             }
            },
            "type": "scattergeo"
           }
          ],
          "scattergl": [
           {
            "marker": {
             "colorbar": {
              "outlinewidth": 0,
              "ticks": ""
             }
            },
            "type": "scattergl"
           }
          ],
          "scattermapbox": [
           {
            "marker": {
             "colorbar": {
              "outlinewidth": 0,
              "ticks": ""
             }
            },
            "type": "scattermapbox"
           }
          ],
          "scatterpolar": [
           {
            "marker": {
             "colorbar": {
              "outlinewidth": 0,
              "ticks": ""
             }
            },
            "type": "scatterpolar"
           }
          ],
          "scatterpolargl": [
           {
            "marker": {
             "colorbar": {
              "outlinewidth": 0,
              "ticks": ""
             }
            },
            "type": "scatterpolargl"
           }
          ],
          "scatterternary": [
           {
            "marker": {
             "colorbar": {
              "outlinewidth": 0,
              "ticks": ""
             }
            },
            "type": "scatterternary"
           }
          ],
          "surface": [
           {
            "colorbar": {
             "outlinewidth": 0,
             "ticks": ""
            },
            "colorscale": [
             [
              0,
              "#0d0887"
             ],
             [
              0.1111111111111111,
              "#46039f"
             ],
             [
              0.2222222222222222,
              "#7201a8"
             ],
             [
              0.3333333333333333,
              "#9c179e"
             ],
             [
              0.4444444444444444,
              "#bd3786"
             ],
             [
              0.5555555555555556,
              "#d8576b"
             ],
             [
              0.6666666666666666,
              "#ed7953"
             ],
             [
              0.7777777777777778,
              "#fb9f3a"
             ],
             [
              0.8888888888888888,
              "#fdca26"
             ],
             [
              1,
              "#f0f921"
             ]
            ],
            "type": "surface"
           }
          ],
          "table": [
           {
            "cells": {
             "fill": {
              "color": "#EBF0F8"
             },
             "line": {
              "color": "white"
             }
            },
            "header": {
             "fill": {
              "color": "#C8D4E3"
             },
             "line": {
              "color": "white"
             }
            },
            "type": "table"
           }
          ]
         },
         "layout": {
          "annotationdefaults": {
           "arrowcolor": "#2a3f5f",
           "arrowhead": 0,
           "arrowwidth": 1
          },
          "coloraxis": {
           "colorbar": {
            "outlinewidth": 0,
            "ticks": ""
           }
          },
          "colorscale": {
           "diverging": [
            [
             0,
             "#8e0152"
            ],
            [
             0.1,
             "#c51b7d"
            ],
            [
             0.2,
             "#de77ae"
            ],
            [
             0.3,
             "#f1b6da"
            ],
            [
             0.4,
             "#fde0ef"
            ],
            [
             0.5,
             "#f7f7f7"
            ],
            [
             0.6,
             "#e6f5d0"
            ],
            [
             0.7,
             "#b8e186"
            ],
            [
             0.8,
             "#7fbc41"
            ],
            [
             0.9,
             "#4d9221"
            ],
            [
             1,
             "#276419"
            ]
           ],
           "sequential": [
            [
             0,
             "#0d0887"
            ],
            [
             0.1111111111111111,
             "#46039f"
            ],
            [
             0.2222222222222222,
             "#7201a8"
            ],
            [
             0.3333333333333333,
             "#9c179e"
            ],
            [
             0.4444444444444444,
             "#bd3786"
            ],
            [
             0.5555555555555556,
             "#d8576b"
            ],
            [
             0.6666666666666666,
             "#ed7953"
            ],
            [
             0.7777777777777778,
             "#fb9f3a"
            ],
            [
             0.8888888888888888,
             "#fdca26"
            ],
            [
             1,
             "#f0f921"
            ]
           ],
           "sequentialminus": [
            [
             0,
             "#0d0887"
            ],
            [
             0.1111111111111111,
             "#46039f"
            ],
            [
             0.2222222222222222,
             "#7201a8"
            ],
            [
             0.3333333333333333,
             "#9c179e"
            ],
            [
             0.4444444444444444,
             "#bd3786"
            ],
            [
             0.5555555555555556,
             "#d8576b"
            ],
            [
             0.6666666666666666,
             "#ed7953"
            ],
            [
             0.7777777777777778,
             "#fb9f3a"
            ],
            [
             0.8888888888888888,
             "#fdca26"
            ],
            [
             1,
             "#f0f921"
            ]
           ]
          },
          "colorway": [
           "#636efa",
           "#EF553B",
           "#00cc96",
           "#ab63fa",
           "#FFA15A",
           "#19d3f3",
           "#FF6692",
           "#B6E880",
           "#FF97FF",
           "#FECB52"
          ],
          "font": {
           "color": "#2a3f5f"
          },
          "geo": {
           "bgcolor": "white",
           "lakecolor": "white",
           "landcolor": "#E5ECF6",
           "showlakes": true,
           "showland": true,
           "subunitcolor": "white"
          },
          "hoverlabel": {
           "align": "left"
          },
          "hovermode": "closest",
          "mapbox": {
           "style": "light"
          },
          "paper_bgcolor": "white",
          "plot_bgcolor": "#E5ECF6",
          "polar": {
           "angularaxis": {
            "gridcolor": "white",
            "linecolor": "white",
            "ticks": ""
           },
           "bgcolor": "#E5ECF6",
           "radialaxis": {
            "gridcolor": "white",
            "linecolor": "white",
            "ticks": ""
           }
          },
          "scene": {
           "xaxis": {
            "backgroundcolor": "#E5ECF6",
            "gridcolor": "white",
            "gridwidth": 2,
            "linecolor": "white",
            "showbackground": true,
            "ticks": "",
            "zerolinecolor": "white"
           },
           "yaxis": {
            "backgroundcolor": "#E5ECF6",
            "gridcolor": "white",
            "gridwidth": 2,
            "linecolor": "white",
            "showbackground": true,
            "ticks": "",
            "zerolinecolor": "white"
           },
           "zaxis": {
            "backgroundcolor": "#E5ECF6",
            "gridcolor": "white",
            "gridwidth": 2,
            "linecolor": "white",
            "showbackground": true,
            "ticks": "",
            "zerolinecolor": "white"
           }
          },
          "shapedefaults": {
           "line": {
            "color": "#2a3f5f"
           }
          },
          "ternary": {
           "aaxis": {
            "gridcolor": "white",
            "linecolor": "white",
            "ticks": ""
           },
           "baxis": {
            "gridcolor": "white",
            "linecolor": "white",
            "ticks": ""
           },
           "bgcolor": "#E5ECF6",
           "caxis": {
            "gridcolor": "white",
            "linecolor": "white",
            "ticks": ""
           }
          },
          "title": {
           "x": 0.05
          },
          "xaxis": {
           "automargin": true,
           "gridcolor": "white",
           "linecolor": "white",
           "ticks": "",
           "title": {
            "standoff": 15
           },
           "zerolinecolor": "white",
           "zerolinewidth": 2
          },
          "yaxis": {
           "automargin": true,
           "gridcolor": "white",
           "linecolor": "white",
           "ticks": "",
           "title": {
            "standoff": 15
           },
           "zerolinecolor": "white",
           "zerolinewidth": 2
          }
         }
        },
        "xaxis": {
         "autorange": false,
         "range": [
          -3.3256803163614554,
          1.9094976666472836
         ],
         "type": "linear"
        },
        "xaxis2": {
         "autorange": false,
         "range": [
          -1.5350383795616982,
          2.1312092121410893
         ],
         "type": "linear"
        },
        "xaxis3": {
         "autorange": false,
         "range": [
          -1.6223193601258514,
          1.7208684499384364
         ],
         "type": "linear"
        },
        "xaxis4": {
         "autorange": false,
         "range": [
          -0.810229181672728,
          1.0455171306690245
         ],
         "type": "linear"
        },
        "yaxis": {
         "autorange": false,
         "range": [
          -3.3256803163614554,
          1.9094976666472836
         ],
         "type": "linear"
        },
        "yaxis2": {
         "autorange": false,
         "range": [
          -1.5350383795616982,
          2.1312092121410893
         ],
         "type": "linear"
        },
        "yaxis3": {
         "autorange": false,
         "range": [
          -1.6223193601258514,
          1.7208684499384364
         ],
         "type": "linear"
        },
        "yaxis4": {
         "autorange": false,
         "range": [
          -0.810229181672728,
          1.0455171306690245
         ],
         "type": "linear"
        }
       }
      },
      "image/png": "[encoded data removed]",
      "text/html": [
       "<div>\n",
       "        \n",
       "        \n",
       "            <div id=\"577b7803-1578-4a63-a0ca-97b28e1dccd6\" class=\"plotly-graph-div\" style=\"height:525px; width:100%;\"></div>\n",
       "            <script type=\"text/javascript\">\n",
       "                require([\"plotly\"], function(Plotly) {\n",
       "                    window.PLOTLYENV=window.PLOTLYENV || {};\n",
       "                    \n",
       "                if (document.getElementById(\"577b7803-1578-4a63-a0ca-97b28e1dccd6\")) {\n",
       "                    Plotly.newPlot(\n",
       "                        '577b7803-1578-4a63-a0ca-97b28e1dccd6',\n",
       "                        [{\"diagonal\": {\"visible\": false}, \"dimensions\": [{\"axis\": {\"matches\": true}, \"label\": \"PC 1 (46.8%)\", \"values\": [0.2729379455697455, 0.08331693239070194, 0.3040099888284394, 0.642425281435382, 0.3600867994101722, 0.6260572531994304, 0.39206243256341716, 0.36489241410618883, 0.6344323336308293, 0.4638285783317908, 0.9354401319251666, 0.5217826207113511, 0.8040246267292934, 0.7547279146876795, 0.5266864956358606, 0.8488949830060907, 0.6137005388316173, 0.2064346185631794, 0.08573458501946299, 0.2777484724131199, 0.5266864956358606, 0.6804406786793703, 0.06416657802602853, 0.3600867994101719, 0.20317428038282215, 0.21642549204726455, 0.5135249756978639, -0.2185020222286712, 0.2585790069151367, 0.10525653047073931, 0.06021991736053103, 0.49120015842575526, 0.5302987570024462, 0.40584179863072856, 0.515155778900289, 0.2981284999133222, -1.046630692463355, 0.5849318268153276, -0.06382074779542943, 0.31445370041704745, 0.032357286102129824, -0.02532890516768973, 0.5243461118392394, -0.20672836171005807, 0.5721734086378266, -0.27830507350691863, -0.7468825695794904, 0.14054357872031148, -0.8071397190186611, -0.3805390417062913, -1.1683299243027996, -0.6111949972913985, -0.2686681793301776]}, {\"axis\": {\"matches\": true}, \"label\": \"PC 2 (23.8%)\", \"values\": [-0.4662051601372471, -0.5418962490759501, -0.6854294310193, -0.4636097402836109, -0.48922538832541285, -0.39589883797475983, -0.887150971602464, -0.9562947021093953, -0.3912703410351954, -0.5353751390529451, -0.35426176428325395, -0.8180438973824411, -0.034876909558343924, -0.10497463698308375, -0.7319244116268777, -0.3102067678170439, -0.5356818809529972, -0.7848302087336969, -0.6470959543519165, -0.8022749873242542, -0.7319244116268777, -0.5032304990849008, -0.48332002764955545, -0.48922538832541235, -0.5629840258425435, -0.5362155571398185, 0.0891555423320443, 0.1426153932833167, 1.3423598200378688, -0.5682493568175614, -0.5506908699234333, -0.2274408629615312, -0.46630393411445853, -0.7531785791664385, -0.3160172168913321, -0.6466619694376173, 0.06057387835102764, -0.5058342666674774, 1.5858886066823348, 0.25420179690784017, -0.07944180544727718, -0.1048584437987261, -0.20338186050100784, -0.11294459571798665, 0.009368694192922944, -0.25944864598002376, 0.42045187449001237, 1.4309302403573914, -0.34012484203555093, -0.29656749976890945, -0.7512287830672808, 0.04667574793087311, -0.35956065875942045]}, {\"axis\": {\"matches\": true}, \"label\": \"PC 3 (14.7%)\", \"values\": [-0.3596822671579932, -0.24100026595041732, -0.42780174737776117, -0.602084142848744, 0.07568878399465494, -0.4135488596055743, -0.22824206365532854, -0.3186405318753432, -0.7469811592789132, -0.6897280806514241, -1.0780752909563598, -0.8154743603677128, -0.9041768293823437, -0.6757931723828603, -0.41582520597477873, -0.5830136926822893, -0.8248592592026841, -0.11896543573043317, -0.008691267660467438, 0.1191809124306872, -0.41582520597477873, -0.6055943421316133, 0.14119909477156586, 0.07568878399465531, 0.3655703820521386, 0.1428024831426326, -0.1449625745415258, 0.20170167584565668, -0.1666858486632894, 0.2478061724129151, 0.055065066844396326, -0.8844627271911286, -0.512592226514538, -0.3346768152516308, -0.42627982331075426, 0.24828162439945237, 0.35035853136950834, -0.3376443179464769, -0.1603030551111345, -0.6171678230462069, -0.11909153866659812, -0.16881354867735263, -0.44661630254650825, -0.2993060884623516, -0.7768229532737542, 0.42170719365673176, 0.16839101911182958, -0.12584315544583277, -0.09436680649756336, -0.20416795146987762, 0.38077744437967076, -0.08131405081895346, 0.14340398574918345]}, {\"axis\": {\"matches\": true}, \"label\": \"PC 4 (7.0%)\", \"values\": [-0.005747413902104659, 0.12453021889355397, 0.2915031203448747, -0.0012363647547658815, 0.5948770298546177, 0.24054958618036534, 0.24194155781222743, 0.640854251738301, -0.2161796287697957, -0.014212860728719764, -0.20386840807802234, -0.2940884908966889, -0.337865891468927, -0.3804845897456777, 0.3981517168108444, 0.20945361502479548, -0.12769376001445928, 0.4815006864698102, 0.6342659051721345, 0.7588275376258731, 0.3981517168108444, 0.10378540558216752, 0.4692680774464634, 0.594877029854617, 0.7794621327696769, 0.6656330296974996, 0.0444024088300445, -0.06259886611786744, 0.0847732018912882, 0.7275354198915289, 0.5798439903961399, -0.1727358884135918, 0.0035367245647183465, 0.22587123322970912, 0.07303965590371554, 0.8554527906146677, -0.33070811479413853, -0.3063448498470417, 0.09468480476064231, -0.19486009318940142, 0.11597219719670271, 0.1891160341639001, 0.28500625500342486, 0.3324357487552768, -0.1862486778125886, -0.5340581232574396, -0.4017843988651061, 0.14034677407330778, -0.47625118557677065, -0.393219646999101, -0.5860808895702094, -0.5743789677122465, -0.3815887736069897]}], \"hoverlabel\": {\"namelength\": 0}, \"hovertemplate\": \"color=low<br>%{xaxis.title.text}=%{x}<br>%{yaxis.title.text}=%{y}\", \"legendgroup\": \"low\", \"marker\": {\"color\": \"#636efa\", \"symbol\": \"circle\"}, \"name\": \"low\", \"showlegend\": true, \"type\": \"splom\"}, {\"diagonal\": {\"visible\": false}, \"dimensions\": [{\"axis\": {\"matches\": true}, \"label\": \"PC 1 (46.8%)\", \"values\": [0.36919136357115295, 0.24353627346379308, 0.41176126597346985, 0.05795697856663337, 0.6768699442836388, 0.39896764845229893, 0.9022978888157464, -0.16964461259600452, 0.09923357653405285, 0.1164006308050142, -0.07020879149724307, 0.2102205101352347, -0.019011098753126683, -0.2892231520342144, -0.23812937524638458, -0.6939970057374392, -0.5006192636702246, -0.2748332231565574, -0.11688415665212827, -0.29025600932184953, 0.010480635257177705, -0.5115454739324237, -0.117682586194607, 0.8174266390078322, 2.5453359786538385, -0.4829714566160051, -0.33711461394070724, -0.4794371523130668, -0.4449037175079423, -0.2614993756951246, -1.1772703444537378, -0.8167061678362303, -0.15780830567958526, -0.25003586715481435, -0.6722054137123327, -0.37871304385453436, -0.4849756838772755, -0.5918781805098726, -0.45167812007478436, -0.2493753498959019, -0.5337619579986391, -0.2927130284186507, 0.34424082331723527, -0.6914998101512431, -0.26987690967786954, -0.16059075212866875, -0.4268693642659224, -0.0005343753591843855, -0.7714659731879554, 0.4556288065905298, 2.6182719622057102, 0.34091981925619697, -0.29257863779966525, 0.13225372733048002, 0.15773985842624944, 0.14559574087107727, 0.1684208559824737, 0.039408855242928545, 0.28408023794557635, -0.23365410399569464, -0.06275728129359888, 0.4775807538679278, 0.36811213391933956, 0.46549104316746265, 0.31110569655487746, 0.37741737484629045, 0.14867167628613356, 0.08196484951262664, 0.3556920314681551, 0.03932359522500867, 0.13908702232343223, 0.43960912719691414, -0.014307303443422535, 0.09380054244513536, 0.590206757148836, 0.4116396088593676, 0.05023955261915184, 0.04644229792810661, 0.4981371282307696, -0.20354955997002488, -0.2285198040009748, 0.149791147716728, -0.4355575654944403, -0.35632968920754465, -0.3514504699452629, 0.16368793453352506, -0.4250037841373975, -0.29008018939094476, -0.6352010843414598, -0.5519568150323202, -0.594556683583281, -0.48249352590264394, -0.16676511462949778, -0.3351975046139173, 0.05395356827921244, 0.266915385167328, 0.7722831093271266, 0.052188740641564556, 0.5178138399317636, -0.19776873182137314, 0.16162890839245495, 0.2671366080970509, -0.21369697858003603, -0.07945919966588397, -0.2909409390239054, -0.07945919966588397, -0.5868966487546173, -0.2636475254532087, -0.1524113168135319, -0.14755508573813017, -0.9650117933114841, -1.0037913091569601, -0.9269071917292617, -0.3695316036375106, -0.6020635918240477, -0.4912698908098481, -0.7267620416602136, -0.7179280869953745, -0.15814107952361664, -0.6978867788211358, -0.8324068899939795, -0.5473438226197405, -0.6275539323589167, -0.8230046792287095, -0.017780241820367373, 0.023430659693231232, 0.17876603438960148, 0.38649938410677664, 0.02029934937711498, -0.2161245853516864, 0.24967991090752448, -0.1563493827753055, -0.30935155479893756, -0.2504891971994844, -0.2969824197014734, 0.36589706447668713, -0.2683038771729754, -0.6629102807750167, 2.6195843622243586, -0.29109052685276343, 0.024666873610230403, 0.04992925505110509, 0.04057137593794675, -0.21624951237368248, 0.6263112111400441, -0.3597956824436717, 2.9832720755278386, -0.22591871940067504, 0.11715050902932167, -0.08573915552700453, -0.03485417313314655, -0.39136256646478523, 0.43298774809741997, 0.5655900115570254, -0.22275980697659054, -0.3391832328589481, -0.35145868797808044, 0.0609507227334851, 0.17312272624458389, 0.21602270298271925, -0.5274979483915025, 0.24690828719622163, 2.716095054112467, -0.8924242841452121, -0.6993356806887145, 2.6641302148234214, 2.633835708058863, 2.6625161971748463, 0.40383297939961027, -0.7033955732791191, 2.7114262079433975, -0.7710018175641414, 0.19032810562547678, -0.4370446709608251, -0.44872442664484563, -0.6975723360621174, 0.7887809501305001, -0.10947964718444225, -0.5801333773372096, -0.09273189143843624, 0.739093260120368, -0.7030725390236295, -1.025015205208403, -0.8872974079510134, 0.21341131022517404, 0.38668652514915086]}, {\"axis\": {\"matches\": true}, \"label\": \"PC 2 (23.8%)\", \"values\": [-0.14834142534065767, -0.4471849840918368, -0.17771860924750132, -0.1747586104167292, -0.05141938355298386, -0.1777942816701462, 0.7989018449492392, -0.18126255148607046, 0.1617040726479067, 0.15431786321481322, -0.13732137269440886, -0.35646565389091084, -0.3229177158080863, -0.09832755948812014, 0.0019766527430272163, 0.29443937503517786, -0.1300289553484998, -0.24075027582089448, 0.20350202534919606, 0.3254651302238104, -0.0323292272746239, -0.1253676130586667, 0.1548253913885731, 0.9247376630486857, -0.0528935468270266, -0.023956509211216843, 0.06658595289936588, -0.1614333571203801, -0.07866960445156171, -0.06379351559354522, -0.4136003813699121, -0.32648955196971025, 0.2143101184878565, -0.15300782669212062, -0.14760252310224695, -0.144178451077655, -0.29994713358329705, -0.24105843115688483, 0.0765860010026897, 0.12093551706642958, 0.2997091131042578, 0.11464195477434683, 1.2199929889677363, 0.15514357344012752, -0.15760909232664483, 0.35646266396980086, 0.15222751384424743, 1.4458029309681635, 0.12779445716941565, 1.2332911564617612, -0.11546299369411707, 1.2385418241102528, 0.1283511696646243, -0.371490373609554, -0.2677584955666898, 0.015224652589658019, -0.26008813925565544, -0.06948383213381168, -0.2641454349823101, -1.1595436665405254, -0.339669653298103, -0.25980488147173386, -0.13210567776077442, 0.08597064725452443, -0.3296502167304669, -0.5059479035794008, -0.2566663953516747, -0.025626560098679193, -0.45131678960405097, -0.042494689742209275, -0.10465350961219488, -0.22835064640240024, 0.0030270695036352293, -0.35723238684714814, 0.12369617210889558, 0.18994012616749312, 0.19422100252857438, -0.027995372457182924, -0.27866360999613354, 0.22783559794495872, -0.23055111309339457, 0.14552578989243584, 0.5092178737087427, 0.12064249258131153, 0.33878386896581963, 1.430146705243732, 0.005186951634258427, -0.006565963844325526, 0.2462722753294529, -0.09311592615931932, -0.11164156614655465, -0.21940391822472363, 0.1558185997125658, 0.12898360350982951, -0.4841270130852364, 1.2627757755943252, 0.9685803778947191, 1.5051700076962997, 1.1068157058639112, -0.3440582219025034, -0.3210787885856016, 1.3857114200025533, -0.1772080624292836, -0.2704120760702666, -0.2380960399596954, -0.2704120760702666, -0.18386802459414295, -0.11893918270206266, 0.12125006308745345, 0.11703247302272353, -0.2726102222253582, -0.29902716159478615, -0.41788994660822626, -0.14272768668632693, 0.25978889485669965, 0.05045597965255681, 0.28578004529668827, -0.20260426497378686, -0.09605859339355101, 0.044277483760886784, -0.1017646479883922, 0.051034769401804236, 0.10734845570148281, 0.23014834863544734, -0.030896807144247744, -0.24686932059646793, 0.13284854375652538, 0.02656680466940565, 0.0542936466108899, 0.0586692877530323, -0.17140775605249792, -0.3576227257076656, 0.02549285686968392, -0.21451438459658326, -0.3538233274872635, 1.16362010803172, -0.002407435217567955, 0.05116463652565518, -0.14624914836272507, -0.2540902959375319, 1.4738985904029802, 0.041709223573331684, 0.05507811346616655, -0.017853949546971157, 1.0249609609512216, 0.009187436239283342, -0.432931749874967, -0.7102786600589479, 0.013209065630253852, 0.13293392566064216, 0.05234877125917381, -0.20228143669961327, 0.3360180983134052, 1.0829545135636802, 0.08459985935565278, 0.15624459248920336, 0.3447178148731907, 0.17130555013364987, -0.30705022526970766, -0.04464886427359013, 0.23097041575304342, 1.2744139554492788, -0.291995135770685, 0.2041282898625854, 0.2178225354968331, -0.08088651066087765, -0.09729395147610546, -0.16690615840844678, 1.2949548709593515, 0.18980805272103615, -0.1117294494649274, 0.09868523223638638, 1.470882630664467, 0.06991513041685311, 1.7557144991199165, -0.0020012434574295202, 0.9588457298690316, 0.2586997142777478, -0.8141243384294453, -0.2054557668664882, 1.0196595334699912, -0.08671357149350341, -0.0743420851650232, -0.05395727522982296, -0.2132189940681782, -0.35421801298844113]}, {\"axis\": {\"matches\": true}, \"label\": \"PC 3 (14.7%)\", \"values\": [-0.3956823296208792, -0.29804783152920866, -0.4033470762424624, -0.46532914447752954, -0.6350993632292672, -0.9005275105412854, -0.9626741868718833, -0.003704346493797916, -0.3618981033756529, -0.1501939242155175, 0.08240428248449815, -0.1933977545251528, 0.08178321670310407, -0.3783043596367858, 0.02386735738760062, 0.005747743350085274, 0.14101352180714014, -0.32175222605246095, 0.1734167216565688, 0.054869704126695076, 0.08982353261219372, 0.2837169706085674, 0.11139845552924843, -0.013304273110419963, 1.4439152895361032, 0.3261586112197976, 0.13112008692036786, 0.17507382133630695, 0.10323300514696045, 0.08197922922731303, 0.10135511761499481, 0.3765859035151655, 0.028061605703233215, 0.3406783598265289, 0.22466971078556225, 0.0786640982853683, 0.13936326358384707, 0.24177181921774563, 0.040141908091576, -0.31366589954085355, 0.1717726766999696, 0.025432379847778293, 0.07939256806569903, -0.07191815427468663, 0.03823547237829472, -0.0626057916234147, 0.08364334900566878, -0.3665731353370376, -0.028988050102396815, 0.2735518354528261, 1.157139634137682, -0.10934801748529577, 0.03143373814290058, 0.09363615913660094, 0.08208463097350706, -0.01051506391196956, 0.4057567051691296, -0.18358243595655166, 0.04298137784503877, -0.25477543055404717, 0.21254008113170206, -0.15299986489481943, 0.053919292212490935, -0.17657969800054604, -0.2297091126282768, -0.19072135933273804, -0.10254799199412054, -0.11238252350188882, 0.17921812004426071, 0.10577265641989855, -0.12437734048110337, -0.7925915750948412, 0.1885041265451212, 0.06891689353528778, -0.5807764605661151, -0.2752163522099619, -0.04342654257991042, -0.40946378907931236, -0.5135179840681499, 0.26243915623634934, 0.30916646014329563, 0.2628701204801707, 0.24744748769752545, 0.20635620651120554, 0.0038102739585492104, -0.003540205477965573, 0.19063723125676377, 0.33090769956305466, 0.2906604089865107, 0.40567291178283105, 0.14547912028073057, 0.24729972079600382, 0.1869465027982523, 0.2148952324113307, 0.3888945949461182, -0.21945825024558827, 0.23018107772797292, -0.27683233048362066, 0.14070190010351002, 0.3163058273779201, -0.1890487436561185, -0.0745827974733508, -0.08671338361263765, -0.24504167474924096, -0.011311394600616627, -0.24504167474924096, 0.3125469196509759, -0.06168296714999479, -0.02775560239752, -0.024281869433000626, 0.28151056492862897, 0.2526659958162811, 0.2859905612380041, 0.09813728895723146, 0.25733184389941693, 0.14637020730186365, 0.330762089322545, 0.16021589244322695, 0.03038387520562255, 0.23892099997685348, 0.18281211104879233, 0.15658326877602666, 0.21916027350605705, 0.2795990404322771, -0.039140395294515025, -0.05739259549343997, -0.08343185492058167, -0.5945492346289583, 0.06493029612244465, 0.20160534596134197, 0.003282705524339104, -0.10490057237745297, 0.18728081416890707, 0.051098807521074804, 0.3238758962234686, 0.01472579008445536, -0.29854828224346275, 0.15214049908995445, 1.156081195896159, 0.6870618198144277, -0.2412437315992485, -0.4030206505667751, -0.3661490975443096, -0.3848085312859643, -1.2144582433053388, -0.3875518995923633, -0.18741868391347502, -0.6352704188573368, -0.4555042835920416, -0.1716492110338067, -0.2625298833957565, -0.05099797325416442, -0.29316817692672414, -0.5838330180366562, -0.36998679755611313, 0.01429058654398854, -0.11362740007516309, -0.13425337895210884, -0.661677258319342, -0.23706273377585277, 0.047094153126545274, -0.5582043596826517, 0.7986524532383522, -0.018161945031453807, 0.07630949461370909, 1.083622150751602, 1.1123713789485021, 0.9589920708580661, -0.20094957229249663, 0.19359411990289396, 0.8872431594996546, 0.10264681008193334, 0.04388451995674229, 0.19603878024103363, -0.0715461842171936, 0.5827676648519035, 0.3668224385064393, -0.049546294983144466, -0.38903860363539366, -0.2457455116229028, 0.30396484895860454, 0.23529721099413156, 0.27945372900078347, 0.11930584867855494, -0.44722254004499923, -0.3568406919873199]}, {\"axis\": {\"matches\": true}, \"label\": \"PC 4 (7.0%)\", \"values\": [-0.00031062306640423074, -0.0796203085675699, -0.2541654357600827, -0.04746435597068048, -0.2867860117683813, -0.44547597283737417, 0.0592299376349046, -0.0058411038978964, -0.1153695606559932, -0.09321365407860119, 0.17002962661521134, 0.03739743548828487, 0.5179625723567971, -0.16934144517152352, 0.02216529026783143, -0.33373100833029984, -0.18504840278047102, -0.09115801277965693, 0.18749472513064183, 0.19181591111483826, 0.11303298629063009, -0.16846477027358758, -0.02817747241726527, 0.12948701303695612, -0.17763922299517876, -0.18394642069047631, 0.06486957900877707, -0.11253463474736214, -0.15110692455053726, -0.046530251383930875, -0.2356612454944861, -0.497177664506168, -0.02119625483449595, 0.016756506734293814, -0.06036962309645282, -0.09773210699842949, -0.07006395931305369, -0.16858981615251303, -0.0646553808508902, -0.14121036210075635, -0.03752099306586106, 0.06388890181361205, 0.2462820460018531, 0.07739760298165856, -0.08060126113016061, -0.04175533746104642, -0.08022621472046024, 0.259455765797939, -0.040102078876605336, 0.11769596690298706, -0.23003791887395847, 0.22098084557869077, 0.09325124046664028, 0.32861233876167106, 0.23231067268459277, 0.22567467909300704, 0.7225328614146403, -0.16349888114548997, 0.3792057763417684, -0.1557100458399793, 0.4750231548654049, 0.01467171592651219, 0.32600444428915587, -0.1118323638769767, 0.047683573307012554, -0.16325850177732007, 0.10971102930345805, -0.027824548160260847, 0.5864856404001171, -0.14305570513682558, 0.09492871815457074, -0.3784181022430846, 0.10250799935684164, 0.5359357669654011, 0.13578067461760468, 0.09637604554705416, -0.18502874210563527, -0.3129184382597507, -0.2509932336641754, 0.000464768165687655, -0.10075875764270803, -0.023816532816906218, -0.23778943862448337, -0.017658715058068084, 0.11495911454024069, 0.0668932902614894, 0.08681952601170143, 0.18067002753902842, -0.06948907191768958, -0.24966380363713922, -0.14354545829844695, 0.007662664763723663, -0.019226110527212778, 0.14212371145781869, -0.20373341980015558, 0.31360954641144945, 0.1679691476297125, 0.06039043077469529, 0.26739686524769696, -0.3640956500911995, -0.3236103004935013, 0.023922854942796817, -0.06607756071468544, -0.05060304450943398, 0.05195560204717687, -0.05060304450943398, 0.19565504138363415, -0.1942022676149071, -0.09131506481576451, -0.0867906539098792, 0.10878065137571657, 0.05212025070231087, -0.3079228843008459, -0.0008220587099630512, -0.2079362762517136, -0.05945091324402982, -0.32802472124006277, -0.11663349950721498, -0.1990338199219531, -0.23539705079823012, -0.24892908172734368, -0.11323037395310995, -0.23974683612580378, -0.32063915192706866, 0.24009300398381206, 0.13371586868363408, 0.20744845150633215, -0.033870558845086995, 0.5620658152152339, 0.6219991262248061, 0.09382340968999675, 0.18599319742791404, -0.0525909338935033, -0.07621482152746346, 0.14606331594415575, 0.4385042080795354, 0.02142574293944218, 0.1770173930268035, -0.23685374791206953, -0.08343758825298783, 0.1911912686164769, -0.0563211098571665, 0.16305672617047992, -0.16541011876824607, -0.13724301753473286, -0.23301839223967152, -0.6160351613175805, -0.37991582664116375, -0.023581353689572267, 0.17532985748490512, 0.017192021827837967, 0.07218770256717005, 0.11253448785016396, -0.08280137566333814, -0.2521539871520043, -0.21034065144592187, -0.0015795101115126968, 0.0021678091553603003, -0.26911228079002053, 0.08532738126913396, -0.2824469434913243, 0.07315407423525473, -0.18543399224193316, -0.6005105089310537, 0.0645794838269, -0.5058561131321323, -0.4776164845719468, -0.3500787099082769, -0.1474549309663493, -0.3153673681007845, -0.6201648416183712, -0.40027475174055116, -0.11781744585674493, 0.004436155071556328, 0.3071063286923904, 0.022658002272470255, 0.1971953521019795, -0.02419661359719547, -0.38943854744220885, -0.11515221071967896, 0.1359785523236709, 0.1709682695730609, -0.14296476774655467, -0.5644270835772152, 0.040121646809210564, 0.0036484288925473303]}], \"hoverlabel\": {\"namelength\": 0}, \"hovertemplate\": \"color=Medium<br>%{xaxis.title.text}=%{x}<br>%{yaxis.title.text}=%{y}\", \"legendgroup\": \"Medium\", \"marker\": {\"color\": \"#EF553B\", \"symbol\": \"circle\"}, \"name\": \"Medium\", \"showlegend\": true, \"type\": \"splom\"}, {\"diagonal\": {\"visible\": false}, \"dimensions\": [{\"axis\": {\"matches\": true}, \"label\": \"PC 1 (46.8%)\", \"values\": [-0.8857014494683191, -0.5248361003445989, -0.7458598839186351, -0.43532505022332574, 0.12337893554172019, -1.0704808734557065, -0.865652897235735, -0.415949859301468, -0.39946482078015205, -0.17089123162669964, -0.39738362974865665, -0.6414626669248733, -0.6006425722755174, -1.179538804509755, -0.6674669868010944, -0.8195376659984432, -0.6842204248731328, -0.3215124923601232, -0.6296726211298501, -0.687875922481824, -0.10308117059667232, -0.6057479838923194, 2.624612897656984, -0.802193232101014, -0.05143558154261225, -0.5663939593916398]}, {\"axis\": {\"matches\": true}, \"label\": \"PC 2 (23.8%)\", \"values\": [-0.24180613085058858, -0.39967498133777335, -0.03702561313164143, -0.16054742625173926, 1.4781952091333341, -0.005499551588734764, -0.2219097017699279, 0.15623356924531578, 0.08726108474290577, 0.1347262334984315, -0.07982725136287853, -0.1811836989585156, -0.2854854777169532, -0.05622351478041708, 0.1078719188474386, -0.06738813504029119, -0.019411684733906063, 0.400905830246926, 0.17830221316874514, -0.12217959431621889, 0.03269363237032005, -0.14987077141290572, -0.1886645804797584, -0.07755875375370615, 0.12078947606754041, -0.3605071390948436]}, {\"axis\": {\"matches\": true}, \"label\": \"PC 3 (14.7%)\", \"values\": [0.4253545299558194, 0.27281980238435755, 0.4885809706165787, 0.5362945915389683, 0.3186271092224558, 0.252486369860205, 0.41470527139024105, 0.109967019699572, 0.3230214916102367, 0.1817573548099288, 0.1490921755155146, 0.2550915172793112, 0.35202915638639226, 0.41375697113082816, 0.24713693483249555, 0.3379547095467501, 0.09277162131234447, 0.4049451456470707, 0.21459264053801042, 0.5302757150659954, 0.19721120549185475, 0.6384658915939888, 1.1643931163532666, 0.5904872325284385, 0.12349416392959674, 0.8936083453528553]}, {\"axis\": {\"matches\": true}, \"label\": \"PC 4 (7.0%)\", \"values\": [-0.03877978066509352, -0.16634179327794937, 0.08362244733007776, -0.41607860302870353, 0.04034917208974363, 0.045984470964869496, -0.15450247736041006, 0.06275906872074213, 0.21654864370054955, 0.040154002697433994, 0.04945501670237527, 0.0028028277691372603, 0.12073541050329593, -0.03898738522795149, 0.09514556288989792, 0.14244319446326448, -0.04869557902044058, 0.12014008725712855, 0.1518749176667922, -0.37178252287524094, 0.2020959908548996, 0.4593450392257625, -0.1714881486032442, 0.014853072495148579, 0.23294947063288443, 0.17275998626591269]}], \"hoverlabel\": {\"namelength\": 0}, \"hovertemplate\": \"color=High<br>%{xaxis.title.text}=%{x}<br>%{yaxis.title.text}=%{y}\", \"legendgroup\": \"High\", \"marker\": {\"color\": \"#00cc96\", \"symbol\": \"circle\"}, \"name\": \"High\", \"showlegend\": true, \"type\": \"splom\"}],\n",
       "                        {\"dragmode\": \"select\", \"legend\": {\"title\": {\"text\": \"color\"}, \"tracegroupgap\": 0}, \"margin\": {\"t\": 60}, \"template\": {\"data\": {\"bar\": [{\"error_x\": {\"color\": \"#2a3f5f\"}, \"error_y\": {\"color\": \"#2a3f5f\"}, \"marker\": {\"line\": {\"color\": \"#E5ECF6\", \"width\": 0.5}}, \"type\": \"bar\"}], \"barpolar\": [{\"marker\": {\"line\": {\"color\": \"#E5ECF6\", \"width\": 0.5}}, \"type\": \"barpolar\"}], \"carpet\": [{\"aaxis\": {\"endlinecolor\": \"#2a3f5f\", \"gridcolor\": \"white\", \"linecolor\": \"white\", \"minorgridcolor\": \"white\", \"startlinecolor\": \"#2a3f5f\"}, \"baxis\": {\"endlinecolor\": \"#2a3f5f\", \"gridcolor\": \"white\", \"linecolor\": \"white\", \"minorgridcolor\": \"white\", \"startlinecolor\": \"#2a3f5f\"}, \"type\": \"carpet\"}], \"choropleth\": [{\"colorbar\": {\"outlinewidth\": 0, \"ticks\": \"\"}, \"type\": \"choropleth\"}], \"contour\": [{\"colorbar\": {\"outlinewidth\": 0, \"ticks\": \"\"}, \"colorscale\": [[0.0, \"#0d0887\"], [0.1111111111111111, \"#46039f\"], [0.2222222222222222, \"#7201a8\"], [0.3333333333333333, \"#9c179e\"], [0.4444444444444444, \"#bd3786\"], [0.5555555555555556, \"#d8576b\"], [0.6666666666666666, \"#ed7953\"], [0.7777777777777778, \"#fb9f3a\"], [0.8888888888888888, \"#fdca26\"], [1.0, \"#f0f921\"]], \"type\": \"contour\"}], \"contourcarpet\": [{\"colorbar\": {\"outlinewidth\": 0, \"ticks\": \"\"}, \"type\": \"contourcarpet\"}], \"heatmap\": [{\"colorbar\": {\"outlinewidth\": 0, \"ticks\": \"\"}, \"colorscale\": [[0.0, \"#0d0887\"], [0.1111111111111111, \"#46039f\"], [0.2222222222222222, \"#7201a8\"], [0.3333333333333333, \"#9c179e\"], [0.4444444444444444, \"#bd3786\"], [0.5555555555555556, \"#d8576b\"], [0.6666666666666666, \"#ed7953\"], [0.7777777777777778, \"#fb9f3a\"], [0.8888888888888888, \"#fdca26\"], [1.0, \"#f0f921\"]], \"type\": \"heatmap\"}], \"heatmapgl\": [{\"colorbar\": {\"outlinewidth\": 0, \"ticks\": \"\"}, \"colorscale\": [[0.0, \"#0d0887\"], [0.1111111111111111, \"#46039f\"], [0.2222222222222222, \"#7201a8\"], [0.3333333333333333, \"#9c179e\"], [0.4444444444444444, \"#bd3786\"], [0.5555555555555556, \"#d8576b\"], [0.6666666666666666, \"#ed7953\"], [0.7777777777777778, \"#fb9f3a\"], [0.8888888888888888, \"#fdca26\"], [1.0, \"#f0f921\"]], \"type\": \"heatmapgl\"}], \"histogram\": [{\"marker\": {\"colorbar\": {\"outlinewidth\": 0, \"ticks\": \"\"}}, \"type\": \"histogram\"}], \"histogram2d\": [{\"colorbar\": {\"outlinewidth\": 0, \"ticks\": \"\"}, \"colorscale\": [[0.0, \"#0d0887\"], [0.1111111111111111, \"#46039f\"], [0.2222222222222222, \"#7201a8\"], [0.3333333333333333, \"#9c179e\"], [0.4444444444444444, \"#bd3786\"], [0.5555555555555556, \"#d8576b\"], [0.6666666666666666, \"#ed7953\"], [0.7777777777777778, \"#fb9f3a\"], [0.8888888888888888, \"#fdca26\"], [1.0, \"#f0f921\"]], \"type\": \"histogram2d\"}], \"histogram2dcontour\": [{\"colorbar\": {\"outlinewidth\": 0, \"ticks\": \"\"}, \"colorscale\": [[0.0, \"#0d0887\"], [0.1111111111111111, \"#46039f\"], [0.2222222222222222, \"#7201a8\"], [0.3333333333333333, \"#9c179e\"], [0.4444444444444444, \"#bd3786\"], [0.5555555555555556, \"#d8576b\"], [0.6666666666666666, \"#ed7953\"], [0.7777777777777778, \"#fb9f3a\"], [0.8888888888888888, \"#fdca26\"], [1.0, \"#f0f921\"]], \"type\": \"histogram2dcontour\"}], \"mesh3d\": [{\"colorbar\": {\"outlinewidth\": 0, \"ticks\": \"\"}, \"type\": \"mesh3d\"}], \"parcoords\": [{\"line\": {\"colorbar\": {\"outlinewidth\": 0, \"ticks\": \"\"}}, \"type\": \"parcoords\"}], \"pie\": [{\"automargin\": true, \"type\": \"pie\"}], \"scatter\": [{\"marker\": {\"colorbar\": {\"outlinewidth\": 0, \"ticks\": \"\"}}, \"type\": \"scatter\"}], \"scatter3d\": [{\"line\": {\"colorbar\": {\"outlinewidth\": 0, \"ticks\": \"\"}}, \"marker\": {\"colorbar\": {\"outlinewidth\": 0, \"ticks\": \"\"}}, \"type\": \"scatter3d\"}], \"scattercarpet\": [{\"marker\": {\"colorbar\": {\"outlinewidth\": 0, \"ticks\": \"\"}}, \"type\": \"scattercarpet\"}], \"scattergeo\": [{\"marker\": {\"colorbar\": {\"outlinewidth\": 0, \"ticks\": \"\"}}, \"type\": \"scattergeo\"}], \"scattergl\": [{\"marker\": {\"colorbar\": {\"outlinewidth\": 0, \"ticks\": \"\"}}, \"type\": \"scattergl\"}], \"scattermapbox\": [{\"marker\": {\"colorbar\": {\"outlinewidth\": 0, \"ticks\": \"\"}}, \"type\": \"scattermapbox\"}], \"scatterpolar\": [{\"marker\": {\"colorbar\": {\"outlinewidth\": 0, \"ticks\": \"\"}}, \"type\": \"scatterpolar\"}], \"scatterpolargl\": [{\"marker\": {\"colorbar\": {\"outlinewidth\": 0, \"ticks\": \"\"}}, \"type\": \"scatterpolargl\"}], \"scatterternary\": [{\"marker\": {\"colorbar\": {\"outlinewidth\": 0, \"ticks\": \"\"}}, \"type\": \"scatterternary\"}], \"surface\": [{\"colorbar\": {\"outlinewidth\": 0, \"ticks\": \"\"}, \"colorscale\": [[0.0, \"#0d0887\"], [0.1111111111111111, \"#46039f\"], [0.2222222222222222, \"#7201a8\"], [0.3333333333333333, \"#9c179e\"], [0.4444444444444444, \"#bd3786\"], [0.5555555555555556, \"#d8576b\"], [0.6666666666666666, \"#ed7953\"], [0.7777777777777778, \"#fb9f3a\"], [0.8888888888888888, \"#fdca26\"], [1.0, \"#f0f921\"]], \"type\": \"surface\"}], \"table\": [{\"cells\": {\"fill\": {\"color\": \"#EBF0F8\"}, \"line\": {\"color\": \"white\"}}, \"header\": {\"fill\": {\"color\": \"#C8D4E3\"}, \"line\": {\"color\": \"white\"}}, \"type\": \"table\"}]}, \"layout\": {\"annotationdefaults\": {\"arrowcolor\": \"#2a3f5f\", \"arrowhead\": 0, \"arrowwidth\": 1}, \"coloraxis\": {\"colorbar\": {\"outlinewidth\": 0, \"ticks\": \"\"}}, \"colorscale\": {\"diverging\": [[0, \"#8e0152\"], [0.1, \"#c51b7d\"], [0.2, \"#de77ae\"], [0.3, \"#f1b6da\"], [0.4, \"#fde0ef\"], [0.5, \"#f7f7f7\"], [0.6, \"#e6f5d0\"], [0.7, \"#b8e186\"], [0.8, \"#7fbc41\"], [0.9, \"#4d9221\"], [1, \"#276419\"]], \"sequential\": [[0.0, \"#0d0887\"], [0.1111111111111111, \"#46039f\"], [0.2222222222222222, \"#7201a8\"], [0.3333333333333333, \"#9c179e\"], [0.4444444444444444, \"#bd3786\"], [0.5555555555555556, \"#d8576b\"], [0.6666666666666666, \"#ed7953\"], [0.7777777777777778, \"#fb9f3a\"], [0.8888888888888888, \"#fdca26\"], [1.0, \"#f0f921\"]], \"sequentialminus\": [[0.0, \"#0d0887\"], [0.1111111111111111, \"#46039f\"], [0.2222222222222222, \"#7201a8\"], [0.3333333333333333, \"#9c179e\"], [0.4444444444444444, \"#bd3786\"], [0.5555555555555556, \"#d8576b\"], [0.6666666666666666, \"#ed7953\"], [0.7777777777777778, \"#fb9f3a\"], [0.8888888888888888, \"#fdca26\"], [1.0, \"#f0f921\"]]}, \"colorway\": [\"#636efa\", \"#EF553B\", \"#00cc96\", \"#ab63fa\", \"#FFA15A\", \"#19d3f3\", \"#FF6692\", \"#B6E880\", \"#FF97FF\", \"#FECB52\"], \"font\": {\"color\": \"#2a3f5f\"}, \"geo\": {\"bgcolor\": \"white\", \"lakecolor\": \"white\", \"landcolor\": \"#E5ECF6\", \"showlakes\": true, \"showland\": true, \"subunitcolor\": \"white\"}, \"hoverlabel\": {\"align\": \"left\"}, \"hovermode\": \"closest\", \"mapbox\": {\"style\": \"light\"}, \"paper_bgcolor\": \"white\", \"plot_bgcolor\": \"#E5ECF6\", \"polar\": {\"angularaxis\": {\"gridcolor\": \"white\", \"linecolor\": \"white\", \"ticks\": \"\"}, \"bgcolor\": \"#E5ECF6\", \"radialaxis\": {\"gridcolor\": \"white\", \"linecolor\": \"white\", \"ticks\": \"\"}}, \"scene\": {\"xaxis\": {\"backgroundcolor\": \"#E5ECF6\", \"gridcolor\": \"white\", \"gridwidth\": 2, \"linecolor\": \"white\", \"showbackground\": true, \"ticks\": \"\", \"zerolinecolor\": \"white\"}, \"yaxis\": {\"backgroundcolor\": \"#E5ECF6\", \"gridcolor\": \"white\", \"gridwidth\": 2, \"linecolor\": \"white\", \"showbackground\": true, \"ticks\": \"\", \"zerolinecolor\": \"white\"}, \"zaxis\": {\"backgroundcolor\": \"#E5ECF6\", \"gridcolor\": \"white\", \"gridwidth\": 2, \"linecolor\": \"white\", \"showbackground\": true, \"ticks\": \"\", \"zerolinecolor\": \"white\"}}, \"shapedefaults\": {\"line\": {\"color\": \"#2a3f5f\"}}, \"ternary\": {\"aaxis\": {\"gridcolor\": \"white\", \"linecolor\": \"white\", \"ticks\": \"\"}, \"baxis\": {\"gridcolor\": \"white\", \"linecolor\": \"white\", \"ticks\": \"\"}, \"bgcolor\": \"#E5ECF6\", \"caxis\": {\"gridcolor\": \"white\", \"linecolor\": \"white\", \"ticks\": \"\"}}, \"title\": {\"x\": 0.05}, \"xaxis\": {\"automargin\": true, \"gridcolor\": \"white\", \"linecolor\": \"white\", \"ticks\": \"\", \"title\": {\"standoff\": 15}, \"zerolinecolor\": \"white\", \"zerolinewidth\": 2}, \"yaxis\": {\"automargin\": true, \"gridcolor\": \"white\", \"linecolor\": \"white\", \"ticks\": \"\", \"title\": {\"standoff\": 15}, \"zerolinecolor\": \"white\", \"zerolinewidth\": 2}}}},\n",
       "                        {\"responsive\": true}\n",
       "                    ).then(function(){\n",
       "                            \n",
       "var gd = document.getElementById('577b7803-1578-4a63-a0ca-97b28e1dccd6');\n",
       "var x = new MutationObserver(function (mutations, observer) {{\n",
       "        var display = window.getComputedStyle(gd).display;\n",
       "        if (!display || display === 'none') {{\n",
       "            console.log([gd, 'removed!']);\n",
       "            Plotly.purge(gd);\n",
       "            observer.disconnect();\n",
       "        }}\n",
       "}});\n",
       "\n",
       "// Listen for the removal of the full notebook cells\n",
       "var notebookContainer = gd.closest('#notebook-container');\n",
       "if (notebookContainer) {{\n",
       "    x.observe(notebookContainer, {childList: true});\n",
       "}}\n",
       "\n",
       "// Listen for the clearing of the current output cell\n",
       "var outputEl = gd.closest('.output');\n",
       "if (outputEl) {{\n",
       "    x.observe(outputEl, {childList: true});\n",
       "}}\n",
       "\n",
       "                        })\n",
       "                };\n",
       "                });\n",
       "            </script>\n",
       "        </div>"
      ]
     },
     "metadata": {},
     "output_type": "display_data"
    }
   ],
   "source": [
    "#PCA plotting for health_all\n",
    "y = raw_health.iloc[:,0]\n",
    "rate_label = []\n",
    "low_rate = y.quantile(0.20)\n",
    "medium_rate = y.quantile(0.90)\n",
    "for i in y:\n",
    "    if i <= low_rate:\n",
    "        rate_label.append(\"low\")\n",
    "    if i <= medium_rate and i > low_rate:\n",
    "        rate_label.append(\"Medium\")    \n",
    "    if i > medium_rate:\n",
    "        rate_label.append(\"High\")\n",
    "\n",
    "labels = {\n",
    "    str(i): f\"PC {i+1} ({var:.1f}%)\"\n",
    "    for i, var in enumerate(pca.explained_variance_ratio_ * 100)\n",
    "}\n",
    "fig = px.scatter_matrix(\n",
    "    health_pca,\n",
    "    labels=labels,\n",
    "    dimensions=range(4),\n",
    "    color = rate_label\n",
    ")\n",
    "fig.update_traces(diagonal_visible=False)\n",
    "fig.show()\n",
    "\n"
   ]
  },
  {
   "cell_type": "code",
   "execution_count": 71,
   "metadata": {},
   "outputs": [
    {
     "data": {
      "application/vnd.plotly.v1+json": {
       "config": {
        "plotlyServerURL": "https://plot.ly"
       },
       "data": [
        {
         "hoverlabel": {
          "namelength": 0
         },
         "hovertemplate": "color=low<br>0=%{x}<br>1=%{y}",
         "legendgroup": "low",
         "marker": {
          "color": "#636efa",
          "symbol": "circle"
         },
         "mode": "markers",
         "name": "low",
         "showlegend": true,
         "type": "scatter",
         "x": [
          -0.3596822671579932,
          -0.24100026595041732,
          -0.42780174737776117,
          -0.602084142848744,
          0.07568878399465494,
          -0.4135488596055743,
          -0.22824206365532854,
          -0.3186405318753432,
          -0.7469811592789132,
          -0.6897280806514241,
          -1.0780752909563598,
          -0.8154743603677128,
          -0.9041768293823437,
          -0.6757931723828603,
          -0.41582520597477873,
          -0.5830136926822893,
          -0.8248592592026841,
          -0.11896543573043317,
          -0.008691267660467438,
          0.1191809124306872,
          -0.41582520597477873,
          -0.6055943421316133,
          0.14119909477156586,
          0.07568878399465531,
          0.3655703820521386,
          0.1428024831426326,
          -0.1449625745415258,
          0.20170167584565668,
          -0.1666858486632894,
          0.2478061724129151,
          0.055065066844396326,
          -0.8844627271911286,
          -0.512592226514538,
          -0.3346768152516308,
          -0.42627982331075426,
          0.24828162439945237,
          0.35035853136950834,
          -0.3376443179464769,
          -0.1603030551111345,
          -0.6171678230462069,
          -0.11909153866659812,
          -0.16881354867735263,
          -0.44661630254650825,
          -0.2993060884623516,
          -0.7768229532737542,
          0.42170719365673176,
          0.16839101911182958,
          -0.12584315544583277,
          -0.09436680649756336,
          -0.20416795146987762,
          0.38077744437967076,
          -0.08131405081895346,
          0.14340398574918345
         ],
         "xaxis": "x",
         "y": [
          -0.005747413902104659,
          0.12453021889355397,
          0.2915031203448747,
          -0.0012363647547658815,
          0.5948770298546177,
          0.24054958618036534,
          0.24194155781222743,
          0.640854251738301,
          -0.2161796287697957,
          -0.014212860728719764,
          -0.20386840807802234,
          -0.2940884908966889,
          -0.337865891468927,
          -0.3804845897456777,
          0.3981517168108444,
          0.20945361502479548,
          -0.12769376001445928,
          0.4815006864698102,
          0.6342659051721345,
          0.7588275376258731,
          0.3981517168108444,
          0.10378540558216752,
          0.4692680774464634,
          0.594877029854617,
          0.7794621327696769,
          0.6656330296974996,
          0.0444024088300445,
          -0.06259886611786744,
          0.0847732018912882,
          0.7275354198915289,
          0.5798439903961399,
          -0.1727358884135918,
          0.0035367245647183465,
          0.22587123322970912,
          0.07303965590371554,
          0.8554527906146677,
          -0.33070811479413853,
          -0.3063448498470417,
          0.09468480476064231,
          -0.19486009318940142,
          0.11597219719670271,
          0.1891160341639001,
          0.28500625500342486,
          0.3324357487552768,
          -0.1862486778125886,
          -0.5340581232574396,
          -0.4017843988651061,
          0.14034677407330778,
          -0.47625118557677065,
          -0.393219646999101,
          -0.5860808895702094,
          -0.5743789677122465,
          -0.3815887736069897
         ],
         "yaxis": "y"
        },
        {
         "hoverlabel": {
          "namelength": 0
         },
         "hovertemplate": "color=Medium<br>0=%{x}<br>1=%{y}",
         "legendgroup": "Medium",
         "marker": {
          "color": "#EF553B",
          "symbol": "circle"
         },
         "mode": "markers",
         "name": "Medium",
         "showlegend": true,
         "type": "scatter",
         "x": [
          -0.3956823296208792,
          -0.29804783152920866,
          -0.4033470762424624,
          -0.46532914447752954,
          -0.6350993632292672,
          -0.9005275105412854,
          -0.9626741868718833,
          -0.003704346493797916,
          -0.3618981033756529,
          -0.1501939242155175,
          0.08240428248449815,
          -0.1933977545251528,
          0.08178321670310407,
          -0.3783043596367858,
          0.02386735738760062,
          0.005747743350085274,
          0.14101352180714014,
          -0.32175222605246095,
          0.1734167216565688,
          0.054869704126695076,
          0.08982353261219372,
          0.2837169706085674,
          0.11139845552924843,
          -0.013304273110419963,
          1.4439152895361032,
          0.3261586112197976,
          0.13112008692036786,
          0.17507382133630695,
          0.10323300514696045,
          0.08197922922731303,
          0.10135511761499481,
          0.3765859035151655,
          0.028061605703233215,
          0.3406783598265289,
          0.22466971078556225,
          0.0786640982853683,
          0.13936326358384707,
          0.24177181921774563,
          0.040141908091576,
          -0.31366589954085355,
          0.1717726766999696,
          0.025432379847778293,
          0.07939256806569903,
          -0.07191815427468663,
          0.03823547237829472,
          -0.0626057916234147,
          0.08364334900566878,
          -0.3665731353370376,
          -0.028988050102396815,
          0.2735518354528261,
          1.157139634137682,
          -0.10934801748529577,
          0.03143373814290058,
          0.09363615913660094,
          0.08208463097350706,
          -0.01051506391196956,
          0.4057567051691296,
          -0.18358243595655166,
          0.04298137784503877,
          -0.25477543055404717,
          0.21254008113170206,
          -0.15299986489481943,
          0.053919292212490935,
          -0.17657969800054604,
          -0.2297091126282768,
          -0.19072135933273804,
          -0.10254799199412054,
          -0.11238252350188882,
          0.17921812004426071,
          0.10577265641989855,
          -0.12437734048110337,
          -0.7925915750948412,
          0.1885041265451212,
          0.06891689353528778,
          -0.5807764605661151,
          -0.2752163522099619,
          -0.04342654257991042,
          -0.40946378907931236,
          -0.5135179840681499,
          0.26243915623634934,
          0.30916646014329563,
          0.2628701204801707,
          0.24744748769752545,
          0.20635620651120554,
          0.0038102739585492104,
          -0.003540205477965573,
          0.19063723125676377,
          0.33090769956305466,
          0.2906604089865107,
          0.40567291178283105,
          0.14547912028073057,
          0.24729972079600382,
          0.1869465027982523,
          0.2148952324113307,
          0.3888945949461182,
          -0.21945825024558827,
          0.23018107772797292,
          -0.27683233048362066,
          0.14070190010351002,
          0.3163058273779201,
          -0.1890487436561185,
          -0.0745827974733508,
          -0.08671338361263765,
          -0.24504167474924096,
          -0.011311394600616627,
          -0.24504167474924096,
          0.3125469196509759,
          -0.06168296714999479,
          -0.02775560239752,
          -0.024281869433000626,
          0.28151056492862897,
          0.2526659958162811,
          0.2859905612380041,
          0.09813728895723146,
          0.25733184389941693,
          0.14637020730186365,
          0.330762089322545,
          0.16021589244322695,
          0.03038387520562255,
          0.23892099997685348,
          0.18281211104879233,
          0.15658326877602666,
          0.21916027350605705,
          0.2795990404322771,
          -0.039140395294515025,
          -0.05739259549343997,
          -0.08343185492058167,
          -0.5945492346289583,
          0.06493029612244465,
          0.20160534596134197,
          0.003282705524339104,
          -0.10490057237745297,
          0.18728081416890707,
          0.051098807521074804,
          0.3238758962234686,
          0.01472579008445536,
          -0.29854828224346275,
          0.15214049908995445,
          1.156081195896159,
          0.6870618198144277,
          -0.2412437315992485,
          -0.4030206505667751,
          -0.3661490975443096,
          -0.3848085312859643,
          -1.2144582433053388,
          -0.3875518995923633,
          -0.18741868391347502,
          -0.6352704188573368,
          -0.4555042835920416,
          -0.1716492110338067,
          -0.2625298833957565,
          -0.05099797325416442,
          -0.29316817692672414,
          -0.5838330180366562,
          -0.36998679755611313,
          0.01429058654398854,
          -0.11362740007516309,
          -0.13425337895210884,
          -0.661677258319342,
          -0.23706273377585277,
          0.047094153126545274,
          -0.5582043596826517,
          0.7986524532383522,
          -0.018161945031453807,
          0.07630949461370909,
          1.083622150751602,
          1.1123713789485021,
          0.9589920708580661,
          -0.20094957229249663,
          0.19359411990289396,
          0.8872431594996546,
          0.10264681008193334,
          0.04388451995674229,
          0.19603878024103363,
          -0.0715461842171936,
          0.5827676648519035,
          0.3668224385064393,
          -0.049546294983144466,
          -0.38903860363539366,
          -0.2457455116229028,
          0.30396484895860454,
          0.23529721099413156,
          0.27945372900078347,
          0.11930584867855494,
          -0.44722254004499923,
          -0.3568406919873199
         ],
         "xaxis": "x",
         "y": [
          -0.00031062306640423074,
          -0.0796203085675699,
          -0.2541654357600827,
          -0.04746435597068048,
          -0.2867860117683813,
          -0.44547597283737417,
          0.0592299376349046,
          -0.0058411038978964,
          -0.1153695606559932,
          -0.09321365407860119,
          0.17002962661521134,
          0.03739743548828487,
          0.5179625723567971,
          -0.16934144517152352,
          0.02216529026783143,
          -0.33373100833029984,
          -0.18504840278047102,
          -0.09115801277965693,
          0.18749472513064183,
          0.19181591111483826,
          0.11303298629063009,
          -0.16846477027358758,
          -0.02817747241726527,
          0.12948701303695612,
          -0.17763922299517876,
          -0.18394642069047631,
          0.06486957900877707,
          -0.11253463474736214,
          -0.15110692455053726,
          -0.046530251383930875,
          -0.2356612454944861,
          -0.497177664506168,
          -0.02119625483449595,
          0.016756506734293814,
          -0.06036962309645282,
          -0.09773210699842949,
          -0.07006395931305369,
          -0.16858981615251303,
          -0.0646553808508902,
          -0.14121036210075635,
          -0.03752099306586106,
          0.06388890181361205,
          0.2462820460018531,
          0.07739760298165856,
          -0.08060126113016061,
          -0.04175533746104642,
          -0.08022621472046024,
          0.259455765797939,
          -0.040102078876605336,
          0.11769596690298706,
          -0.23003791887395847,
          0.22098084557869077,
          0.09325124046664028,
          0.32861233876167106,
          0.23231067268459277,
          0.22567467909300704,
          0.7225328614146403,
          -0.16349888114548997,
          0.3792057763417684,
          -0.1557100458399793,
          0.4750231548654049,
          0.01467171592651219,
          0.32600444428915587,
          -0.1118323638769767,
          0.047683573307012554,
          -0.16325850177732007,
          0.10971102930345805,
          -0.027824548160260847,
          0.5864856404001171,
          -0.14305570513682558,
          0.09492871815457074,
          -0.3784181022430846,
          0.10250799935684164,
          0.5359357669654011,
          0.13578067461760468,
          0.09637604554705416,
          -0.18502874210563527,
          -0.3129184382597507,
          -0.2509932336641754,
          0.000464768165687655,
          -0.10075875764270803,
          -0.023816532816906218,
          -0.23778943862448337,
          -0.017658715058068084,
          0.11495911454024069,
          0.0668932902614894,
          0.08681952601170143,
          0.18067002753902842,
          -0.06948907191768958,
          -0.24966380363713922,
          -0.14354545829844695,
          0.007662664763723663,
          -0.019226110527212778,
          0.14212371145781869,
          -0.20373341980015558,
          0.31360954641144945,
          0.1679691476297125,
          0.06039043077469529,
          0.26739686524769696,
          -0.3640956500911995,
          -0.3236103004935013,
          0.023922854942796817,
          -0.06607756071468544,
          -0.05060304450943398,
          0.05195560204717687,
          -0.05060304450943398,
          0.19565504138363415,
          -0.1942022676149071,
          -0.09131506481576451,
          -0.0867906539098792,
          0.10878065137571657,
          0.05212025070231087,
          -0.3079228843008459,
          -0.0008220587099630512,
          -0.2079362762517136,
          -0.05945091324402982,
          -0.32802472124006277,
          -0.11663349950721498,
          -0.1990338199219531,
          -0.23539705079823012,
          -0.24892908172734368,
          -0.11323037395310995,
          -0.23974683612580378,
          -0.32063915192706866,
          0.24009300398381206,
          0.13371586868363408,
          0.20744845150633215,
          -0.033870558845086995,
          0.5620658152152339,
          0.6219991262248061,
          0.09382340968999675,
          0.18599319742791404,
          -0.0525909338935033,
          -0.07621482152746346,
          0.14606331594415575,
          0.4385042080795354,
          0.02142574293944218,
          0.1770173930268035,
          -0.23685374791206953,
          -0.08343758825298783,
          0.1911912686164769,
          -0.0563211098571665,
          0.16305672617047992,
          -0.16541011876824607,
          -0.13724301753473286,
          -0.23301839223967152,
          -0.6160351613175805,
          -0.37991582664116375,
          -0.023581353689572267,
          0.17532985748490512,
          0.017192021827837967,
          0.07218770256717005,
          0.11253448785016396,
          -0.08280137566333814,
          -0.2521539871520043,
          -0.21034065144592187,
          -0.0015795101115126968,
          0.0021678091553603003,
          -0.26911228079002053,
          0.08532738126913396,
          -0.2824469434913243,
          0.07315407423525473,
          -0.18543399224193316,
          -0.6005105089310537,
          0.0645794838269,
          -0.5058561131321323,
          -0.4776164845719468,
          -0.3500787099082769,
          -0.1474549309663493,
          -0.3153673681007845,
          -0.6201648416183712,
          -0.40027475174055116,
          -0.11781744585674493,
          0.004436155071556328,
          0.3071063286923904,
          0.022658002272470255,
          0.1971953521019795,
          -0.02419661359719547,
          -0.38943854744220885,
          -0.11515221071967896,
          0.1359785523236709,
          0.1709682695730609,
          -0.14296476774655467,
          -0.5644270835772152,
          0.040121646809210564,
          0.0036484288925473303
         ],
         "yaxis": "y"
        },
        {
         "hoverlabel": {
          "namelength": 0
         },
         "hovertemplate": "color=High<br>0=%{x}<br>1=%{y}",
         "legendgroup": "High",
         "marker": {
          "color": "#00cc96",
          "symbol": "circle"
         },
         "mode": "markers",
         "name": "High",
         "showlegend": true,
         "type": "scatter",
         "x": [
          0.4253545299558194,
          0.27281980238435755,
          0.4885809706165787,
          0.5362945915389683,
          0.3186271092224558,
          0.252486369860205,
          0.41470527139024105,
          0.109967019699572,
          0.3230214916102367,
          0.1817573548099288,
          0.1490921755155146,
          0.2550915172793112,
          0.35202915638639226,
          0.41375697113082816,
          0.24713693483249555,
          0.3379547095467501,
          0.09277162131234447,
          0.4049451456470707,
          0.21459264053801042,
          0.5302757150659954,
          0.19721120549185475,
          0.6384658915939888,
          1.1643931163532666,
          0.5904872325284385,
          0.12349416392959674,
          0.8936083453528553
         ],
         "xaxis": "x",
         "y": [
          -0.03877978066509352,
          -0.16634179327794937,
          0.08362244733007776,
          -0.41607860302870353,
          0.04034917208974363,
          0.045984470964869496,
          -0.15450247736041006,
          0.06275906872074213,
          0.21654864370054955,
          0.040154002697433994,
          0.04945501670237527,
          0.0028028277691372603,
          0.12073541050329593,
          -0.03898738522795149,
          0.09514556288989792,
          0.14244319446326448,
          -0.04869557902044058,
          0.12014008725712855,
          0.1518749176667922,
          -0.37178252287524094,
          0.2020959908548996,
          0.4593450392257625,
          -0.1714881486032442,
          0.014853072495148579,
          0.23294947063288443,
          0.17275998626591269
         ],
         "yaxis": "y"
        }
       ],
       "layout": {
        "autosize": true,
        "legend": {
         "title": {
          "text": "color"
         },
         "tracegroupgap": 0
        },
        "margin": {
         "t": 60
        },
        "template": {
         "data": {
          "bar": [
           {
            "error_x": {
             "color": "#2a3f5f"
            },
            "error_y": {
             "color": "#2a3f5f"
            },
            "marker": {
             "line": {
              "color": "#E5ECF6",
              "width": 0.5
             }
            },
            "type": "bar"
           }
          ],
          "barpolar": [
           {
            "marker": {
             "line": {
              "color": "#E5ECF6",
              "width": 0.5
             }
            },
            "type": "barpolar"
           }
          ],
          "carpet": [
           {
            "aaxis": {
             "endlinecolor": "#2a3f5f",
             "gridcolor": "white",
             "linecolor": "white",
             "minorgridcolor": "white",
             "startlinecolor": "#2a3f5f"
            },
            "baxis": {
             "endlinecolor": "#2a3f5f",
             "gridcolor": "white",
             "linecolor": "white",
             "minorgridcolor": "white",
             "startlinecolor": "#2a3f5f"
            },
            "type": "carpet"
           }
          ],
          "choropleth": [
           {
            "colorbar": {
             "outlinewidth": 0,
             "ticks": ""
            },
            "type": "choropleth"
           }
          ],
          "contour": [
           {
            "colorbar": {
             "outlinewidth": 0,
             "ticks": ""
            },
            "colorscale": [
             [
              0,
              "#0d0887"
             ],
             [
              0.1111111111111111,
              "#46039f"
             ],
             [
              0.2222222222222222,
              "#7201a8"
             ],
             [
              0.3333333333333333,
              "#9c179e"
             ],
             [
              0.4444444444444444,
              "#bd3786"
             ],
             [
              0.5555555555555556,
              "#d8576b"
             ],
             [
              0.6666666666666666,
              "#ed7953"
             ],
             [
              0.7777777777777778,
              "#fb9f3a"
             ],
             [
              0.8888888888888888,
              "#fdca26"
             ],
             [
              1,
              "#f0f921"
             ]
            ],
            "type": "contour"
           }
          ],
          "contourcarpet": [
           {
            "colorbar": {
             "outlinewidth": 0,
             "ticks": ""
            },
            "type": "contourcarpet"
           }
          ],
          "heatmap": [
           {
            "colorbar": {
             "outlinewidth": 0,
             "ticks": ""
            },
            "colorscale": [
             [
              0,
              "#0d0887"
             ],
             [
              0.1111111111111111,
              "#46039f"
             ],
             [
              0.2222222222222222,
              "#7201a8"
             ],
             [
              0.3333333333333333,
              "#9c179e"
             ],
             [
              0.4444444444444444,
              "#bd3786"
             ],
             [
              0.5555555555555556,
              "#d8576b"
             ],
             [
              0.6666666666666666,
              "#ed7953"
             ],
             [
              0.7777777777777778,
              "#fb9f3a"
             ],
             [
              0.8888888888888888,
              "#fdca26"
             ],
             [
              1,
              "#f0f921"
             ]
            ],
            "type": "heatmap"
           }
          ],
          "heatmapgl": [
           {
            "colorbar": {
             "outlinewidth": 0,
             "ticks": ""
            },
            "colorscale": [
             [
              0,
              "#0d0887"
             ],
             [
              0.1111111111111111,
              "#46039f"
             ],
             [
              0.2222222222222222,
              "#7201a8"
             ],
             [
              0.3333333333333333,
              "#9c179e"
             ],
             [
              0.4444444444444444,
              "#bd3786"
             ],
             [
              0.5555555555555556,
              "#d8576b"
             ],
             [
              0.6666666666666666,
              "#ed7953"
             ],
             [
              0.7777777777777778,
              "#fb9f3a"
             ],
             [
              0.8888888888888888,
              "#fdca26"
             ],
             [
              1,
              "#f0f921"
             ]
            ],
            "type": "heatmapgl"
           }
          ],
          "histogram": [
           {
            "marker": {
             "colorbar": {
              "outlinewidth": 0,
              "ticks": ""
             }
            },
            "type": "histogram"
           }
          ],
          "histogram2d": [
           {
            "colorbar": {
             "outlinewidth": 0,
             "ticks": ""
            },
            "colorscale": [
             [
              0,
              "#0d0887"
             ],
             [
              0.1111111111111111,
              "#46039f"
             ],
             [
              0.2222222222222222,
              "#7201a8"
             ],
             [
              0.3333333333333333,
              "#9c179e"
             ],
             [
              0.4444444444444444,
              "#bd3786"
             ],
             [
              0.5555555555555556,
              "#d8576b"
             ],
             [
              0.6666666666666666,
              "#ed7953"
             ],
             [
              0.7777777777777778,
              "#fb9f3a"
             ],
             [
              0.8888888888888888,
              "#fdca26"
             ],
             [
              1,
              "#f0f921"
             ]
            ],
            "type": "histogram2d"
           }
          ],
          "histogram2dcontour": [
           {
            "colorbar": {
             "outlinewidth": 0,
             "ticks": ""
            },
            "colorscale": [
             [
              0,
              "#0d0887"
             ],
             [
              0.1111111111111111,
              "#46039f"
             ],
             [
              0.2222222222222222,
              "#7201a8"
             ],
             [
              0.3333333333333333,
              "#9c179e"
             ],
             [
              0.4444444444444444,
              "#bd3786"
             ],
             [
              0.5555555555555556,
              "#d8576b"
             ],
             [
              0.6666666666666666,
              "#ed7953"
             ],
             [
              0.7777777777777778,
              "#fb9f3a"
             ],
             [
              0.8888888888888888,
              "#fdca26"
             ],
             [
              1,
              "#f0f921"
             ]
            ],
            "type": "histogram2dcontour"
           }
          ],
          "mesh3d": [
           {
            "colorbar": {
             "outlinewidth": 0,
             "ticks": ""
            },
            "type": "mesh3d"
           }
          ],
          "parcoords": [
           {
            "line": {
             "colorbar": {
              "outlinewidth": 0,
              "ticks": ""
             }
            },
            "type": "parcoords"
           }
          ],
          "pie": [
           {
            "automargin": true,
            "type": "pie"
           }
          ],
          "scatter": [
           {
            "marker": {
             "colorbar": {
              "outlinewidth": 0,
              "ticks": ""
             }
            },
            "type": "scatter"
           }
          ],
          "scatter3d": [
           {
            "line": {
             "colorbar": {
              "outlinewidth": 0,
              "ticks": ""
             }
            },
            "marker": {
             "colorbar": {
              "outlinewidth": 0,
              "ticks": ""
             }
            },
            "type": "scatter3d"
           }
          ],
          "scattercarpet": [
           {
            "marker": {
             "colorbar": {
              "outlinewidth": 0,
              "ticks": ""
             }
            },
            "type": "scattercarpet"
           }
          ],
          "scattergeo": [
           {
            "marker": {
             "colorbar": {
              "outlinewidth": 0,
              "ticks": ""
             }
            },
            "type": "scattergeo"
           }
          ],
          "scattergl": [
           {
            "marker": {
             "colorbar": {
              "outlinewidth": 0,
              "ticks": ""
             }
            },
            "type": "scattergl"
           }
          ],
          "scattermapbox": [
           {
            "marker": {
             "colorbar": {
              "outlinewidth": 0,
              "ticks": ""
             }
            },
            "type": "scattermapbox"
           }
          ],
          "scatterpolar": [
           {
            "marker": {
             "colorbar": {
              "outlinewidth": 0,
              "ticks": ""
             }
            },
            "type": "scatterpolar"
           }
          ],
          "scatterpolargl": [
           {
            "marker": {
             "colorbar": {
              "outlinewidth": 0,
              "ticks": ""
             }
            },
            "type": "scatterpolargl"
           }
          ],
          "scatterternary": [
           {
            "marker": {
             "colorbar": {
              "outlinewidth": 0,
              "ticks": ""
             }
            },
            "type": "scatterternary"
           }
          ],
          "surface": [
           {
            "colorbar": {
             "outlinewidth": 0,
             "ticks": ""
            },
            "colorscale": [
             [
              0,
              "#0d0887"
             ],
             [
              0.1111111111111111,
              "#46039f"
             ],
             [
              0.2222222222222222,
              "#7201a8"
             ],
             [
              0.3333333333333333,
              "#9c179e"
             ],
             [
              0.4444444444444444,
              "#bd3786"
             ],
             [
              0.5555555555555556,
              "#d8576b"
             ],
             [
              0.6666666666666666,
              "#ed7953"
             ],
             [
              0.7777777777777778,
              "#fb9f3a"
             ],
             [
              0.8888888888888888,
              "#fdca26"
             ],
             [
              1,
              "#f0f921"
             ]
            ],
            "type": "surface"
           }
          ],
          "table": [
           {
            "cells": {
             "fill": {
              "color": "#EBF0F8"
             },
             "line": {
              "color": "white"
             }
            },
            "header": {
             "fill": {
              "color": "#C8D4E3"
             },
             "line": {
              "color": "white"
             }
            },
            "type": "table"
           }
          ]
         },
         "layout": {
          "annotationdefaults": {
           "arrowcolor": "#2a3f5f",
           "arrowhead": 0,
           "arrowwidth": 1
          },
          "coloraxis": {
           "colorbar": {
            "outlinewidth": 0,
            "ticks": ""
           }
          },
          "colorscale": {
           "diverging": [
            [
             0,
             "#8e0152"
            ],
            [
             0.1,
             "#c51b7d"
            ],
            [
             0.2,
             "#de77ae"
            ],
            [
             0.3,
             "#f1b6da"
            ],
            [
             0.4,
             "#fde0ef"
            ],
            [
             0.5,
             "#f7f7f7"
            ],
            [
             0.6,
             "#e6f5d0"
            ],
            [
             0.7,
             "#b8e186"
            ],
            [
             0.8,
             "#7fbc41"
            ],
            [
             0.9,
             "#4d9221"
            ],
            [
             1,
             "#276419"
            ]
           ],
           "sequential": [
            [
             0,
             "#0d0887"
            ],
            [
             0.1111111111111111,
             "#46039f"
            ],
            [
             0.2222222222222222,
             "#7201a8"
            ],
            [
             0.3333333333333333,
             "#9c179e"
            ],
            [
             0.4444444444444444,
             "#bd3786"
            ],
            [
             0.5555555555555556,
             "#d8576b"
            ],
            [
             0.6666666666666666,
             "#ed7953"
            ],
            [
             0.7777777777777778,
             "#fb9f3a"
            ],
            [
             0.8888888888888888,
             "#fdca26"
            ],
            [
             1,
             "#f0f921"
            ]
           ],
           "sequentialminus": [
            [
             0,
             "#0d0887"
            ],
            [
             0.1111111111111111,
             "#46039f"
            ],
            [
             0.2222222222222222,
             "#7201a8"
            ],
            [
             0.3333333333333333,
             "#9c179e"
            ],
            [
             0.4444444444444444,
             "#bd3786"
            ],
            [
             0.5555555555555556,
             "#d8576b"
            ],
            [
             0.6666666666666666,
             "#ed7953"
            ],
            [
             0.7777777777777778,
             "#fb9f3a"
            ],
            [
             0.8888888888888888,
             "#fdca26"
            ],
            [
             1,
             "#f0f921"
            ]
           ]
          },
          "colorway": [
           "#636efa",
           "#EF553B",
           "#00cc96",
           "#ab63fa",
           "#FFA15A",
           "#19d3f3",
           "#FF6692",
           "#B6E880",
           "#FF97FF",
           "#FECB52"
          ],
          "font": {
           "color": "#2a3f5f"
          },
          "geo": {
           "bgcolor": "white",
           "lakecolor": "white",
           "landcolor": "#E5ECF6",
           "showlakes": true,
           "showland": true,
           "subunitcolor": "white"
          },
          "hoverlabel": {
           "align": "left"
          },
          "hovermode": "closest",
          "mapbox": {
           "style": "light"
          },
          "paper_bgcolor": "white",
          "plot_bgcolor": "#E5ECF6",
          "polar": {
           "angularaxis": {
            "gridcolor": "white",
            "linecolor": "white",
            "ticks": ""
           },
           "bgcolor": "#E5ECF6",
           "radialaxis": {
            "gridcolor": "white",
            "linecolor": "white",
            "ticks": ""
           }
          },
          "scene": {
           "xaxis": {
            "backgroundcolor": "#E5ECF6",
            "gridcolor": "white",
            "gridwidth": 2,
            "linecolor": "white",
            "showbackground": true,
            "ticks": "",
            "zerolinecolor": "white"
           },
           "yaxis": {
            "backgroundcolor": "#E5ECF6",
            "gridcolor": "white",
            "gridwidth": 2,
            "linecolor": "white",
            "showbackground": true,
            "ticks": "",
            "zerolinecolor": "white"
           },
           "zaxis": {
            "backgroundcolor": "#E5ECF6",
            "gridcolor": "white",
            "gridwidth": 2,
            "linecolor": "white",
            "showbackground": true,
            "ticks": "",
            "zerolinecolor": "white"
           }
          },
          "shapedefaults": {
           "line": {
            "color": "#2a3f5f"
           }
          },
          "ternary": {
           "aaxis": {
            "gridcolor": "white",
            "linecolor": "white",
            "ticks": ""
           },
           "baxis": {
            "gridcolor": "white",
            "linecolor": "white",
            "ticks": ""
           },
           "bgcolor": "#E5ECF6",
           "caxis": {
            "gridcolor": "white",
            "linecolor": "white",
            "ticks": ""
           }
          },
          "title": {
           "x": 0.05
          },
          "xaxis": {
           "automargin": true,
           "gridcolor": "white",
           "linecolor": "white",
           "ticks": "",
           "title": {
            "standoff": 15
           },
           "zerolinecolor": "white",
           "zerolinewidth": 2
          },
          "yaxis": {
           "automargin": true,
           "gridcolor": "white",
           "linecolor": "white",
           "ticks": "",
           "title": {
            "standoff": 15
           },
           "zerolinecolor": "white",
           "zerolinewidth": 2
          }
         }
        },
        "xaxis": {
         "anchor": "y",
         "autorange": true,
         "domain": [
          0,
          1
         ],
         "range": [
          -1.3771241018057787,
          1.606581148036543
         ],
         "title": {
          "text": "0"
         },
         "type": "linear"
        },
        "yaxis": {
         "anchor": "x",
         "autorange": true,
         "domain": [
          0,
          1
         ],
         "range": [
          -0.7247896645299218,
          0.9600776135262183
         ],
         "title": {
          "text": "1"
         },
         "type": "linear"
        }
       }
      },
      "image/png": "[encoded data removed]",
      "text/html": [
       "<div>\n",
       "        \n",
       "        \n",
       "            <div id=\"f20d1d96-f57f-43e8-b58d-111a84f687e9\" class=\"plotly-graph-div\" style=\"height:525px; width:100%;\"></div>\n",
       "            <script type=\"text/javascript\">\n",
       "                require([\"plotly\"], function(Plotly) {\n",
       "                    window.PLOTLYENV=window.PLOTLYENV || {};\n",
       "                    \n",
       "                if (document.getElementById(\"f20d1d96-f57f-43e8-b58d-111a84f687e9\")) {\n",
       "                    Plotly.newPlot(\n",
       "                        'f20d1d96-f57f-43e8-b58d-111a84f687e9',\n",
       "                        [{\"hoverlabel\": {\"namelength\": 0}, \"hovertemplate\": \"color=low<br>0=%{x}<br>1=%{y}\", \"legendgroup\": \"low\", \"marker\": {\"color\": \"#636efa\", \"symbol\": \"circle\"}, \"mode\": \"markers\", \"name\": \"low\", \"showlegend\": true, \"type\": \"scatter\", \"x\": [-0.3596822671579932, -0.24100026595041732, -0.42780174737776117, -0.602084142848744, 0.07568878399465494, -0.4135488596055743, -0.22824206365532854, -0.3186405318753432, -0.7469811592789132, -0.6897280806514241, -1.0780752909563598, -0.8154743603677128, -0.9041768293823437, -0.6757931723828603, -0.41582520597477873, -0.5830136926822893, -0.8248592592026841, -0.11896543573043317, -0.008691267660467438, 0.1191809124306872, -0.41582520597477873, -0.6055943421316133, 0.14119909477156586, 0.07568878399465531, 0.3655703820521386, 0.1428024831426326, -0.1449625745415258, 0.20170167584565668, -0.1666858486632894, 0.2478061724129151, 0.055065066844396326, -0.8844627271911286, -0.512592226514538, -0.3346768152516308, -0.42627982331075426, 0.24828162439945237, 0.35035853136950834, -0.3376443179464769, -0.1603030551111345, -0.6171678230462069, -0.11909153866659812, -0.16881354867735263, -0.44661630254650825, -0.2993060884623516, -0.7768229532737542, 0.42170719365673176, 0.16839101911182958, -0.12584315544583277, -0.09436680649756336, -0.20416795146987762, 0.38077744437967076, -0.08131405081895346, 0.14340398574918345], \"xaxis\": \"x\", \"y\": [-0.005747413902104659, 0.12453021889355397, 0.2915031203448747, -0.0012363647547658815, 0.5948770298546177, 0.24054958618036534, 0.24194155781222743, 0.640854251738301, -0.2161796287697957, -0.014212860728719764, -0.20386840807802234, -0.2940884908966889, -0.337865891468927, -0.3804845897456777, 0.3981517168108444, 0.20945361502479548, -0.12769376001445928, 0.4815006864698102, 0.6342659051721345, 0.7588275376258731, 0.3981517168108444, 0.10378540558216752, 0.4692680774464634, 0.594877029854617, 0.7794621327696769, 0.6656330296974996, 0.0444024088300445, -0.06259886611786744, 0.0847732018912882, 0.7275354198915289, 0.5798439903961399, -0.1727358884135918, 0.0035367245647183465, 0.22587123322970912, 0.07303965590371554, 0.8554527906146677, -0.33070811479413853, -0.3063448498470417, 0.09468480476064231, -0.19486009318940142, 0.11597219719670271, 0.1891160341639001, 0.28500625500342486, 0.3324357487552768, -0.1862486778125886, -0.5340581232574396, -0.4017843988651061, 0.14034677407330778, -0.47625118557677065, -0.393219646999101, -0.5860808895702094, -0.5743789677122465, -0.3815887736069897], \"yaxis\": \"y\"}, {\"hoverlabel\": {\"namelength\": 0}, \"hovertemplate\": \"color=Medium<br>0=%{x}<br>1=%{y}\", \"legendgroup\": \"Medium\", \"marker\": {\"color\": \"#EF553B\", \"symbol\": \"circle\"}, \"mode\": \"markers\", \"name\": \"Medium\", \"showlegend\": true, \"type\": \"scatter\", \"x\": [-0.3956823296208792, -0.29804783152920866, -0.4033470762424624, -0.46532914447752954, -0.6350993632292672, -0.9005275105412854, -0.9626741868718833, -0.003704346493797916, -0.3618981033756529, -0.1501939242155175, 0.08240428248449815, -0.1933977545251528, 0.08178321670310407, -0.3783043596367858, 0.02386735738760062, 0.005747743350085274, 0.14101352180714014, -0.32175222605246095, 0.1734167216565688, 0.054869704126695076, 0.08982353261219372, 0.2837169706085674, 0.11139845552924843, -0.013304273110419963, 1.4439152895361032, 0.3261586112197976, 0.13112008692036786, 0.17507382133630695, 0.10323300514696045, 0.08197922922731303, 0.10135511761499481, 0.3765859035151655, 0.028061605703233215, 0.3406783598265289, 0.22466971078556225, 0.0786640982853683, 0.13936326358384707, 0.24177181921774563, 0.040141908091576, -0.31366589954085355, 0.1717726766999696, 0.025432379847778293, 0.07939256806569903, -0.07191815427468663, 0.03823547237829472, -0.0626057916234147, 0.08364334900566878, -0.3665731353370376, -0.028988050102396815, 0.2735518354528261, 1.157139634137682, -0.10934801748529577, 0.03143373814290058, 0.09363615913660094, 0.08208463097350706, -0.01051506391196956, 0.4057567051691296, -0.18358243595655166, 0.04298137784503877, -0.25477543055404717, 0.21254008113170206, -0.15299986489481943, 0.053919292212490935, -0.17657969800054604, -0.2297091126282768, -0.19072135933273804, -0.10254799199412054, -0.11238252350188882, 0.17921812004426071, 0.10577265641989855, -0.12437734048110337, -0.7925915750948412, 0.1885041265451212, 0.06891689353528778, -0.5807764605661151, -0.2752163522099619, -0.04342654257991042, -0.40946378907931236, -0.5135179840681499, 0.26243915623634934, 0.30916646014329563, 0.2628701204801707, 0.24744748769752545, 0.20635620651120554, 0.0038102739585492104, -0.003540205477965573, 0.19063723125676377, 0.33090769956305466, 0.2906604089865107, 0.40567291178283105, 0.14547912028073057, 0.24729972079600382, 0.1869465027982523, 0.2148952324113307, 0.3888945949461182, -0.21945825024558827, 0.23018107772797292, -0.27683233048362066, 0.14070190010351002, 0.3163058273779201, -0.1890487436561185, -0.0745827974733508, -0.08671338361263765, -0.24504167474924096, -0.011311394600616627, -0.24504167474924096, 0.3125469196509759, -0.06168296714999479, -0.02775560239752, -0.024281869433000626, 0.28151056492862897, 0.2526659958162811, 0.2859905612380041, 0.09813728895723146, 0.25733184389941693, 0.14637020730186365, 0.330762089322545, 0.16021589244322695, 0.03038387520562255, 0.23892099997685348, 0.18281211104879233, 0.15658326877602666, 0.21916027350605705, 0.2795990404322771, -0.039140395294515025, -0.05739259549343997, -0.08343185492058167, -0.5945492346289583, 0.06493029612244465, 0.20160534596134197, 0.003282705524339104, -0.10490057237745297, 0.18728081416890707, 0.051098807521074804, 0.3238758962234686, 0.01472579008445536, -0.29854828224346275, 0.15214049908995445, 1.156081195896159, 0.6870618198144277, -0.2412437315992485, -0.4030206505667751, -0.3661490975443096, -0.3848085312859643, -1.2144582433053388, -0.3875518995923633, -0.18741868391347502, -0.6352704188573368, -0.4555042835920416, -0.1716492110338067, -0.2625298833957565, -0.05099797325416442, -0.29316817692672414, -0.5838330180366562, -0.36998679755611313, 0.01429058654398854, -0.11362740007516309, -0.13425337895210884, -0.661677258319342, -0.23706273377585277, 0.047094153126545274, -0.5582043596826517, 0.7986524532383522, -0.018161945031453807, 0.07630949461370909, 1.083622150751602, 1.1123713789485021, 0.9589920708580661, -0.20094957229249663, 0.19359411990289396, 0.8872431594996546, 0.10264681008193334, 0.04388451995674229, 0.19603878024103363, -0.0715461842171936, 0.5827676648519035, 0.3668224385064393, -0.049546294983144466, -0.38903860363539366, -0.2457455116229028, 0.30396484895860454, 0.23529721099413156, 0.27945372900078347, 0.11930584867855494, -0.44722254004499923, -0.3568406919873199], \"xaxis\": \"x\", \"y\": [-0.00031062306640423074, -0.0796203085675699, -0.2541654357600827, -0.04746435597068048, -0.2867860117683813, -0.44547597283737417, 0.0592299376349046, -0.0058411038978964, -0.1153695606559932, -0.09321365407860119, 0.17002962661521134, 0.03739743548828487, 0.5179625723567971, -0.16934144517152352, 0.02216529026783143, -0.33373100833029984, -0.18504840278047102, -0.09115801277965693, 0.18749472513064183, 0.19181591111483826, 0.11303298629063009, -0.16846477027358758, -0.02817747241726527, 0.12948701303695612, -0.17763922299517876, -0.18394642069047631, 0.06486957900877707, -0.11253463474736214, -0.15110692455053726, -0.046530251383930875, -0.2356612454944861, -0.497177664506168, -0.02119625483449595, 0.016756506734293814, -0.06036962309645282, -0.09773210699842949, -0.07006395931305369, -0.16858981615251303, -0.0646553808508902, -0.14121036210075635, -0.03752099306586106, 0.06388890181361205, 0.2462820460018531, 0.07739760298165856, -0.08060126113016061, -0.04175533746104642, -0.08022621472046024, 0.259455765797939, -0.040102078876605336, 0.11769596690298706, -0.23003791887395847, 0.22098084557869077, 0.09325124046664028, 0.32861233876167106, 0.23231067268459277, 0.22567467909300704, 0.7225328614146403, -0.16349888114548997, 0.3792057763417684, -0.1557100458399793, 0.4750231548654049, 0.01467171592651219, 0.32600444428915587, -0.1118323638769767, 0.047683573307012554, -0.16325850177732007, 0.10971102930345805, -0.027824548160260847, 0.5864856404001171, -0.14305570513682558, 0.09492871815457074, -0.3784181022430846, 0.10250799935684164, 0.5359357669654011, 0.13578067461760468, 0.09637604554705416, -0.18502874210563527, -0.3129184382597507, -0.2509932336641754, 0.000464768165687655, -0.10075875764270803, -0.023816532816906218, -0.23778943862448337, -0.017658715058068084, 0.11495911454024069, 0.0668932902614894, 0.08681952601170143, 0.18067002753902842, -0.06948907191768958, -0.24966380363713922, -0.14354545829844695, 0.007662664763723663, -0.019226110527212778, 0.14212371145781869, -0.20373341980015558, 0.31360954641144945, 0.1679691476297125, 0.06039043077469529, 0.26739686524769696, -0.3640956500911995, -0.3236103004935013, 0.023922854942796817, -0.06607756071468544, -0.05060304450943398, 0.05195560204717687, -0.05060304450943398, 0.19565504138363415, -0.1942022676149071, -0.09131506481576451, -0.0867906539098792, 0.10878065137571657, 0.05212025070231087, -0.3079228843008459, -0.0008220587099630512, -0.2079362762517136, -0.05945091324402982, -0.32802472124006277, -0.11663349950721498, -0.1990338199219531, -0.23539705079823012, -0.24892908172734368, -0.11323037395310995, -0.23974683612580378, -0.32063915192706866, 0.24009300398381206, 0.13371586868363408, 0.20744845150633215, -0.033870558845086995, 0.5620658152152339, 0.6219991262248061, 0.09382340968999675, 0.18599319742791404, -0.0525909338935033, -0.07621482152746346, 0.14606331594415575, 0.4385042080795354, 0.02142574293944218, 0.1770173930268035, -0.23685374791206953, -0.08343758825298783, 0.1911912686164769, -0.0563211098571665, 0.16305672617047992, -0.16541011876824607, -0.13724301753473286, -0.23301839223967152, -0.6160351613175805, -0.37991582664116375, -0.023581353689572267, 0.17532985748490512, 0.017192021827837967, 0.07218770256717005, 0.11253448785016396, -0.08280137566333814, -0.2521539871520043, -0.21034065144592187, -0.0015795101115126968, 0.0021678091553603003, -0.26911228079002053, 0.08532738126913396, -0.2824469434913243, 0.07315407423525473, -0.18543399224193316, -0.6005105089310537, 0.0645794838269, -0.5058561131321323, -0.4776164845719468, -0.3500787099082769, -0.1474549309663493, -0.3153673681007845, -0.6201648416183712, -0.40027475174055116, -0.11781744585674493, 0.004436155071556328, 0.3071063286923904, 0.022658002272470255, 0.1971953521019795, -0.02419661359719547, -0.38943854744220885, -0.11515221071967896, 0.1359785523236709, 0.1709682695730609, -0.14296476774655467, -0.5644270835772152, 0.040121646809210564, 0.0036484288925473303], \"yaxis\": \"y\"}, {\"hoverlabel\": {\"namelength\": 0}, \"hovertemplate\": \"color=High<br>0=%{x}<br>1=%{y}\", \"legendgroup\": \"High\", \"marker\": {\"color\": \"#00cc96\", \"symbol\": \"circle\"}, \"mode\": \"markers\", \"name\": \"High\", \"showlegend\": true, \"type\": \"scatter\", \"x\": [0.4253545299558194, 0.27281980238435755, 0.4885809706165787, 0.5362945915389683, 0.3186271092224558, 0.252486369860205, 0.41470527139024105, 0.109967019699572, 0.3230214916102367, 0.1817573548099288, 0.1490921755155146, 0.2550915172793112, 0.35202915638639226, 0.41375697113082816, 0.24713693483249555, 0.3379547095467501, 0.09277162131234447, 0.4049451456470707, 0.21459264053801042, 0.5302757150659954, 0.19721120549185475, 0.6384658915939888, 1.1643931163532666, 0.5904872325284385, 0.12349416392959674, 0.8936083453528553], \"xaxis\": \"x\", \"y\": [-0.03877978066509352, -0.16634179327794937, 0.08362244733007776, -0.41607860302870353, 0.04034917208974363, 0.045984470964869496, -0.15450247736041006, 0.06275906872074213, 0.21654864370054955, 0.040154002697433994, 0.04945501670237527, 0.0028028277691372603, 0.12073541050329593, -0.03898738522795149, 0.09514556288989792, 0.14244319446326448, -0.04869557902044058, 0.12014008725712855, 0.1518749176667922, -0.37178252287524094, 0.2020959908548996, 0.4593450392257625, -0.1714881486032442, 0.014853072495148579, 0.23294947063288443, 0.17275998626591269], \"yaxis\": \"y\"}],\n",
       "                        {\"legend\": {\"title\": {\"text\": \"color\"}, \"tracegroupgap\": 0}, \"margin\": {\"t\": 60}, \"template\": {\"data\": {\"bar\": [{\"error_x\": {\"color\": \"#2a3f5f\"}, \"error_y\": {\"color\": \"#2a3f5f\"}, \"marker\": {\"line\": {\"color\": \"#E5ECF6\", \"width\": 0.5}}, \"type\": \"bar\"}], \"barpolar\": [{\"marker\": {\"line\": {\"color\": \"#E5ECF6\", \"width\": 0.5}}, \"type\": \"barpolar\"}], \"carpet\": [{\"aaxis\": {\"endlinecolor\": \"#2a3f5f\", \"gridcolor\": \"white\", \"linecolor\": \"white\", \"minorgridcolor\": \"white\", \"startlinecolor\": \"#2a3f5f\"}, \"baxis\": {\"endlinecolor\": \"#2a3f5f\", \"gridcolor\": \"white\", \"linecolor\": \"white\", \"minorgridcolor\": \"white\", \"startlinecolor\": \"#2a3f5f\"}, \"type\": \"carpet\"}], \"choropleth\": [{\"colorbar\": {\"outlinewidth\": 0, \"ticks\": \"\"}, \"type\": \"choropleth\"}], \"contour\": [{\"colorbar\": {\"outlinewidth\": 0, \"ticks\": \"\"}, \"colorscale\": [[0.0, \"#0d0887\"], [0.1111111111111111, \"#46039f\"], [0.2222222222222222, \"#7201a8\"], [0.3333333333333333, \"#9c179e\"], [0.4444444444444444, \"#bd3786\"], [0.5555555555555556, \"#d8576b\"], [0.6666666666666666, \"#ed7953\"], [0.7777777777777778, \"#fb9f3a\"], [0.8888888888888888, \"#fdca26\"], [1.0, \"#f0f921\"]], \"type\": \"contour\"}], \"contourcarpet\": [{\"colorbar\": {\"outlinewidth\": 0, \"ticks\": \"\"}, \"type\": \"contourcarpet\"}], \"heatmap\": [{\"colorbar\": {\"outlinewidth\": 0, \"ticks\": \"\"}, \"colorscale\": [[0.0, \"#0d0887\"], [0.1111111111111111, \"#46039f\"], [0.2222222222222222, \"#7201a8\"], [0.3333333333333333, \"#9c179e\"], [0.4444444444444444, \"#bd3786\"], [0.5555555555555556, \"#d8576b\"], [0.6666666666666666, \"#ed7953\"], [0.7777777777777778, \"#fb9f3a\"], [0.8888888888888888, \"#fdca26\"], [1.0, \"#f0f921\"]], \"type\": \"heatmap\"}], \"heatmapgl\": [{\"colorbar\": {\"outlinewidth\": 0, \"ticks\": \"\"}, \"colorscale\": [[0.0, \"#0d0887\"], [0.1111111111111111, \"#46039f\"], [0.2222222222222222, \"#7201a8\"], [0.3333333333333333, \"#9c179e\"], [0.4444444444444444, \"#bd3786\"], [0.5555555555555556, \"#d8576b\"], [0.6666666666666666, \"#ed7953\"], [0.7777777777777778, \"#fb9f3a\"], [0.8888888888888888, \"#fdca26\"], [1.0, \"#f0f921\"]], \"type\": \"heatmapgl\"}], \"histogram\": [{\"marker\": {\"colorbar\": {\"outlinewidth\": 0, \"ticks\": \"\"}}, \"type\": \"histogram\"}], \"histogram2d\": [{\"colorbar\": {\"outlinewidth\": 0, \"ticks\": \"\"}, \"colorscale\": [[0.0, \"#0d0887\"], [0.1111111111111111, \"#46039f\"], [0.2222222222222222, \"#7201a8\"], [0.3333333333333333, \"#9c179e\"], [0.4444444444444444, \"#bd3786\"], [0.5555555555555556, \"#d8576b\"], [0.6666666666666666, \"#ed7953\"], [0.7777777777777778, \"#fb9f3a\"], [0.8888888888888888, \"#fdca26\"], [1.0, \"#f0f921\"]], \"type\": \"histogram2d\"}], \"histogram2dcontour\": [{\"colorbar\": {\"outlinewidth\": 0, \"ticks\": \"\"}, \"colorscale\": [[0.0, \"#0d0887\"], [0.1111111111111111, \"#46039f\"], [0.2222222222222222, \"#7201a8\"], [0.3333333333333333, \"#9c179e\"], [0.4444444444444444, \"#bd3786\"], [0.5555555555555556, \"#d8576b\"], [0.6666666666666666, \"#ed7953\"], [0.7777777777777778, \"#fb9f3a\"], [0.8888888888888888, \"#fdca26\"], [1.0, \"#f0f921\"]], \"type\": \"histogram2dcontour\"}], \"mesh3d\": [{\"colorbar\": {\"outlinewidth\": 0, \"ticks\": \"\"}, \"type\": \"mesh3d\"}], \"parcoords\": [{\"line\": {\"colorbar\": {\"outlinewidth\": 0, \"ticks\": \"\"}}, \"type\": \"parcoords\"}], \"pie\": [{\"automargin\": true, \"type\": \"pie\"}], \"scatter\": [{\"marker\": {\"colorbar\": {\"outlinewidth\": 0, \"ticks\": \"\"}}, \"type\": \"scatter\"}], \"scatter3d\": [{\"line\": {\"colorbar\": {\"outlinewidth\": 0, \"ticks\": \"\"}}, \"marker\": {\"colorbar\": {\"outlinewidth\": 0, \"ticks\": \"\"}}, \"type\": \"scatter3d\"}], \"scattercarpet\": [{\"marker\": {\"colorbar\": {\"outlinewidth\": 0, \"ticks\": \"\"}}, \"type\": \"scattercarpet\"}], \"scattergeo\": [{\"marker\": {\"colorbar\": {\"outlinewidth\": 0, \"ticks\": \"\"}}, \"type\": \"scattergeo\"}], \"scattergl\": [{\"marker\": {\"colorbar\": {\"outlinewidth\": 0, \"ticks\": \"\"}}, \"type\": \"scattergl\"}], \"scattermapbox\": [{\"marker\": {\"colorbar\": {\"outlinewidth\": 0, \"ticks\": \"\"}}, \"type\": \"scattermapbox\"}], \"scatterpolar\": [{\"marker\": {\"colorbar\": {\"outlinewidth\": 0, \"ticks\": \"\"}}, \"type\": \"scatterpolar\"}], \"scatterpolargl\": [{\"marker\": {\"colorbar\": {\"outlinewidth\": 0, \"ticks\": \"\"}}, \"type\": \"scatterpolargl\"}], \"scatterternary\": [{\"marker\": {\"colorbar\": {\"outlinewidth\": 0, \"ticks\": \"\"}}, \"type\": \"scatterternary\"}], \"surface\": [{\"colorbar\": {\"outlinewidth\": 0, \"ticks\": \"\"}, \"colorscale\": [[0.0, \"#0d0887\"], [0.1111111111111111, \"#46039f\"], [0.2222222222222222, \"#7201a8\"], [0.3333333333333333, \"#9c179e\"], [0.4444444444444444, \"#bd3786\"], [0.5555555555555556, \"#d8576b\"], [0.6666666666666666, \"#ed7953\"], [0.7777777777777778, \"#fb9f3a\"], [0.8888888888888888, \"#fdca26\"], [1.0, \"#f0f921\"]], \"type\": \"surface\"}], \"table\": [{\"cells\": {\"fill\": {\"color\": \"#EBF0F8\"}, \"line\": {\"color\": \"white\"}}, \"header\": {\"fill\": {\"color\": \"#C8D4E3\"}, \"line\": {\"color\": \"white\"}}, \"type\": \"table\"}]}, \"layout\": {\"annotationdefaults\": {\"arrowcolor\": \"#2a3f5f\", \"arrowhead\": 0, \"arrowwidth\": 1}, \"coloraxis\": {\"colorbar\": {\"outlinewidth\": 0, \"ticks\": \"\"}}, \"colorscale\": {\"diverging\": [[0, \"#8e0152\"], [0.1, \"#c51b7d\"], [0.2, \"#de77ae\"], [0.3, \"#f1b6da\"], [0.4, \"#fde0ef\"], [0.5, \"#f7f7f7\"], [0.6, \"#e6f5d0\"], [0.7, \"#b8e186\"], [0.8, \"#7fbc41\"], [0.9, \"#4d9221\"], [1, \"#276419\"]], \"sequential\": [[0.0, \"#0d0887\"], [0.1111111111111111, \"#46039f\"], [0.2222222222222222, \"#7201a8\"], [0.3333333333333333, \"#9c179e\"], [0.4444444444444444, \"#bd3786\"], [0.5555555555555556, \"#d8576b\"], [0.6666666666666666, \"#ed7953\"], [0.7777777777777778, \"#fb9f3a\"], [0.8888888888888888, \"#fdca26\"], [1.0, \"#f0f921\"]], \"sequentialminus\": [[0.0, \"#0d0887\"], [0.1111111111111111, \"#46039f\"], [0.2222222222222222, \"#7201a8\"], [0.3333333333333333, \"#9c179e\"], [0.4444444444444444, \"#bd3786\"], [0.5555555555555556, \"#d8576b\"], [0.6666666666666666, \"#ed7953\"], [0.7777777777777778, \"#fb9f3a\"], [0.8888888888888888, \"#fdca26\"], [1.0, \"#f0f921\"]]}, \"colorway\": [\"#636efa\", \"#EF553B\", \"#00cc96\", \"#ab63fa\", \"#FFA15A\", \"#19d3f3\", \"#FF6692\", \"#B6E880\", \"#FF97FF\", \"#FECB52\"], \"font\": {\"color\": \"#2a3f5f\"}, \"geo\": {\"bgcolor\": \"white\", \"lakecolor\": \"white\", \"landcolor\": \"#E5ECF6\", \"showlakes\": true, \"showland\": true, \"subunitcolor\": \"white\"}, \"hoverlabel\": {\"align\": \"left\"}, \"hovermode\": \"closest\", \"mapbox\": {\"style\": \"light\"}, \"paper_bgcolor\": \"white\", \"plot_bgcolor\": \"#E5ECF6\", \"polar\": {\"angularaxis\": {\"gridcolor\": \"white\", \"linecolor\": \"white\", \"ticks\": \"\"}, \"bgcolor\": \"#E5ECF6\", \"radialaxis\": {\"gridcolor\": \"white\", \"linecolor\": \"white\", \"ticks\": \"\"}}, \"scene\": {\"xaxis\": {\"backgroundcolor\": \"#E5ECF6\", \"gridcolor\": \"white\", \"gridwidth\": 2, \"linecolor\": \"white\", \"showbackground\": true, \"ticks\": \"\", \"zerolinecolor\": \"white\"}, \"yaxis\": {\"backgroundcolor\": \"#E5ECF6\", \"gridcolor\": \"white\", \"gridwidth\": 2, \"linecolor\": \"white\", \"showbackground\": true, \"ticks\": \"\", \"zerolinecolor\": \"white\"}, \"zaxis\": {\"backgroundcolor\": \"#E5ECF6\", \"gridcolor\": \"white\", \"gridwidth\": 2, \"linecolor\": \"white\", \"showbackground\": true, \"ticks\": \"\", \"zerolinecolor\": \"white\"}}, \"shapedefaults\": {\"line\": {\"color\": \"#2a3f5f\"}}, \"ternary\": {\"aaxis\": {\"gridcolor\": \"white\", \"linecolor\": \"white\", \"ticks\": \"\"}, \"baxis\": {\"gridcolor\": \"white\", \"linecolor\": \"white\", \"ticks\": \"\"}, \"bgcolor\": \"#E5ECF6\", \"caxis\": {\"gridcolor\": \"white\", \"linecolor\": \"white\", \"ticks\": \"\"}}, \"title\": {\"x\": 0.05}, \"xaxis\": {\"automargin\": true, \"gridcolor\": \"white\", \"linecolor\": \"white\", \"ticks\": \"\", \"title\": {\"standoff\": 15}, \"zerolinecolor\": \"white\", \"zerolinewidth\": 2}, \"yaxis\": {\"automargin\": true, \"gridcolor\": \"white\", \"linecolor\": \"white\", \"ticks\": \"\", \"title\": {\"standoff\": 15}, \"zerolinecolor\": \"white\", \"zerolinewidth\": 2}}}, \"xaxis\": {\"anchor\": \"y\", \"domain\": [0.0, 1.0], \"title\": {\"text\": \"0\"}}, \"yaxis\": {\"anchor\": \"x\", \"domain\": [0.0, 1.0], \"title\": {\"text\": \"1\"}}},\n",
       "                        {\"responsive\": true}\n",
       "                    ).then(function(){\n",
       "                            \n",
       "var gd = document.getElementById('f20d1d96-f57f-43e8-b58d-111a84f687e9');\n",
       "var x = new MutationObserver(function (mutations, observer) {{\n",
       "        var display = window.getComputedStyle(gd).display;\n",
       "        if (!display || display === 'none') {{\n",
       "            console.log([gd, 'removed!']);\n",
       "            Plotly.purge(gd);\n",
       "            observer.disconnect();\n",
       "        }}\n",
       "}});\n",
       "\n",
       "// Listen for the removal of the full notebook cells\n",
       "var notebookContainer = gd.closest('#notebook-container');\n",
       "if (notebookContainer) {{\n",
       "    x.observe(notebookContainer, {childList: true});\n",
       "}}\n",
       "\n",
       "// Listen for the clearing of the current output cell\n",
       "var outputEl = gd.closest('.output');\n",
       "if (outputEl) {{\n",
       "    x.observe(outputEl, {childList: true});\n",
       "}}\n",
       "\n",
       "                        })\n",
       "                };\n",
       "                });\n",
       "            </script>\n",
       "        </div>"
      ]
     },
     "metadata": {},
     "output_type": "display_data"
    }
   ],
   "source": [
    "fig = px.scatter(health_pca_3_4, x=0, y=1, color=rate_label)\n",
    "fig.show()"
   ]
  },
  {
   "cell_type": "code",
   "execution_count": 70,
   "metadata": {},
   "outputs": [
    {
     "data": {
      "application/vnd.plotly.v1+json": {
       "config": {
        "plotlyServerURL": "https://plot.ly"
       },
       "data": [
        {
         "diagonal": {
          "visible": false
         },
         "dimensions": [
          {
           "axis": {
            "matches": true
           },
           "label": "PC 1 (46.8%)",
           "values": [
            -0.3596822671579932,
            -0.24100026595041732,
            -0.42780174737776117,
            -0.602084142848744,
            0.07568878399465494,
            -0.4135488596055743,
            -0.22824206365532854,
            -0.3186405318753432,
            -0.7469811592789132,
            -0.6897280806514241,
            -1.0780752909563598,
            -0.8154743603677128,
            -0.9041768293823437,
            -0.6757931723828603,
            -0.41582520597477873,
            -0.5830136926822893,
            -0.8248592592026841,
            -0.11896543573043317,
            -0.008691267660467438,
            0.1191809124306872,
            -0.41582520597477873,
            -0.6055943421316133,
            0.14119909477156586,
            0.07568878399465531,
            0.3655703820521386,
            0.1428024831426326,
            -0.1449625745415258,
            0.20170167584565668,
            -0.1666858486632894,
            0.2478061724129151,
            0.055065066844396326,
            -0.8844627271911286,
            -0.512592226514538,
            -0.3346768152516308,
            -0.42627982331075426,
            0.24828162439945237,
            0.35035853136950834,
            -0.3376443179464769,
            -0.1603030551111345,
            -0.6171678230462069,
            -0.11909153866659812,
            -0.16881354867735263,
            -0.44661630254650825,
            -0.2993060884623516,
            -0.7768229532737542,
            0.42170719365673176,
            0.16839101911182958,
            -0.12584315544583277,
            -0.09436680649756336,
            -0.20416795146987762,
            0.38077744437967076,
            -0.08131405081895346,
            0.14340398574918345
           ]
          },
          {
           "axis": {
            "matches": true
           },
           "label": "PC 2 (23.8%)",
           "values": [
            -0.005747413902104659,
            0.12453021889355397,
            0.2915031203448747,
            -0.0012363647547658815,
            0.5948770298546177,
            0.24054958618036534,
            0.24194155781222743,
            0.640854251738301,
            -0.2161796287697957,
            -0.014212860728719764,
            -0.20386840807802234,
            -0.2940884908966889,
            -0.337865891468927,
            -0.3804845897456777,
            0.3981517168108444,
            0.20945361502479548,
            -0.12769376001445928,
            0.4815006864698102,
            0.6342659051721345,
            0.7588275376258731,
            0.3981517168108444,
            0.10378540558216752,
            0.4692680774464634,
            0.594877029854617,
            0.7794621327696769,
            0.6656330296974996,
            0.0444024088300445,
            -0.06259886611786744,
            0.0847732018912882,
            0.7275354198915289,
            0.5798439903961399,
            -0.1727358884135918,
            0.0035367245647183465,
            0.22587123322970912,
            0.07303965590371554,
            0.8554527906146677,
            -0.33070811479413853,
            -0.3063448498470417,
            0.09468480476064231,
            -0.19486009318940142,
            0.11597219719670271,
            0.1891160341639001,
            0.28500625500342486,
            0.3324357487552768,
            -0.1862486778125886,
            -0.5340581232574396,
            -0.4017843988651061,
            0.14034677407330778,
            -0.47625118557677065,
            -0.393219646999101,
            -0.5860808895702094,
            -0.5743789677122465,
            -0.3815887736069897
           ]
          }
         ],
         "hoverlabel": {
          "namelength": 0
         },
         "hovertemplate": "color=low<br>%{xaxis.title.text}=%{x}<br>%{yaxis.title.text}=%{y}",
         "legendgroup": "low",
         "marker": {
          "color": "#636efa",
          "symbol": "circle"
         },
         "name": "low",
         "showlegend": true,
         "type": "splom"
        },
        {
         "diagonal": {
          "visible": false
         },
         "dimensions": [
          {
           "axis": {
            "matches": true
           },
           "label": "PC 1 (46.8%)",
           "values": [
            -0.3956823296208792,
            -0.29804783152920866,
            -0.4033470762424624,
            -0.46532914447752954,
            -0.6350993632292672,
            -0.9005275105412854,
            -0.9626741868718833,
            -0.003704346493797916,
            -0.3618981033756529,
            -0.1501939242155175,
            0.08240428248449815,
            -0.1933977545251528,
            0.08178321670310407,
            -0.3783043596367858,
            0.02386735738760062,
            0.005747743350085274,
            0.14101352180714014,
            -0.32175222605246095,
            0.1734167216565688,
            0.054869704126695076,
            0.08982353261219372,
            0.2837169706085674,
            0.11139845552924843,
            -0.013304273110419963,
            1.4439152895361032,
            0.3261586112197976,
            0.13112008692036786,
            0.17507382133630695,
            0.10323300514696045,
            0.08197922922731303,
            0.10135511761499481,
            0.3765859035151655,
            0.028061605703233215,
            0.3406783598265289,
            0.22466971078556225,
            0.0786640982853683,
            0.13936326358384707,
            0.24177181921774563,
            0.040141908091576,
            -0.31366589954085355,
            0.1717726766999696,
            0.025432379847778293,
            0.07939256806569903,
            -0.07191815427468663,
            0.03823547237829472,
            -0.0626057916234147,
            0.08364334900566878,
            -0.3665731353370376,
            -0.028988050102396815,
            0.2735518354528261,
            1.157139634137682,
            -0.10934801748529577,
            0.03143373814290058,
            0.09363615913660094,
            0.08208463097350706,
            -0.01051506391196956,
            0.4057567051691296,
            -0.18358243595655166,
            0.04298137784503877,
            -0.25477543055404717,
            0.21254008113170206,
            -0.15299986489481943,
            0.053919292212490935,
            -0.17657969800054604,
            -0.2297091126282768,
            -0.19072135933273804,
            -0.10254799199412054,
            -0.11238252350188882,
            0.17921812004426071,
            0.10577265641989855,
            -0.12437734048110337,
            -0.7925915750948412,
            0.1885041265451212,
            0.06891689353528778,
            -0.5807764605661151,
            -0.2752163522099619,
            -0.04342654257991042,
            -0.40946378907931236,
            -0.5135179840681499,
            0.26243915623634934,
            0.30916646014329563,
            0.2628701204801707,
            0.24744748769752545,
            0.20635620651120554,
            0.0038102739585492104,
            -0.003540205477965573,
            0.19063723125676377,
            0.33090769956305466,
            0.2906604089865107,
            0.40567291178283105,
            0.14547912028073057,
            0.24729972079600382,
            0.1869465027982523,
            0.2148952324113307,
            0.3888945949461182,
            -0.21945825024558827,
            0.23018107772797292,
            -0.27683233048362066,
            0.14070190010351002,
            0.3163058273779201,
            -0.1890487436561185,
            -0.0745827974733508,
            -0.08671338361263765,
            -0.24504167474924096,
            -0.011311394600616627,
            -0.24504167474924096,
            0.3125469196509759,
            -0.06168296714999479,
            -0.02775560239752,
            -0.024281869433000626,
            0.28151056492862897,
            0.2526659958162811,
            0.2859905612380041,
            0.09813728895723146,
            0.25733184389941693,
            0.14637020730186365,
            0.330762089322545,
            0.16021589244322695,
            0.03038387520562255,
            0.23892099997685348,
            0.18281211104879233,
            0.15658326877602666,
            0.21916027350605705,
            0.2795990404322771,
            -0.039140395294515025,
            -0.05739259549343997,
            -0.08343185492058167,
            -0.5945492346289583,
            0.06493029612244465,
            0.20160534596134197,
            0.003282705524339104,
            -0.10490057237745297,
            0.18728081416890707,
            0.051098807521074804,
            0.3238758962234686,
            0.01472579008445536,
            -0.29854828224346275,
            0.15214049908995445,
            1.156081195896159,
            0.6870618198144277,
            -0.2412437315992485,
            -0.4030206505667751,
            -0.3661490975443096,
            -0.3848085312859643,
            -1.2144582433053388,
            -0.3875518995923633,
            -0.18741868391347502,
            -0.6352704188573368,
            -0.4555042835920416,
            -0.1716492110338067,
            -0.2625298833957565,
            -0.05099797325416442,
            -0.29316817692672414,
            -0.5838330180366562,
            -0.36998679755611313,
            0.01429058654398854,
            -0.11362740007516309,
            -0.13425337895210884,
            -0.661677258319342,
            -0.23706273377585277,
            0.047094153126545274,
            -0.5582043596826517,
            0.7986524532383522,
            -0.018161945031453807,
            0.07630949461370909,
            1.083622150751602,
            1.1123713789485021,
            0.9589920708580661,
            -0.20094957229249663,
            0.19359411990289396,
            0.8872431594996546,
            0.10264681008193334,
            0.04388451995674229,
            0.19603878024103363,
            -0.0715461842171936,
            0.5827676648519035,
            0.3668224385064393,
            -0.049546294983144466,
            -0.38903860363539366,
            -0.2457455116229028,
            0.30396484895860454,
            0.23529721099413156,
            0.27945372900078347,
            0.11930584867855494,
            -0.44722254004499923,
            -0.3568406919873199
           ]
          },
          {
           "axis": {
            "matches": true
           },
           "label": "PC 2 (23.8%)",
           "values": [
            -0.00031062306640423074,
            -0.0796203085675699,
            -0.2541654357600827,
            -0.04746435597068048,
            -0.2867860117683813,
            -0.44547597283737417,
            0.0592299376349046,
            -0.0058411038978964,
            -0.1153695606559932,
            -0.09321365407860119,
            0.17002962661521134,
            0.03739743548828487,
            0.5179625723567971,
            -0.16934144517152352,
            0.02216529026783143,
            -0.33373100833029984,
            -0.18504840278047102,
            -0.09115801277965693,
            0.18749472513064183,
            0.19181591111483826,
            0.11303298629063009,
            -0.16846477027358758,
            -0.02817747241726527,
            0.12948701303695612,
            -0.17763922299517876,
            -0.18394642069047631,
            0.06486957900877707,
            -0.11253463474736214,
            -0.15110692455053726,
            -0.046530251383930875,
            -0.2356612454944861,
            -0.497177664506168,
            -0.02119625483449595,
            0.016756506734293814,
            -0.06036962309645282,
            -0.09773210699842949,
            -0.07006395931305369,
            -0.16858981615251303,
            -0.0646553808508902,
            -0.14121036210075635,
            -0.03752099306586106,
            0.06388890181361205,
            0.2462820460018531,
            0.07739760298165856,
            -0.08060126113016061,
            -0.04175533746104642,
            -0.08022621472046024,
            0.259455765797939,
            -0.040102078876605336,
            0.11769596690298706,
            -0.23003791887395847,
            0.22098084557869077,
            0.09325124046664028,
            0.32861233876167106,
            0.23231067268459277,
            0.22567467909300704,
            0.7225328614146403,
            -0.16349888114548997,
            0.3792057763417684,
            -0.1557100458399793,
            0.4750231548654049,
            0.01467171592651219,
            0.32600444428915587,
            -0.1118323638769767,
            0.047683573307012554,
            -0.16325850177732007,
            0.10971102930345805,
            -0.027824548160260847,
            0.5864856404001171,
            -0.14305570513682558,
            0.09492871815457074,
            -0.3784181022430846,
            0.10250799935684164,
            0.5359357669654011,
            0.13578067461760468,
            0.09637604554705416,
            -0.18502874210563527,
            -0.3129184382597507,
            -0.2509932336641754,
            0.000464768165687655,
            -0.10075875764270803,
            -0.023816532816906218,
            -0.23778943862448337,
            -0.017658715058068084,
            0.11495911454024069,
            0.0668932902614894,
            0.08681952601170143,
            0.18067002753902842,
            -0.06948907191768958,
            -0.24966380363713922,
            -0.14354545829844695,
            0.007662664763723663,
            -0.019226110527212778,
            0.14212371145781869,
            -0.20373341980015558,
            0.31360954641144945,
            0.1679691476297125,
            0.06039043077469529,
            0.26739686524769696,
            -0.3640956500911995,
            -0.3236103004935013,
            0.023922854942796817,
            -0.06607756071468544,
            -0.05060304450943398,
            0.05195560204717687,
            -0.05060304450943398,
            0.19565504138363415,
            -0.1942022676149071,
            -0.09131506481576451,
            -0.0867906539098792,
            0.10878065137571657,
            0.05212025070231087,
            -0.3079228843008459,
            -0.0008220587099630512,
            -0.2079362762517136,
            -0.05945091324402982,
            -0.32802472124006277,
            -0.11663349950721498,
            -0.1990338199219531,
            -0.23539705079823012,
            -0.24892908172734368,
            -0.11323037395310995,
            -0.23974683612580378,
            -0.32063915192706866,
            0.24009300398381206,
            0.13371586868363408,
            0.20744845150633215,
            -0.033870558845086995,
            0.5620658152152339,
            0.6219991262248061,
            0.09382340968999675,
            0.18599319742791404,
            -0.0525909338935033,
            -0.07621482152746346,
            0.14606331594415575,
            0.4385042080795354,
            0.02142574293944218,
            0.1770173930268035,
            -0.23685374791206953,
            -0.08343758825298783,
            0.1911912686164769,
            -0.0563211098571665,
            0.16305672617047992,
            -0.16541011876824607,
            -0.13724301753473286,
            -0.23301839223967152,
            -0.6160351613175805,
            -0.37991582664116375,
            -0.023581353689572267,
            0.17532985748490512,
            0.017192021827837967,
            0.07218770256717005,
            0.11253448785016396,
            -0.08280137566333814,
            -0.2521539871520043,
            -0.21034065144592187,
            -0.0015795101115126968,
            0.0021678091553603003,
            -0.26911228079002053,
            0.08532738126913396,
            -0.2824469434913243,
            0.07315407423525473,
            -0.18543399224193316,
            -0.6005105089310537,
            0.0645794838269,
            -0.5058561131321323,
            -0.4776164845719468,
            -0.3500787099082769,
            -0.1474549309663493,
            -0.3153673681007845,
            -0.6201648416183712,
            -0.40027475174055116,
            -0.11781744585674493,
            0.004436155071556328,
            0.3071063286923904,
            0.022658002272470255,
            0.1971953521019795,
            -0.02419661359719547,
            -0.38943854744220885,
            -0.11515221071967896,
            0.1359785523236709,
            0.1709682695730609,
            -0.14296476774655467,
            -0.5644270835772152,
            0.040121646809210564,
            0.0036484288925473303
           ]
          }
         ],
         "hoverlabel": {
          "namelength": 0
         },
         "hovertemplate": "color=Medium<br>%{xaxis.title.text}=%{x}<br>%{yaxis.title.text}=%{y}",
         "legendgroup": "Medium",
         "marker": {
          "color": "#EF553B",
          "symbol": "circle"
         },
         "name": "Medium",
         "showlegend": true,
         "type": "splom"
        },
        {
         "diagonal": {
          "visible": false
         },
         "dimensions": [
          {
           "axis": {
            "matches": true
           },
           "label": "PC 1 (46.8%)",
           "values": [
            0.4253545299558194,
            0.27281980238435755,
            0.4885809706165787,
            0.5362945915389683,
            0.3186271092224558,
            0.252486369860205,
            0.41470527139024105,
            0.109967019699572,
            0.3230214916102367,
            0.1817573548099288,
            0.1490921755155146,
            0.2550915172793112,
            0.35202915638639226,
            0.41375697113082816,
            0.24713693483249555,
            0.3379547095467501,
            0.09277162131234447,
            0.4049451456470707,
            0.21459264053801042,
            0.5302757150659954,
            0.19721120549185475,
            0.6384658915939888,
            1.1643931163532666,
            0.5904872325284385,
            0.12349416392959674,
            0.8936083453528553
           ]
          },
          {
           "axis": {
            "matches": true
           },
           "label": "PC 2 (23.8%)",
           "values": [
            -0.03877978066509352,
            -0.16634179327794937,
            0.08362244733007776,
            -0.41607860302870353,
            0.04034917208974363,
            0.045984470964869496,
            -0.15450247736041006,
            0.06275906872074213,
            0.21654864370054955,
            0.040154002697433994,
            0.04945501670237527,
            0.0028028277691372603,
            0.12073541050329593,
            -0.03898738522795149,
            0.09514556288989792,
            0.14244319446326448,
            -0.04869557902044058,
            0.12014008725712855,
            0.1518749176667922,
            -0.37178252287524094,
            0.2020959908548996,
            0.4593450392257625,
            -0.1714881486032442,
            0.014853072495148579,
            0.23294947063288443,
            0.17275998626591269
           ]
          }
         ],
         "hoverlabel": {
          "namelength": 0
         },
         "hovertemplate": "color=High<br>%{xaxis.title.text}=%{x}<br>%{yaxis.title.text}=%{y}",
         "legendgroup": "High",
         "marker": {
          "color": "#00cc96",
          "symbol": "circle"
         },
         "name": "High",
         "showlegend": true,
         "type": "splom"
        }
       ],
       "layout": {
        "autosize": true,
        "dragmode": "select",
        "legend": {
         "title": {
          "text": "color"
         },
         "tracegroupgap": 0
        },
        "margin": {
         "t": 60
        },
        "template": {
         "data": {
          "bar": [
           {
            "error_x": {
             "color": "#2a3f5f"
            },
            "error_y": {
             "color": "#2a3f5f"
            },
            "marker": {
             "line": {
              "color": "#E5ECF6",
              "width": 0.5
             }
            },
            "type": "bar"
           }
          ],
          "barpolar": [
           {
            "marker": {
             "line": {
              "color": "#E5ECF6",
              "width": 0.5
             }
            },
            "type": "barpolar"
           }
          ],
          "carpet": [
           {
            "aaxis": {
             "endlinecolor": "#2a3f5f",
             "gridcolor": "white",
             "linecolor": "white",
             "minorgridcolor": "white",
             "startlinecolor": "#2a3f5f"
            },
            "baxis": {
             "endlinecolor": "#2a3f5f",
             "gridcolor": "white",
             "linecolor": "white",
             "minorgridcolor": "white",
             "startlinecolor": "#2a3f5f"
            },
            "type": "carpet"
           }
          ],
          "choropleth": [
           {
            "colorbar": {
             "outlinewidth": 0,
             "ticks": ""
            },
            "type": "choropleth"
           }
          ],
          "contour": [
           {
            "colorbar": {
             "outlinewidth": 0,
             "ticks": ""
            },
            "colorscale": [
             [
              0,
              "#0d0887"
             ],
             [
              0.1111111111111111,
              "#46039f"
             ],
             [
              0.2222222222222222,
              "#7201a8"
             ],
             [
              0.3333333333333333,
              "#9c179e"
             ],
             [
              0.4444444444444444,
              "#bd3786"
             ],
             [
              0.5555555555555556,
              "#d8576b"
             ],
             [
              0.6666666666666666,
              "#ed7953"
             ],
             [
              0.7777777777777778,
              "#fb9f3a"
             ],
             [
              0.8888888888888888,
              "#fdca26"
             ],
             [
              1,
              "#f0f921"
             ]
            ],
            "type": "contour"
           }
          ],
          "contourcarpet": [
           {
            "colorbar": {
             "outlinewidth": 0,
             "ticks": ""
            },
            "type": "contourcarpet"
           }
          ],
          "heatmap": [
           {
            "colorbar": {
             "outlinewidth": 0,
             "ticks": ""
            },
            "colorscale": [
             [
              0,
              "#0d0887"
             ],
             [
              0.1111111111111111,
              "#46039f"
             ],
             [
              0.2222222222222222,
              "#7201a8"
             ],
             [
              0.3333333333333333,
              "#9c179e"
             ],
             [
              0.4444444444444444,
              "#bd3786"
             ],
             [
              0.5555555555555556,
              "#d8576b"
             ],
             [
              0.6666666666666666,
              "#ed7953"
             ],
             [
              0.7777777777777778,
              "#fb9f3a"
             ],
             [
              0.8888888888888888,
              "#fdca26"
             ],
             [
              1,
              "#f0f921"
             ]
            ],
            "type": "heatmap"
           }
          ],
          "heatmapgl": [
           {
            "colorbar": {
             "outlinewidth": 0,
             "ticks": ""
            },
            "colorscale": [
             [
              0,
              "#0d0887"
             ],
             [
              0.1111111111111111,
              "#46039f"
             ],
             [
              0.2222222222222222,
              "#7201a8"
             ],
             [
              0.3333333333333333,
              "#9c179e"
             ],
             [
              0.4444444444444444,
              "#bd3786"
             ],
             [
              0.5555555555555556,
              "#d8576b"
             ],
             [
              0.6666666666666666,
              "#ed7953"
             ],
             [
              0.7777777777777778,
              "#fb9f3a"
             ],
             [
              0.8888888888888888,
              "#fdca26"
             ],
             [
              1,
              "#f0f921"
             ]
            ],
            "type": "heatmapgl"
           }
          ],
          "histogram": [
           {
            "marker": {
             "colorbar": {
              "outlinewidth": 0,
              "ticks": ""
             }
            },
            "type": "histogram"
           }
          ],
          "histogram2d": [
           {
            "colorbar": {
             "outlinewidth": 0,
             "ticks": ""
            },
            "colorscale": [
             [
              0,
              "#0d0887"
             ],
             [
              0.1111111111111111,
              "#46039f"
             ],
             [
              0.2222222222222222,
              "#7201a8"
             ],
             [
              0.3333333333333333,
              "#9c179e"
             ],
             [
              0.4444444444444444,
              "#bd3786"
             ],
             [
              0.5555555555555556,
              "#d8576b"
             ],
             [
              0.6666666666666666,
              "#ed7953"
             ],
             [
              0.7777777777777778,
              "#fb9f3a"
             ],
             [
              0.8888888888888888,
              "#fdca26"
             ],
             [
              1,
              "#f0f921"
             ]
            ],
            "type": "histogram2d"
           }
          ],
          "histogram2dcontour": [
           {
            "colorbar": {
             "outlinewidth": 0,
             "ticks": ""
            },
            "colorscale": [
             [
              0,
              "#0d0887"
             ],
             [
              0.1111111111111111,
              "#46039f"
             ],
             [
              0.2222222222222222,
              "#7201a8"
             ],
             [
              0.3333333333333333,
              "#9c179e"
             ],
             [
              0.4444444444444444,
              "#bd3786"
             ],
             [
              0.5555555555555556,
              "#d8576b"
             ],
             [
              0.6666666666666666,
              "#ed7953"
             ],
             [
              0.7777777777777778,
              "#fb9f3a"
             ],
             [
              0.8888888888888888,
              "#fdca26"
             ],
             [
              1,
              "#f0f921"
             ]
            ],
            "type": "histogram2dcontour"
           }
          ],
          "mesh3d": [
           {
            "colorbar": {
             "outlinewidth": 0,
             "ticks": ""
            },
            "type": "mesh3d"
           }
          ],
          "parcoords": [
           {
            "line": {
             "colorbar": {
              "outlinewidth": 0,
              "ticks": ""
             }
            },
            "type": "parcoords"
           }
          ],
          "pie": [
           {
            "automargin": true,
            "type": "pie"
           }
          ],
          "scatter": [
           {
            "marker": {
             "colorbar": {
              "outlinewidth": 0,
              "ticks": ""
             }
            },
            "type": "scatter"
           }
          ],
          "scatter3d": [
           {
            "line": {
             "colorbar": {
              "outlinewidth": 0,
              "ticks": ""
             }
            },
            "marker": {
             "colorbar": {
              "outlinewidth": 0,
              "ticks": ""
             }
            },
            "type": "scatter3d"
           }
          ],
          "scattercarpet": [
           {
            "marker": {
             "colorbar": {
              "outlinewidth": 0,
              "ticks": ""
             }
            },
            "type": "scattercarpet"
           }
          ],
          "scattergeo": [
           {
            "marker": {
             "colorbar": {
              "outlinewidth": 0,
              "ticks": ""
             }
            },
            "type": "scattergeo"
           }
          ],
          "scattergl": [
           {
            "marker": {
             "colorbar": {
              "outlinewidth": 0,
              "ticks": ""
             }
            },
            "type": "scattergl"
           }
          ],
          "scattermapbox": [
           {
            "marker": {
             "colorbar": {
              "outlinewidth": 0,
              "ticks": ""
             }
            },
            "type": "scattermapbox"
           }
          ],
          "scatterpolar": [
           {
            "marker": {
             "colorbar": {
              "outlinewidth": 0,
              "ticks": ""
             }
            },
            "type": "scatterpolar"
           }
          ],
          "scatterpolargl": [
           {
            "marker": {
             "colorbar": {
              "outlinewidth": 0,
              "ticks": ""
             }
            },
            "type": "scatterpolargl"
           }
          ],
          "scatterternary": [
           {
            "marker": {
             "colorbar": {
              "outlinewidth": 0,
              "ticks": ""
             }
            },
            "type": "scatterternary"
           }
          ],
          "surface": [
           {
            "colorbar": {
             "outlinewidth": 0,
             "ticks": ""
            },
            "colorscale": [
             [
              0,
              "#0d0887"
             ],
             [
              0.1111111111111111,
              "#46039f"
             ],
             [
              0.2222222222222222,
              "#7201a8"
             ],
             [
              0.3333333333333333,
              "#9c179e"
             ],
             [
              0.4444444444444444,
              "#bd3786"
             ],
             [
              0.5555555555555556,
              "#d8576b"
             ],
             [
              0.6666666666666666,
              "#ed7953"
             ],
             [
              0.7777777777777778,
              "#fb9f3a"
             ],
             [
              0.8888888888888888,
              "#fdca26"
             ],
             [
              1,
              "#f0f921"
             ]
            ],
            "type": "surface"
           }
          ],
          "table": [
           {
            "cells": {
             "fill": {
              "color": "#EBF0F8"
             },
             "line": {
              "color": "white"
             }
            },
            "header": {
             "fill": {
              "color": "#C8D4E3"
             },
             "line": {
              "color": "white"
             }
            },
            "type": "table"
           }
          ]
         },
         "layout": {
          "annotationdefaults": {
           "arrowcolor": "#2a3f5f",
           "arrowhead": 0,
           "arrowwidth": 1
          },
          "coloraxis": {
           "colorbar": {
            "outlinewidth": 0,
            "ticks": ""
           }
          },
          "colorscale": {
           "diverging": [
            [
             0,
             "#8e0152"
            ],
            [
             0.1,
             "#c51b7d"
            ],
            [
             0.2,
             "#de77ae"
            ],
            [
             0.3,
             "#f1b6da"
            ],
            [
             0.4,
             "#fde0ef"
            ],
            [
             0.5,
             "#f7f7f7"
            ],
            [
             0.6,
             "#e6f5d0"
            ],
            [
             0.7,
             "#b8e186"
            ],
            [
             0.8,
             "#7fbc41"
            ],
            [
             0.9,
             "#4d9221"
            ],
            [
             1,
             "#276419"
            ]
           ],
           "sequential": [
            [
             0,
             "#0d0887"
            ],
            [
             0.1111111111111111,
             "#46039f"
            ],
            [
             0.2222222222222222,
             "#7201a8"
            ],
            [
             0.3333333333333333,
             "#9c179e"
            ],
            [
             0.4444444444444444,
             "#bd3786"
            ],
            [
             0.5555555555555556,
             "#d8576b"
            ],
            [
             0.6666666666666666,
             "#ed7953"
            ],
            [
             0.7777777777777778,
             "#fb9f3a"
            ],
            [
             0.8888888888888888,
             "#fdca26"
            ],
            [
             1,
             "#f0f921"
            ]
           ],
           "sequentialminus": [
            [
             0,
             "#0d0887"
            ],
            [
             0.1111111111111111,
             "#46039f"
            ],
            [
             0.2222222222222222,
             "#7201a8"
            ],
            [
             0.3333333333333333,
             "#9c179e"
            ],
            [
             0.4444444444444444,
             "#bd3786"
            ],
            [
             0.5555555555555556,
             "#d8576b"
            ],
            [
             0.6666666666666666,
             "#ed7953"
            ],
            [
             0.7777777777777778,
             "#fb9f3a"
            ],
            [
             0.8888888888888888,
             "#fdca26"
            ],
            [
             1,
             "#f0f921"
            ]
           ]
          },
          "colorway": [
           "#636efa",
           "#EF553B",
           "#00cc96",
           "#ab63fa",
           "#FFA15A",
           "#19d3f3",
           "#FF6692",
           "#B6E880",
           "#FF97FF",
           "#FECB52"
          ],
          "font": {
           "color": "#2a3f5f"
          },
          "geo": {
           "bgcolor": "white",
           "lakecolor": "white",
           "landcolor": "#E5ECF6",
           "showlakes": true,
           "showland": true,
           "subunitcolor": "white"
          },
          "hoverlabel": {
           "align": "left"
          },
          "hovermode": "closest",
          "mapbox": {
           "style": "light"
          },
          "paper_bgcolor": "white",
          "plot_bgcolor": "#E5ECF6",
          "polar": {
           "angularaxis": {
            "gridcolor": "white",
            "linecolor": "white",
            "ticks": ""
           },
           "bgcolor": "#E5ECF6",
           "radialaxis": {
            "gridcolor": "white",
            "linecolor": "white",
            "ticks": ""
           }
          },
          "scene": {
           "xaxis": {
            "backgroundcolor": "#E5ECF6",
            "gridcolor": "white",
            "gridwidth": 2,
            "linecolor": "white",
            "showbackground": true,
            "ticks": "",
            "zerolinecolor": "white"
           },
           "yaxis": {
            "backgroundcolor": "#E5ECF6",
            "gridcolor": "white",
            "gridwidth": 2,
            "linecolor": "white",
            "showbackground": true,
            "ticks": "",
            "zerolinecolor": "white"
           },
           "zaxis": {
            "backgroundcolor": "#E5ECF6",
            "gridcolor": "white",
            "gridwidth": 2,
            "linecolor": "white",
            "showbackground": true,
            "ticks": "",
            "zerolinecolor": "white"
           }
          },
          "shapedefaults": {
           "line": {
            "color": "#2a3f5f"
           }
          },
          "ternary": {
           "aaxis": {
            "gridcolor": "white",
            "linecolor": "white",
            "ticks": ""
           },
           "baxis": {
            "gridcolor": "white",
            "linecolor": "white",
            "ticks": ""
           },
           "bgcolor": "#E5ECF6",
           "caxis": {
            "gridcolor": "white",
            "linecolor": "white",
            "ticks": ""
           }
          },
          "title": {
           "x": 0.05
          },
          "xaxis": {
           "automargin": true,
           "gridcolor": "white",
           "linecolor": "white",
           "ticks": "",
           "title": {
            "standoff": 15
           },
           "zerolinecolor": "white",
           "zerolinewidth": 2
          },
          "yaxis": {
           "automargin": true,
           "gridcolor": "white",
           "linecolor": "white",
           "ticks": "",
           "title": {
            "standoff": 15
           },
           "zerolinecolor": "white",
           "zerolinewidth": 2
          }
         }
        },
        "xaxis": {
         "autorange": true,
         "range": [
          -1.451001296734232,
          1.6804583429649964
         ],
         "type": "linear"
        },
        "xaxis2": {
         "autorange": true,
         "range": [
          -0.751465840559943,
          0.9867537895562396
         ],
         "type": "linear"
        },
        "yaxis": {
         "autorange": true,
         "range": [
          -1.451001296734232,
          1.6804583429649964
         ],
         "type": "linear"
        },
        "yaxis2": {
         "autorange": true,
         "range": [
          -0.751465840559943,
          0.9867537895562396
         ],
         "type": "linear"
        }
       }
      },
      "image/png": "[encoded data removed]",
      "text/html": [
       "<div>\n",
       "        \n",
       "        \n",
       "            <div id=\"8fef07d8-9d2d-45a4-82dc-f93d23ca4f91\" class=\"plotly-graph-div\" style=\"height:525px; width:100%;\"></div>\n",
       "            <script type=\"text/javascript\">\n",
       "                require([\"plotly\"], function(Plotly) {\n",
       "                    window.PLOTLYENV=window.PLOTLYENV || {};\n",
       "                    \n",
       "                if (document.getElementById(\"8fef07d8-9d2d-45a4-82dc-f93d23ca4f91\")) {\n",
       "                    Plotly.newPlot(\n",
       "                        '8fef07d8-9d2d-45a4-82dc-f93d23ca4f91',\n",
       "                        [{\"diagonal\": {\"visible\": false}, \"dimensions\": [{\"axis\": {\"matches\": true}, \"label\": \"PC 1 (46.8%)\", \"values\": [-0.3596822671579932, -0.24100026595041732, -0.42780174737776117, -0.602084142848744, 0.07568878399465494, -0.4135488596055743, -0.22824206365532854, -0.3186405318753432, -0.7469811592789132, -0.6897280806514241, -1.0780752909563598, -0.8154743603677128, -0.9041768293823437, -0.6757931723828603, -0.41582520597477873, -0.5830136926822893, -0.8248592592026841, -0.11896543573043317, -0.008691267660467438, 0.1191809124306872, -0.41582520597477873, -0.6055943421316133, 0.14119909477156586, 0.07568878399465531, 0.3655703820521386, 0.1428024831426326, -0.1449625745415258, 0.20170167584565668, -0.1666858486632894, 0.2478061724129151, 0.055065066844396326, -0.8844627271911286, -0.512592226514538, -0.3346768152516308, -0.42627982331075426, 0.24828162439945237, 0.35035853136950834, -0.3376443179464769, -0.1603030551111345, -0.6171678230462069, -0.11909153866659812, -0.16881354867735263, -0.44661630254650825, -0.2993060884623516, -0.7768229532737542, 0.42170719365673176, 0.16839101911182958, -0.12584315544583277, -0.09436680649756336, -0.20416795146987762, 0.38077744437967076, -0.08131405081895346, 0.14340398574918345]}, {\"axis\": {\"matches\": true}, \"label\": \"PC 2 (23.8%)\", \"values\": [-0.005747413902104659, 0.12453021889355397, 0.2915031203448747, -0.0012363647547658815, 0.5948770298546177, 0.24054958618036534, 0.24194155781222743, 0.640854251738301, -0.2161796287697957, -0.014212860728719764, -0.20386840807802234, -0.2940884908966889, -0.337865891468927, -0.3804845897456777, 0.3981517168108444, 0.20945361502479548, -0.12769376001445928, 0.4815006864698102, 0.6342659051721345, 0.7588275376258731, 0.3981517168108444, 0.10378540558216752, 0.4692680774464634, 0.594877029854617, 0.7794621327696769, 0.6656330296974996, 0.0444024088300445, -0.06259886611786744, 0.0847732018912882, 0.7275354198915289, 0.5798439903961399, -0.1727358884135918, 0.0035367245647183465, 0.22587123322970912, 0.07303965590371554, 0.8554527906146677, -0.33070811479413853, -0.3063448498470417, 0.09468480476064231, -0.19486009318940142, 0.11597219719670271, 0.1891160341639001, 0.28500625500342486, 0.3324357487552768, -0.1862486778125886, -0.5340581232574396, -0.4017843988651061, 0.14034677407330778, -0.47625118557677065, -0.393219646999101, -0.5860808895702094, -0.5743789677122465, -0.3815887736069897]}], \"hoverlabel\": {\"namelength\": 0}, \"hovertemplate\": \"color=low<br>%{xaxis.title.text}=%{x}<br>%{yaxis.title.text}=%{y}\", \"legendgroup\": \"low\", \"marker\": {\"color\": \"#636efa\", \"symbol\": \"circle\"}, \"name\": \"low\", \"showlegend\": true, \"type\": \"splom\"}, {\"diagonal\": {\"visible\": false}, \"dimensions\": [{\"axis\": {\"matches\": true}, \"label\": \"PC 1 (46.8%)\", \"values\": [-0.3956823296208792, -0.29804783152920866, -0.4033470762424624, -0.46532914447752954, -0.6350993632292672, -0.9005275105412854, -0.9626741868718833, -0.003704346493797916, -0.3618981033756529, -0.1501939242155175, 0.08240428248449815, -0.1933977545251528, 0.08178321670310407, -0.3783043596367858, 0.02386735738760062, 0.005747743350085274, 0.14101352180714014, -0.32175222605246095, 0.1734167216565688, 0.054869704126695076, 0.08982353261219372, 0.2837169706085674, 0.11139845552924843, -0.013304273110419963, 1.4439152895361032, 0.3261586112197976, 0.13112008692036786, 0.17507382133630695, 0.10323300514696045, 0.08197922922731303, 0.10135511761499481, 0.3765859035151655, 0.028061605703233215, 0.3406783598265289, 0.22466971078556225, 0.0786640982853683, 0.13936326358384707, 0.24177181921774563, 0.040141908091576, -0.31366589954085355, 0.1717726766999696, 0.025432379847778293, 0.07939256806569903, -0.07191815427468663, 0.03823547237829472, -0.0626057916234147, 0.08364334900566878, -0.3665731353370376, -0.028988050102396815, 0.2735518354528261, 1.157139634137682, -0.10934801748529577, 0.03143373814290058, 0.09363615913660094, 0.08208463097350706, -0.01051506391196956, 0.4057567051691296, -0.18358243595655166, 0.04298137784503877, -0.25477543055404717, 0.21254008113170206, -0.15299986489481943, 0.053919292212490935, -0.17657969800054604, -0.2297091126282768, -0.19072135933273804, -0.10254799199412054, -0.11238252350188882, 0.17921812004426071, 0.10577265641989855, -0.12437734048110337, -0.7925915750948412, 0.1885041265451212, 0.06891689353528778, -0.5807764605661151, -0.2752163522099619, -0.04342654257991042, -0.40946378907931236, -0.5135179840681499, 0.26243915623634934, 0.30916646014329563, 0.2628701204801707, 0.24744748769752545, 0.20635620651120554, 0.0038102739585492104, -0.003540205477965573, 0.19063723125676377, 0.33090769956305466, 0.2906604089865107, 0.40567291178283105, 0.14547912028073057, 0.24729972079600382, 0.1869465027982523, 0.2148952324113307, 0.3888945949461182, -0.21945825024558827, 0.23018107772797292, -0.27683233048362066, 0.14070190010351002, 0.3163058273779201, -0.1890487436561185, -0.0745827974733508, -0.08671338361263765, -0.24504167474924096, -0.011311394600616627, -0.24504167474924096, 0.3125469196509759, -0.06168296714999479, -0.02775560239752, -0.024281869433000626, 0.28151056492862897, 0.2526659958162811, 0.2859905612380041, 0.09813728895723146, 0.25733184389941693, 0.14637020730186365, 0.330762089322545, 0.16021589244322695, 0.03038387520562255, 0.23892099997685348, 0.18281211104879233, 0.15658326877602666, 0.21916027350605705, 0.2795990404322771, -0.039140395294515025, -0.05739259549343997, -0.08343185492058167, -0.5945492346289583, 0.06493029612244465, 0.20160534596134197, 0.003282705524339104, -0.10490057237745297, 0.18728081416890707, 0.051098807521074804, 0.3238758962234686, 0.01472579008445536, -0.29854828224346275, 0.15214049908995445, 1.156081195896159, 0.6870618198144277, -0.2412437315992485, -0.4030206505667751, -0.3661490975443096, -0.3848085312859643, -1.2144582433053388, -0.3875518995923633, -0.18741868391347502, -0.6352704188573368, -0.4555042835920416, -0.1716492110338067, -0.2625298833957565, -0.05099797325416442, -0.29316817692672414, -0.5838330180366562, -0.36998679755611313, 0.01429058654398854, -0.11362740007516309, -0.13425337895210884, -0.661677258319342, -0.23706273377585277, 0.047094153126545274, -0.5582043596826517, 0.7986524532383522, -0.018161945031453807, 0.07630949461370909, 1.083622150751602, 1.1123713789485021, 0.9589920708580661, -0.20094957229249663, 0.19359411990289396, 0.8872431594996546, 0.10264681008193334, 0.04388451995674229, 0.19603878024103363, -0.0715461842171936, 0.5827676648519035, 0.3668224385064393, -0.049546294983144466, -0.38903860363539366, -0.2457455116229028, 0.30396484895860454, 0.23529721099413156, 0.27945372900078347, 0.11930584867855494, -0.44722254004499923, -0.3568406919873199]}, {\"axis\": {\"matches\": true}, \"label\": \"PC 2 (23.8%)\", \"values\": [-0.00031062306640423074, -0.0796203085675699, -0.2541654357600827, -0.04746435597068048, -0.2867860117683813, -0.44547597283737417, 0.0592299376349046, -0.0058411038978964, -0.1153695606559932, -0.09321365407860119, 0.17002962661521134, 0.03739743548828487, 0.5179625723567971, -0.16934144517152352, 0.02216529026783143, -0.33373100833029984, -0.18504840278047102, -0.09115801277965693, 0.18749472513064183, 0.19181591111483826, 0.11303298629063009, -0.16846477027358758, -0.02817747241726527, 0.12948701303695612, -0.17763922299517876, -0.18394642069047631, 0.06486957900877707, -0.11253463474736214, -0.15110692455053726, -0.046530251383930875, -0.2356612454944861, -0.497177664506168, -0.02119625483449595, 0.016756506734293814, -0.06036962309645282, -0.09773210699842949, -0.07006395931305369, -0.16858981615251303, -0.0646553808508902, -0.14121036210075635, -0.03752099306586106, 0.06388890181361205, 0.2462820460018531, 0.07739760298165856, -0.08060126113016061, -0.04175533746104642, -0.08022621472046024, 0.259455765797939, -0.040102078876605336, 0.11769596690298706, -0.23003791887395847, 0.22098084557869077, 0.09325124046664028, 0.32861233876167106, 0.23231067268459277, 0.22567467909300704, 0.7225328614146403, -0.16349888114548997, 0.3792057763417684, -0.1557100458399793, 0.4750231548654049, 0.01467171592651219, 0.32600444428915587, -0.1118323638769767, 0.047683573307012554, -0.16325850177732007, 0.10971102930345805, -0.027824548160260847, 0.5864856404001171, -0.14305570513682558, 0.09492871815457074, -0.3784181022430846, 0.10250799935684164, 0.5359357669654011, 0.13578067461760468, 0.09637604554705416, -0.18502874210563527, -0.3129184382597507, -0.2509932336641754, 0.000464768165687655, -0.10075875764270803, -0.023816532816906218, -0.23778943862448337, -0.017658715058068084, 0.11495911454024069, 0.0668932902614894, 0.08681952601170143, 0.18067002753902842, -0.06948907191768958, -0.24966380363713922, -0.14354545829844695, 0.007662664763723663, -0.019226110527212778, 0.14212371145781869, -0.20373341980015558, 0.31360954641144945, 0.1679691476297125, 0.06039043077469529, 0.26739686524769696, -0.3640956500911995, -0.3236103004935013, 0.023922854942796817, -0.06607756071468544, -0.05060304450943398, 0.05195560204717687, -0.05060304450943398, 0.19565504138363415, -0.1942022676149071, -0.09131506481576451, -0.0867906539098792, 0.10878065137571657, 0.05212025070231087, -0.3079228843008459, -0.0008220587099630512, -0.2079362762517136, -0.05945091324402982, -0.32802472124006277, -0.11663349950721498, -0.1990338199219531, -0.23539705079823012, -0.24892908172734368, -0.11323037395310995, -0.23974683612580378, -0.32063915192706866, 0.24009300398381206, 0.13371586868363408, 0.20744845150633215, -0.033870558845086995, 0.5620658152152339, 0.6219991262248061, 0.09382340968999675, 0.18599319742791404, -0.0525909338935033, -0.07621482152746346, 0.14606331594415575, 0.4385042080795354, 0.02142574293944218, 0.1770173930268035, -0.23685374791206953, -0.08343758825298783, 0.1911912686164769, -0.0563211098571665, 0.16305672617047992, -0.16541011876824607, -0.13724301753473286, -0.23301839223967152, -0.6160351613175805, -0.37991582664116375, -0.023581353689572267, 0.17532985748490512, 0.017192021827837967, 0.07218770256717005, 0.11253448785016396, -0.08280137566333814, -0.2521539871520043, -0.21034065144592187, -0.0015795101115126968, 0.0021678091553603003, -0.26911228079002053, 0.08532738126913396, -0.2824469434913243, 0.07315407423525473, -0.18543399224193316, -0.6005105089310537, 0.0645794838269, -0.5058561131321323, -0.4776164845719468, -0.3500787099082769, -0.1474549309663493, -0.3153673681007845, -0.6201648416183712, -0.40027475174055116, -0.11781744585674493, 0.004436155071556328, 0.3071063286923904, 0.022658002272470255, 0.1971953521019795, -0.02419661359719547, -0.38943854744220885, -0.11515221071967896, 0.1359785523236709, 0.1709682695730609, -0.14296476774655467, -0.5644270835772152, 0.040121646809210564, 0.0036484288925473303]}], \"hoverlabel\": {\"namelength\": 0}, \"hovertemplate\": \"color=Medium<br>%{xaxis.title.text}=%{x}<br>%{yaxis.title.text}=%{y}\", \"legendgroup\": \"Medium\", \"marker\": {\"color\": \"#EF553B\", \"symbol\": \"circle\"}, \"name\": \"Medium\", \"showlegend\": true, \"type\": \"splom\"}, {\"diagonal\": {\"visible\": false}, \"dimensions\": [{\"axis\": {\"matches\": true}, \"label\": \"PC 1 (46.8%)\", \"values\": [0.4253545299558194, 0.27281980238435755, 0.4885809706165787, 0.5362945915389683, 0.3186271092224558, 0.252486369860205, 0.41470527139024105, 0.109967019699572, 0.3230214916102367, 0.1817573548099288, 0.1490921755155146, 0.2550915172793112, 0.35202915638639226, 0.41375697113082816, 0.24713693483249555, 0.3379547095467501, 0.09277162131234447, 0.4049451456470707, 0.21459264053801042, 0.5302757150659954, 0.19721120549185475, 0.6384658915939888, 1.1643931163532666, 0.5904872325284385, 0.12349416392959674, 0.8936083453528553]}, {\"axis\": {\"matches\": true}, \"label\": \"PC 2 (23.8%)\", \"values\": [-0.03877978066509352, -0.16634179327794937, 0.08362244733007776, -0.41607860302870353, 0.04034917208974363, 0.045984470964869496, -0.15450247736041006, 0.06275906872074213, 0.21654864370054955, 0.040154002697433994, 0.04945501670237527, 0.0028028277691372603, 0.12073541050329593, -0.03898738522795149, 0.09514556288989792, 0.14244319446326448, -0.04869557902044058, 0.12014008725712855, 0.1518749176667922, -0.37178252287524094, 0.2020959908548996, 0.4593450392257625, -0.1714881486032442, 0.014853072495148579, 0.23294947063288443, 0.17275998626591269]}], \"hoverlabel\": {\"namelength\": 0}, \"hovertemplate\": \"color=High<br>%{xaxis.title.text}=%{x}<br>%{yaxis.title.text}=%{y}\", \"legendgroup\": \"High\", \"marker\": {\"color\": \"#00cc96\", \"symbol\": \"circle\"}, \"name\": \"High\", \"showlegend\": true, \"type\": \"splom\"}],\n",
       "                        {\"dragmode\": \"select\", \"legend\": {\"title\": {\"text\": \"color\"}, \"tracegroupgap\": 0}, \"margin\": {\"t\": 60}, \"template\": {\"data\": {\"bar\": [{\"error_x\": {\"color\": \"#2a3f5f\"}, \"error_y\": {\"color\": \"#2a3f5f\"}, \"marker\": {\"line\": {\"color\": \"#E5ECF6\", \"width\": 0.5}}, \"type\": \"bar\"}], \"barpolar\": [{\"marker\": {\"line\": {\"color\": \"#E5ECF6\", \"width\": 0.5}}, \"type\": \"barpolar\"}], \"carpet\": [{\"aaxis\": {\"endlinecolor\": \"#2a3f5f\", \"gridcolor\": \"white\", \"linecolor\": \"white\", \"minorgridcolor\": \"white\", \"startlinecolor\": \"#2a3f5f\"}, \"baxis\": {\"endlinecolor\": \"#2a3f5f\", \"gridcolor\": \"white\", \"linecolor\": \"white\", \"minorgridcolor\": \"white\", \"startlinecolor\": \"#2a3f5f\"}, \"type\": \"carpet\"}], \"choropleth\": [{\"colorbar\": {\"outlinewidth\": 0, \"ticks\": \"\"}, \"type\": \"choropleth\"}], \"contour\": [{\"colorbar\": {\"outlinewidth\": 0, \"ticks\": \"\"}, \"colorscale\": [[0.0, \"#0d0887\"], [0.1111111111111111, \"#46039f\"], [0.2222222222222222, \"#7201a8\"], [0.3333333333333333, \"#9c179e\"], [0.4444444444444444, \"#bd3786\"], [0.5555555555555556, \"#d8576b\"], [0.6666666666666666, \"#ed7953\"], [0.7777777777777778, \"#fb9f3a\"], [0.8888888888888888, \"#fdca26\"], [1.0, \"#f0f921\"]], \"type\": \"contour\"}], \"contourcarpet\": [{\"colorbar\": {\"outlinewidth\": 0, \"ticks\": \"\"}, \"type\": \"contourcarpet\"}], \"heatmap\": [{\"colorbar\": {\"outlinewidth\": 0, \"ticks\": \"\"}, \"colorscale\": [[0.0, \"#0d0887\"], [0.1111111111111111, \"#46039f\"], [0.2222222222222222, \"#7201a8\"], [0.3333333333333333, \"#9c179e\"], [0.4444444444444444, \"#bd3786\"], [0.5555555555555556, \"#d8576b\"], [0.6666666666666666, \"#ed7953\"], [0.7777777777777778, \"#fb9f3a\"], [0.8888888888888888, \"#fdca26\"], [1.0, \"#f0f921\"]], \"type\": \"heatmap\"}], \"heatmapgl\": [{\"colorbar\": {\"outlinewidth\": 0, \"ticks\": \"\"}, \"colorscale\": [[0.0, \"#0d0887\"], [0.1111111111111111, \"#46039f\"], [0.2222222222222222, \"#7201a8\"], [0.3333333333333333, \"#9c179e\"], [0.4444444444444444, \"#bd3786\"], [0.5555555555555556, \"#d8576b\"], [0.6666666666666666, \"#ed7953\"], [0.7777777777777778, \"#fb9f3a\"], [0.8888888888888888, \"#fdca26\"], [1.0, \"#f0f921\"]], \"type\": \"heatmapgl\"}], \"histogram\": [{\"marker\": {\"colorbar\": {\"outlinewidth\": 0, \"ticks\": \"\"}}, \"type\": \"histogram\"}], \"histogram2d\": [{\"colorbar\": {\"outlinewidth\": 0, \"ticks\": \"\"}, \"colorscale\": [[0.0, \"#0d0887\"], [0.1111111111111111, \"#46039f\"], [0.2222222222222222, \"#7201a8\"], [0.3333333333333333, \"#9c179e\"], [0.4444444444444444, \"#bd3786\"], [0.5555555555555556, \"#d8576b\"], [0.6666666666666666, \"#ed7953\"], [0.7777777777777778, \"#fb9f3a\"], [0.8888888888888888, \"#fdca26\"], [1.0, \"#f0f921\"]], \"type\": \"histogram2d\"}], \"histogram2dcontour\": [{\"colorbar\": {\"outlinewidth\": 0, \"ticks\": \"\"}, \"colorscale\": [[0.0, \"#0d0887\"], [0.1111111111111111, \"#46039f\"], [0.2222222222222222, \"#7201a8\"], [0.3333333333333333, \"#9c179e\"], [0.4444444444444444, \"#bd3786\"], [0.5555555555555556, \"#d8576b\"], [0.6666666666666666, \"#ed7953\"], [0.7777777777777778, \"#fb9f3a\"], [0.8888888888888888, \"#fdca26\"], [1.0, \"#f0f921\"]], \"type\": \"histogram2dcontour\"}], \"mesh3d\": [{\"colorbar\": {\"outlinewidth\": 0, \"ticks\": \"\"}, \"type\": \"mesh3d\"}], \"parcoords\": [{\"line\": {\"colorbar\": {\"outlinewidth\": 0, \"ticks\": \"\"}}, \"type\": \"parcoords\"}], \"pie\": [{\"automargin\": true, \"type\": \"pie\"}], \"scatter\": [{\"marker\": {\"colorbar\": {\"outlinewidth\": 0, \"ticks\": \"\"}}, \"type\": \"scatter\"}], \"scatter3d\": [{\"line\": {\"colorbar\": {\"outlinewidth\": 0, \"ticks\": \"\"}}, \"marker\": {\"colorbar\": {\"outlinewidth\": 0, \"ticks\": \"\"}}, \"type\": \"scatter3d\"}], \"scattercarpet\": [{\"marker\": {\"colorbar\": {\"outlinewidth\": 0, \"ticks\": \"\"}}, \"type\": \"scattercarpet\"}], \"scattergeo\": [{\"marker\": {\"colorbar\": {\"outlinewidth\": 0, \"ticks\": \"\"}}, \"type\": \"scattergeo\"}], \"scattergl\": [{\"marker\": {\"colorbar\": {\"outlinewidth\": 0, \"ticks\": \"\"}}, \"type\": \"scattergl\"}], \"scattermapbox\": [{\"marker\": {\"colorbar\": {\"outlinewidth\": 0, \"ticks\": \"\"}}, \"type\": \"scattermapbox\"}], \"scatterpolar\": [{\"marker\": {\"colorbar\": {\"outlinewidth\": 0, \"ticks\": \"\"}}, \"type\": \"scatterpolar\"}], \"scatterpolargl\": [{\"marker\": {\"colorbar\": {\"outlinewidth\": 0, \"ticks\": \"\"}}, \"type\": \"scatterpolargl\"}], \"scatterternary\": [{\"marker\": {\"colorbar\": {\"outlinewidth\": 0, \"ticks\": \"\"}}, \"type\": \"scatterternary\"}], \"surface\": [{\"colorbar\": {\"outlinewidth\": 0, \"ticks\": \"\"}, \"colorscale\": [[0.0, \"#0d0887\"], [0.1111111111111111, \"#46039f\"], [0.2222222222222222, \"#7201a8\"], [0.3333333333333333, \"#9c179e\"], [0.4444444444444444, \"#bd3786\"], [0.5555555555555556, \"#d8576b\"], [0.6666666666666666, \"#ed7953\"], [0.7777777777777778, \"#fb9f3a\"], [0.8888888888888888, \"#fdca26\"], [1.0, \"#f0f921\"]], \"type\": \"surface\"}], \"table\": [{\"cells\": {\"fill\": {\"color\": \"#EBF0F8\"}, \"line\": {\"color\": \"white\"}}, \"header\": {\"fill\": {\"color\": \"#C8D4E3\"}, \"line\": {\"color\": \"white\"}}, \"type\": \"table\"}]}, \"layout\": {\"annotationdefaults\": {\"arrowcolor\": \"#2a3f5f\", \"arrowhead\": 0, \"arrowwidth\": 1}, \"coloraxis\": {\"colorbar\": {\"outlinewidth\": 0, \"ticks\": \"\"}}, \"colorscale\": {\"diverging\": [[0, \"#8e0152\"], [0.1, \"#c51b7d\"], [0.2, \"#de77ae\"], [0.3, \"#f1b6da\"], [0.4, \"#fde0ef\"], [0.5, \"#f7f7f7\"], [0.6, \"#e6f5d0\"], [0.7, \"#b8e186\"], [0.8, \"#7fbc41\"], [0.9, \"#4d9221\"], [1, \"#276419\"]], \"sequential\": [[0.0, \"#0d0887\"], [0.1111111111111111, \"#46039f\"], [0.2222222222222222, \"#7201a8\"], [0.3333333333333333, \"#9c179e\"], [0.4444444444444444, \"#bd3786\"], [0.5555555555555556, \"#d8576b\"], [0.6666666666666666, \"#ed7953\"], [0.7777777777777778, \"#fb9f3a\"], [0.8888888888888888, \"#fdca26\"], [1.0, \"#f0f921\"]], \"sequentialminus\": [[0.0, \"#0d0887\"], [0.1111111111111111, \"#46039f\"], [0.2222222222222222, \"#7201a8\"], [0.3333333333333333, \"#9c179e\"], [0.4444444444444444, \"#bd3786\"], [0.5555555555555556, \"#d8576b\"], [0.6666666666666666, \"#ed7953\"], [0.7777777777777778, \"#fb9f3a\"], [0.8888888888888888, \"#fdca26\"], [1.0, \"#f0f921\"]]}, \"colorway\": [\"#636efa\", \"#EF553B\", \"#00cc96\", \"#ab63fa\", \"#FFA15A\", \"#19d3f3\", \"#FF6692\", \"#B6E880\", \"#FF97FF\", \"#FECB52\"], \"font\": {\"color\": \"#2a3f5f\"}, \"geo\": {\"bgcolor\": \"white\", \"lakecolor\": \"white\", \"landcolor\": \"#E5ECF6\", \"showlakes\": true, \"showland\": true, \"subunitcolor\": \"white\"}, \"hoverlabel\": {\"align\": \"left\"}, \"hovermode\": \"closest\", \"mapbox\": {\"style\": \"light\"}, \"paper_bgcolor\": \"white\", \"plot_bgcolor\": \"#E5ECF6\", \"polar\": {\"angularaxis\": {\"gridcolor\": \"white\", \"linecolor\": \"white\", \"ticks\": \"\"}, \"bgcolor\": \"#E5ECF6\", \"radialaxis\": {\"gridcolor\": \"white\", \"linecolor\": \"white\", \"ticks\": \"\"}}, \"scene\": {\"xaxis\": {\"backgroundcolor\": \"#E5ECF6\", \"gridcolor\": \"white\", \"gridwidth\": 2, \"linecolor\": \"white\", \"showbackground\": true, \"ticks\": \"\", \"zerolinecolor\": \"white\"}, \"yaxis\": {\"backgroundcolor\": \"#E5ECF6\", \"gridcolor\": \"white\", \"gridwidth\": 2, \"linecolor\": \"white\", \"showbackground\": true, \"ticks\": \"\", \"zerolinecolor\": \"white\"}, \"zaxis\": {\"backgroundcolor\": \"#E5ECF6\", \"gridcolor\": \"white\", \"gridwidth\": 2, \"linecolor\": \"white\", \"showbackground\": true, \"ticks\": \"\", \"zerolinecolor\": \"white\"}}, \"shapedefaults\": {\"line\": {\"color\": \"#2a3f5f\"}}, \"ternary\": {\"aaxis\": {\"gridcolor\": \"white\", \"linecolor\": \"white\", \"ticks\": \"\"}, \"baxis\": {\"gridcolor\": \"white\", \"linecolor\": \"white\", \"ticks\": \"\"}, \"bgcolor\": \"#E5ECF6\", \"caxis\": {\"gridcolor\": \"white\", \"linecolor\": \"white\", \"ticks\": \"\"}}, \"title\": {\"x\": 0.05}, \"xaxis\": {\"automargin\": true, \"gridcolor\": \"white\", \"linecolor\": \"white\", \"ticks\": \"\", \"title\": {\"standoff\": 15}, \"zerolinecolor\": \"white\", \"zerolinewidth\": 2}, \"yaxis\": {\"automargin\": true, \"gridcolor\": \"white\", \"linecolor\": \"white\", \"ticks\": \"\", \"title\": {\"standoff\": 15}, \"zerolinecolor\": \"white\", \"zerolinewidth\": 2}}}},\n",
       "                        {\"responsive\": true}\n",
       "                    ).then(function(){\n",
       "                            \n",
       "var gd = document.getElementById('8fef07d8-9d2d-45a4-82dc-f93d23ca4f91');\n",
       "var x = new MutationObserver(function (mutations, observer) {{\n",
       "        var display = window.getComputedStyle(gd).display;\n",
       "        if (!display || display === 'none') {{\n",
       "            console.log([gd, 'removed!']);\n",
       "            Plotly.purge(gd);\n",
       "            observer.disconnect();\n",
       "        }}\n",
       "}});\n",
       "\n",
       "// Listen for the removal of the full notebook cells\n",
       "var notebookContainer = gd.closest('#notebook-container');\n",
       "if (notebookContainer) {{\n",
       "    x.observe(notebookContainer, {childList: true});\n",
       "}}\n",
       "\n",
       "// Listen for the clearing of the current output cell\n",
       "var outputEl = gd.closest('.output');\n",
       "if (outputEl) {{\n",
       "    x.observe(outputEl, {childList: true});\n",
       "}}\n",
       "\n",
       "                        })\n",
       "                };\n",
       "                });\n",
       "            </script>\n",
       "        </div>"
      ]
     },
     "metadata": {},
     "output_type": "display_data"
    }
   ],
   "source": [
    "# for health_PC3_PC4\n",
    "labels_3_4 = {\n",
    "    str(i): f\"PC {i+1} ({var:.1f}%)\"\n",
    "    for i, var in enumerate(pca.explained_variance_ratio_ * 100)\n",
    "}\n",
    "fig = px.scatter_matrix(\n",
    "    health_pca_3_4,\n",
    "    labels=labels,\n",
    "    dimensions=range(2),\n",
    "    color = rate_label\n",
    ")\n",
    "fig.update_traces(diagonal_visible=False)\n",
    "fig.show()\n"
   ]
  },
  {
   "cell_type": "code",
   "execution_count": 86,
   "metadata": {},
   "outputs": [
    {
     "name": "stdout",
     "output_type": "stream",
     "text": [
      "5\n",
      "\n",
      "Variance ratio: [0.58235935 0.16001443 0.08387178 0.0434097  0.03035711]\n",
      "\n",
      "Explained variance: [2.53496313 0.69652987 0.36508709 0.1889589  0.13214205]\n",
      "\n",
      "Explained variance: (5, 14)\n"
     ]
    }
   ],
   "source": [
    "# for non-health\n",
    "pca2 = PCA()\n",
    "nonhealth_pca = pca2.fit_transform(log_data_nonhealth.to_numpy())\n",
    "var = 0\n",
    "n = 0\n",
    "# increase the value of n by 1, stop until n explaining 90% of the variance\n",
    "while var < 0.9:\n",
    "    var += pca2.explained_variance_ratio_[n]\n",
    "    n += 1\n",
    "# update PCA with the correct number of components, namely, 'n' explaining 90% of the variance\n",
    "pca2 = PCA(n_components = n)\n",
    "nonhealth_pca = pca2.fit_transform(log_data_nonhealth.to_numpy())\n",
    "\n",
    "print(n)\n",
    "print(f'\\nVariance ratio: {pca2.explained_variance_ratio_}')\n",
    "print(f'\\nExplained variance: {pca2.explained_variance_}')\n",
    "print(f'\\nExplained variance: {np.shape(pca2.components_)}')"
   ]
  },
  {
   "cell_type": "code",
   "execution_count": 88,
   "metadata": {},
   "outputs": [
    {
     "data": {
      "application/vnd.plotly.v1+json": {
       "config": {
        "plotlyServerURL": "https://plot.ly"
       },
       "data": [
        {
         "diagonal": {
          "visible": false
         },
         "dimensions": [
          {
           "axis": {
            "matches": true
           },
           "label": "PC 1 (58.2%)",
           "values": [
            -0.30727924235301723,
            -1.3230459017626988,
            -1.1835192015852007,
            -1.3271185062807602,
            -1.1424105082382443,
            -0.33964293123038575,
            -0.38271132296349475,
            -0.9585562491934508,
            -0.9813999420693635,
            -0.3156797704284502,
            -1.3377276060778867,
            -0.4795178001293532,
            0.1241342972129607,
            0.1124631600197113,
            -0.8019567050875159,
            -1.0177188568671858,
            -0.892594276960013,
            0.022357359057112766,
            -0.5137428612636856,
            0.344733779787108,
            -0.8440723247401694,
            0.5867003195558593,
            0.7587360543630921,
            0.6588714522247613,
            1.1004363390202092,
            0.08459270954136205,
            1.0010136044946487,
            0.9704038378836752,
            0.4548544164760193,
            -0.2753193065373976,
            0.8687265707536701,
            0.5286532588728017,
            0.3768057642393935,
            0.6700729096870676,
            0.7676574044004518,
            0.8597364310956299,
            1.93308062699799,
            0.5231308059745196,
            0.8827648427185598,
            0.04083088312411379,
            0.5545680821093696,
            -0.2189610290922579,
            -0.34805042104867645,
            -0.020996775351417717,
            -0.40557668009778736,
            -0.2637867420672865,
            0.3165369188920659,
            -0.09289011948939481,
            0.06190129135782895,
            0.6930472464034714,
            0.43748020058799214,
            -0.7145877542439171,
            -0.32584107584608407,
            -0.6774358565866154,
            0.13370758426797574,
            0.01173172612092395,
            -0.8551862308099769,
            -0.7762610572622323,
            -0.2687339821656172,
            -0.18878059687764137,
            0.17762426573058024,
            0.11842897028687094,
            -0.7268059699991425,
            -0.7317447472453039,
            0.09080955941180792,
            0.06360197286713885,
            -0.46665467722338677,
            0.15096545960129756,
            -0.9976414211825083,
            -0.663680819662579,
            -1.10730006363412,
            -0.8306748179866781,
            -0.9437790655610502,
            -1.2884198802106177,
            -0.9842532188768736,
            -1.033288054788285,
            -1.402976592013496,
            -0.29177031325052644,
            -1.1083550727545937,
            -2.1431277614465385,
            -1.279665106805024,
            -1.483622252254089,
            -0.9204873453633573,
            -1.1196785089395045,
            -1.163748845220307,
            -0.2068014693718023,
            -0.21199716809241018,
            -1.2467513334191114,
            -0.6383896693949889,
            -0.17633356390544888,
            -1.3557708202969228,
            -0.49180534113139546,
            -0.888471154488831,
            -0.7013298072248887,
            -0.48916465846202306,
            0.009653932992900226,
            -1.2714574760707211,
            0.10946610473259538,
            -0.6196124307370172,
            -1.1219069331710267,
            -1.0574770624480778,
            -1.0800689813190443,
            -0.6783065761096089,
            -0.12095536761240484,
            -0.571041844395998,
            -0.5267298488215251,
            -0.20980471526583094,
            -0.7839657278787766,
            -1.0970743159735994,
            -1.7607558729513422,
            -0.7639276038117205,
            -1.1585889823616247,
            -0.730347751998062,
            -1.374340120627467,
            -0.508026478963563,
            -0.9978276230613526,
            -2.043731025460526,
            -0.6378696425914343,
            -1.8476462470172352,
            -0.4468662322780471,
            -0.08484286958088232,
            -0.44639807230156026,
            -0.2243451502703835,
            -0.2553575114176564,
            0.028717444539235457,
            1.0267715827027124,
            0.07475741307045003,
            0.36689324483791,
            0.2082139280741185,
            0.21917633743178938,
            -0.0634950372043875,
            -0.17397999459870872,
            -0.013629862303741675,
            -0.11227242849896045,
            -0.27344656204594436,
            -0.45779574381540517,
            -1.1499511962784834,
            0.2543681674156977,
            0.4928571306935547,
            5.334635727362091,
            5.073762353173108,
            0.12671407221682,
            0.6763689164520537,
            0.6712210721880288,
            2.4341821188693955,
            0.39463333304862624,
            0.24653701418335408,
            0.22731149439016785,
            4.3685841258720535,
            -0.6818277018098267,
            5.7698370596971,
            -0.10535033113204219,
            5.336442231485349,
            5.0981411362862765,
            5.648821435565956,
            5.3606388981433195,
            0.3016997237437806,
            3.522115693959958,
            5.276890911037335,
            0.3570377870113062,
            0.5150284969700267,
            -0.10103589096090843,
            5.853382324196358,
            -1.9201084233164414,
            -1.0621455325073577,
            -0.23079853247076376,
            -1.3563092528751102,
            -0.413375157848674,
            -1.64595598553089,
            -0.9639471122839434,
            -0.5001204373014704,
            0.6182236558297576,
            0.26573269282448025,
            -0.9892655822904998,
            -0.04579804273687082,
            -1.080085151101618,
            -1.4195197376819217,
            -1.0446080488418978,
            -0.6135117417403684,
            -1.7767744430080115,
            -1.157137615332094,
            -0.11211920971007391,
            -1.212165736976809,
            -0.857537230443163,
            -0.0035760873823646087,
            -0.3280140035001886,
            -1.4258815356387462,
            -0.914393137609248,
            -0.21018877778650008,
            -0.9813680374245819,
            0.16898745237374746,
            -0.7571963005978906,
            0.5382529171667623,
            -0.9690878195703958,
            -1.416725182174593,
            -0.21163542365803145,
            -0.16679602114840839,
            -0.7333353191242543,
            -2.1677577061623157,
            -1.8205674382876558,
            -2.190111021892792,
            -1.8872063487427089,
            -1.07201608824666,
            -1.1350284530218486,
            -0.8815228533238387,
            -1.862251207039088,
            -2.0370641555469096,
            -0.6330726004923952,
            -0.7793594192490673,
            -0.9512887955522168,
            -0.4524505592073509,
            -0.9552093592155951,
            -0.9427040702992832,
            -0.539004071877662,
            0.09342017064793222,
            -1.0377028457534472,
            -0.8575434100138675,
            -0.4712830439210463,
            -0.16362577970968079,
            -0.6547060575886081,
            -1.5192153517689695,
            -0.7230380494665037,
            -0.848584138004981,
            -1.5798688967567434,
            -0.8814484202005598,
            -0.44642339875794523,
            -0.4989115563007672,
            -0.11044381691707066,
            0.3118294032894278,
            -1.2131926677232383,
            -0.9559017867186589,
            0.03922109027829634,
            -0.8283086861173496,
            -0.8400169556907486,
            -1.4200170506675767,
            0.34990063789186243,
            -0.7713457426341195,
            -1.2758984170001963,
            -0.746073724483803,
            -0.9136896876060734,
            2.8407968205710805,
            -0.023890818962768463,
            -0.9100393128873686,
            0.8456681331450667,
            -0.8516699979970901,
            0.6583078246485649,
            1.244465165917873,
            -0.07027430109708002,
            0.7149316994650735,
            0.6921681653176358,
            -0.22068359792341335,
            1.6854672094388168,
            1.4286124561644593,
            -0.8906079324803544,
            -0.17877719451286447,
            -0.3343018330128041,
            0.028794789038386517,
            0.4148274154110353,
            -0.1071072785013799,
            0.6492716078075579,
            0.8396558856202261,
            -0.3062473313664366,
            1.5870383741797116,
            0.647147494645125,
            -0.10545934677764705,
            -0.9038062175053546,
            -0.13007062805315,
            -0.4488876260209161,
            -0.2671090910163583,
            -0.35508374509516577,
            0.3772698664309979,
            -0.7586593534527405,
            2.300306730646488,
            0.6332052541222387,
            2.2572820874640813,
            -0.037371455654688676,
            0.896607989540723,
            5.318178231848528,
            5.237481108111443,
            5.543496198906301,
            -0.6406661766925258
           ]
          },
          {
           "axis": {
            "matches": true
           },
           "label": "PC 2 (16.0%)",
           "values": [
            0.992125851515766,
            0.9474870465364927,
            0.8427612404019789,
            1.239320158544172,
            0.4524811294049689,
            -0.46219719001261084,
            -0.06470801645622032,
            0.07717773907099974,
            0.26354471896015147,
            -0.7791878858413145,
            0.5886258751774466,
            0.9258662235256463,
            -0.3832299821016745,
            -1.0378782950689593,
            0.038479723500404184,
            -0.16223604766324,
            0.6979558305125587,
            -0.4181078357953858,
            -0.3378070690850452,
            -0.9283687059280976,
            -0.16355675702392447,
            -1.0504170550488994,
            -0.44057366601683495,
            -0.5290644982359833,
            -0.708201070271317,
            -0.566281942468725,
            -0.7348806323544369,
            -0.4862462883422103,
            -1.0120304039268893,
            -0.5763047412394606,
            -0.7592915108307237,
            -0.6397978599922296,
            -0.9385567540285928,
            -0.6602329712759285,
            -1.1608348664302741,
            -0.9657703496648119,
            -0.6662121018401103,
            -0.5837322927656684,
            -0.544283844141309,
            -0.03351200649825994,
            -0.7709027987042708,
            -0.16073639505393428,
            -0.7613995394308656,
            -0.6983676095473569,
            -0.5437662050898106,
            -1.038215050504851,
            -1.435037574354976,
            -1.4510493992832372,
            -1.0663758707613036,
            -1.5252685595118498,
            -1.260693711936732,
            -0.5966703307461941,
            -0.0008196318783191379,
            -0.2800121104390627,
            -0.6025404448320091,
            -0.7341205764652091,
            -0.5697331539086775,
            -0.2696457499509523,
            0.026452896556017864,
            -0.9708651838467318,
            -0.4238387559616479,
            -0.31609970642703145,
            -0.3295628666906481,
            -0.3640378523819542,
            -0.2192279510206441,
            -0.28346293363379205,
            -0.32096589625314764,
            -0.22346380660652188,
            0.0069702171672887305,
            0.5430813535227267,
            0.7058675623224162,
            -0.2459839536902698,
            1.1654859630002323,
            -0.06781589925774657,
            1.0149066223022092,
            0.6438313719498218,
            0.3458492168180145,
            1.4444630469961475,
            0.7113869970389907,
            1.0865971252807076,
            0.05846060743112988,
            0.03482731599542746,
            1.2120723906061075,
            -0.9102957394867721,
            -0.298601277420977,
            -0.9436031121932016,
            -0.7628276046371036,
            -0.36715058040179704,
            -0.440077751653929,
            -0.6003646760054109,
            -0.04781053507389621,
            -0.6734023051441709,
            -0.4072141708003896,
            -0.650570996692579,
            -0.46264593595018394,
            -0.4485415641345624,
            0.013212023797806975,
            -0.571392395512022,
            -0.5725534851386189,
            -0.38799601138840684,
            -0.4184235352489932,
            -0.3580041521535471,
            -0.40493546344689657,
            -0.24650184003250658,
            -0.4312936595083714,
            -0.5170635245487624,
            -1.3262381275944035,
            -0.37107198213742243,
            -0.26947396512748084,
            -0.06822255506418282,
            -0.26155881394114106,
            -0.4130167882314688,
            -0.41042919805918304,
            -0.02408501054708312,
            -0.6726885649462853,
            -0.8448709826267503,
            0.07080629959630763,
            -0.31030637986726867,
            0.5723066927918682,
            -0.23256341515303475,
            -0.2335954017369774,
            -0.7554090446279078,
            -1.1391445860909577,
            -0.457458143260787,
            -0.6125619927966283,
            -0.3065023677354964,
            0.3431979145877112,
            -0.13427925875546753,
            0.4137758342520579,
            0.016447966122166147,
            -1.1349358112169758,
            0.7819129822402578,
            -1.4679220333422105,
            -0.4165884099040131,
            -1.3297270095572713,
            -0.3819354426255857,
            -0.38774856533774293,
            -0.6530946949190847,
            -0.580341138770152,
            0.5209139053700224,
            0.7184162178904439,
            -0.4611428239283413,
            -0.6870461562697424,
            -0.6095281607427016,
            -0.23639396208722924,
            -0.4065615305652333,
            0.7395367584134196,
            -0.8455180931134002,
            -0.9769875856984052,
            1.6764411476516958,
            0.4099169499358364,
            -0.07001179436197985,
            0.2514412968742343,
            1.4225686471167172,
            0.5205945497865045,
            0.2969298561748822,
            -0.8869577272719265,
            0.3207638460948185,
            1.031519803631671,
            -0.26744641090734367,
            2.3448212861176216,
            -0.22318676504466817,
            0.07618341869258488,
            1.0189851884111483,
            0.2675760966749317,
            0.25258827227937786,
            0.4274471595921474,
            0.10820559016599635,
            0.7710216836570375,
            0.6164379720190031,
            -0.4457739928962817,
            -1.0202869285429068,
            -0.06777461896394228,
            0.7806866156705308,
            -0.3161833488790041,
            0.33472733331438004,
            0.9558762133830183,
            0.7990666418570075,
            0.46247045582066787,
            0.8641659744614559,
            -0.4766208218487048,
            -0.2473057514789783,
            0.1725382714349552,
            -0.19202738016517892,
            -1.2419273161335256,
            -0.5407370841627996,
            0.17283750722224928,
            0.2133721727477511,
            -0.29536135516733564,
            0.055837828185858245,
            -0.36663502598263725,
            0.48912954371383643,
            -0.4251326212291716,
            -1.3074782554308275,
            -1.2179316456599112,
            -0.8576229911769825,
            -0.023228535867402766,
            0.3284175935746375,
            1.5056686595206767,
            0.9275415481103724,
            1.5162811570229606,
            0.6851357109892738,
            0.3410150187061748,
            0.592324464445495,
            0.07789379377533048,
            1.2264959141774776,
            1.1238237791776244,
            0.9202604825643158,
            0.45755774803545,
            0.964906514386111,
            -0.04570233882623444,
            0.970356412409938,
            0.08560121777068458,
            -0.3453719691380855,
            0.2878448375070359,
            0.4327569817194378,
            0.3442246463257495,
            -0.06055489102825818,
            -0.39891456585746743,
            -0.7995710198394851,
            0.8535833561219617,
            -0.7136550739366415,
            -0.30173328737071997,
            0.25803473357544643,
            0.9281293003329424,
            0.5114028645691845,
            -0.6342621436643741,
            -0.4151832383515059,
            3.17889475979926,
            0.08664630066587314,
            -0.5142372202138347,
            -0.7408524697085391,
            -0.18729906080022296,
            0.0859590756426501,
            0.2851763359114131,
            -0.8016129977514551,
            -0.12803598676507014,
            -0.06205695916107857,
            -0.5156957199847262,
            -0.3138254375281788,
            2.9861598918545758,
            -0.07673144991623931,
            -0.09561810895419669,
            -0.5570089948261497,
            -0.12333693807132812,
            0.7810438310863385,
            2.0132484906843846,
            -0.4673037654059764,
            0.13579065053291975,
            -0.5669130255943416,
            -0.6008636792072907,
            1.3864043512165847,
            1.7384613779018954,
            -0.5450265453312637,
            0.049129526736599406,
            -0.7933751215690976,
            -1.444153318920201,
            -0.6555296961330993,
            -0.9085495927545281,
            -0.3429707154082446,
            -0.9544606836848547,
            -0.9130420762696787,
            0.171804107650227,
            -0.9955350896853691,
            -0.7806782867187775,
            0.9329030134744568,
            -0.4355248008766561,
            -0.42074972573396724,
            -0.318986184727028,
            -0.8077608789658332,
            -1.091448021026565,
            -0.22794814535146618,
            0.016885927441703075,
            0.8292863234830485,
            0.14601840250890608,
            0.479835071318315,
            0.38690232940472763,
            0.7060469733820911,
            1.672186709092985,
            1.2973914649908844,
            1.1189351932732838
           ]
          },
          {
           "axis": {
            "matches": true
           },
           "label": "PC 3 (8.4%)",
           "values": [
            1.1807699584138844,
            1.3347878621578544,
            1.2139102135962196,
            1.608334902246521,
            -0.39537101108984646,
            2.509900287060507,
            1.5453127168854432,
            -0.28139199809242843,
            -0.6531779156439749,
            0.0534892691066299,
            -0.6310686437336313,
            -0.4458322347047368,
            0.2278783599694745,
            -0.014313182820291587,
            -0.3682887913108479,
            -0.5902614209079196,
            -0.6761354262235567,
            -0.2833247984042052,
            -0.657415850719571,
            -0.724898497106884,
            -0.836429901273343,
            -0.2778438923138141,
            -0.8560117807572,
            -0.6815327644417783,
            -0.5508674131139838,
            -0.2031305210631264,
            -0.974970207993449,
            -0.07974355549824214,
            -0.8490269780087233,
            -0.4250714705521629,
            -0.2638891870452311,
            0.037878459867197005,
            -0.026731548545190834,
            -0.68992899064729,
            -0.021474638218036263,
            -0.5463893233275768,
            -0.20555706340120872,
            -0.294130526430204,
            -0.5485429836262468,
            -0.5007259372662424,
            -0.38460085375147146,
            -0.6491875313509069,
            -0.8359132586973658,
            -0.7777434396593713,
            -0.10095195745492304,
            0.2753453195646463,
            0.0948493473018044,
            0.07935071958888422,
            0.12674076398670006,
            0.1944771609479608,
            -0.042471125051057664,
            -0.46768846412944387,
            -0.9449045267052925,
            -1.1042907659964123,
            -0.4688001323367047,
            -0.3551747961395843,
            -0.2745400704484901,
            -0.3532826921338137,
            -0.32904173173156526,
            -0.29222739713296636,
            -0.6577750753537758,
            -0.4412277351678969,
            -0.9581924660195621,
            -0.6787108503437307,
            -0.9448009917221933,
            -0.39753521908899725,
            -0.22523227409496782,
            -0.2918454351339391,
            1.7614078773820445,
            0.9925032098194739,
            0.7098163492393775,
            1.5262509770682666,
            1.5351514306225178,
            0.8029472097113537,
            0.6417253052860032,
            0.9291478183607109,
            1.0275822649616968,
            1.011993925433018,
            0.35535891021844923,
            -0.6123398214313727,
            0.9146096419421035,
            0.2425495129010101,
            0.5693469257285801,
            0.2271500375598006,
            -0.017868253860202767,
            0.00846399112313562,
            0.3918229584535611,
            -0.12410781428828138,
            -0.06524987964221816,
            0.17551520757898095,
            -0.19691109560562042,
            0.08892477970142618,
            -0.41997213093123803,
            -0.4509898547585311,
            0.1304119882783946,
            0.47530120766726985,
            -0.4947356134840333,
            0.16968004837421752,
            -0.023602666344809835,
            0.022838573424482252,
            -0.14237090864201243,
            -0.5507269940488252,
            -0.03445726795806357,
            0.011593432231766704,
            -0.10590489258402114,
            0.21927524215744504,
            0.4139409716621632,
            0.07151897968612907,
            -0.20688432600296722,
            -0.45311095906838805,
            0.4189611205009249,
            0.047056186444358564,
            -0.20733785873250818,
            -0.42302684782763855,
            -0.12866868316609356,
            -0.4007001048387351,
            -0.3048942023976598,
            -0.3427826284289113,
            -0.5357511601442277,
            0.17783444754088093,
            -0.5007194456883213,
            -0.031027772400767883,
            -0.10255783993506828,
            -0.13081543434254603,
            -0.3722802978228351,
            -0.6243417735676327,
            -0.9998974697176246,
            -0.7177555055284165,
            -0.7890041731075639,
            -0.7559719672560599,
            0.18714427974030354,
            -0.8281154069742541,
            0.25505158027237534,
            -0.08859505950557864,
            0.17385522073051848,
            -0.4141127564078453,
            0.24157247888244718,
            -0.3353186939311778,
            -0.05146605678735556,
            0.037126443566999075,
            -0.18238234761022024,
            -0.3436151638377291,
            0.09712254785743038,
            -0.2789582211606999,
            0.4068691500698238,
            0.1462267021192768,
            -0.5031046687693633,
            -0.31139861233144706,
            0.7634669778249121,
            -1.420965199646576,
            0.5055847956640707,
            -0.3183357474338025,
            0.4154418991910555,
            0.26751697833458016,
            0.6542471866253637,
            0.7354752398555947,
            -0.07869966586940205,
            0.4536260758073359,
            0.4893148172733303,
            -0.0464593350937773,
            -1.750886163389595,
            0.048399473277989824,
            0.7880866694444925,
            -0.17641969050263182,
            0.5832320634913882,
            0.6533354838339119,
            -0.21503172395066442,
            0.6560116633598242,
            -0.0980649548411656,
            0.49559474968801265,
            0.3512993701028665,
            1.139309821940303,
            1.1733033829183452,
            0.299839356525721,
            1.1939741232169607,
            -0.05453175334926851,
            -0.005706788623316111,
            0.16243106429763565,
            0.6716458551058603,
            -0.4810308128982257,
            -0.7764224249968837,
            1.314467023732577,
            -0.23700069901422097,
            -0.2802899917881761,
            0.1946015234515424,
            0.39114269407827934,
            -0.40852806756966087,
            -0.7793230913097025,
            -0.12065226294606185,
            0.03697549425444691,
            0.14875045163959266,
            -0.10924319710820922,
            -0.22609648528570395,
            0.08975991977741027,
            -0.031694941122990844,
            -0.24515931184046788,
            0.5729864792625409,
            0.7822180861513123,
            -0.48736941129822264,
            -0.33753106835890273,
            -0.725890882611651,
            -0.24205276477145046,
            0.028615334743833997,
            0.06846060119406508,
            -0.31525860083913687,
            -0.33599694522986867,
            -1.0087358129224835,
            1.0386327664983754,
            0.7319271729664301,
            0.5089647257584172,
            0.597354092772169,
            0.44426867648580726,
            0.7493535118604625,
            0.7029860941725087,
            1.0233398844010015,
            0.8612033849720387,
            0.4102582340576417,
            1.0140438034988382,
            0.8125342300314798,
            0.3241324060386732,
            -0.08483612925759526,
            -0.016013131576377265,
            0.26875232820955114,
            -0.2507075056220862,
            0.27700415832509206,
            0.8480416380707383,
            0.14578642785875284,
            0.15249218254887054,
            -1.6199487276909814,
            0.2762959825543682,
            0.039911000104504525,
            0.352748989006963,
            0.09007097417513164,
            -0.24144687026666262,
            -0.5645583276334473,
            0.14830132480039715,
            -0.6449631944849232,
            -0.3928754488996569,
            0.3782502679686882,
            -0.09365029498793113,
            -0.6857053674395561,
            -0.2876627820137297,
            -0.060524955059882084,
            0.0029717054737552775,
            -0.22621886431525318,
            -0.34753898517894405,
            -0.854658610795388,
            -0.06927188572373055,
            -0.42196089379401647,
            0.18409169234328954,
            0.2431682321759608,
            -0.6314983076514566,
            -2.132557749924382,
            -0.38172995315940267,
            0.12011634898362908,
            -0.19993190283532647,
            0.08897246868545435,
            -0.3648487834028619,
            -0.6810672764598514,
            -0.9616770122301317,
            0.17971150253637547,
            -0.16702605843102916,
            -0.9468680613210684,
            0.26777097180490184,
            -0.12279247205045102,
            -1.00462995265312,
            -0.49381167615585336,
            -0.3614826320763276,
            -0.2034425861744059,
            -0.6777730097707723,
            -0.5909314988071738,
            -0.4014256015102924,
            -0.23655565557236088,
            0.26193473619017427,
            -0.13263698801230359,
            -0.7324202420222894,
            0.03245272350915684,
            0.26792965500772986,
            -0.02303048014905437,
            0.058789744488743974,
            0.22174818704017848
           ]
          },
          {
           "axis": {
            "matches": true
           },
           "label": "PC 4 (4.3%)",
           "values": [
            0.47538034770564325,
            0.45078770786030375,
            0.42091093653408007,
            0.5248635798385797,
            0.2999239641027063,
            0.3936075096062381,
            0.4836600292783145,
            -0.03300094744709932,
            0.17536215378150505,
            -0.0625413147929123,
            -0.12046799164305629,
            -0.041212472338088835,
            -0.00197484385335852,
            0.1174836065974017,
            -0.04708188475145366,
            -0.01155527382174118,
            -0.14606812057055277,
            0.06457512851218981,
            -0.1975660179520294,
            -0.09691305752023158,
            0.05061466828914271,
            0.06192266408209156,
            0.4861931608792712,
            0.28732661753408184,
            0.2768578360756477,
            0.1337910297294972,
            0.4876676535962912,
            0.09432233809043496,
            0.17740002405782102,
            -0.19247052973301415,
            0.2077127654385225,
            0.15783109189033326,
            0.10966649831879842,
            0.16820527019559306,
            0.13458454623086158,
            0.37241707755559117,
            0.4291055322304952,
            0.008322490379440528,
            0.30248025191148226,
            0.15552222586737596,
            0.24771850186746114,
            0.20411135790662494,
            0.3460630421837589,
            0.08045003604735246,
            0.04493315188200312,
            0.07294694446015972,
            0.043196177358891925,
            0.07318772790119997,
            0.11417037944970511,
            0.12421408114503112,
            0.1503031632292717,
            -0.20209332992934909,
            0.014269332569556006,
            -0.22090195319677555,
            -0.2714806915660985,
            -0.38114273906106505,
            -0.49390494847683414,
            0.2346209095819616,
            0.43378214892119316,
            -0.05377694667358234,
            0.19139459021554392,
            0.03541848405631238,
            -0.19869897471648096,
            0.04500613153026108,
            0.27008304713951375,
            -0.11848102529049206,
            -0.2839604103429767,
            0.03342098508406738,
            0.21622246628057415,
            -0.13554827756329746,
            -0.1674846371050442,
            0.23970699667907983,
            0.2522219374512751,
            0.17280497008950216,
            -0.4374035221909635,
            -0.18212111400225645,
            0.3975667420844801,
            -0.45626842201110085,
            -0.2765973093571112,
            -0.22671047857330012,
            0.22469701328189381,
            0.005952910704506854,
            -0.37299496547292305,
            -0.32195719308079424,
            -0.352372811774035,
            -0.22114743444903565,
            -0.5833596153362643,
            -0.25565497344265614,
            -0.40734242632131173,
            -0.29755140561754145,
            -0.17496841866963625,
            -0.33975911912456697,
            -0.6612126611710705,
            -0.2832858825318461,
            -0.38544667983031367,
            0.1420139343447893,
            -0.23927579296208,
            -0.04086007140857133,
            -0.33646957654307325,
            -0.24209457099686785,
            -0.33378123687409345,
            -0.38776436376484713,
            -0.42028173300399074,
            -0.300358971119162,
            -0.42354413650540157,
            -0.4620769539083913,
            -0.6319171184565553,
            -0.2566789106036771,
            -0.3806744461080405,
            -0.19137148579391472,
            -0.4437431576557059,
            -0.3005671829299878,
            -0.4290886775617545,
            -0.06103777504207168,
            -0.6340876371475347,
            -0.23123614525320033,
            -0.5573718869045953,
            -0.5365541062844383,
            -0.18442818350173965,
            -0.3418192646130841,
            0.19479602018522327,
            0.0721166263631772,
            -0.013172312092063213,
            -0.097705976738522,
            0.1572003186658815,
            0.6757575244933751,
            0.2041365832012467,
            -0.27339992277029934,
            0.08550158838690507,
            0.30234187804555224,
            -0.10836096587058056,
            0.3405150919470423,
            -0.12923317451780322,
            0.11106892633461712,
            -0.0659506371077516,
            0.12165033145780194,
            0.040160593510980294,
            0.35024924294370346,
            0.09287245694941271,
            -1.006709908303659,
            -1.173585668908354,
            -0.0825277915378323,
            0.5314871949375439,
            0.0850648086325256,
            0.7113841549632502,
            0.6118065172344375,
            0.052217603069841016,
            -0.09648306124266515,
            2.265693744916482,
            0.46926390033047294,
            -1.0422312421877855,
            0.19160202801207882,
            -0.8943120355917815,
            -0.40717991128525904,
            -0.9371860124258573,
            -0.9792983490902881,
            0.27630634406028737,
            2.1153559798825246,
            -0.6721767220095979,
            0.21734414922891065,
            1.1640114087084175,
            0.4278089493785179,
            -1.0076552456396506,
            -0.34686645176124753,
            -0.3301698521125703,
            -0.2829327024816375,
            -0.57181211314909,
            -0.31810683997786504,
            -0.3871201331598106,
            -0.5114910349104158,
            -0.3394273177756174,
            0.026826178365462857,
            0.03584976730579906,
            -0.4752263880185717,
            0.13427307452838172,
            -0.3195654078856732,
            -0.5929738613002361,
            -0.41877606689629954,
            -0.2624955058762039,
            -0.35880531425681755,
            -0.027928242772479975,
            -0.10557640624683766,
            -0.3844476700689581,
            -0.32598998121789224,
            -0.3503949444238379,
            -0.33570706645353077,
            -0.33086764798025003,
            0.24637449261304417,
            -0.33076074917300347,
            -0.3240685968724187,
            -0.5279311140438482,
            -0.07074477707416389,
            -0.09908232030551375,
            -0.5090759308049135,
            -0.21316570463127207,
            -0.3613488898763264,
            0.03523874412796406,
            0.1148088634555659,
            -0.275712593589044,
            -0.1967433513783449,
            -0.12272233455649054,
            -0.15634857988887774,
            0.2021376934785655,
            -0.4303450066772988,
            0.2660261919862939,
            -0.47978451451066245,
            0.2572177745214816,
            0.09845002959558646,
            0.0022095959335555254,
            -0.2421701579843493,
            0.5116783418979653,
            -0.2752184864387655,
            0.28906806484402475,
            0.38150265519670545,
            0.3825825381904164,
            0.23258066658725998,
            0.11264556009524426,
            0.512470099914457,
            0.5337940503796612,
            -0.0393532226823355,
            -0.1785189214284819,
            -0.029757284825753218,
            0.1410406235154842,
            0.5510550093240278,
            0.041303545912650994,
            0.056870604352117285,
            -0.00566024142323359,
            0.136431704147226,
            1.502789617139562,
            0.40048240539921254,
            -0.07071271758546419,
            0.08180411083699714,
            0.0547592069589569,
            0.2337847038894919,
            0.386047019700401,
            -0.250840407346951,
            0.16262032247201094,
            0.10099093358100807,
            0.06866612391700934,
            0.06167113352302789,
            -0.20561259277636978,
            0.2901557582362852,
            0.07292754885160453,
            0.45540629914332015,
            0.06287780444611192,
            0.48709662784384555,
            0.8627115801026674,
            0.10025183325739506,
            0.36408464160921433,
            0.2194026216397643,
            0.194513064525221,
            0.9517033810036426,
            -1.0977901430843142,
            0.14253295614626302,
            -0.4471428899865961,
            0.28015837682905304,
            -0.21665398529286076,
            -0.11480274552868486,
            0.047011056721530185,
            0.5366868711396057,
            -0.23128197223531607,
            -0.290693625925671,
            0.30587028626148904,
            -0.5199378526180586,
            0.02005070557450691,
            0.21806792387494456,
            -0.0729578504536585,
            -0.2693300209589247,
            -0.3792811879877978,
            0.10896555201703051,
            -0.07034877454022086,
            -0.3634380594530072,
            0.9496655685661651,
            0.8445062140633867,
            0.9207722313310419,
            1.196719595423684,
            0.9353258580034182,
            -0.9271457130309461,
            -0.5530416643890016,
            -0.758003036687686,
            -0.049604172106026724
           ]
          },
          {
           "axis": {
            "matches": true
           },
           "label": "PC 5 (3.0%)",
           "values": [
            0.48312951498909523,
            0.49044296340162896,
            0.575591229824465,
            0.5227211870021837,
            -0.13091233834603513,
            0.2295639464548666,
            0.22784140064099148,
            0.3644332059682883,
            0.019677584498520046,
            -0.007771122057894436,
            0.045541664425202924,
            -0.026982724355967172,
            -0.03469142955289654,
            -0.14607679379676955,
            -0.014639382014353013,
            0.35707487442956665,
            -0.014570350535295403,
            -0.24863404855691482,
            -0.06274615858977522,
            0.3500049688172037,
            0.08041785817375008,
            -0.19908910414245068,
            0.12428597677870394,
            -0.04109034958751634,
            0.48380739836857084,
            -0.029897435614028512,
            0.2076049836866465,
            -0.02250500852512726,
            0.23611147029294785,
            0.5897315530182031,
            -0.2426503860800604,
            -0.40064364492743054,
            -0.19813543548543386,
            -0.41853732138019245,
            -0.0888736516491148,
            -0.08724768072736792,
            -0.41527905411590393,
            -0.5463049577541497,
            -0.23753135214405066,
            -0.22382449558499296,
            -0.29986156546527876,
            -0.006850956676673748,
            0.11661720216700111,
            -0.06195384536839456,
            0.13072338583800136,
            -0.08851953155786203,
            -0.16503446143693445,
            0.49497194591090077,
            0.1058647875651616,
            0.00876379835452991,
            0.13547212035103834,
            0.14685287938445063,
            0.02790695148196162,
            0.330068582572392,
            0.0777132339937029,
            -0.37375332708650155,
            0.08526923422357416,
            0.44226789050003723,
            -0.17763882456987942,
            -0.18141477374888193,
            0.09546919823850694,
            -0.11325831397465308,
            0.35266279978253257,
            0.11086446976860971,
            0.15398625504457036,
            0.1637972492096258,
            0.1604306798792504,
            -0.2532507789384174,
            0.1865177182915596,
            0.08238198591725521,
            0.15976547716492667,
            0.1143776642680212,
            0.3702936474284022,
            -0.20088079494552505,
            0.008499276959060142,
            0.07154422853993425,
            -0.18807148967527412,
            -0.14596130095446092,
            0.08533937202592991,
            0.15395999762034485,
            0.04089626873559999,
            -0.20122929301980289,
            -0.13203393268648853,
            0.14255256074382303,
            0.20980822081492295,
            0.025367971056388793,
            -0.0857789371279678,
            0.464563443775184,
            0.09637727856914224,
            -0.44108229819629297,
            0.5137108739934267,
            0.2512571818053192,
            0.58090515431311,
            0.5321159880721387,
            0.08245439826168012,
            0.12351848914813011,
            0.31309034642695294,
            0.19556297189069802,
            0.33592440180268185,
            0.500938501688684,
            0.4795812727723987,
            0.4811095379140602,
            0.30734632392857786,
            -0.06834447160767451,
            0.451390495672697,
            0.00454941915425111,
            0.3371855721508407,
            0.45589463652232576,
            0.6021471355579205,
            0.26482972580917913,
            -0.23589277912405351,
            0.5881683277505112,
            0.2648885480552384,
            0.46195498530206597,
            0.3798671371263143,
            0.5452768484752233,
            -0.24420339369524838,
            0.24703191935398777,
            0.09625223709401724,
            0.0876524793673891,
            -0.11066700622381723,
            -0.02763597587494496,
            -0.1363945845447321,
            -0.27245953518546484,
            -0.23627046686727898,
            -0.2824688775887157,
            -0.27540593823791587,
            0.036905896645314754,
            -0.27637114996324363,
            -0.2990265126732616,
            -0.10926791248262771,
            -0.24377286054478986,
            -0.14370163469150463,
            -0.5325421838110797,
            0.11760341408911348,
            -0.17127212216142362,
            -0.19693959456895022,
            0.3877332365108076,
            -0.3551237901052005,
            0.34581649632475314,
            2.910928149073719,
            -0.22934711999645435,
            0.021952434257085016,
            -0.4127555772572139,
            -0.5682746577426531,
            -0.04850163204826482,
            -0.23600557528507835,
            -0.24520288792461833,
            0.31028502996563057,
            -0.05099374876824261,
            -0.8417485683487287,
            -0.2162303945416933,
            -0.5060649386818061,
            -0.7912179526873655,
            -0.7652043354837831,
            -1.0270251456210622,
            0.06124450482097437,
            0.024715668657965675,
            -1.1278141427327908,
            -0.5666060854546375,
            -0.7086446318596994,
            -0.06014090401426956,
            -0.8095832063436773,
            0.1260278591141649,
            -0.013718226926363635,
            0.08431260786834575,
            -0.11011862441937051,
            -0.08582547225090235,
            0.05362718385827196,
            -0.12448529661875223,
            -0.3251027956671509,
            -0.30363360210306406,
            0.03273025277417304,
            -0.04692581450726313,
            0.025512186746891666,
            0.0477339301485553,
            -0.07461790671830064,
            -0.1296792922066156,
            0.2009232369686726,
            -0.06070097188157953,
            -0.014858285041477952,
            1.183224188116578,
            0.1468848947484963,
            0.05806352996404595,
            -0.04044990569621279,
            0.016638882021332495,
            0.059048490641962034,
            0.16556942552355863,
            0.21755643425330978,
            -0.3983072515849048,
            0.014322504709004579,
            0.18784972727754087,
            0.11739976957200304,
            -0.1306080272965657,
            0.1368148084794986,
            0.22388686654888465,
            -0.43240386605512915,
            -0.2326107972190766,
            -0.33186556969534425,
            -0.08147810654843037,
            -0.11928419193235935,
            -0.39180780870177334,
            -0.27434745183031534,
            -0.17931872113459435,
            -0.4120370491781052,
            -0.14025726528003912,
            -0.7608951037151773,
            -0.20032749231520236,
            -0.21516973824961907,
            -0.0614431843509402,
            -0.46309061922605355,
            -0.3986334119276455,
            -0.4669182024955603,
            -0.6070450090793238,
            -0.2387731874032818,
            -0.09716125555297396,
            -0.3808213440921426,
            -0.3264970639524676,
            -0.6829622353021726,
            -0.3696551734979947,
            -0.11060269703503914,
            -0.12349845439695713,
            -0.6797158274273782,
            -0.3646651596515467,
            -0.22165087692846333,
            -0.2527514789779821,
            0.008129842396526421,
            0.125284366506927,
            0.4026263921684384,
            0.08684817621386817,
            0.30163188371067756,
            -0.3649919933371643,
            -0.1720247306806703,
            -0.23147253705497534,
            0.263048736072756,
            -0.21511722275121598,
            0.11073137034521349,
            -0.1705318354600389,
            0.31200313164106924,
            0.00035361781103580245,
            -0.30406536818143526,
            -0.09355619382441015,
            0.3765675870444378,
            -0.5331453951212117,
            -0.23259171707109316,
            -0.27101534413679457,
            -0.2331185637327342,
            0.062295603287421085,
            0.395924014858853,
            -0.0185120940104076,
            0.2731728132177561,
            -0.3848323480278697,
            -0.6650905470546342,
            0.12646407066981732,
            0.30273827020649674,
            0.25783139407232814,
            0.12122823091537799,
            -0.05230882039364618,
            0.2882133291076188,
            0.04326017641886388,
            -0.25706800822259573,
            0.10298612513290548,
            -0.29651153233220157,
            -0.05941124877098822,
            0.2159922932202884,
            0.3634616817905613,
            0.00587437286374631,
            0.13296896868197747,
            0.11701709027473535,
            0.3139982529373256,
            -0.21380727819092216,
            -0.06538374407454707,
            1.1327552035016666,
            0.009261456114528176,
            0.5100973091425784,
            0.25321097301918905,
            -0.2786608241224183,
            0.462614704320893,
            0.5048467078669221,
            0.7592764220920787,
            -0.049225785718814793
           ]
          }
         ],
         "hoverlabel": {
          "namelength": 0
         },
         "hovertemplate": "color=low<br>%{xaxis.title.text}=%{x}<br>%{yaxis.title.text}=%{y}",
         "legendgroup": "low",
         "marker": {
          "color": "#636efa",
          "symbol": "circle"
         },
         "name": "low",
         "showlegend": true,
         "type": "splom"
        },
        {
         "diagonal": {
          "visible": false
         },
         "dimensions": [
          {
           "axis": {
            "matches": true
           },
           "label": "PC 1 (58.2%)",
           "values": [
            -1.224140737827103,
            -0.43116553470719304,
            -1.303447996654996,
            -0.3115758210662156,
            -1.4728106741429445,
            -1.62135208200716,
            -2.3383904173209102,
            -1.6905302005396834,
            -1.6496034434619824,
            -1.7399483256854418,
            0.013886448316147207,
            -0.5386573364038895,
            -2.0794979883171636,
            0.4540719677408895,
            -0.17406020160810792,
            0.383961433803166,
            0.2712479558080849,
            0.08833252513989177,
            -0.05797617522323423,
            2.4901201274994964,
            3.5635026007798385,
            -0.5294981600909138,
            0.3678734091569374,
            2.4400116019825817,
            -0.26795896279964465,
            -0.46214493164699005,
            0.2966876005099105,
            0.07866063555758003,
            0.16431873579217637,
            -0.013551535477920757,
            -0.06303703200771048,
            -0.912060663401551,
            0.221952227555065,
            0.9214667759735317,
            0.4075406502387881,
            -0.6974746738995573,
            -2.029383202132306,
            -2.13159797051021,
            -1.430795402628847,
            -1.8060895844796192,
            -1.3717860756942901,
            -1.5256692513363133,
            -1.4439329703288755,
            -0.362816521465167,
            0.16241829934238322,
            -0.8020886603931835,
            -1.2555754045657217,
            -0.9360527515824411,
            -0.007753617494413116,
            -0.9741410806204841,
            5.412385737601341,
            0.12292559284267737,
            0.14097050878766557,
            2.809173070385037,
            1.727429193938964,
            0.9330333878894235,
            2.3715410126463157,
            1.3411208448885006,
            0.4157832414161009,
            -0.8679842884904696,
            0.516526703983703,
            1.0817831033211442,
            -0.8258498435662593,
            0.5619296101517327,
            0.930340632165965,
            -0.19434277895019197,
            3.04003792620906,
            1.4567173020326802,
            0.3197389640027477,
            0.6341016882552066,
            5.675902339033477,
            4.8920360345665825,
            4.255127967481879,
            0.9513053309082318
           ]
          },
          {
           "axis": {
            "matches": true
           },
           "label": "PC 2 (16.0%)",
           "values": [
            0.9714755004482317,
            1.3387891258730424,
            1.191849463081218,
            1.5343361193202107,
            1.996841880297194,
            1.2022116670683414,
            1.9214074280961346,
            2.3101747629754725,
            1.631153055362414,
            1.8317269561100693,
            0.36721458853235234,
            0.17838500104708815,
            1.3126088128172848,
            -0.7563085656551657,
            0.07993393418171886,
            -0.08732317446175984,
            -1.251738928929416,
            -0.446916047051609,
            -0.1033954493971127,
            -0.3303442588006705,
            -0.5275071849114196,
            -0.24618700117902234,
            -0.390164354169826,
            -1.1170956494932738,
            -0.5419397175436732,
            -0.48704534182616466,
            -1.428812723802042,
            -0.4724786959991615,
            -1.3958116482885339,
            -0.18582256675434167,
            -0.7872968992017735,
            -0.7125187425752403,
            -0.9091600304300067,
            -1.5712685179364625,
            -0.8906673418710357,
            0.7809643686423635,
            1.349039941498456,
            0.6969908951028874,
            0.16442932206298497,
            1.3191503350037168,
            0.24584868151690176,
            0.6781937574772475,
            1.512261272376721,
            -0.5198917178768033,
            -0.11685554588620198,
            -0.2226902143863286,
            -0.08622182176331657,
            -0.6731856949891875,
            -0.45834412751670717,
            -0.08856168089094464,
            -0.21203618086278797,
            -0.46015612967459946,
            -1.3625635885511806,
            1.5476572515276965,
            0.762744472075696,
            -0.16950277082950116,
            -0.5947375837263081,
            0.758200224523949,
            0.4696093598912658,
            -0.35770689501281866,
            -0.21718649832465445,
            -0.7088685713515969,
            -0.8401583591868479,
            -1.0864706694909783,
            -0.56945264284889,
            0.19975639861546332,
            0.4766423650344473,
            -1.1425657750072067,
            -0.5765856897647077,
            -0.9432770623974919,
            1.6906485624216756,
            1.081185942460507,
            0.8820555884102819,
            1.1854515549608338
           ]
          },
          {
           "axis": {
            "matches": true
           },
           "label": "PC 3 (8.4%)",
           "values": [
            1.642873665631445,
            0.6941303726295476,
            -0.27652012962935363,
            1.0564112590602288,
            0.16820301793003078,
            0.4818857834761133,
            -0.253201021992614,
            0.020835833455048795,
            -0.04390482007688745,
            0.7071566912864791,
            1.2105324257870098,
            2.297290526098842,
            -0.12180804316842458,
            0.029364842770781975,
            0.27756774098109044,
            1.1674729790117795,
            0.12658983902662183,
            0.06185433443587149,
            0.48274678493800893,
            -0.6461785268130652,
            -0.06222456096606115,
            -0.7788401654016102,
            -0.14086714356574942,
            -0.19133407416053916,
            0.11640098441676729,
            -0.5630231260666106,
            -0.10680928630061089,
            -0.1875219939068129,
            -0.010018287211130869,
            0.18319810656366015,
            -0.06243933027327728,
            0.5044176079543702,
            0.4226244491142201,
            0.04149388361938085,
            -0.6797123258849659,
            1.3881463942215757,
            0.05475825471855828,
            0.35249751855009925,
            0.0029002191680919088,
            -0.2991438241963964,
            1.1188820622222413,
            0.47721054522691586,
            0.17601227899309532,
            -0.14481265855560574,
            0.08939772475667766,
            -0.47988203957378045,
            -0.7602945322427596,
            -0.5640293004389976,
            0.8058435133876649,
            0.43304302958942453,
            0.3178828794333063,
            0.4231682193939946,
            -0.1686264663064371,
            -0.3126670779593701,
            -0.27120782169510965,
            -0.5543258590558663,
            -0.38465267254264707,
            -0.8747492589389236,
            -0.9104816804507124,
            0.2359593902067368,
            0.21707851006154352,
            0.26941855563272993,
            -0.3994927618359763,
            0.21042028423740008,
            0.15764454974451453,
            0.507204032725516,
            0.13814036303975344,
            0.3555158236565631,
            0.38271267038197126,
            -0.26281938643015307,
            -0.24436054464730758,
            0.18703127761599386,
            0.10428055979779095,
            -0.7639181538753657
           ]
          },
          {
           "axis": {
            "matches": true
           },
           "label": "PC 4 (4.3%)",
           "values": [
            0.454868950080026,
            0.060804198044253355,
            -0.05356362299644166,
            0.32177982415779194,
            -0.06942995240590386,
            -0.005520037207746593,
            0.0735696365641653,
            0.007403367811576233,
            -0.06839412827866313,
            0.12264690754003847,
            0.5477434463037554,
            0.469697868135541,
            0.19413886783409093,
            -0.09377049332849674,
            0.35875136378232997,
            0.5554825596132773,
            0.08187786963163751,
            -0.0924806441695466,
            -0.1225752927572255,
            0.586323704778637,
            0.6568868846529268,
            -0.18400867959848485,
            0.09299271053716648,
            0.5073775715870413,
            0.08452567489673998,
            0.11387695445480832,
            -0.09414785664394165,
            0.034799017283140214,
            0.11316641689195397,
            -0.14193162561565717,
            0.08056504326377677,
            0.2197472548351793,
            0.16272287223580867,
            0.3915204484591398,
            0.11796299355571693,
            -0.062184656854199195,
            -0.047814683772606226,
            0.04358486666803662,
            -0.19765793889113195,
            -0.4645928728698067,
            0.24411341872422232,
            -0.22928108838565875,
            -0.1893265244289443,
            -0.21622083218039612,
            0.1752015942697637,
            -0.6499347958492696,
            -0.6202198091198744,
            -0.7473285495816914,
            0.13091366895154297,
            0.12263500154291197,
            -1.0179636779845855,
            0.0873403379223532,
            -0.057806755664653875,
            -0.615775779436025,
            0.5025102765466692,
            0.32002536698285805,
            0.3934635612925734,
            0.2387913425647742,
            0.5646472899067667,
            -0.04807042956745328,
            0.5790405963629127,
            0.6279932109846201,
            -0.4655534627733767,
            -0.44456486866893397,
            -0.27565042945613905,
            -0.24191865974289034,
            0.9214667183823331,
            -0.1029750512070444,
            -0.33663858488253773,
            -0.15569611593126925,
            -0.7800765752883394,
            0.6105801373942771,
            1.1704465827829256,
            1.3565676624179315
           ]
          },
          {
           "axis": {
            "matches": true
           },
           "label": "PC 5 (3.0%)",
           "values": [
            0.5220883475923735,
            0.007583243389253553,
            0.1959543300711019,
            0.4893485885697911,
            0.09843476577323614,
            -0.19906482922154214,
            -0.003488242765042383,
            -0.06728367669131184,
            0.084804796037322,
            0.10887236817236198,
            0.03966721356852779,
            0.270042025025056,
            -0.1277863933203291,
            -0.11745463020178908,
            0.03376349878761222,
            0.044655105102972846,
            -0.19453341542236183,
            -0.1647504606794037,
            0.03176494728786842,
            0.0189410908139234,
            0.45870612746182604,
            0.09135655158524059,
            -0.14263825586875334,
            0.16364284848250726,
            -0.17436943687849,
            0.16352024760651102,
            -0.1710151256407886,
            -0.29119134643424177,
            0.08850104760711182,
            -0.17674617899788295,
            -0.23547982005024745,
            0.13022698609092967,
            -0.2654907980927916,
            0.12747630774477423,
            -0.23668639727193108,
            0.11761751610471875,
            0.051945191994187755,
            -0.038208317882789326,
            0.08660171698027959,
            -0.050843419238394263,
            0.036876583022690465,
            0.01596543362698035,
            0.06235699385100859,
            0.2387123028274161,
            0.3739934740862128,
            0.5611487076651872,
            0.6508447917081559,
            0.6614639781030254,
            -0.2671988983754186,
            -0.22987218926608785,
            0.19911323582471355,
            -0.35075173852895114,
            0.010496261063794398,
            -0.38516186542443703,
            -0.670015254691654,
            -0.18107127691096325,
            0.01890953830560957,
            -0.6906738672218881,
            -0.13115422014543648,
            -0.3498982033687565,
            -0.2313501987283465,
            -0.16323072096416782,
            0.20472100241121144,
            -0.28751128715358,
            0.002049950367913144,
            -0.3464789276044296,
            0.02477494324196021,
            -0.5424620681447552,
            -0.2837764478351108,
            -0.08156941695664717,
            1.0460540770096238,
            1.0976302926187858,
            1.09136527750022,
            0.38645943225378726
           ]
          }
         ],
         "hoverlabel": {
          "namelength": 0
         },
         "hovertemplate": "color=Medium<br>%{xaxis.title.text}=%{x}<br>%{yaxis.title.text}=%{y}",
         "legendgroup": "Medium",
         "marker": {
          "color": "#EF553B",
          "symbol": "circle"
         },
         "name": "Medium",
         "showlegend": true,
         "type": "splom"
        },
        {
         "diagonal": {
          "visible": false
         },
         "dimensions": [
          {
           "axis": {
            "matches": true
           },
           "label": "PC 1 (58.2%)",
           "values": [
            -1.4676681785722618,
            -0.7125511831856908,
            -2.026095053390506,
            -1.302338499559545,
            -1.7296889390301378,
            -2.0943968658133487,
            -1.3337908007046306,
            -0.9740292535949818,
            -0.3053464192236881,
            -0.07182721429412389,
            -0.24889509575311697,
            -0.3356536260013668,
            -1.5171422841011442,
            -1.2905812615833376,
            -1.685237435435924,
            -0.9187478722632708,
            -1.8723193545434245,
            -0.925178580281765,
            -1.3538990414612597,
            -0.37202657486597746,
            -0.6950060082672042,
            3.326099267310492,
            1.8824641211361226,
            5.5955401810442496,
            0.3332241302328783,
            5.384627016779692,
            0.6752028168358389,
            0.6095685233780163,
            -0.2382810328299123,
            -0.07375040835587342,
            -1.7068144902474642,
            0.6441339132693823,
            0.7393677443976732,
            0.056022004426303555,
            0.4778335176368082,
            -0.10550576360108822,
            0.7179207781888214,
            -0.7186789669317172,
            0.16838110791221397,
            -0.47102205774240935,
            -0.35240016268273877,
            -0.4072536166133205,
            1.5942418730921317,
            4.204422907937828,
            5.508368254812566,
            5.276613005779802
           ]
          },
          {
           "axis": {
            "matches": true
           },
           "label": "PC 2 (16.0%)",
           "values": [
            1.5847517897180021,
            1.3189372359454323,
            2.1414069868692165,
            1.206767281173553,
            2.043452043787575,
            2.1405617536248815,
            1.1033199101038595,
            0.01356948987781378,
            0.05832467161646029,
            -0.3989846979173013,
            -0.9096242594700666,
            -0.8629425209293028,
            0.4940533972855211,
            0.4724160952376312,
            0.739264734806856,
            -0.16518614676651944,
            1.0638741467062587,
            0.03505912769291579,
            -0.10196643626659879,
            -0.3872270661237796,
            -0.03244254000530307,
            -0.0014292657192109593,
            0.6268590123006383,
            0.5003352361933645,
            1.9930245752762827,
            0.7235207901150525,
            0.579004015904541,
            1.782816736267074,
            0.22362148611218768,
            -0.42737445896071896,
            0.8670301188785413,
            -0.37858391037559413,
            -0.9555827496638438,
            -0.01124930269869648,
            -1.092040653331657,
            -0.8116862646098258,
            -0.6965137904171625,
            0.5572747625492358,
            -0.8274179232706869,
            0.23052441307843136,
            -0.6169349667899504,
            -1.2276391899169594,
            0.08859412053128768,
            0.2994656608040308,
            1.8291217950841328,
            1.6267453104355278
           ]
          },
          {
           "axis": {
            "matches": true
           },
           "label": "PC 3 (8.4%)",
           "values": [
            0.5479927304896818,
            0.588056765875155,
            -0.48728062648234943,
            0.010907643814589127,
            0.05956401312790496,
            -0.42032108097867543,
            1.1807564498824028,
            -0.32867122984970715,
            -0.13864532483841266,
            -0.05451800010159518,
            -0.04767242691566086,
            0.05333454601952019,
            0.3358139915662944,
            0.4805471149554862,
            0.8316324405207625,
            0.5078340826764648,
            0.42250708221491323,
            2.1806985169273747,
            -0.01760504239345161,
            0.2708638920139867,
            0.008966268045343659,
            0.5363835736645275,
            -0.44018205475662686,
            0.7341357917933103,
            -1.5303987098273955,
            0.7007122170373086,
            -0.7072015443972705,
            -0.9141600118355758,
            1.1414566207359926,
            0.25568167312615664,
            -0.27283040410670445,
            -0.055711739432580204,
            -0.023979149832553986,
            -0.15568637205516797,
            0.20473066177984775,
            -0.37676088558749077,
            0.48539943792949564,
            0.10779951646481141,
            -0.28909207343800575,
            -0.348076053140748,
            -0.19647389807043167,
            -0.562385042259669,
            -0.11729206032912107,
            0.33679860803288636,
            -0.335604792247861,
            -0.33695163852080334
           ]
          },
          {
           "axis": {
            "matches": true
           },
           "label": "PC 4 (4.3%)",
           "values": [
            0.29003359705007037,
            -0.04623773913021992,
            -0.11100745380942362,
            -0.3200006654297255,
            -0.05255012282900232,
            -0.20798382170023377,
            0.17404312087433002,
            -0.06117116247657407,
            0.1612779225643993,
            -0.07799379018377256,
            0.026023057507681354,
            0.1710336837287821,
            -0.07011874948809547,
            -0.26914080936143425,
            -0.05190787163789659,
            -0.25820501504555615,
            -0.17626282993855047,
            0.32446683799536685,
            -0.32444314108107614,
            -0.0830955028007365,
            -0.12389009163495757,
            0.9345444775600458,
            0.8826068381490718,
            -0.8272249758518789,
            0.5256081628537548,
            -0.8098279529413586,
            -0.007350854088920913,
            -1.1737778543874455,
            -0.1584266853589626,
            -0.042887735791055065,
            -0.2602893288474923,
            0.3512199230160997,
            -0.26847524901700287,
            -0.37822568038960125,
            -0.2561142847416846,
            -0.001300086277721112,
            -0.21569301099942312,
            -0.5155283716522486,
            0.38036939408727327,
            -0.01822425241004811,
            0.015852697951257617,
            0.06674392289509838,
            0.9892097916841607,
            0.9967148065718421,
            -0.6032257322973972,
            -0.6343063352892171
           ]
          },
          {
           "axis": {
            "matches": true
           },
           "label": "PC 5 (3.0%)",
           "values": [
            0.530071648767273,
            0.0020721657739152504,
            -0.055266456000047676,
            -0.221036231961839,
            -0.06808405268459354,
            -0.12863750029292315,
            0.0806961835840015,
            0.04827053967459877,
            -0.19635960851847453,
            -0.09401450211002295,
            0.031233858906765943,
            0.16962392920083272,
            0.05529458520683549,
            0.06518172801270297,
            0.06319548790058016,
            -0.10653198677507018,
            0.1442708739795238,
            0.35348365819210115,
            0.02733018751233039,
            -0.4915850487284703,
            -0.42970956457439774,
            -0.7153217239503659,
            -0.35916304195407933,
            -0.41090439111281407,
            -0.165791512783114,
            -0.5911138975230311,
            0.01421886055283453,
            -0.7190195829498572,
            -0.22416444726379187,
            -0.042591888994966166,
            -0.3456511542463037,
            0.07675880552665953,
            -0.3707169904278104,
            -0.23816240604026842,
            -0.0663438097980962,
            0.17759727430695632,
            -0.23175301063564704,
            -0.2262266892990486,
            0.02860185849388459,
            -0.12528116152428326,
            0.056135612642922085,
            0.2964334819448519,
            0.45903969810514733,
            0.8328051942161804,
            0.7745077792027646,
            0.8182966874635557
           ]
          }
         ],
         "hoverlabel": {
          "namelength": 0
         },
         "hovertemplate": "color=High<br>%{xaxis.title.text}=%{x}<br>%{yaxis.title.text}=%{y}",
         "legendgroup": "High",
         "marker": {
          "color": "#00cc96",
          "symbol": "circle"
         },
         "name": "High",
         "showlegend": true,
         "type": "splom"
        }
       ],
       "layout": {
        "autosize": true,
        "dragmode": "select",
        "legend": {
         "title": {
          "text": "color"
         },
         "tracegroupgap": 0
        },
        "margin": {
         "t": 60
        },
        "template": {
         "data": {
          "bar": [
           {
            "error_x": {
             "color": "#2a3f5f"
            },
            "error_y": {
             "color": "#2a3f5f"
            },
            "marker": {
             "line": {
              "color": "#E5ECF6",
              "width": 0.5
             }
            },
            "type": "bar"
           }
          ],
          "barpolar": [
           {
            "marker": {
             "line": {
              "color": "#E5ECF6",
              "width": 0.5
             }
            },
            "type": "barpolar"
           }
          ],
          "carpet": [
           {
            "aaxis": {
             "endlinecolor": "#2a3f5f",
             "gridcolor": "white",
             "linecolor": "white",
             "minorgridcolor": "white",
             "startlinecolor": "#2a3f5f"
            },
            "baxis": {
             "endlinecolor": "#2a3f5f",
             "gridcolor": "white",
             "linecolor": "white",
             "minorgridcolor": "white",
             "startlinecolor": "#2a3f5f"
            },
            "type": "carpet"
           }
          ],
          "choropleth": [
           {
            "colorbar": {
             "outlinewidth": 0,
             "ticks": ""
            },
            "type": "choropleth"
           }
          ],
          "contour": [
           {
            "colorbar": {
             "outlinewidth": 0,
             "ticks": ""
            },
            "colorscale": [
             [
              0,
              "#0d0887"
             ],
             [
              0.1111111111111111,
              "#46039f"
             ],
             [
              0.2222222222222222,
              "#7201a8"
             ],
             [
              0.3333333333333333,
              "#9c179e"
             ],
             [
              0.4444444444444444,
              "#bd3786"
             ],
             [
              0.5555555555555556,
              "#d8576b"
             ],
             [
              0.6666666666666666,
              "#ed7953"
             ],
             [
              0.7777777777777778,
              "#fb9f3a"
             ],
             [
              0.8888888888888888,
              "#fdca26"
             ],
             [
              1,
              "#f0f921"
             ]
            ],
            "type": "contour"
           }
          ],
          "contourcarpet": [
           {
            "colorbar": {
             "outlinewidth": 0,
             "ticks": ""
            },
            "type": "contourcarpet"
           }
          ],
          "heatmap": [
           {
            "colorbar": {
             "outlinewidth": 0,
             "ticks": ""
            },
            "colorscale": [
             [
              0,
              "#0d0887"
             ],
             [
              0.1111111111111111,
              "#46039f"
             ],
             [
              0.2222222222222222,
              "#7201a8"
             ],
             [
              0.3333333333333333,
              "#9c179e"
             ],
             [
              0.4444444444444444,
              "#bd3786"
             ],
             [
              0.5555555555555556,
              "#d8576b"
             ],
             [
              0.6666666666666666,
              "#ed7953"
             ],
             [
              0.7777777777777778,
              "#fb9f3a"
             ],
             [
              0.8888888888888888,
              "#fdca26"
             ],
             [
              1,
              "#f0f921"
             ]
            ],
            "type": "heatmap"
           }
          ],
          "heatmapgl": [
           {
            "colorbar": {
             "outlinewidth": 0,
             "ticks": ""
            },
            "colorscale": [
             [
              0,
              "#0d0887"
             ],
             [
              0.1111111111111111,
              "#46039f"
             ],
             [
              0.2222222222222222,
              "#7201a8"
             ],
             [
              0.3333333333333333,
              "#9c179e"
             ],
             [
              0.4444444444444444,
              "#bd3786"
             ],
             [
              0.5555555555555556,
              "#d8576b"
             ],
             [
              0.6666666666666666,
              "#ed7953"
             ],
             [
              0.7777777777777778,
              "#fb9f3a"
             ],
             [
              0.8888888888888888,
              "#fdca26"
             ],
             [
              1,
              "#f0f921"
             ]
            ],
            "type": "heatmapgl"
           }
          ],
          "histogram": [
           {
            "marker": {
             "colorbar": {
              "outlinewidth": 0,
              "ticks": ""
             }
            },
            "type": "histogram"
           }
          ],
          "histogram2d": [
           {
            "colorbar": {
             "outlinewidth": 0,
             "ticks": ""
            },
            "colorscale": [
             [
              0,
              "#0d0887"
             ],
             [
              0.1111111111111111,
              "#46039f"
             ],
             [
              0.2222222222222222,
              "#7201a8"
             ],
             [
              0.3333333333333333,
              "#9c179e"
             ],
             [
              0.4444444444444444,
              "#bd3786"
             ],
             [
              0.5555555555555556,
              "#d8576b"
             ],
             [
              0.6666666666666666,
              "#ed7953"
             ],
             [
              0.7777777777777778,
              "#fb9f3a"
             ],
             [
              0.8888888888888888,
              "#fdca26"
             ],
             [
              1,
              "#f0f921"
             ]
            ],
            "type": "histogram2d"
           }
          ],
          "histogram2dcontour": [
           {
            "colorbar": {
             "outlinewidth": 0,
             "ticks": ""
            },
            "colorscale": [
             [
              0,
              "#0d0887"
             ],
             [
              0.1111111111111111,
              "#46039f"
             ],
             [
              0.2222222222222222,
              "#7201a8"
             ],
             [
              0.3333333333333333,
              "#9c179e"
             ],
             [
              0.4444444444444444,
              "#bd3786"
             ],
             [
              0.5555555555555556,
              "#d8576b"
             ],
             [
              0.6666666666666666,
              "#ed7953"
             ],
             [
              0.7777777777777778,
              "#fb9f3a"
             ],
             [
              0.8888888888888888,
              "#fdca26"
             ],
             [
              1,
              "#f0f921"
             ]
            ],
            "type": "histogram2dcontour"
           }
          ],
          "mesh3d": [
           {
            "colorbar": {
             "outlinewidth": 0,
             "ticks": ""
            },
            "type": "mesh3d"
           }
          ],
          "parcoords": [
           {
            "line": {
             "colorbar": {
              "outlinewidth": 0,
              "ticks": ""
             }
            },
            "type": "parcoords"
           }
          ],
          "pie": [
           {
            "automargin": true,
            "type": "pie"
           }
          ],
          "scatter": [
           {
            "marker": {
             "colorbar": {
              "outlinewidth": 0,
              "ticks": ""
             }
            },
            "type": "scatter"
           }
          ],
          "scatter3d": [
           {
            "line": {
             "colorbar": {
              "outlinewidth": 0,
              "ticks": ""
             }
            },
            "marker": {
             "colorbar": {
              "outlinewidth": 0,
              "ticks": ""
             }
            },
            "type": "scatter3d"
           }
          ],
          "scattercarpet": [
           {
            "marker": {
             "colorbar": {
              "outlinewidth": 0,
              "ticks": ""
             }
            },
            "type": "scattercarpet"
           }
          ],
          "scattergeo": [
           {
            "marker": {
             "colorbar": {
              "outlinewidth": 0,
              "ticks": ""
             }
            },
            "type": "scattergeo"
           }
          ],
          "scattergl": [
           {
            "marker": {
             "colorbar": {
              "outlinewidth": 0,
              "ticks": ""
             }
            },
            "type": "scattergl"
           }
          ],
          "scattermapbox": [
           {
            "marker": {
             "colorbar": {
              "outlinewidth": 0,
              "ticks": ""
             }
            },
            "type": "scattermapbox"
           }
          ],
          "scatterpolar": [
           {
            "marker": {
             "colorbar": {
              "outlinewidth": 0,
              "ticks": ""
             }
            },
            "type": "scatterpolar"
           }
          ],
          "scatterpolargl": [
           {
            "marker": {
             "colorbar": {
              "outlinewidth": 0,
              "ticks": ""
             }
            },
            "type": "scatterpolargl"
           }
          ],
          "scatterternary": [
           {
            "marker": {
             "colorbar": {
              "outlinewidth": 0,
              "ticks": ""
             }
            },
            "type": "scatterternary"
           }
          ],
          "surface": [
           {
            "colorbar": {
             "outlinewidth": 0,
             "ticks": ""
            },
            "colorscale": [
             [
              0,
              "#0d0887"
             ],
             [
              0.1111111111111111,
              "#46039f"
             ],
             [
              0.2222222222222222,
              "#7201a8"
             ],
             [
              0.3333333333333333,
              "#9c179e"
             ],
             [
              0.4444444444444444,
              "#bd3786"
             ],
             [
              0.5555555555555556,
              "#d8576b"
             ],
             [
              0.6666666666666666,
              "#ed7953"
             ],
             [
              0.7777777777777778,
              "#fb9f3a"
             ],
             [
              0.8888888888888888,
              "#fdca26"
             ],
             [
              1,
              "#f0f921"
             ]
            ],
            "type": "surface"
           }
          ],
          "table": [
           {
            "cells": {
             "fill": {
              "color": "#EBF0F8"
             },
             "line": {
              "color": "white"
             }
            },
            "header": {
             "fill": {
              "color": "#C8D4E3"
             },
             "line": {
              "color": "white"
             }
            },
            "type": "table"
           }
          ]
         },
         "layout": {
          "annotationdefaults": {
           "arrowcolor": "#2a3f5f",
           "arrowhead": 0,
           "arrowwidth": 1
          },
          "coloraxis": {
           "colorbar": {
            "outlinewidth": 0,
            "ticks": ""
           }
          },
          "colorscale": {
           "diverging": [
            [
             0,
             "#8e0152"
            ],
            [
             0.1,
             "#c51b7d"
            ],
            [
             0.2,
             "#de77ae"
            ],
            [
             0.3,
             "#f1b6da"
            ],
            [
             0.4,
             "#fde0ef"
            ],
            [
             0.5,
             "#f7f7f7"
            ],
            [
             0.6,
             "#e6f5d0"
            ],
            [
             0.7,
             "#b8e186"
            ],
            [
             0.8,
             "#7fbc41"
            ],
            [
             0.9,
             "#4d9221"
            ],
            [
             1,
             "#276419"
            ]
           ],
           "sequential": [
            [
             0,
             "#0d0887"
            ],
            [
             0.1111111111111111,
             "#46039f"
            ],
            [
             0.2222222222222222,
             "#7201a8"
            ],
            [
             0.3333333333333333,
             "#9c179e"
            ],
            [
             0.4444444444444444,
             "#bd3786"
            ],
            [
             0.5555555555555556,
             "#d8576b"
            ],
            [
             0.6666666666666666,
             "#ed7953"
            ],
            [
             0.7777777777777778,
             "#fb9f3a"
            ],
            [
             0.8888888888888888,
             "#fdca26"
            ],
            [
             1,
             "#f0f921"
            ]
           ],
           "sequentialminus": [
            [
             0,
             "#0d0887"
            ],
            [
             0.1111111111111111,
             "#46039f"
            ],
            [
             0.2222222222222222,
             "#7201a8"
            ],
            [
             0.3333333333333333,
             "#9c179e"
            ],
            [
             0.4444444444444444,
             "#bd3786"
            ],
            [
             0.5555555555555556,
             "#d8576b"
            ],
            [
             0.6666666666666666,
             "#ed7953"
            ],
            [
             0.7777777777777778,
             "#fb9f3a"
            ],
            [
             0.8888888888888888,
             "#fdca26"
            ],
            [
             1,
             "#f0f921"
            ]
           ]
          },
          "colorway": [
           "#636efa",
           "#EF553B",
           "#00cc96",
           "#ab63fa",
           "#FFA15A",
           "#19d3f3",
           "#FF6692",
           "#B6E880",
           "#FF97FF",
           "#FECB52"
          ],
          "font": {
           "color": "#2a3f5f"
          },
          "geo": {
           "bgcolor": "white",
           "lakecolor": "white",
           "landcolor": "#E5ECF6",
           "showlakes": true,
           "showland": true,
           "subunitcolor": "white"
          },
          "hoverlabel": {
           "align": "left"
          },
          "hovermode": "closest",
          "mapbox": {
           "style": "light"
          },
          "paper_bgcolor": "white",
          "plot_bgcolor": "#E5ECF6",
          "polar": {
           "angularaxis": {
            "gridcolor": "white",
            "linecolor": "white",
            "ticks": ""
           },
           "bgcolor": "#E5ECF6",
           "radialaxis": {
            "gridcolor": "white",
            "linecolor": "white",
            "ticks": ""
           }
          },
          "scene": {
           "xaxis": {
            "backgroundcolor": "#E5ECF6",
            "gridcolor": "white",
            "gridwidth": 2,
            "linecolor": "white",
            "showbackground": true,
            "ticks": "",
            "zerolinecolor": "white"
           },
           "yaxis": {
            "backgroundcolor": "#E5ECF6",
            "gridcolor": "white",
            "gridwidth": 2,
            "linecolor": "white",
            "showbackground": true,
            "ticks": "",
            "zerolinecolor": "white"
           },
           "zaxis": {
            "backgroundcolor": "#E5ECF6",
            "gridcolor": "white",
            "gridwidth": 2,
            "linecolor": "white",
            "showbackground": true,
            "ticks": "",
            "zerolinecolor": "white"
           }
          },
          "shapedefaults": {
           "line": {
            "color": "#2a3f5f"
           }
          },
          "ternary": {
           "aaxis": {
            "gridcolor": "white",
            "linecolor": "white",
            "ticks": ""
           },
           "baxis": {
            "gridcolor": "white",
            "linecolor": "white",
            "ticks": ""
           },
           "bgcolor": "#E5ECF6",
           "caxis": {
            "gridcolor": "white",
            "linecolor": "white",
            "ticks": ""
           }
          },
          "title": {
           "x": 0.05
          },
          "xaxis": {
           "automargin": true,
           "gridcolor": "white",
           "linecolor": "white",
           "ticks": "",
           "title": {
            "standoff": 15
           },
           "zerolinecolor": "white",
           "zerolinewidth": 2
          },
          "yaxis": {
           "automargin": true,
           "gridcolor": "white",
           "linecolor": "white",
           "ticks": "",
           "title": {
            "standoff": 15
           },
           "zerolinecolor": "white",
           "zerolinewidth": 2
          }
         }
        },
        "xaxis": {
         "autorange": false,
         "range": [
          -3.5737487278856204,
          7.088740634761068
         ],
         "type": "linear"
        },
        "xaxis2": {
         "autorange": false,
         "range": [
          -2.287615744215013,
          3.8952419860778096
         ],
         "type": "linear"
        },
        "xaxis3": {
         "autorange": false,
         "range": [
          -2.832662513374517,
          3.2100050505106426
         ],
         "type": "linear"
        },
        "xaxis4": {
         "autorange": false,
         "range": [
          -1.6924665385371978,
          2.7843824290662353
         ],
         "type": "linear"
        },
        "xaxis5": {
         "autorange": false,
         "range": [
          -1.7368756989849272,
          3.519989705325855
         ],
         "type": "linear"
        },
        "yaxis": {
         "autorange": false,
         "range": [
          -3.5737487278856204,
          7.088740634761068
         ],
         "type": "linear"
        },
        "yaxis2": {
         "autorange": false,
         "range": [
          -2.287615744215013,
          3.8952419860778096
         ],
         "type": "linear"
        },
        "yaxis3": {
         "autorange": false,
         "range": [
          -2.832662513374517,
          3.2100050505106426
         ],
         "type": "linear"
        },
        "yaxis4": {
         "autorange": false,
         "range": [
          -1.6924665385371978,
          2.7843824290662353
         ],
         "type": "linear"
        },
        "yaxis5": {
         "autorange": false,
         "range": [
          -1.7368756989849272,
          3.519989705325855
         ],
         "type": "linear"
        }
       }
      },
      "image/png": "[encoded data removed]",
      "text/html": [
       "<div>\n",
       "        \n",
       "        \n",
       "            <div id=\"60019278-4454-476d-a726-a05a5f940e7f\" class=\"plotly-graph-div\" style=\"height:525px; width:100%;\"></div>\n",
       "            <script type=\"text/javascript\">\n",
       "                require([\"plotly\"], function(Plotly) {\n",
       "                    window.PLOTLYENV=window.PLOTLYENV || {};\n",
       "                    \n",
       "                if (document.getElementById(\"60019278-4454-476d-a726-a05a5f940e7f\")) {\n",
       "                    Plotly.newPlot(\n",
       "                        '60019278-4454-476d-a726-a05a5f940e7f',\n",
       "                        [{\"diagonal\": {\"visible\": false}, \"dimensions\": [{\"axis\": {\"matches\": true}, \"label\": \"PC 1 (58.2%)\", \"values\": [-0.30727924235301723, -1.3230459017626988, -1.1835192015852007, -1.3271185062807602, -1.1424105082382443, -0.33964293123038575, -0.38271132296349475, -0.9585562491934508, -0.9813999420693635, -0.3156797704284502, -1.3377276060778867, -0.4795178001293532, 0.1241342972129607, 0.1124631600197113, -0.8019567050875159, -1.0177188568671858, -0.892594276960013, 0.022357359057112766, -0.5137428612636856, 0.344733779787108, -0.8440723247401694, 0.5867003195558593, 0.7587360543630921, 0.6588714522247613, 1.1004363390202092, 0.08459270954136205, 1.0010136044946487, 0.9704038378836752, 0.4548544164760193, -0.2753193065373976, 0.8687265707536701, 0.5286532588728017, 0.3768057642393935, 0.6700729096870676, 0.7676574044004518, 0.8597364310956299, 1.93308062699799, 0.5231308059745196, 0.8827648427185598, 0.04083088312411379, 0.5545680821093696, -0.2189610290922579, -0.34805042104867645, -0.020996775351417717, -0.40557668009778736, -0.2637867420672865, 0.3165369188920659, -0.09289011948939481, 0.06190129135782895, 0.6930472464034714, 0.43748020058799214, -0.7145877542439171, -0.32584107584608407, -0.6774358565866154, 0.13370758426797574, 0.01173172612092395, -0.8551862308099769, -0.7762610572622323, -0.2687339821656172, -0.18878059687764137, 0.17762426573058024, 0.11842897028687094, -0.7268059699991425, -0.7317447472453039, 0.09080955941180792, 0.06360197286713885, -0.46665467722338677, 0.15096545960129756, -0.9976414211825083, -0.663680819662579, -1.10730006363412, -0.8306748179866781, -0.9437790655610502, -1.2884198802106177, -0.9842532188768736, -1.033288054788285, -1.402976592013496, -0.29177031325052644, -1.1083550727545937, -2.1431277614465385, -1.279665106805024, -1.483622252254089, -0.9204873453633573, -1.1196785089395045, -1.163748845220307, -0.2068014693718023, -0.21199716809241018, -1.2467513334191114, -0.6383896693949889, -0.17633356390544888, -1.3557708202969228, -0.49180534113139546, -0.888471154488831, -0.7013298072248887, -0.48916465846202306, 0.009653932992900226, -1.2714574760707211, 0.10946610473259538, -0.6196124307370172, -1.1219069331710267, -1.0574770624480778, -1.0800689813190443, -0.6783065761096089, -0.12095536761240484, -0.571041844395998, -0.5267298488215251, -0.20980471526583094, -0.7839657278787766, -1.0970743159735994, -1.7607558729513422, -0.7639276038117205, -1.1585889823616247, -0.730347751998062, -1.374340120627467, -0.508026478963563, -0.9978276230613526, -2.043731025460526, -0.6378696425914343, -1.8476462470172352, -0.4468662322780471, -0.08484286958088232, -0.44639807230156026, -0.2243451502703835, -0.2553575114176564, 0.028717444539235457, 1.0267715827027124, 0.07475741307045003, 0.36689324483791, 0.2082139280741185, 0.21917633743178938, -0.0634950372043875, -0.17397999459870872, -0.013629862303741675, -0.11227242849896045, -0.27344656204594436, -0.45779574381540517, -1.1499511962784834, 0.2543681674156977, 0.4928571306935547, 5.334635727362091, 5.073762353173108, 0.12671407221682, 0.6763689164520537, 0.6712210721880288, 2.4341821188693955, 0.39463333304862624, 0.24653701418335408, 0.22731149439016785, 4.3685841258720535, -0.6818277018098267, 5.7698370596971, -0.10535033113204219, 5.336442231485349, 5.0981411362862765, 5.648821435565956, 5.3606388981433195, 0.3016997237437806, 3.522115693959958, 5.276890911037335, 0.3570377870113062, 0.5150284969700267, -0.10103589096090843, 5.853382324196358, -1.9201084233164414, -1.0621455325073577, -0.23079853247076376, -1.3563092528751102, -0.413375157848674, -1.64595598553089, -0.9639471122839434, -0.5001204373014704, 0.6182236558297576, 0.26573269282448025, -0.9892655822904998, -0.04579804273687082, -1.080085151101618, -1.4195197376819217, -1.0446080488418978, -0.6135117417403684, -1.7767744430080115, -1.157137615332094, -0.11211920971007391, -1.212165736976809, -0.857537230443163, -0.0035760873823646087, -0.3280140035001886, -1.4258815356387462, -0.914393137609248, -0.21018877778650008, -0.9813680374245819, 0.16898745237374746, -0.7571963005978906, 0.5382529171667623, -0.9690878195703958, -1.416725182174593, -0.21163542365803145, -0.16679602114840839, -0.7333353191242543, -2.1677577061623157, -1.8205674382876558, -2.190111021892792, -1.8872063487427089, -1.07201608824666, -1.1350284530218486, -0.8815228533238387, -1.862251207039088, -2.0370641555469096, -0.6330726004923952, -0.7793594192490673, -0.9512887955522168, -0.4524505592073509, -0.9552093592155951, -0.9427040702992832, -0.539004071877662, 0.09342017064793222, -1.0377028457534472, -0.8575434100138675, -0.4712830439210463, -0.16362577970968079, -0.6547060575886081, -1.5192153517689695, -0.7230380494665037, -0.848584138004981, -1.5798688967567434, -0.8814484202005598, -0.44642339875794523, -0.4989115563007672, -0.11044381691707066, 0.3118294032894278, -1.2131926677232383, -0.9559017867186589, 0.03922109027829634, -0.8283086861173496, -0.8400169556907486, -1.4200170506675767, 0.34990063789186243, -0.7713457426341195, -1.2758984170001963, -0.746073724483803, -0.9136896876060734, 2.8407968205710805, -0.023890818962768463, -0.9100393128873686, 0.8456681331450667, -0.8516699979970901, 0.6583078246485649, 1.244465165917873, -0.07027430109708002, 0.7149316994650735, 0.6921681653176358, -0.22068359792341335, 1.6854672094388168, 1.4286124561644593, -0.8906079324803544, -0.17877719451286447, -0.3343018330128041, 0.028794789038386517, 0.4148274154110353, -0.1071072785013799, 0.6492716078075579, 0.8396558856202261, -0.3062473313664366, 1.5870383741797116, 0.647147494645125, -0.10545934677764705, -0.9038062175053546, -0.13007062805315, -0.4488876260209161, -0.2671090910163583, -0.35508374509516577, 0.3772698664309979, -0.7586593534527405, 2.300306730646488, 0.6332052541222387, 2.2572820874640813, -0.037371455654688676, 0.896607989540723, 5.318178231848528, 5.237481108111443, 5.543496198906301, -0.6406661766925258]}, {\"axis\": {\"matches\": true}, \"label\": \"PC 2 (16.0%)\", \"values\": [0.992125851515766, 0.9474870465364927, 0.8427612404019789, 1.239320158544172, 0.4524811294049689, -0.46219719001261084, -0.06470801645622032, 0.07717773907099974, 0.26354471896015147, -0.7791878858413145, 0.5886258751774466, 0.9258662235256463, -0.3832299821016745, -1.0378782950689593, 0.038479723500404184, -0.16223604766324, 0.6979558305125587, -0.4181078357953858, -0.3378070690850452, -0.9283687059280976, -0.16355675702392447, -1.0504170550488994, -0.44057366601683495, -0.5290644982359833, -0.708201070271317, -0.566281942468725, -0.7348806323544369, -0.4862462883422103, -1.0120304039268893, -0.5763047412394606, -0.7592915108307237, -0.6397978599922296, -0.9385567540285928, -0.6602329712759285, -1.1608348664302741, -0.9657703496648119, -0.6662121018401103, -0.5837322927656684, -0.544283844141309, -0.03351200649825994, -0.7709027987042708, -0.16073639505393428, -0.7613995394308656, -0.6983676095473569, -0.5437662050898106, -1.038215050504851, -1.435037574354976, -1.4510493992832372, -1.0663758707613036, -1.5252685595118498, -1.260693711936732, -0.5966703307461941, -0.0008196318783191379, -0.2800121104390627, -0.6025404448320091, -0.7341205764652091, -0.5697331539086775, -0.2696457499509523, 0.026452896556017864, -0.9708651838467318, -0.4238387559616479, -0.31609970642703145, -0.3295628666906481, -0.3640378523819542, -0.2192279510206441, -0.28346293363379205, -0.32096589625314764, -0.22346380660652188, 0.0069702171672887305, 0.5430813535227267, 0.7058675623224162, -0.2459839536902698, 1.1654859630002323, -0.06781589925774657, 1.0149066223022092, 0.6438313719498218, 0.3458492168180145, 1.4444630469961475, 0.7113869970389907, 1.0865971252807076, 0.05846060743112988, 0.03482731599542746, 1.2120723906061075, -0.9102957394867721, -0.298601277420977, -0.9436031121932016, -0.7628276046371036, -0.36715058040179704, -0.440077751653929, -0.6003646760054109, -0.04781053507389621, -0.6734023051441709, -0.4072141708003896, -0.650570996692579, -0.46264593595018394, -0.4485415641345624, 0.013212023797806975, -0.571392395512022, -0.5725534851386189, -0.38799601138840684, -0.4184235352489932, -0.3580041521535471, -0.40493546344689657, -0.24650184003250658, -0.4312936595083714, -0.5170635245487624, -1.3262381275944035, -0.37107198213742243, -0.26947396512748084, -0.06822255506418282, -0.26155881394114106, -0.4130167882314688, -0.41042919805918304, -0.02408501054708312, -0.6726885649462853, -0.8448709826267503, 0.07080629959630763, -0.31030637986726867, 0.5723066927918682, -0.23256341515303475, -0.2335954017369774, -0.7554090446279078, -1.1391445860909577, -0.457458143260787, -0.6125619927966283, -0.3065023677354964, 0.3431979145877112, -0.13427925875546753, 0.4137758342520579, 0.016447966122166147, -1.1349358112169758, 0.7819129822402578, -1.4679220333422105, -0.4165884099040131, -1.3297270095572713, -0.3819354426255857, -0.38774856533774293, -0.6530946949190847, -0.580341138770152, 0.5209139053700224, 0.7184162178904439, -0.4611428239283413, -0.6870461562697424, -0.6095281607427016, -0.23639396208722924, -0.4065615305652333, 0.7395367584134196, -0.8455180931134002, -0.9769875856984052, 1.6764411476516958, 0.4099169499358364, -0.07001179436197985, 0.2514412968742343, 1.4225686471167172, 0.5205945497865045, 0.2969298561748822, -0.8869577272719265, 0.3207638460948185, 1.031519803631671, -0.26744641090734367, 2.3448212861176216, -0.22318676504466817, 0.07618341869258488, 1.0189851884111483, 0.2675760966749317, 0.25258827227937786, 0.4274471595921474, 0.10820559016599635, 0.7710216836570375, 0.6164379720190031, -0.4457739928962817, -1.0202869285429068, -0.06777461896394228, 0.7806866156705308, -0.3161833488790041, 0.33472733331438004, 0.9558762133830183, 0.7990666418570075, 0.46247045582066787, 0.8641659744614559, -0.4766208218487048, -0.2473057514789783, 0.1725382714349552, -0.19202738016517892, -1.2419273161335256, -0.5407370841627996, 0.17283750722224928, 0.2133721727477511, -0.29536135516733564, 0.055837828185858245, -0.36663502598263725, 0.48912954371383643, -0.4251326212291716, -1.3074782554308275, -1.2179316456599112, -0.8576229911769825, -0.023228535867402766, 0.3284175935746375, 1.5056686595206767, 0.9275415481103724, 1.5162811570229606, 0.6851357109892738, 0.3410150187061748, 0.592324464445495, 0.07789379377533048, 1.2264959141774776, 1.1238237791776244, 0.9202604825643158, 0.45755774803545, 0.964906514386111, -0.04570233882623444, 0.970356412409938, 0.08560121777068458, -0.3453719691380855, 0.2878448375070359, 0.4327569817194378, 0.3442246463257495, -0.06055489102825818, -0.39891456585746743, -0.7995710198394851, 0.8535833561219617, -0.7136550739366415, -0.30173328737071997, 0.25803473357544643, 0.9281293003329424, 0.5114028645691845, -0.6342621436643741, -0.4151832383515059, 3.17889475979926, 0.08664630066587314, -0.5142372202138347, -0.7408524697085391, -0.18729906080022296, 0.0859590756426501, 0.2851763359114131, -0.8016129977514551, -0.12803598676507014, -0.06205695916107857, -0.5156957199847262, -0.3138254375281788, 2.9861598918545758, -0.07673144991623931, -0.09561810895419669, -0.5570089948261497, -0.12333693807132812, 0.7810438310863385, 2.0132484906843846, -0.4673037654059764, 0.13579065053291975, -0.5669130255943416, -0.6008636792072907, 1.3864043512165847, 1.7384613779018954, -0.5450265453312637, 0.049129526736599406, -0.7933751215690976, -1.444153318920201, -0.6555296961330993, -0.9085495927545281, -0.3429707154082446, -0.9544606836848547, -0.9130420762696787, 0.171804107650227, -0.9955350896853691, -0.7806782867187775, 0.9329030134744568, -0.4355248008766561, -0.42074972573396724, -0.318986184727028, -0.8077608789658332, -1.091448021026565, -0.22794814535146618, 0.016885927441703075, 0.8292863234830485, 0.14601840250890608, 0.479835071318315, 0.38690232940472763, 0.7060469733820911, 1.672186709092985, 1.2973914649908844, 1.1189351932732838]}, {\"axis\": {\"matches\": true}, \"label\": \"PC 3 (8.4%)\", \"values\": [1.1807699584138844, 1.3347878621578544, 1.2139102135962196, 1.608334902246521, -0.39537101108984646, 2.509900287060507, 1.5453127168854432, -0.28139199809242843, -0.6531779156439749, 0.0534892691066299, -0.6310686437336313, -0.4458322347047368, 0.2278783599694745, -0.014313182820291587, -0.3682887913108479, -0.5902614209079196, -0.6761354262235567, -0.2833247984042052, -0.657415850719571, -0.724898497106884, -0.836429901273343, -0.2778438923138141, -0.8560117807572, -0.6815327644417783, -0.5508674131139838, -0.2031305210631264, -0.974970207993449, -0.07974355549824214, -0.8490269780087233, -0.4250714705521629, -0.2638891870452311, 0.037878459867197005, -0.026731548545190834, -0.68992899064729, -0.021474638218036263, -0.5463893233275768, -0.20555706340120872, -0.294130526430204, -0.5485429836262468, -0.5007259372662424, -0.38460085375147146, -0.6491875313509069, -0.8359132586973658, -0.7777434396593713, -0.10095195745492304, 0.2753453195646463, 0.0948493473018044, 0.07935071958888422, 0.12674076398670006, 0.1944771609479608, -0.042471125051057664, -0.46768846412944387, -0.9449045267052925, -1.1042907659964123, -0.4688001323367047, -0.3551747961395843, -0.2745400704484901, -0.3532826921338137, -0.32904173173156526, -0.29222739713296636, -0.6577750753537758, -0.4412277351678969, -0.9581924660195621, -0.6787108503437307, -0.9448009917221933, -0.39753521908899725, -0.22523227409496782, -0.2918454351339391, 1.7614078773820445, 0.9925032098194739, 0.7098163492393775, 1.5262509770682666, 1.5351514306225178, 0.8029472097113537, 0.6417253052860032, 0.9291478183607109, 1.0275822649616968, 1.011993925433018, 0.35535891021844923, -0.6123398214313727, 0.9146096419421035, 0.2425495129010101, 0.5693469257285801, 0.2271500375598006, -0.017868253860202767, 0.00846399112313562, 0.3918229584535611, -0.12410781428828138, -0.06524987964221816, 0.17551520757898095, -0.19691109560562042, 0.08892477970142618, -0.41997213093123803, -0.4509898547585311, 0.1304119882783946, 0.47530120766726985, -0.4947356134840333, 0.16968004837421752, -0.023602666344809835, 0.022838573424482252, -0.14237090864201243, -0.5507269940488252, -0.03445726795806357, 0.011593432231766704, -0.10590489258402114, 0.21927524215744504, 0.4139409716621632, 0.07151897968612907, -0.20688432600296722, -0.45311095906838805, 0.4189611205009249, 0.047056186444358564, -0.20733785873250818, -0.42302684782763855, -0.12866868316609356, -0.4007001048387351, -0.3048942023976598, -0.3427826284289113, -0.5357511601442277, 0.17783444754088093, -0.5007194456883213, -0.031027772400767883, -0.10255783993506828, -0.13081543434254603, -0.3722802978228351, -0.6243417735676327, -0.9998974697176246, -0.7177555055284165, -0.7890041731075639, -0.7559719672560599, 0.18714427974030354, -0.8281154069742541, 0.25505158027237534, -0.08859505950557864, 0.17385522073051848, -0.4141127564078453, 0.24157247888244718, -0.3353186939311778, -0.05146605678735556, 0.037126443566999075, -0.18238234761022024, -0.3436151638377291, 0.09712254785743038, -0.2789582211606999, 0.4068691500698238, 0.1462267021192768, -0.5031046687693633, -0.31139861233144706, 0.7634669778249121, -1.420965199646576, 0.5055847956640707, -0.3183357474338025, 0.4154418991910555, 0.26751697833458016, 0.6542471866253637, 0.7354752398555947, -0.07869966586940205, 0.4536260758073359, 0.4893148172733303, -0.0464593350937773, -1.750886163389595, 0.048399473277989824, 0.7880866694444925, -0.17641969050263182, 0.5832320634913882, 0.6533354838339119, -0.21503172395066442, 0.6560116633598242, -0.0980649548411656, 0.49559474968801265, 0.3512993701028665, 1.139309821940303, 1.1733033829183452, 0.299839356525721, 1.1939741232169607, -0.05453175334926851, -0.005706788623316111, 0.16243106429763565, 0.6716458551058603, -0.4810308128982257, -0.7764224249968837, 1.314467023732577, -0.23700069901422097, -0.2802899917881761, 0.1946015234515424, 0.39114269407827934, -0.40852806756966087, -0.7793230913097025, -0.12065226294606185, 0.03697549425444691, 0.14875045163959266, -0.10924319710820922, -0.22609648528570395, 0.08975991977741027, -0.031694941122990844, -0.24515931184046788, 0.5729864792625409, 0.7822180861513123, -0.48736941129822264, -0.33753106835890273, -0.725890882611651, -0.24205276477145046, 0.028615334743833997, 0.06846060119406508, -0.31525860083913687, -0.33599694522986867, -1.0087358129224835, 1.0386327664983754, 0.7319271729664301, 0.5089647257584172, 0.597354092772169, 0.44426867648580726, 0.7493535118604625, 0.7029860941725087, 1.0233398844010015, 0.8612033849720387, 0.4102582340576417, 1.0140438034988382, 0.8125342300314798, 0.3241324060386732, -0.08483612925759526, -0.016013131576377265, 0.26875232820955114, -0.2507075056220862, 0.27700415832509206, 0.8480416380707383, 0.14578642785875284, 0.15249218254887054, -1.6199487276909814, 0.2762959825543682, 0.039911000104504525, 0.352748989006963, 0.09007097417513164, -0.24144687026666262, -0.5645583276334473, 0.14830132480039715, -0.6449631944849232, -0.3928754488996569, 0.3782502679686882, -0.09365029498793113, -0.6857053674395561, -0.2876627820137297, -0.060524955059882084, 0.0029717054737552775, -0.22621886431525318, -0.34753898517894405, -0.854658610795388, -0.06927188572373055, -0.42196089379401647, 0.18409169234328954, 0.2431682321759608, -0.6314983076514566, -2.132557749924382, -0.38172995315940267, 0.12011634898362908, -0.19993190283532647, 0.08897246868545435, -0.3648487834028619, -0.6810672764598514, -0.9616770122301317, 0.17971150253637547, -0.16702605843102916, -0.9468680613210684, 0.26777097180490184, -0.12279247205045102, -1.00462995265312, -0.49381167615585336, -0.3614826320763276, -0.2034425861744059, -0.6777730097707723, -0.5909314988071738, -0.4014256015102924, -0.23655565557236088, 0.26193473619017427, -0.13263698801230359, -0.7324202420222894, 0.03245272350915684, 0.26792965500772986, -0.02303048014905437, 0.058789744488743974, 0.22174818704017848]}, {\"axis\": {\"matches\": true}, \"label\": \"PC 4 (4.3%)\", \"values\": [0.47538034770564325, 0.45078770786030375, 0.42091093653408007, 0.5248635798385797, 0.2999239641027063, 0.3936075096062381, 0.4836600292783145, -0.03300094744709932, 0.17536215378150505, -0.0625413147929123, -0.12046799164305629, -0.041212472338088835, -0.00197484385335852, 0.1174836065974017, -0.04708188475145366, -0.01155527382174118, -0.14606812057055277, 0.06457512851218981, -0.1975660179520294, -0.09691305752023158, 0.05061466828914271, 0.06192266408209156, 0.4861931608792712, 0.28732661753408184, 0.2768578360756477, 0.1337910297294972, 0.4876676535962912, 0.09432233809043496, 0.17740002405782102, -0.19247052973301415, 0.2077127654385225, 0.15783109189033326, 0.10966649831879842, 0.16820527019559306, 0.13458454623086158, 0.37241707755559117, 0.4291055322304952, 0.008322490379440528, 0.30248025191148226, 0.15552222586737596, 0.24771850186746114, 0.20411135790662494, 0.3460630421837589, 0.08045003604735246, 0.04493315188200312, 0.07294694446015972, 0.043196177358891925, 0.07318772790119997, 0.11417037944970511, 0.12421408114503112, 0.1503031632292717, -0.20209332992934909, 0.014269332569556006, -0.22090195319677555, -0.2714806915660985, -0.38114273906106505, -0.49390494847683414, 0.2346209095819616, 0.43378214892119316, -0.05377694667358234, 0.19139459021554392, 0.03541848405631238, -0.19869897471648096, 0.04500613153026108, 0.27008304713951375, -0.11848102529049206, -0.2839604103429767, 0.03342098508406738, 0.21622246628057415, -0.13554827756329746, -0.1674846371050442, 0.23970699667907983, 0.2522219374512751, 0.17280497008950216, -0.4374035221909635, -0.18212111400225645, 0.3975667420844801, -0.45626842201110085, -0.2765973093571112, -0.22671047857330012, 0.22469701328189381, 0.005952910704506854, -0.37299496547292305, -0.32195719308079424, -0.352372811774035, -0.22114743444903565, -0.5833596153362643, -0.25565497344265614, -0.40734242632131173, -0.29755140561754145, -0.17496841866963625, -0.33975911912456697, -0.6612126611710705, -0.2832858825318461, -0.38544667983031367, 0.1420139343447893, -0.23927579296208, -0.04086007140857133, -0.33646957654307325, -0.24209457099686785, -0.33378123687409345, -0.38776436376484713, -0.42028173300399074, -0.300358971119162, -0.42354413650540157, -0.4620769539083913, -0.6319171184565553, -0.2566789106036771, -0.3806744461080405, -0.19137148579391472, -0.4437431576557059, -0.3005671829299878, -0.4290886775617545, -0.06103777504207168, -0.6340876371475347, -0.23123614525320033, -0.5573718869045953, -0.5365541062844383, -0.18442818350173965, -0.3418192646130841, 0.19479602018522327, 0.0721166263631772, -0.013172312092063213, -0.097705976738522, 0.1572003186658815, 0.6757575244933751, 0.2041365832012467, -0.27339992277029934, 0.08550158838690507, 0.30234187804555224, -0.10836096587058056, 0.3405150919470423, -0.12923317451780322, 0.11106892633461712, -0.0659506371077516, 0.12165033145780194, 0.040160593510980294, 0.35024924294370346, 0.09287245694941271, -1.006709908303659, -1.173585668908354, -0.0825277915378323, 0.5314871949375439, 0.0850648086325256, 0.7113841549632502, 0.6118065172344375, 0.052217603069841016, -0.09648306124266515, 2.265693744916482, 0.46926390033047294, -1.0422312421877855, 0.19160202801207882, -0.8943120355917815, -0.40717991128525904, -0.9371860124258573, -0.9792983490902881, 0.27630634406028737, 2.1153559798825246, -0.6721767220095979, 0.21734414922891065, 1.1640114087084175, 0.4278089493785179, -1.0076552456396506, -0.34686645176124753, -0.3301698521125703, -0.2829327024816375, -0.57181211314909, -0.31810683997786504, -0.3871201331598106, -0.5114910349104158, -0.3394273177756174, 0.026826178365462857, 0.03584976730579906, -0.4752263880185717, 0.13427307452838172, -0.3195654078856732, -0.5929738613002361, -0.41877606689629954, -0.2624955058762039, -0.35880531425681755, -0.027928242772479975, -0.10557640624683766, -0.3844476700689581, -0.32598998121789224, -0.3503949444238379, -0.33570706645353077, -0.33086764798025003, 0.24637449261304417, -0.33076074917300347, -0.3240685968724187, -0.5279311140438482, -0.07074477707416389, -0.09908232030551375, -0.5090759308049135, -0.21316570463127207, -0.3613488898763264, 0.03523874412796406, 0.1148088634555659, -0.275712593589044, -0.1967433513783449, -0.12272233455649054, -0.15634857988887774, 0.2021376934785655, -0.4303450066772988, 0.2660261919862939, -0.47978451451066245, 0.2572177745214816, 0.09845002959558646, 0.0022095959335555254, -0.2421701579843493, 0.5116783418979653, -0.2752184864387655, 0.28906806484402475, 0.38150265519670545, 0.3825825381904164, 0.23258066658725998, 0.11264556009524426, 0.512470099914457, 0.5337940503796612, -0.0393532226823355, -0.1785189214284819, -0.029757284825753218, 0.1410406235154842, 0.5510550093240278, 0.041303545912650994, 0.056870604352117285, -0.00566024142323359, 0.136431704147226, 1.502789617139562, 0.40048240539921254, -0.07071271758546419, 0.08180411083699714, 0.0547592069589569, 0.2337847038894919, 0.386047019700401, -0.250840407346951, 0.16262032247201094, 0.10099093358100807, 0.06866612391700934, 0.06167113352302789, -0.20561259277636978, 0.2901557582362852, 0.07292754885160453, 0.45540629914332015, 0.06287780444611192, 0.48709662784384555, 0.8627115801026674, 0.10025183325739506, 0.36408464160921433, 0.2194026216397643, 0.194513064525221, 0.9517033810036426, -1.0977901430843142, 0.14253295614626302, -0.4471428899865961, 0.28015837682905304, -0.21665398529286076, -0.11480274552868486, 0.047011056721530185, 0.5366868711396057, -0.23128197223531607, -0.290693625925671, 0.30587028626148904, -0.5199378526180586, 0.02005070557450691, 0.21806792387494456, -0.0729578504536585, -0.2693300209589247, -0.3792811879877978, 0.10896555201703051, -0.07034877454022086, -0.3634380594530072, 0.9496655685661651, 0.8445062140633867, 0.9207722313310419, 1.196719595423684, 0.9353258580034182, -0.9271457130309461, -0.5530416643890016, -0.758003036687686, -0.049604172106026724]}, {\"axis\": {\"matches\": true}, \"label\": \"PC 5 (3.0%)\", \"values\": [0.48312951498909523, 0.49044296340162896, 0.575591229824465, 0.5227211870021837, -0.13091233834603513, 0.2295639464548666, 0.22784140064099148, 0.3644332059682883, 0.019677584498520046, -0.007771122057894436, 0.045541664425202924, -0.026982724355967172, -0.03469142955289654, -0.14607679379676955, -0.014639382014353013, 0.35707487442956665, -0.014570350535295403, -0.24863404855691482, -0.06274615858977522, 0.3500049688172037, 0.08041785817375008, -0.19908910414245068, 0.12428597677870394, -0.04109034958751634, 0.48380739836857084, -0.029897435614028512, 0.2076049836866465, -0.02250500852512726, 0.23611147029294785, 0.5897315530182031, -0.2426503860800604, -0.40064364492743054, -0.19813543548543386, -0.41853732138019245, -0.0888736516491148, -0.08724768072736792, -0.41527905411590393, -0.5463049577541497, -0.23753135214405066, -0.22382449558499296, -0.29986156546527876, -0.006850956676673748, 0.11661720216700111, -0.06195384536839456, 0.13072338583800136, -0.08851953155786203, -0.16503446143693445, 0.49497194591090077, 0.1058647875651616, 0.00876379835452991, 0.13547212035103834, 0.14685287938445063, 0.02790695148196162, 0.330068582572392, 0.0777132339937029, -0.37375332708650155, 0.08526923422357416, 0.44226789050003723, -0.17763882456987942, -0.18141477374888193, 0.09546919823850694, -0.11325831397465308, 0.35266279978253257, 0.11086446976860971, 0.15398625504457036, 0.1637972492096258, 0.1604306798792504, -0.2532507789384174, 0.1865177182915596, 0.08238198591725521, 0.15976547716492667, 0.1143776642680212, 0.3702936474284022, -0.20088079494552505, 0.008499276959060142, 0.07154422853993425, -0.18807148967527412, -0.14596130095446092, 0.08533937202592991, 0.15395999762034485, 0.04089626873559999, -0.20122929301980289, -0.13203393268648853, 0.14255256074382303, 0.20980822081492295, 0.025367971056388793, -0.0857789371279678, 0.464563443775184, 0.09637727856914224, -0.44108229819629297, 0.5137108739934267, 0.2512571818053192, 0.58090515431311, 0.5321159880721387, 0.08245439826168012, 0.12351848914813011, 0.31309034642695294, 0.19556297189069802, 0.33592440180268185, 0.500938501688684, 0.4795812727723987, 0.4811095379140602, 0.30734632392857786, -0.06834447160767451, 0.451390495672697, 0.00454941915425111, 0.3371855721508407, 0.45589463652232576, 0.6021471355579205, 0.26482972580917913, -0.23589277912405351, 0.5881683277505112, 0.2648885480552384, 0.46195498530206597, 0.3798671371263143, 0.5452768484752233, -0.24420339369524838, 0.24703191935398777, 0.09625223709401724, 0.0876524793673891, -0.11066700622381723, -0.02763597587494496, -0.1363945845447321, -0.27245953518546484, -0.23627046686727898, -0.2824688775887157, -0.27540593823791587, 0.036905896645314754, -0.27637114996324363, -0.2990265126732616, -0.10926791248262771, -0.24377286054478986, -0.14370163469150463, -0.5325421838110797, 0.11760341408911348, -0.17127212216142362, -0.19693959456895022, 0.3877332365108076, -0.3551237901052005, 0.34581649632475314, 2.910928149073719, -0.22934711999645435, 0.021952434257085016, -0.4127555772572139, -0.5682746577426531, -0.04850163204826482, -0.23600557528507835, -0.24520288792461833, 0.31028502996563057, -0.05099374876824261, -0.8417485683487287, -0.2162303945416933, -0.5060649386818061, -0.7912179526873655, -0.7652043354837831, -1.0270251456210622, 0.06124450482097437, 0.024715668657965675, -1.1278141427327908, -0.5666060854546375, -0.7086446318596994, -0.06014090401426956, -0.8095832063436773, 0.1260278591141649, -0.013718226926363635, 0.08431260786834575, -0.11011862441937051, -0.08582547225090235, 0.05362718385827196, -0.12448529661875223, -0.3251027956671509, -0.30363360210306406, 0.03273025277417304, -0.04692581450726313, 0.025512186746891666, 0.0477339301485553, -0.07461790671830064, -0.1296792922066156, 0.2009232369686726, -0.06070097188157953, -0.014858285041477952, 1.183224188116578, 0.1468848947484963, 0.05806352996404595, -0.04044990569621279, 0.016638882021332495, 0.059048490641962034, 0.16556942552355863, 0.21755643425330978, -0.3983072515849048, 0.014322504709004579, 0.18784972727754087, 0.11739976957200304, -0.1306080272965657, 0.1368148084794986, 0.22388686654888465, -0.43240386605512915, -0.2326107972190766, -0.33186556969534425, -0.08147810654843037, -0.11928419193235935, -0.39180780870177334, -0.27434745183031534, -0.17931872113459435, -0.4120370491781052, -0.14025726528003912, -0.7608951037151773, -0.20032749231520236, -0.21516973824961907, -0.0614431843509402, -0.46309061922605355, -0.3986334119276455, -0.4669182024955603, -0.6070450090793238, -0.2387731874032818, -0.09716125555297396, -0.3808213440921426, -0.3264970639524676, -0.6829622353021726, -0.3696551734979947, -0.11060269703503914, -0.12349845439695713, -0.6797158274273782, -0.3646651596515467, -0.22165087692846333, -0.2527514789779821, 0.008129842396526421, 0.125284366506927, 0.4026263921684384, 0.08684817621386817, 0.30163188371067756, -0.3649919933371643, -0.1720247306806703, -0.23147253705497534, 0.263048736072756, -0.21511722275121598, 0.11073137034521349, -0.1705318354600389, 0.31200313164106924, 0.00035361781103580245, -0.30406536818143526, -0.09355619382441015, 0.3765675870444378, -0.5331453951212117, -0.23259171707109316, -0.27101534413679457, -0.2331185637327342, 0.062295603287421085, 0.395924014858853, -0.0185120940104076, 0.2731728132177561, -0.3848323480278697, -0.6650905470546342, 0.12646407066981732, 0.30273827020649674, 0.25783139407232814, 0.12122823091537799, -0.05230882039364618, 0.2882133291076188, 0.04326017641886388, -0.25706800822259573, 0.10298612513290548, -0.29651153233220157, -0.05941124877098822, 0.2159922932202884, 0.3634616817905613, 0.00587437286374631, 0.13296896868197747, 0.11701709027473535, 0.3139982529373256, -0.21380727819092216, -0.06538374407454707, 1.1327552035016666, 0.009261456114528176, 0.5100973091425784, 0.25321097301918905, -0.2786608241224183, 0.462614704320893, 0.5048467078669221, 0.7592764220920787, -0.049225785718814793]}], \"hoverlabel\": {\"namelength\": 0}, \"hovertemplate\": \"color=low<br>%{xaxis.title.text}=%{x}<br>%{yaxis.title.text}=%{y}\", \"legendgroup\": \"low\", \"marker\": {\"color\": \"#636efa\", \"symbol\": \"circle\"}, \"name\": \"low\", \"showlegend\": true, \"type\": \"splom\"}, {\"diagonal\": {\"visible\": false}, \"dimensions\": [{\"axis\": {\"matches\": true}, \"label\": \"PC 1 (58.2%)\", \"values\": [-1.224140737827103, -0.43116553470719304, -1.303447996654996, -0.3115758210662156, -1.4728106741429445, -1.62135208200716, -2.3383904173209102, -1.6905302005396834, -1.6496034434619824, -1.7399483256854418, 0.013886448316147207, -0.5386573364038895, -2.0794979883171636, 0.4540719677408895, -0.17406020160810792, 0.383961433803166, 0.2712479558080849, 0.08833252513989177, -0.05797617522323423, 2.4901201274994964, 3.5635026007798385, -0.5294981600909138, 0.3678734091569374, 2.4400116019825817, -0.26795896279964465, -0.46214493164699005, 0.2966876005099105, 0.07866063555758003, 0.16431873579217637, -0.013551535477920757, -0.06303703200771048, -0.912060663401551, 0.221952227555065, 0.9214667759735317, 0.4075406502387881, -0.6974746738995573, -2.029383202132306, -2.13159797051021, -1.430795402628847, -1.8060895844796192, -1.3717860756942901, -1.5256692513363133, -1.4439329703288755, -0.362816521465167, 0.16241829934238322, -0.8020886603931835, -1.2555754045657217, -0.9360527515824411, -0.007753617494413116, -0.9741410806204841, 5.412385737601341, 0.12292559284267737, 0.14097050878766557, 2.809173070385037, 1.727429193938964, 0.9330333878894235, 2.3715410126463157, 1.3411208448885006, 0.4157832414161009, -0.8679842884904696, 0.516526703983703, 1.0817831033211442, -0.8258498435662593, 0.5619296101517327, 0.930340632165965, -0.19434277895019197, 3.04003792620906, 1.4567173020326802, 0.3197389640027477, 0.6341016882552066, 5.675902339033477, 4.8920360345665825, 4.255127967481879, 0.9513053309082318]}, {\"axis\": {\"matches\": true}, \"label\": \"PC 2 (16.0%)\", \"values\": [0.9714755004482317, 1.3387891258730424, 1.191849463081218, 1.5343361193202107, 1.996841880297194, 1.2022116670683414, 1.9214074280961346, 2.3101747629754725, 1.631153055362414, 1.8317269561100693, 0.36721458853235234, 0.17838500104708815, 1.3126088128172848, -0.7563085656551657, 0.07993393418171886, -0.08732317446175984, -1.251738928929416, -0.446916047051609, -0.1033954493971127, -0.3303442588006705, -0.5275071849114196, -0.24618700117902234, -0.390164354169826, -1.1170956494932738, -0.5419397175436732, -0.48704534182616466, -1.428812723802042, -0.4724786959991615, -1.3958116482885339, -0.18582256675434167, -0.7872968992017735, -0.7125187425752403, -0.9091600304300067, -1.5712685179364625, -0.8906673418710357, 0.7809643686423635, 1.349039941498456, 0.6969908951028874, 0.16442932206298497, 1.3191503350037168, 0.24584868151690176, 0.6781937574772475, 1.512261272376721, -0.5198917178768033, -0.11685554588620198, -0.2226902143863286, -0.08622182176331657, -0.6731856949891875, -0.45834412751670717, -0.08856168089094464, -0.21203618086278797, -0.46015612967459946, -1.3625635885511806, 1.5476572515276965, 0.762744472075696, -0.16950277082950116, -0.5947375837263081, 0.758200224523949, 0.4696093598912658, -0.35770689501281866, -0.21718649832465445, -0.7088685713515969, -0.8401583591868479, -1.0864706694909783, -0.56945264284889, 0.19975639861546332, 0.4766423650344473, -1.1425657750072067, -0.5765856897647077, -0.9432770623974919, 1.6906485624216756, 1.081185942460507, 0.8820555884102819, 1.1854515549608338]}, {\"axis\": {\"matches\": true}, \"label\": \"PC 3 (8.4%)\", \"values\": [1.642873665631445, 0.6941303726295476, -0.27652012962935363, 1.0564112590602288, 0.16820301793003078, 0.4818857834761133, -0.253201021992614, 0.020835833455048795, -0.04390482007688745, 0.7071566912864791, 1.2105324257870098, 2.297290526098842, -0.12180804316842458, 0.029364842770781975, 0.27756774098109044, 1.1674729790117795, 0.12658983902662183, 0.06185433443587149, 0.48274678493800893, -0.6461785268130652, -0.06222456096606115, -0.7788401654016102, -0.14086714356574942, -0.19133407416053916, 0.11640098441676729, -0.5630231260666106, -0.10680928630061089, -0.1875219939068129, -0.010018287211130869, 0.18319810656366015, -0.06243933027327728, 0.5044176079543702, 0.4226244491142201, 0.04149388361938085, -0.6797123258849659, 1.3881463942215757, 0.05475825471855828, 0.35249751855009925, 0.0029002191680919088, -0.2991438241963964, 1.1188820622222413, 0.47721054522691586, 0.17601227899309532, -0.14481265855560574, 0.08939772475667766, -0.47988203957378045, -0.7602945322427596, -0.5640293004389976, 0.8058435133876649, 0.43304302958942453, 0.3178828794333063, 0.4231682193939946, -0.1686264663064371, -0.3126670779593701, -0.27120782169510965, -0.5543258590558663, -0.38465267254264707, -0.8747492589389236, -0.9104816804507124, 0.2359593902067368, 0.21707851006154352, 0.26941855563272993, -0.3994927618359763, 0.21042028423740008, 0.15764454974451453, 0.507204032725516, 0.13814036303975344, 0.3555158236565631, 0.38271267038197126, -0.26281938643015307, -0.24436054464730758, 0.18703127761599386, 0.10428055979779095, -0.7639181538753657]}, {\"axis\": {\"matches\": true}, \"label\": \"PC 4 (4.3%)\", \"values\": [0.454868950080026, 0.060804198044253355, -0.05356362299644166, 0.32177982415779194, -0.06942995240590386, -0.005520037207746593, 0.0735696365641653, 0.007403367811576233, -0.06839412827866313, 0.12264690754003847, 0.5477434463037554, 0.469697868135541, 0.19413886783409093, -0.09377049332849674, 0.35875136378232997, 0.5554825596132773, 0.08187786963163751, -0.0924806441695466, -0.1225752927572255, 0.586323704778637, 0.6568868846529268, -0.18400867959848485, 0.09299271053716648, 0.5073775715870413, 0.08452567489673998, 0.11387695445480832, -0.09414785664394165, 0.034799017283140214, 0.11316641689195397, -0.14193162561565717, 0.08056504326377677, 0.2197472548351793, 0.16272287223580867, 0.3915204484591398, 0.11796299355571693, -0.062184656854199195, -0.047814683772606226, 0.04358486666803662, -0.19765793889113195, -0.4645928728698067, 0.24411341872422232, -0.22928108838565875, -0.1893265244289443, -0.21622083218039612, 0.1752015942697637, -0.6499347958492696, -0.6202198091198744, -0.7473285495816914, 0.13091366895154297, 0.12263500154291197, -1.0179636779845855, 0.0873403379223532, -0.057806755664653875, -0.615775779436025, 0.5025102765466692, 0.32002536698285805, 0.3934635612925734, 0.2387913425647742, 0.5646472899067667, -0.04807042956745328, 0.5790405963629127, 0.6279932109846201, -0.4655534627733767, -0.44456486866893397, -0.27565042945613905, -0.24191865974289034, 0.9214667183823331, -0.1029750512070444, -0.33663858488253773, -0.15569611593126925, -0.7800765752883394, 0.6105801373942771, 1.1704465827829256, 1.3565676624179315]}, {\"axis\": {\"matches\": true}, \"label\": \"PC 5 (3.0%)\", \"values\": [0.5220883475923735, 0.007583243389253553, 0.1959543300711019, 0.4893485885697911, 0.09843476577323614, -0.19906482922154214, -0.003488242765042383, -0.06728367669131184, 0.084804796037322, 0.10887236817236198, 0.03966721356852779, 0.270042025025056, -0.1277863933203291, -0.11745463020178908, 0.03376349878761222, 0.044655105102972846, -0.19453341542236183, -0.1647504606794037, 0.03176494728786842, 0.0189410908139234, 0.45870612746182604, 0.09135655158524059, -0.14263825586875334, 0.16364284848250726, -0.17436943687849, 0.16352024760651102, -0.1710151256407886, -0.29119134643424177, 0.08850104760711182, -0.17674617899788295, -0.23547982005024745, 0.13022698609092967, -0.2654907980927916, 0.12747630774477423, -0.23668639727193108, 0.11761751610471875, 0.051945191994187755, -0.038208317882789326, 0.08660171698027959, -0.050843419238394263, 0.036876583022690465, 0.01596543362698035, 0.06235699385100859, 0.2387123028274161, 0.3739934740862128, 0.5611487076651872, 0.6508447917081559, 0.6614639781030254, -0.2671988983754186, -0.22987218926608785, 0.19911323582471355, -0.35075173852895114, 0.010496261063794398, -0.38516186542443703, -0.670015254691654, -0.18107127691096325, 0.01890953830560957, -0.6906738672218881, -0.13115422014543648, -0.3498982033687565, -0.2313501987283465, -0.16323072096416782, 0.20472100241121144, -0.28751128715358, 0.002049950367913144, -0.3464789276044296, 0.02477494324196021, -0.5424620681447552, -0.2837764478351108, -0.08156941695664717, 1.0460540770096238, 1.0976302926187858, 1.09136527750022, 0.38645943225378726]}], \"hoverlabel\": {\"namelength\": 0}, \"hovertemplate\": \"color=Medium<br>%{xaxis.title.text}=%{x}<br>%{yaxis.title.text}=%{y}\", \"legendgroup\": \"Medium\", \"marker\": {\"color\": \"#EF553B\", \"symbol\": \"circle\"}, \"name\": \"Medium\", \"showlegend\": true, \"type\": \"splom\"}, {\"diagonal\": {\"visible\": false}, \"dimensions\": [{\"axis\": {\"matches\": true}, \"label\": \"PC 1 (58.2%)\", \"values\": [-1.4676681785722618, -0.7125511831856908, -2.026095053390506, -1.302338499559545, -1.7296889390301378, -2.0943968658133487, -1.3337908007046306, -0.9740292535949818, -0.3053464192236881, -0.07182721429412389, -0.24889509575311697, -0.3356536260013668, -1.5171422841011442, -1.2905812615833376, -1.685237435435924, -0.9187478722632708, -1.8723193545434245, -0.925178580281765, -1.3538990414612597, -0.37202657486597746, -0.6950060082672042, 3.326099267310492, 1.8824641211361226, 5.5955401810442496, 0.3332241302328783, 5.384627016779692, 0.6752028168358389, 0.6095685233780163, -0.2382810328299123, -0.07375040835587342, -1.7068144902474642, 0.6441339132693823, 0.7393677443976732, 0.056022004426303555, 0.4778335176368082, -0.10550576360108822, 0.7179207781888214, -0.7186789669317172, 0.16838110791221397, -0.47102205774240935, -0.35240016268273877, -0.4072536166133205, 1.5942418730921317, 4.204422907937828, 5.508368254812566, 5.276613005779802]}, {\"axis\": {\"matches\": true}, \"label\": \"PC 2 (16.0%)\", \"values\": [1.5847517897180021, 1.3189372359454323, 2.1414069868692165, 1.206767281173553, 2.043452043787575, 2.1405617536248815, 1.1033199101038595, 0.01356948987781378, 0.05832467161646029, -0.3989846979173013, -0.9096242594700666, -0.8629425209293028, 0.4940533972855211, 0.4724160952376312, 0.739264734806856, -0.16518614676651944, 1.0638741467062587, 0.03505912769291579, -0.10196643626659879, -0.3872270661237796, -0.03244254000530307, -0.0014292657192109593, 0.6268590123006383, 0.5003352361933645, 1.9930245752762827, 0.7235207901150525, 0.579004015904541, 1.782816736267074, 0.22362148611218768, -0.42737445896071896, 0.8670301188785413, -0.37858391037559413, -0.9555827496638438, -0.01124930269869648, -1.092040653331657, -0.8116862646098258, -0.6965137904171625, 0.5572747625492358, -0.8274179232706869, 0.23052441307843136, -0.6169349667899504, -1.2276391899169594, 0.08859412053128768, 0.2994656608040308, 1.8291217950841328, 1.6267453104355278]}, {\"axis\": {\"matches\": true}, \"label\": \"PC 3 (8.4%)\", \"values\": [0.5479927304896818, 0.588056765875155, -0.48728062648234943, 0.010907643814589127, 0.05956401312790496, -0.42032108097867543, 1.1807564498824028, -0.32867122984970715, -0.13864532483841266, -0.05451800010159518, -0.04767242691566086, 0.05333454601952019, 0.3358139915662944, 0.4805471149554862, 0.8316324405207625, 0.5078340826764648, 0.42250708221491323, 2.1806985169273747, -0.01760504239345161, 0.2708638920139867, 0.008966268045343659, 0.5363835736645275, -0.44018205475662686, 0.7341357917933103, -1.5303987098273955, 0.7007122170373086, -0.7072015443972705, -0.9141600118355758, 1.1414566207359926, 0.25568167312615664, -0.27283040410670445, -0.055711739432580204, -0.023979149832553986, -0.15568637205516797, 0.20473066177984775, -0.37676088558749077, 0.48539943792949564, 0.10779951646481141, -0.28909207343800575, -0.348076053140748, -0.19647389807043167, -0.562385042259669, -0.11729206032912107, 0.33679860803288636, -0.335604792247861, -0.33695163852080334]}, {\"axis\": {\"matches\": true}, \"label\": \"PC 4 (4.3%)\", \"values\": [0.29003359705007037, -0.04623773913021992, -0.11100745380942362, -0.3200006654297255, -0.05255012282900232, -0.20798382170023377, 0.17404312087433002, -0.06117116247657407, 0.1612779225643993, -0.07799379018377256, 0.026023057507681354, 0.1710336837287821, -0.07011874948809547, -0.26914080936143425, -0.05190787163789659, -0.25820501504555615, -0.17626282993855047, 0.32446683799536685, -0.32444314108107614, -0.0830955028007365, -0.12389009163495757, 0.9345444775600458, 0.8826068381490718, -0.8272249758518789, 0.5256081628537548, -0.8098279529413586, -0.007350854088920913, -1.1737778543874455, -0.1584266853589626, -0.042887735791055065, -0.2602893288474923, 0.3512199230160997, -0.26847524901700287, -0.37822568038960125, -0.2561142847416846, -0.001300086277721112, -0.21569301099942312, -0.5155283716522486, 0.38036939408727327, -0.01822425241004811, 0.015852697951257617, 0.06674392289509838, 0.9892097916841607, 0.9967148065718421, -0.6032257322973972, -0.6343063352892171]}, {\"axis\": {\"matches\": true}, \"label\": \"PC 5 (3.0%)\", \"values\": [0.530071648767273, 0.0020721657739152504, -0.055266456000047676, -0.221036231961839, -0.06808405268459354, -0.12863750029292315, 0.0806961835840015, 0.04827053967459877, -0.19635960851847453, -0.09401450211002295, 0.031233858906765943, 0.16962392920083272, 0.05529458520683549, 0.06518172801270297, 0.06319548790058016, -0.10653198677507018, 0.1442708739795238, 0.35348365819210115, 0.02733018751233039, -0.4915850487284703, -0.42970956457439774, -0.7153217239503659, -0.35916304195407933, -0.41090439111281407, -0.165791512783114, -0.5911138975230311, 0.01421886055283453, -0.7190195829498572, -0.22416444726379187, -0.042591888994966166, -0.3456511542463037, 0.07675880552665953, -0.3707169904278104, -0.23816240604026842, -0.0663438097980962, 0.17759727430695632, -0.23175301063564704, -0.2262266892990486, 0.02860185849388459, -0.12528116152428326, 0.056135612642922085, 0.2964334819448519, 0.45903969810514733, 0.8328051942161804, 0.7745077792027646, 0.8182966874635557]}], \"hoverlabel\": {\"namelength\": 0}, \"hovertemplate\": \"color=High<br>%{xaxis.title.text}=%{x}<br>%{yaxis.title.text}=%{y}\", \"legendgroup\": \"High\", \"marker\": {\"color\": \"#00cc96\", \"symbol\": \"circle\"}, \"name\": \"High\", \"showlegend\": true, \"type\": \"splom\"}],\n",
       "                        {\"dragmode\": \"select\", \"legend\": {\"title\": {\"text\": \"color\"}, \"tracegroupgap\": 0}, \"margin\": {\"t\": 60}, \"template\": {\"data\": {\"bar\": [{\"error_x\": {\"color\": \"#2a3f5f\"}, \"error_y\": {\"color\": \"#2a3f5f\"}, \"marker\": {\"line\": {\"color\": \"#E5ECF6\", \"width\": 0.5}}, \"type\": \"bar\"}], \"barpolar\": [{\"marker\": {\"line\": {\"color\": \"#E5ECF6\", \"width\": 0.5}}, \"type\": \"barpolar\"}], \"carpet\": [{\"aaxis\": {\"endlinecolor\": \"#2a3f5f\", \"gridcolor\": \"white\", \"linecolor\": \"white\", \"minorgridcolor\": \"white\", \"startlinecolor\": \"#2a3f5f\"}, \"baxis\": {\"endlinecolor\": \"#2a3f5f\", \"gridcolor\": \"white\", \"linecolor\": \"white\", \"minorgridcolor\": \"white\", \"startlinecolor\": \"#2a3f5f\"}, \"type\": \"carpet\"}], \"choropleth\": [{\"colorbar\": {\"outlinewidth\": 0, \"ticks\": \"\"}, \"type\": \"choropleth\"}], \"contour\": [{\"colorbar\": {\"outlinewidth\": 0, \"ticks\": \"\"}, \"colorscale\": [[0.0, \"#0d0887\"], [0.1111111111111111, \"#46039f\"], [0.2222222222222222, \"#7201a8\"], [0.3333333333333333, \"#9c179e\"], [0.4444444444444444, \"#bd3786\"], [0.5555555555555556, \"#d8576b\"], [0.6666666666666666, \"#ed7953\"], [0.7777777777777778, \"#fb9f3a\"], [0.8888888888888888, \"#fdca26\"], [1.0, \"#f0f921\"]], \"type\": \"contour\"}], \"contourcarpet\": [{\"colorbar\": {\"outlinewidth\": 0, \"ticks\": \"\"}, \"type\": \"contourcarpet\"}], \"heatmap\": [{\"colorbar\": {\"outlinewidth\": 0, \"ticks\": \"\"}, \"colorscale\": [[0.0, \"#0d0887\"], [0.1111111111111111, \"#46039f\"], [0.2222222222222222, \"#7201a8\"], [0.3333333333333333, \"#9c179e\"], [0.4444444444444444, \"#bd3786\"], [0.5555555555555556, \"#d8576b\"], [0.6666666666666666, \"#ed7953\"], [0.7777777777777778, \"#fb9f3a\"], [0.8888888888888888, \"#fdca26\"], [1.0, \"#f0f921\"]], \"type\": \"heatmap\"}], \"heatmapgl\": [{\"colorbar\": {\"outlinewidth\": 0, \"ticks\": \"\"}, \"colorscale\": [[0.0, \"#0d0887\"], [0.1111111111111111, \"#46039f\"], [0.2222222222222222, \"#7201a8\"], [0.3333333333333333, \"#9c179e\"], [0.4444444444444444, \"#bd3786\"], [0.5555555555555556, \"#d8576b\"], [0.6666666666666666, \"#ed7953\"], [0.7777777777777778, \"#fb9f3a\"], [0.8888888888888888, \"#fdca26\"], [1.0, \"#f0f921\"]], \"type\": \"heatmapgl\"}], \"histogram\": [{\"marker\": {\"colorbar\": {\"outlinewidth\": 0, \"ticks\": \"\"}}, \"type\": \"histogram\"}], \"histogram2d\": [{\"colorbar\": {\"outlinewidth\": 0, \"ticks\": \"\"}, \"colorscale\": [[0.0, \"#0d0887\"], [0.1111111111111111, \"#46039f\"], [0.2222222222222222, \"#7201a8\"], [0.3333333333333333, \"#9c179e\"], [0.4444444444444444, \"#bd3786\"], [0.5555555555555556, \"#d8576b\"], [0.6666666666666666, \"#ed7953\"], [0.7777777777777778, \"#fb9f3a\"], [0.8888888888888888, \"#fdca26\"], [1.0, \"#f0f921\"]], \"type\": \"histogram2d\"}], \"histogram2dcontour\": [{\"colorbar\": {\"outlinewidth\": 0, \"ticks\": \"\"}, \"colorscale\": [[0.0, \"#0d0887\"], [0.1111111111111111, \"#46039f\"], [0.2222222222222222, \"#7201a8\"], [0.3333333333333333, \"#9c179e\"], [0.4444444444444444, \"#bd3786\"], [0.5555555555555556, \"#d8576b\"], [0.6666666666666666, \"#ed7953\"], [0.7777777777777778, \"#fb9f3a\"], [0.8888888888888888, \"#fdca26\"], [1.0, \"#f0f921\"]], \"type\": \"histogram2dcontour\"}], \"mesh3d\": [{\"colorbar\": {\"outlinewidth\": 0, \"ticks\": \"\"}, \"type\": \"mesh3d\"}], \"parcoords\": [{\"line\": {\"colorbar\": {\"outlinewidth\": 0, \"ticks\": \"\"}}, \"type\": \"parcoords\"}], \"pie\": [{\"automargin\": true, \"type\": \"pie\"}], \"scatter\": [{\"marker\": {\"colorbar\": {\"outlinewidth\": 0, \"ticks\": \"\"}}, \"type\": \"scatter\"}], \"scatter3d\": [{\"line\": {\"colorbar\": {\"outlinewidth\": 0, \"ticks\": \"\"}}, \"marker\": {\"colorbar\": {\"outlinewidth\": 0, \"ticks\": \"\"}}, \"type\": \"scatter3d\"}], \"scattercarpet\": [{\"marker\": {\"colorbar\": {\"outlinewidth\": 0, \"ticks\": \"\"}}, \"type\": \"scattercarpet\"}], \"scattergeo\": [{\"marker\": {\"colorbar\": {\"outlinewidth\": 0, \"ticks\": \"\"}}, \"type\": \"scattergeo\"}], \"scattergl\": [{\"marker\": {\"colorbar\": {\"outlinewidth\": 0, \"ticks\": \"\"}}, \"type\": \"scattergl\"}], \"scattermapbox\": [{\"marker\": {\"colorbar\": {\"outlinewidth\": 0, \"ticks\": \"\"}}, \"type\": \"scattermapbox\"}], \"scatterpolar\": [{\"marker\": {\"colorbar\": {\"outlinewidth\": 0, \"ticks\": \"\"}}, \"type\": \"scatterpolar\"}], \"scatterpolargl\": [{\"marker\": {\"colorbar\": {\"outlinewidth\": 0, \"ticks\": \"\"}}, \"type\": \"scatterpolargl\"}], \"scatterternary\": [{\"marker\": {\"colorbar\": {\"outlinewidth\": 0, \"ticks\": \"\"}}, \"type\": \"scatterternary\"}], \"surface\": [{\"colorbar\": {\"outlinewidth\": 0, \"ticks\": \"\"}, \"colorscale\": [[0.0, \"#0d0887\"], [0.1111111111111111, \"#46039f\"], [0.2222222222222222, \"#7201a8\"], [0.3333333333333333, \"#9c179e\"], [0.4444444444444444, \"#bd3786\"], [0.5555555555555556, \"#d8576b\"], [0.6666666666666666, \"#ed7953\"], [0.7777777777777778, \"#fb9f3a\"], [0.8888888888888888, \"#fdca26\"], [1.0, \"#f0f921\"]], \"type\": \"surface\"}], \"table\": [{\"cells\": {\"fill\": {\"color\": \"#EBF0F8\"}, \"line\": {\"color\": \"white\"}}, \"header\": {\"fill\": {\"color\": \"#C8D4E3\"}, \"line\": {\"color\": \"white\"}}, \"type\": \"table\"}]}, \"layout\": {\"annotationdefaults\": {\"arrowcolor\": \"#2a3f5f\", \"arrowhead\": 0, \"arrowwidth\": 1}, \"coloraxis\": {\"colorbar\": {\"outlinewidth\": 0, \"ticks\": \"\"}}, \"colorscale\": {\"diverging\": [[0, \"#8e0152\"], [0.1, \"#c51b7d\"], [0.2, \"#de77ae\"], [0.3, \"#f1b6da\"], [0.4, \"#fde0ef\"], [0.5, \"#f7f7f7\"], [0.6, \"#e6f5d0\"], [0.7, \"#b8e186\"], [0.8, \"#7fbc41\"], [0.9, \"#4d9221\"], [1, \"#276419\"]], \"sequential\": [[0.0, \"#0d0887\"], [0.1111111111111111, \"#46039f\"], [0.2222222222222222, \"#7201a8\"], [0.3333333333333333, \"#9c179e\"], [0.4444444444444444, \"#bd3786\"], [0.5555555555555556, \"#d8576b\"], [0.6666666666666666, \"#ed7953\"], [0.7777777777777778, \"#fb9f3a\"], [0.8888888888888888, \"#fdca26\"], [1.0, \"#f0f921\"]], \"sequentialminus\": [[0.0, \"#0d0887\"], [0.1111111111111111, \"#46039f\"], [0.2222222222222222, \"#7201a8\"], [0.3333333333333333, \"#9c179e\"], [0.4444444444444444, \"#bd3786\"], [0.5555555555555556, \"#d8576b\"], [0.6666666666666666, \"#ed7953\"], [0.7777777777777778, \"#fb9f3a\"], [0.8888888888888888, \"#fdca26\"], [1.0, \"#f0f921\"]]}, \"colorway\": [\"#636efa\", \"#EF553B\", \"#00cc96\", \"#ab63fa\", \"#FFA15A\", \"#19d3f3\", \"#FF6692\", \"#B6E880\", \"#FF97FF\", \"#FECB52\"], \"font\": {\"color\": \"#2a3f5f\"}, \"geo\": {\"bgcolor\": \"white\", \"lakecolor\": \"white\", \"landcolor\": \"#E5ECF6\", \"showlakes\": true, \"showland\": true, \"subunitcolor\": \"white\"}, \"hoverlabel\": {\"align\": \"left\"}, \"hovermode\": \"closest\", \"mapbox\": {\"style\": \"light\"}, \"paper_bgcolor\": \"white\", \"plot_bgcolor\": \"#E5ECF6\", \"polar\": {\"angularaxis\": {\"gridcolor\": \"white\", \"linecolor\": \"white\", \"ticks\": \"\"}, \"bgcolor\": \"#E5ECF6\", \"radialaxis\": {\"gridcolor\": \"white\", \"linecolor\": \"white\", \"ticks\": \"\"}}, \"scene\": {\"xaxis\": {\"backgroundcolor\": \"#E5ECF6\", \"gridcolor\": \"white\", \"gridwidth\": 2, \"linecolor\": \"white\", \"showbackground\": true, \"ticks\": \"\", \"zerolinecolor\": \"white\"}, \"yaxis\": {\"backgroundcolor\": \"#E5ECF6\", \"gridcolor\": \"white\", \"gridwidth\": 2, \"linecolor\": \"white\", \"showbackground\": true, \"ticks\": \"\", \"zerolinecolor\": \"white\"}, \"zaxis\": {\"backgroundcolor\": \"#E5ECF6\", \"gridcolor\": \"white\", \"gridwidth\": 2, \"linecolor\": \"white\", \"showbackground\": true, \"ticks\": \"\", \"zerolinecolor\": \"white\"}}, \"shapedefaults\": {\"line\": {\"color\": \"#2a3f5f\"}}, \"ternary\": {\"aaxis\": {\"gridcolor\": \"white\", \"linecolor\": \"white\", \"ticks\": \"\"}, \"baxis\": {\"gridcolor\": \"white\", \"linecolor\": \"white\", \"ticks\": \"\"}, \"bgcolor\": \"#E5ECF6\", \"caxis\": {\"gridcolor\": \"white\", \"linecolor\": \"white\", \"ticks\": \"\"}}, \"title\": {\"x\": 0.05}, \"xaxis\": {\"automargin\": true, \"gridcolor\": \"white\", \"linecolor\": \"white\", \"ticks\": \"\", \"title\": {\"standoff\": 15}, \"zerolinecolor\": \"white\", \"zerolinewidth\": 2}, \"yaxis\": {\"automargin\": true, \"gridcolor\": \"white\", \"linecolor\": \"white\", \"ticks\": \"\", \"title\": {\"standoff\": 15}, \"zerolinecolor\": \"white\", \"zerolinewidth\": 2}}}},\n",
       "                        {\"responsive\": true}\n",
       "                    ).then(function(){\n",
       "                            \n",
       "var gd = document.getElementById('60019278-4454-476d-a726-a05a5f940e7f');\n",
       "var x = new MutationObserver(function (mutations, observer) {{\n",
       "        var display = window.getComputedStyle(gd).display;\n",
       "        if (!display || display === 'none') {{\n",
       "            console.log([gd, 'removed!']);\n",
       "            Plotly.purge(gd);\n",
       "            observer.disconnect();\n",
       "        }}\n",
       "}});\n",
       "\n",
       "// Listen for the removal of the full notebook cells\n",
       "var notebookContainer = gd.closest('#notebook-container');\n",
       "if (notebookContainer) {{\n",
       "    x.observe(notebookContainer, {childList: true});\n",
       "}}\n",
       "\n",
       "// Listen for the clearing of the current output cell\n",
       "var outputEl = gd.closest('.output');\n",
       "if (outputEl) {{\n",
       "    x.observe(outputEl, {childList: true});\n",
       "}}\n",
       "\n",
       "                        })\n",
       "                };\n",
       "                });\n",
       "            </script>\n",
       "        </div>"
      ]
     },
     "metadata": {},
     "output_type": "display_data"
    }
   ],
   "source": [
    "#PCA2 plotting\n",
    "y2 = raw_nonhealth.iloc[:,0]\n",
    "rate_label2 = []\n",
    "low_rate2 = 17.5\n",
    "medium_rate2 = 24\n",
    "for i in y2:\n",
    "    if i <= low_rate:\n",
    "        rate_label2.append(\"low\")\n",
    "    if i <= medium_rate and i > low_rate:\n",
    "        rate_label2.append(\"Medium\")    \n",
    "    if i > medium_rate:\n",
    "        rate_label2.append(\"High\")\n",
    "        \n",
    "labels2 = {\n",
    "    str(i): f\"PC {i+1} ({var:.1f}%)\"\n",
    "    for i, var in enumerate(pca2.explained_variance_ratio_ * 100)\n",
    "}\n",
    "fig = px.scatter_matrix(\n",
    "    nonhealth_pca,\n",
    "    labels = labels2,\n",
    "    dimensions = range(5),\n",
    "    color = rate_label2\n",
    ")\n",
    "fig.update_traces(diagonal_visible=False)\n",
    "fig.show()"
   ]
  }
 ],
 "metadata": {
  "kernelspec": {
   "display_name": "Python 3",
   "language": "python",
   "name": "python3"
  },
  "language_info": {
   "codemirror_mode": {
    "name": "ipython",
    "version": 3
   },
   "file_extension": ".py",
   "mimetype": "text/x-python",
   "name": "python",
   "nbconvert_exporter": "python",
   "pygments_lexer": "ipython3",
   "version": "3.7.6"
  }
 },
 "nbformat": 4,
 "nbformat_minor": 4
}
