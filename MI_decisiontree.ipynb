{
 "cells": [
  {
   "cell_type": "code",
   "execution_count": 4,
   "metadata": {},
   "outputs": [],
   "source": [
    "%matplotlib inline\n",
    "import matplotlib.pyplot as plt\n",
    "import seaborn as sns\n",
    "import pandas as pd\n",
    "import numpy as np\n",
    "import scipy\n",
    "import re\n",
    "from io import StringIO\n",
    "from copy import deepcopy\n",
    "from sklearn.decomposition import PCA\n",
    "from scipy.cluster.hierarchy import linkage, dendrogram, fcluster\n",
    "from scipy.spatial.distance import squareform\n",
    "from sklearn.model_selection import train_test_split\n",
    "from sklearn.feature_selection import SelectKBest\n",
    "from sklearn.feature_selection import mutual_info_regression\n",
    "import seaborn as sns\n",
    "from sklearn.metrics import accuracy_score\n",
    "from sklearn import tree\n",
    "from sklearn.tree import DecisionTreeClassifier\n",
    "import matplotlib.image as pltimg"
   ]
  },
  {
   "cell_type": "code",
   "execution_count": 5,
   "metadata": {},
   "outputs": [
    {
     "name": "stdout",
     "output_type": "stream",
     "text": [
      "Processing /home/jovyan/.cache/pip/wheels/1e/7b/04/7387cf6cc9e48b4a96e361b0be812f0708b394b821bf8c9c50/pydotplus-2.0.2-py3-none-any.whl\n",
      "Requirement already satisfied: pyparsing>=2.0.1 in /opt/conda/lib/python3.7/site-packages (from pydotplus) (2.4.7)\n",
      "Installing collected packages: pydotplus\n",
      "Successfully installed pydotplus-2.0.2\n",
      "Note: you may need to restart the kernel to use updated packages.\n"
     ]
    }
   ],
   "source": [
    "pip install pydotplus"
   ]
  },
  {
   "cell_type": "code",
   "execution_count": 6,
   "metadata": {},
   "outputs": [],
   "source": [
    "import pydotplus"
   ]
  },
  {
   "cell_type": "code",
   "execution_count": 146,
   "metadata": {},
   "outputs": [],
   "source": [
    "raw_health = pd.read_csv('features_health-1.csv', index_col=0)\n",
    "raw_nonhealth = pd.read_csv('features_nonhealth_2.csv', index_col=0)"
   ]
  },
  {
   "cell_type": "code",
   "execution_count": 147,
   "metadata": {},
   "outputs": [],
   "source": [
    "coln_health = list(raw_health)\n",
    "\n",
    "for i in coln_health:\n",
    "    raw_health = raw_health[~raw_health[i].isin(['..'])]\n",
    "raw_health = raw_health.dropna()\n",
    "raw_health = raw_health.iloc[:,1:]\n",
    "raw_health = pd.DataFrame(raw_health, dtype=np.float)\n"
   ]
  },
  {
   "cell_type": "code",
   "execution_count": 148,
   "metadata": {},
   "outputs": [],
   "source": [
    "coln_nonhealth = list(raw_nonhealth)\n",
    "\n",
    "for i in coln_nonhealth:\n",
    "    raw_nonhealth = raw_nonhealth[~raw_nonhealth[i].isin(['..'])]\n",
    "\n",
    "raw_nonhealth = raw_nonhealth.dropna()\n",
    "raw_nonhealth = raw_nonhealth.iloc[:,1:]\n",
    "raw_nonhealth = pd.DataFrame(raw_nonhealth, dtype=np.float)\n"
   ]
  },
  {
   "cell_type": "code",
   "execution_count": 149,
   "metadata": {},
   "outputs": [
    {
     "data": {
      "text/plain": [
       "(265, 16)"
      ]
     },
     "execution_count": 149,
     "metadata": {},
     "output_type": "execute_result"
    }
   ],
   "source": [
    "raw_health.shape"
   ]
  },
  {
   "cell_type": "code",
   "execution_count": 158,
   "metadata": {},
   "outputs": [
    {
     "data": {
      "text/plain": [
       "(401, 15)"
      ]
     },
     "execution_count": 158,
     "metadata": {},
     "output_type": "execute_result"
    }
   ],
   "source": [
    "raw_nonhealth.shape"
   ]
  },
  {
   "cell_type": "code",
   "execution_count": 151,
   "metadata": {},
   "outputs": [
    {
     "data": {
      "text/html": [
       "<div>\n",
       "<style scoped>\n",
       "    .dataframe tbody tr th:only-of-type {\n",
       "        vertical-align: middle;\n",
       "    }\n",
       "\n",
       "    .dataframe tbody tr th {\n",
       "        vertical-align: top;\n",
       "    }\n",
       "\n",
       "    .dataframe thead th {\n",
       "        text-align: right;\n",
       "    }\n",
       "</style>\n",
       "<table border=\"1\" class=\"dataframe\">\n",
       "  <thead>\n",
       "    <tr style=\"text-align: right;\">\n",
       "      <th></th>\n",
       "      <th>%mental</th>\n",
       "      <th>mental admission/100,000(18-19)</th>\n",
       "      <th>%poor SA-heath</th>\n",
       "      <th>%psycho</th>\n",
       "      <th>%high BP</th>\n",
       "      <th>%overweight</th>\n",
       "      <th>%smoker</th>\n",
       "      <th>%alcohol</th>\n",
       "      <th>%exercise</th>\n",
       "      <th>self-harm rate/100,000</th>\n",
       "      <th>IMR/1,000</th>\n",
       "      <th>%HSV</th>\n",
       "      <th>%asthma</th>\n",
       "      <th>%COPD</th>\n",
       "      <th>%arthritis</th>\n",
       "      <th>%osteoporosis</th>\n",
       "    </tr>\n",
       "    <tr>\n",
       "      <th>Code\n",
       "(PHN/LGA)</th>\n",
       "      <th></th>\n",
       "      <th></th>\n",
       "      <th></th>\n",
       "      <th></th>\n",
       "      <th></th>\n",
       "      <th></th>\n",
       "      <th></th>\n",
       "      <th></th>\n",
       "      <th></th>\n",
       "      <th></th>\n",
       "      <th></th>\n",
       "      <th></th>\n",
       "      <th></th>\n",
       "      <th></th>\n",
       "      <th></th>\n",
       "      <th></th>\n",
       "    </tr>\n",
       "  </thead>\n",
       "  <tbody>\n",
       "    <tr>\n",
       "      <th>PHN101</th>\n",
       "      <td>17.5</td>\n",
       "      <td>516.8</td>\n",
       "      <td>12.4</td>\n",
       "      <td>10.4</td>\n",
       "      <td>22.8</td>\n",
       "      <td>35.3</td>\n",
       "      <td>12.3</td>\n",
       "      <td>14.3</td>\n",
       "      <td>62.0</td>\n",
       "      <td>8.5</td>\n",
       "      <td>3.0</td>\n",
       "      <td>4.4</td>\n",
       "      <td>8.2</td>\n",
       "      <td>2.0</td>\n",
       "      <td>12.5</td>\n",
       "      <td>4.6</td>\n",
       "    </tr>\n",
       "    <tr>\n",
       "      <th>11100</th>\n",
       "      <td>16.0</td>\n",
       "      <td>469.1</td>\n",
       "      <td>13.6</td>\n",
       "      <td>10.8</td>\n",
       "      <td>23.2</td>\n",
       "      <td>35.3</td>\n",
       "      <td>14.6</td>\n",
       "      <td>11.3</td>\n",
       "      <td>68.4</td>\n",
       "      <td>9.6</td>\n",
       "      <td>3.6</td>\n",
       "      <td>4.8</td>\n",
       "      <td>7.6</td>\n",
       "      <td>2.0</td>\n",
       "      <td>12.3</td>\n",
       "      <td>3.3</td>\n",
       "    </tr>\n",
       "    <tr>\n",
       "      <th>11300</th>\n",
       "      <td>15.5</td>\n",
       "      <td>503.9</td>\n",
       "      <td>12.3</td>\n",
       "      <td>11.1</td>\n",
       "      <td>23.9</td>\n",
       "      <td>34.5</td>\n",
       "      <td>12.3</td>\n",
       "      <td>10.1</td>\n",
       "      <td>66.7</td>\n",
       "      <td>7.9</td>\n",
       "      <td>3.3</td>\n",
       "      <td>4.6</td>\n",
       "      <td>6.9</td>\n",
       "      <td>1.8</td>\n",
       "      <td>12.2</td>\n",
       "      <td>5.2</td>\n",
       "    </tr>\n",
       "    <tr>\n",
       "      <th>11520</th>\n",
       "      <td>16.9</td>\n",
       "      <td>510.6</td>\n",
       "      <td>10.7</td>\n",
       "      <td>8.6</td>\n",
       "      <td>23.0</td>\n",
       "      <td>35.2</td>\n",
       "      <td>9.9</td>\n",
       "      <td>13.8</td>\n",
       "      <td>60.0</td>\n",
       "      <td>6.8</td>\n",
       "      <td>2.2</td>\n",
       "      <td>4.6</td>\n",
       "      <td>7.2</td>\n",
       "      <td>1.6</td>\n",
       "      <td>12.4</td>\n",
       "      <td>4.8</td>\n",
       "    </tr>\n",
       "    <tr>\n",
       "      <th>11570a</th>\n",
       "      <td>15.2</td>\n",
       "      <td>670.0</td>\n",
       "      <td>18.8</td>\n",
       "      <td>15.4</td>\n",
       "      <td>23.3</td>\n",
       "      <td>34.6</td>\n",
       "      <td>15.0</td>\n",
       "      <td>9.1</td>\n",
       "      <td>73.6</td>\n",
       "      <td>7.1</td>\n",
       "      <td>2.5</td>\n",
       "      <td>5.0</td>\n",
       "      <td>8.6</td>\n",
       "      <td>2.0</td>\n",
       "      <td>15.0</td>\n",
       "      <td>4.8</td>\n",
       "    </tr>\n",
       "  </tbody>\n",
       "</table>\n",
       "</div>"
      ],
      "text/plain": [
       "                 %mental  mental admission/100,000(18-19)  %poor SA-heath  \\\n",
       "Code\\n(PHN/LGA)                                                             \n",
       "PHN101              17.5                            516.8            12.4   \n",
       "11100               16.0                            469.1            13.6   \n",
       "11300               15.5                            503.9            12.3   \n",
       "11520               16.9                            510.6            10.7   \n",
       "11570a              15.2                            670.0            18.8   \n",
       "\n",
       "                 %psycho  %high BP  %overweight  %smoker  %alcohol  %exercise  \\\n",
       "Code\\n(PHN/LGA)                                                                 \n",
       "PHN101              10.4      22.8         35.3     12.3      14.3       62.0   \n",
       "11100               10.8      23.2         35.3     14.6      11.3       68.4   \n",
       "11300               11.1      23.9         34.5     12.3      10.1       66.7   \n",
       "11520                8.6      23.0         35.2      9.9      13.8       60.0   \n",
       "11570a              15.4      23.3         34.6     15.0       9.1       73.6   \n",
       "\n",
       "                 self-harm rate/100,000  IMR/1,000  %HSV  %asthma  %COPD  \\\n",
       "Code\\n(PHN/LGA)                                                            \n",
       "PHN101                              8.5        3.0   4.4      8.2    2.0   \n",
       "11100                               9.6        3.6   4.8      7.6    2.0   \n",
       "11300                               7.9        3.3   4.6      6.9    1.8   \n",
       "11520                               6.8        2.2   4.6      7.2    1.6   \n",
       "11570a                              7.1        2.5   5.0      8.6    2.0   \n",
       "\n",
       "                 %arthritis  %osteoporosis  \n",
       "Code\\n(PHN/LGA)                             \n",
       "PHN101                 12.5            4.6  \n",
       "11100                  12.3            3.3  \n",
       "11300                  12.2            5.2  \n",
       "11520                  12.4            4.8  \n",
       "11570a                 15.0            4.8  "
      ]
     },
     "execution_count": 151,
     "metadata": {},
     "output_type": "execute_result"
    }
   ],
   "source": [
    "raw_health.head()"
   ]
  },
  {
   "cell_type": "code",
   "execution_count": 152,
   "metadata": {},
   "outputs": [
    {
     "data": {
      "image/png": "[encoded data removed]",
      "text/plain": [
       "<Figure size 432x288 with 1 Axes>"
      ]
     },
     "metadata": {
      "needs_background": "light"
     },
     "output_type": "display_data"
    }
   ],
   "source": [
    "_ = plt.hist(raw_health.iloc[:,0], bins=20)"
   ]
  },
  {
   "cell_type": "code",
   "execution_count": 144,
   "metadata": {},
   "outputs": [
    {
     "data": {
      "image/png": "[encoded data removed]",
      "text/plain": [
       "<Figure size 432x288 with 1 Axes>"
      ]
     },
     "metadata": {
      "needs_background": "light"
     },
     "output_type": "display_data"
    }
   ],
   "source": []
  },
  {
   "cell_type": "code",
   "execution_count": 153,
   "metadata": {},
   "outputs": [],
   "source": [
    "raw_nonhealth.head()"
   ]
  },
  {
   "cell_type": "code",
   "execution_count": 154,
   "metadata": {},
   "outputs": [],
   "source": [
    "raw_nonhealth.iloc[:,0] = raw_nonhealth.iloc[:,0] / 100"
   ]
  },
  {
   "cell_type": "code",
   "execution_count": 155,
   "metadata": {},
   "outputs": [
    {
     "data": {
      "text/html": [
       "<div>\n",
       "<style scoped>\n",
       "    .dataframe tbody tr th:only-of-type {\n",
       "        vertical-align: middle;\n",
       "    }\n",
       "\n",
       "    .dataframe tbody tr th {\n",
       "        vertical-align: top;\n",
       "    }\n",
       "\n",
       "    .dataframe thead th {\n",
       "        text-align: right;\n",
       "    }\n",
       "</style>\n",
       "<table border=\"1\" class=\"dataframe\">\n",
       "  <thead>\n",
       "    <tr style=\"text-align: right;\">\n",
       "      <th></th>\n",
       "      <th>Adimissions for mental health related conditions, Persons - All hospitals 2016/17 Asr Per 100,000</th>\n",
       "      <th>% labour force participation</th>\n",
       "      <th>% private dwellings where Internet accessed</th>\n",
       "      <th>% persons living in crowded dwellings</th>\n",
       "      <th>Total fertility rate</th>\n",
       "      <th>% Permanent migrants under the Family stream visa\\n(total)</th>\n",
       "      <th>Aboriginal population as proportion of total population (%)</th>\n",
       "      <th>% households in dwellings receiving rent assistance</th>\n",
       "      <th>% persons living in social housing</th>\n",
       "      <th>% mortgage stress</th>\n",
       "      <th>% rental stress</th>\n",
       "      <th>% Low income households</th>\n",
       "      <th>% people receiving an unemployment benefit</th>\n",
       "      <th>% disability support pensioners</th>\n",
       "      <th>% unemployed</th>\n",
       "    </tr>\n",
       "    <tr>\n",
       "      <th>Code\n",
       "(PHN/LGA)</th>\n",
       "      <th></th>\n",
       "      <th></th>\n",
       "      <th></th>\n",
       "      <th></th>\n",
       "      <th></th>\n",
       "      <th></th>\n",
       "      <th></th>\n",
       "      <th></th>\n",
       "      <th></th>\n",
       "      <th></th>\n",
       "      <th></th>\n",
       "      <th></th>\n",
       "      <th></th>\n",
       "      <th></th>\n",
       "      <th></th>\n",
       "    </tr>\n",
       "  </thead>\n",
       "  <tbody>\n",
       "    <tr>\n",
       "      <th>11100</th>\n",
       "      <td>17.735</td>\n",
       "      <td>67.6</td>\n",
       "      <td>81.9</td>\n",
       "      <td>17.3</td>\n",
       "      <td>1.52</td>\n",
       "      <td>5.2</td>\n",
       "      <td>2.1</td>\n",
       "      <td>13.2</td>\n",
       "      <td>5.7</td>\n",
       "      <td>9.8</td>\n",
       "      <td>25.2</td>\n",
       "      <td>36.2</td>\n",
       "      <td>4.6</td>\n",
       "      <td>2.9</td>\n",
       "      <td>3.1</td>\n",
       "    </tr>\n",
       "    <tr>\n",
       "      <th>11300</th>\n",
       "      <td>21.541</td>\n",
       "      <td>62.9</td>\n",
       "      <td>84.1</td>\n",
       "      <td>21.7</td>\n",
       "      <td>1.12</td>\n",
       "      <td>6.4</td>\n",
       "      <td>0.5</td>\n",
       "      <td>13.9</td>\n",
       "      <td>2.4</td>\n",
       "      <td>13.8</td>\n",
       "      <td>33.2</td>\n",
       "      <td>39.5</td>\n",
       "      <td>3.8</td>\n",
       "      <td>2.2</td>\n",
       "      <td>3.8</td>\n",
       "    </tr>\n",
       "    <tr>\n",
       "      <th>11520</th>\n",
       "      <td>26.733</td>\n",
       "      <td>68.9</td>\n",
       "      <td>87.5</td>\n",
       "      <td>10.7</td>\n",
       "      <td>1.48</td>\n",
       "      <td>4.2</td>\n",
       "      <td>0.6</td>\n",
       "      <td>7.4</td>\n",
       "      <td>1.8</td>\n",
       "      <td>8.7</td>\n",
       "      <td>20.1</td>\n",
       "      <td>27.0</td>\n",
       "      <td>2.6</td>\n",
       "      <td>1.7</td>\n",
       "      <td>2.0</td>\n",
       "    </tr>\n",
       "    <tr>\n",
       "      <th>12930</th>\n",
       "      <td>15.623</td>\n",
       "      <td>63.9</td>\n",
       "      <td>85.4</td>\n",
       "      <td>14.8</td>\n",
       "      <td>1.47</td>\n",
       "      <td>6.9</td>\n",
       "      <td>0.6</td>\n",
       "      <td>13.2</td>\n",
       "      <td>2.1</td>\n",
       "      <td>12.8</td>\n",
       "      <td>29.4</td>\n",
       "      <td>36.8</td>\n",
       "      <td>4.2</td>\n",
       "      <td>2.4</td>\n",
       "      <td>3.1</td>\n",
       "    </tr>\n",
       "    <tr>\n",
       "      <th>14170</th>\n",
       "      <td>28.404</td>\n",
       "      <td>76.0</td>\n",
       "      <td>86.8</td>\n",
       "      <td>10.8</td>\n",
       "      <td>1.32</td>\n",
       "      <td>4.0</td>\n",
       "      <td>1.4</td>\n",
       "      <td>13.6</td>\n",
       "      <td>2.7</td>\n",
       "      <td>4.7</td>\n",
       "      <td>16.8</td>\n",
       "      <td>23.7</td>\n",
       "      <td>4.4</td>\n",
       "      <td>2.7</td>\n",
       "      <td>3.7</td>\n",
       "    </tr>\n",
       "  </tbody>\n",
       "</table>\n",
       "</div>"
      ],
      "text/plain": [
       "                 Adimissions for mental health related conditions, Persons - All hospitals 2016/17 Asr Per 100,000  \\\n",
       "Code\\n(PHN/LGA)                                                                                                      \n",
       "11100                                                       17.735                                                   \n",
       "11300                                                       21.541                                                   \n",
       "11520                                                       26.733                                                   \n",
       "12930                                                       15.623                                                   \n",
       "14170                                                       28.404                                                   \n",
       "\n",
       "                 % labour force participation  \\\n",
       "Code\\n(PHN/LGA)                                 \n",
       "11100                                    67.6   \n",
       "11300                                    62.9   \n",
       "11520                                    68.9   \n",
       "12930                                    63.9   \n",
       "14170                                    76.0   \n",
       "\n",
       "                 % private dwellings where Internet accessed  \\\n",
       "Code\\n(PHN/LGA)                                                \n",
       "11100                                                   81.9   \n",
       "11300                                                   84.1   \n",
       "11520                                                   87.5   \n",
       "12930                                                   85.4   \n",
       "14170                                                   86.8   \n",
       "\n",
       "                 % persons living in crowded dwellings  Total fertility rate  \\\n",
       "Code\\n(PHN/LGA)                                                                \n",
       "11100                                             17.3                  1.52   \n",
       "11300                                             21.7                  1.12   \n",
       "11520                                             10.7                  1.48   \n",
       "12930                                             14.8                  1.47   \n",
       "14170                                             10.8                  1.32   \n",
       "\n",
       "                 % Permanent migrants under the Family stream visa\\n(total)  \\\n",
       "Code\\n(PHN/LGA)                                                               \n",
       "11100                                                          5.2            \n",
       "11300                                                          6.4            \n",
       "11520                                                          4.2            \n",
       "12930                                                          6.9            \n",
       "14170                                                          4.0            \n",
       "\n",
       "                 Aboriginal population as proportion of total population (%)  \\\n",
       "Code\\n(PHN/LGA)                                                                \n",
       "11100                                                          2.1             \n",
       "11300                                                          0.5             \n",
       "11520                                                          0.6             \n",
       "12930                                                          0.6             \n",
       "14170                                                          1.4             \n",
       "\n",
       "                 % households in dwellings receiving rent assistance  \\\n",
       "Code\\n(PHN/LGA)                                                        \n",
       "11100                                                         13.2     \n",
       "11300                                                         13.9     \n",
       "11520                                                          7.4     \n",
       "12930                                                         13.2     \n",
       "14170                                                         13.6     \n",
       "\n",
       "                 % persons living in social housing  % mortgage stress  \\\n",
       "Code\\n(PHN/LGA)                                                          \n",
       "11100                                           5.7                9.8   \n",
       "11300                                           2.4               13.8   \n",
       "11520                                           1.8                8.7   \n",
       "12930                                           2.1               12.8   \n",
       "14170                                           2.7                4.7   \n",
       "\n",
       "                 % rental stress  % Low income households  \\\n",
       "Code\\n(PHN/LGA)                                             \n",
       "11100                       25.2                     36.2   \n",
       "11300                       33.2                     39.5   \n",
       "11520                       20.1                     27.0   \n",
       "12930                       29.4                     36.8   \n",
       "14170                       16.8                     23.7   \n",
       "\n",
       "                 % people receiving an unemployment benefit  \\\n",
       "Code\\n(PHN/LGA)                                               \n",
       "11100                                                   4.6   \n",
       "11300                                                   3.8   \n",
       "11520                                                   2.6   \n",
       "12930                                                   4.2   \n",
       "14170                                                   4.4   \n",
       "\n",
       "                 % disability support pensioners  % unemployed  \n",
       "Code\\n(PHN/LGA)                                                 \n",
       "11100                                        2.9           3.1  \n",
       "11300                                        2.2           3.8  \n",
       "11520                                        1.7           2.0  \n",
       "12930                                        2.4           3.1  \n",
       "14170                                        2.7           3.7  "
      ]
     },
     "execution_count": 155,
     "metadata": {},
     "output_type": "execute_result"
    }
   ],
   "source": [
    "raw_nonhealth.head()"
   ]
  },
  {
   "cell_type": "code",
   "execution_count": 156,
   "metadata": {},
   "outputs": [
    {
     "data": {
      "image/png": "[encoded data removed]",
      "text/plain": [
       "<Figure size 432x288 with 1 Axes>"
      ]
     },
     "metadata": {
      "needs_background": "light"
     },
     "output_type": "display_data"
    }
   ],
   "source": [
    "raw_nonhealth.head()\n",
    "_ = plt.hist(raw_nonhealth.iloc[:,0], bins=20)"
   ]
  },
  {
   "cell_type": "code",
   "execution_count": 37,
   "metadata": {},
   "outputs": [
    {
     "data": {
      "text/html": [
       "<div>\n",
       "<style scoped>\n",
       "    .dataframe tbody tr th:only-of-type {\n",
       "        vertical-align: middle;\n",
       "    }\n",
       "\n",
       "    .dataframe tbody tr th {\n",
       "        vertical-align: top;\n",
       "    }\n",
       "\n",
       "    .dataframe thead th {\n",
       "        text-align: right;\n",
       "    }\n",
       "</style>\n",
       "<table border=\"1\" class=\"dataframe\">\n",
       "  <thead>\n",
       "    <tr style=\"text-align: right;\">\n",
       "      <th></th>\n",
       "      <th>Estimated number of people with mental and behavioural problems ASR per 100</th>\n",
       "      <th>Mental consitions admissions ASR per 100,000(1 year later for 2018-2019)</th>\n",
       "      <th>% labour force participation</th>\n",
       "      <th>% private dwellings where Internet accessed</th>\n",
       "      <th>% persons living in crowded dwellings</th>\n",
       "      <th>Total fertility rate</th>\n",
       "      <th>% Permanent migrants under the Family stream visa\\n(total)</th>\n",
       "      <th>Aboriginal population as proportion of total population (%)</th>\n",
       "      <th>% households in dwellings receiving rent assistance</th>\n",
       "      <th>% persons living in social housing</th>\n",
       "      <th>% mortgage stress</th>\n",
       "      <th>% rental stress</th>\n",
       "      <th>% Low income households</th>\n",
       "      <th>% people receiving an unemployment benefit</th>\n",
       "      <th>% disability support pensioners</th>\n",
       "      <th>% unemployed</th>\n",
       "    </tr>\n",
       "    <tr>\n",
       "      <th>Code\n",
       "(PHN/LGA)</th>\n",
       "      <th></th>\n",
       "      <th></th>\n",
       "      <th></th>\n",
       "      <th></th>\n",
       "      <th></th>\n",
       "      <th></th>\n",
       "      <th></th>\n",
       "      <th></th>\n",
       "      <th></th>\n",
       "      <th></th>\n",
       "      <th></th>\n",
       "      <th></th>\n",
       "      <th></th>\n",
       "      <th></th>\n",
       "      <th></th>\n",
       "      <th></th>\n",
       "    </tr>\n",
       "  </thead>\n",
       "  <tbody>\n",
       "    <tr>\n",
       "      <th>PHN101</th>\n",
       "      <td>17.5</td>\n",
       "      <td>516.8</td>\n",
       "      <td>69.6</td>\n",
       "      <td>85.8</td>\n",
       "      <td>13.4</td>\n",
       "      <td>1.51</td>\n",
       "      <td>4.6</td>\n",
       "      <td>1.1</td>\n",
       "      <td>11.8</td>\n",
       "      <td>3.2</td>\n",
       "      <td>8.5</td>\n",
       "      <td>22.4</td>\n",
       "      <td>31.9</td>\n",
       "      <td>3.9</td>\n",
       "      <td>2.5</td>\n",
       "      <td>3.2</td>\n",
       "    </tr>\n",
       "    <tr>\n",
       "      <th>11100</th>\n",
       "      <td>16.0</td>\n",
       "      <td>469.1</td>\n",
       "      <td>67.6</td>\n",
       "      <td>81.9</td>\n",
       "      <td>17.3</td>\n",
       "      <td>1.52</td>\n",
       "      <td>5.2</td>\n",
       "      <td>2.1</td>\n",
       "      <td>13.2</td>\n",
       "      <td>5.7</td>\n",
       "      <td>9.8</td>\n",
       "      <td>25.2</td>\n",
       "      <td>36.2</td>\n",
       "      <td>4.6</td>\n",
       "      <td>2.9</td>\n",
       "      <td>3.1</td>\n",
       "    </tr>\n",
       "    <tr>\n",
       "      <th>11300</th>\n",
       "      <td>15.5</td>\n",
       "      <td>503.9</td>\n",
       "      <td>62.9</td>\n",
       "      <td>84.1</td>\n",
       "      <td>21.7</td>\n",
       "      <td>1.12</td>\n",
       "      <td>6.4</td>\n",
       "      <td>0.5</td>\n",
       "      <td>13.9</td>\n",
       "      <td>2.4</td>\n",
       "      <td>13.8</td>\n",
       "      <td>33.2</td>\n",
       "      <td>39.5</td>\n",
       "      <td>3.8</td>\n",
       "      <td>2.2</td>\n",
       "      <td>3.8</td>\n",
       "    </tr>\n",
       "    <tr>\n",
       "      <th>11520</th>\n",
       "      <td>16.9</td>\n",
       "      <td>510.6</td>\n",
       "      <td>68.9</td>\n",
       "      <td>87.5</td>\n",
       "      <td>10.7</td>\n",
       "      <td>1.48</td>\n",
       "      <td>4.2</td>\n",
       "      <td>0.6</td>\n",
       "      <td>7.4</td>\n",
       "      <td>1.8</td>\n",
       "      <td>8.7</td>\n",
       "      <td>20.1</td>\n",
       "      <td>27.0</td>\n",
       "      <td>2.6</td>\n",
       "      <td>1.7</td>\n",
       "      <td>2.0</td>\n",
       "    </tr>\n",
       "    <tr>\n",
       "      <th>11570a</th>\n",
       "      <td>15.2</td>\n",
       "      <td>670.0</td>\n",
       "      <td>59.2</td>\n",
       "      <td>79.7</td>\n",
       "      <td>19.4</td>\n",
       "      <td>2.04</td>\n",
       "      <td>7.4</td>\n",
       "      <td>0.9</td>\n",
       "      <td>22.5</td>\n",
       "      <td>6.0</td>\n",
       "      <td>17.2</td>\n",
       "      <td>39.0</td>\n",
       "      <td>48.4</td>\n",
       "      <td>7.8</td>\n",
       "      <td>4.4</td>\n",
       "      <td>7.0</td>\n",
       "    </tr>\n",
       "  </tbody>\n",
       "</table>\n",
       "</div>"
      ],
      "text/plain": [
       "                 Estimated number of people with mental and behavioural problems ASR per 100  \\\n",
       "Code\\n(PHN/LGA)                                                                                \n",
       "PHN101                                                        17.5                             \n",
       "11100                                                         16.0                             \n",
       "11300                                                         15.5                             \n",
       "11520                                                         16.9                             \n",
       "11570a                                                        15.2                             \n",
       "\n",
       "                 Mental consitions admissions ASR per 100,000(1 year later for 2018-2019)  \\\n",
       "Code\\n(PHN/LGA)                                                                             \n",
       "PHN101                                                       516.8                          \n",
       "11100                                                        469.1                          \n",
       "11300                                                        503.9                          \n",
       "11520                                                        510.6                          \n",
       "11570a                                                       670.0                          \n",
       "\n",
       "                 % labour force participation  \\\n",
       "Code\\n(PHN/LGA)                                 \n",
       "PHN101                                   69.6   \n",
       "11100                                    67.6   \n",
       "11300                                    62.9   \n",
       "11520                                    68.9   \n",
       "11570a                                   59.2   \n",
       "\n",
       "                 % private dwellings where Internet accessed  \\\n",
       "Code\\n(PHN/LGA)                                                \n",
       "PHN101                                                  85.8   \n",
       "11100                                                   81.9   \n",
       "11300                                                   84.1   \n",
       "11520                                                   87.5   \n",
       "11570a                                                  79.7   \n",
       "\n",
       "                 % persons living in crowded dwellings  Total fertility rate  \\\n",
       "Code\\n(PHN/LGA)                                                                \n",
       "PHN101                                            13.4                  1.51   \n",
       "11100                                             17.3                  1.52   \n",
       "11300                                             21.7                  1.12   \n",
       "11520                                             10.7                  1.48   \n",
       "11570a                                            19.4                  2.04   \n",
       "\n",
       "                 % Permanent migrants under the Family stream visa\\n(total)  \\\n",
       "Code\\n(PHN/LGA)                                                               \n",
       "PHN101                                                         4.6            \n",
       "11100                                                          5.2            \n",
       "11300                                                          6.4            \n",
       "11520                                                          4.2            \n",
       "11570a                                                         7.4            \n",
       "\n",
       "                 Aboriginal population as proportion of total population (%)  \\\n",
       "Code\\n(PHN/LGA)                                                                \n",
       "PHN101                                                         1.1             \n",
       "11100                                                          2.1             \n",
       "11300                                                          0.5             \n",
       "11520                                                          0.6             \n",
       "11570a                                                         0.9             \n",
       "\n",
       "                 % households in dwellings receiving rent assistance  \\\n",
       "Code\\n(PHN/LGA)                                                        \n",
       "PHN101                                                        11.8     \n",
       "11100                                                         13.2     \n",
       "11300                                                         13.9     \n",
       "11520                                                          7.4     \n",
       "11570a                                                        22.5     \n",
       "\n",
       "                 % persons living in social housing  % mortgage stress  \\\n",
       "Code\\n(PHN/LGA)                                                          \n",
       "PHN101                                          3.2                8.5   \n",
       "11100                                           5.7                9.8   \n",
       "11300                                           2.4               13.8   \n",
       "11520                                           1.8                8.7   \n",
       "11570a                                          6.0               17.2   \n",
       "\n",
       "                 % rental stress  % Low income households  \\\n",
       "Code\\n(PHN/LGA)                                             \n",
       "PHN101                      22.4                     31.9   \n",
       "11100                       25.2                     36.2   \n",
       "11300                       33.2                     39.5   \n",
       "11520                       20.1                     27.0   \n",
       "11570a                      39.0                     48.4   \n",
       "\n",
       "                 % people receiving an unemployment benefit  \\\n",
       "Code\\n(PHN/LGA)                                               \n",
       "PHN101                                                  3.9   \n",
       "11100                                                   4.6   \n",
       "11300                                                   3.8   \n",
       "11520                                                   2.6   \n",
       "11570a                                                  7.8   \n",
       "\n",
       "                 % disability support pensioners  % unemployed  \n",
       "Code\\n(PHN/LGA)                                                 \n",
       "PHN101                                       2.5           3.2  \n",
       "11100                                        2.9           3.1  \n",
       "11300                                        2.2           3.8  \n",
       "11520                                        1.7           2.0  \n",
       "11570a                                       4.4           7.0  "
      ]
     },
     "execution_count": 37,
     "metadata": {},
     "output_type": "execute_result"
    }
   ],
   "source": []
  },
  {
   "cell_type": "code",
   "execution_count": 38,
   "metadata": {},
   "outputs": [
    {
     "data": {
      "image/png": "[encoded data removed]",
      "text/plain": [
       "<Figure size 1152x432 with 2 Axes>"
      ]
     },
     "metadata": {
      "needs_background": "light"
     },
     "output_type": "display_data"
    },
    {
     "data": {
      "text/html": [
       "<div>\n",
       "<style scoped>\n",
       "    .dataframe tbody tr th:only-of-type {\n",
       "        vertical-align: middle;\n",
       "    }\n",
       "\n",
       "    .dataframe tbody tr th {\n",
       "        vertical-align: top;\n",
       "    }\n",
       "\n",
       "    .dataframe thead th {\n",
       "        text-align: right;\n",
       "    }\n",
       "</style>\n",
       "<table border=\"1\" class=\"dataframe\">\n",
       "  <thead>\n",
       "    <tr style=\"text-align: right;\">\n",
       "      <th></th>\n",
       "      <th>%poor SA-heath</th>\n",
       "      <th>%psycho</th>\n",
       "      <th>%high BP</th>\n",
       "      <th>%overweight</th>\n",
       "      <th>%smoker</th>\n",
       "      <th>%alcohol</th>\n",
       "      <th>%exercise</th>\n",
       "      <th>self-harm rate/100,000</th>\n",
       "      <th>IMR/1,000</th>\n",
       "      <th>%HSV</th>\n",
       "      <th>%asthma</th>\n",
       "      <th>%COPD</th>\n",
       "      <th>%arthritis</th>\n",
       "      <th>%osteoporosis</th>\n",
       "    </tr>\n",
       "    <tr>\n",
       "      <th>Code\n",
       "(PHN/LGA)</th>\n",
       "      <th></th>\n",
       "      <th></th>\n",
       "      <th></th>\n",
       "      <th></th>\n",
       "      <th></th>\n",
       "      <th></th>\n",
       "      <th></th>\n",
       "      <th></th>\n",
       "      <th></th>\n",
       "      <th></th>\n",
       "      <th></th>\n",
       "      <th></th>\n",
       "      <th></th>\n",
       "      <th></th>\n",
       "    </tr>\n",
       "  </thead>\n",
       "  <tbody>\n",
       "    <tr>\n",
       "      <th>PHN101</th>\n",
       "      <td>12.4</td>\n",
       "      <td>10.4</td>\n",
       "      <td>22.8</td>\n",
       "      <td>35.3</td>\n",
       "      <td>12.3</td>\n",
       "      <td>14.3</td>\n",
       "      <td>62.0</td>\n",
       "      <td>8.5</td>\n",
       "      <td>3.0</td>\n",
       "      <td>4.4</td>\n",
       "      <td>8.2</td>\n",
       "      <td>2.0</td>\n",
       "      <td>12.5</td>\n",
       "      <td>4.6</td>\n",
       "    </tr>\n",
       "    <tr>\n",
       "      <th>11100</th>\n",
       "      <td>13.6</td>\n",
       "      <td>10.8</td>\n",
       "      <td>23.2</td>\n",
       "      <td>35.3</td>\n",
       "      <td>14.6</td>\n",
       "      <td>11.3</td>\n",
       "      <td>68.4</td>\n",
       "      <td>9.6</td>\n",
       "      <td>3.6</td>\n",
       "      <td>4.8</td>\n",
       "      <td>7.6</td>\n",
       "      <td>2.0</td>\n",
       "      <td>12.3</td>\n",
       "      <td>3.3</td>\n",
       "    </tr>\n",
       "    <tr>\n",
       "      <th>11300</th>\n",
       "      <td>12.3</td>\n",
       "      <td>11.1</td>\n",
       "      <td>23.9</td>\n",
       "      <td>34.5</td>\n",
       "      <td>12.3</td>\n",
       "      <td>10.1</td>\n",
       "      <td>66.7</td>\n",
       "      <td>7.9</td>\n",
       "      <td>3.3</td>\n",
       "      <td>4.6</td>\n",
       "      <td>6.9</td>\n",
       "      <td>1.8</td>\n",
       "      <td>12.2</td>\n",
       "      <td>5.2</td>\n",
       "    </tr>\n",
       "    <tr>\n",
       "      <th>11520</th>\n",
       "      <td>10.7</td>\n",
       "      <td>8.6</td>\n",
       "      <td>23.0</td>\n",
       "      <td>35.2</td>\n",
       "      <td>9.9</td>\n",
       "      <td>13.8</td>\n",
       "      <td>60.0</td>\n",
       "      <td>6.8</td>\n",
       "      <td>2.2</td>\n",
       "      <td>4.6</td>\n",
       "      <td>7.2</td>\n",
       "      <td>1.6</td>\n",
       "      <td>12.4</td>\n",
       "      <td>4.8</td>\n",
       "    </tr>\n",
       "    <tr>\n",
       "      <th>11570a</th>\n",
       "      <td>18.8</td>\n",
       "      <td>15.4</td>\n",
       "      <td>23.3</td>\n",
       "      <td>34.6</td>\n",
       "      <td>15.0</td>\n",
       "      <td>9.1</td>\n",
       "      <td>73.6</td>\n",
       "      <td>7.1</td>\n",
       "      <td>2.5</td>\n",
       "      <td>5.0</td>\n",
       "      <td>8.6</td>\n",
       "      <td>2.0</td>\n",
       "      <td>15.0</td>\n",
       "      <td>4.8</td>\n",
       "    </tr>\n",
       "  </tbody>\n",
       "</table>\n",
       "</div>"
      ],
      "text/plain": [
       "                 %poor SA-heath  %psycho  %high BP  %overweight  %smoker  \\\n",
       "Code\\n(PHN/LGA)                                                            \n",
       "PHN101                     12.4     10.4      22.8         35.3     12.3   \n",
       "11100                      13.6     10.8      23.2         35.3     14.6   \n",
       "11300                      12.3     11.1      23.9         34.5     12.3   \n",
       "11520                      10.7      8.6      23.0         35.2      9.9   \n",
       "11570a                     18.8     15.4      23.3         34.6     15.0   \n",
       "\n",
       "                 %alcohol  %exercise  self-harm rate/100,000  IMR/1,000  %HSV  \\\n",
       "Code\\n(PHN/LGA)                                                                 \n",
       "PHN101               14.3       62.0                     8.5        3.0   4.4   \n",
       "11100                11.3       68.4                     9.6        3.6   4.8   \n",
       "11300                10.1       66.7                     7.9        3.3   4.6   \n",
       "11520                13.8       60.0                     6.8        2.2   4.6   \n",
       "11570a                9.1       73.6                     7.1        2.5   5.0   \n",
       "\n",
       "                 %asthma  %COPD  %arthritis  %osteoporosis  \n",
       "Code\\n(PHN/LGA)                                             \n",
       "PHN101               8.2    2.0        12.5            4.6  \n",
       "11100                7.6    2.0        12.3            3.3  \n",
       "11300                6.9    1.8        12.2            5.2  \n",
       "11520                7.2    1.6        12.4            4.8  \n",
       "11570a               8.6    2.0        15.0            4.8  "
      ]
     },
     "execution_count": 38,
     "metadata": {},
     "output_type": "execute_result"
    }
   ],
   "source": [
    "# for health-relevant data\n",
    "health_feature = raw_health.iloc[:,2:]\n",
    "log_data_health = np.log(health_feature + 1)\n",
    "\n",
    "fig, (ax1, ax2) = plt.subplots(1, 2, figsize=(16, 6))\n",
    "ax1.hist(health_feature.values.flatten(), bins=200)\n",
    "ax1.set_title('raw data value_health')\n",
    "ax1.set_xlabel('value')\n",
    "ax1.set_ylabel('num occurrences')\n",
    "ax2.hist(log_data_health.values.flatten(), bins=200)\n",
    "ax2.set_title('log data value_health')\n",
    "ax2.set_xlabel('log value')\n",
    "ax2.set_ylabel('num occurrences')\n",
    "plt.show()\n",
    "\n",
    "health_feature.head()"
   ]
  },
  {
   "cell_type": "code",
   "execution_count": 157,
   "metadata": {},
   "outputs": [
    {
     "data": {
      "image/png": "[encoded data removed]",
      "text/plain": [
       "<Figure size 1152x432 with 2 Axes>"
      ]
     },
     "metadata": {
      "needs_background": "light"
     },
     "output_type": "display_data"
    },
    {
     "data": {
      "text/html": [
       "<div>\n",
       "<style scoped>\n",
       "    .dataframe tbody tr th:only-of-type {\n",
       "        vertical-align: middle;\n",
       "    }\n",
       "\n",
       "    .dataframe tbody tr th {\n",
       "        vertical-align: top;\n",
       "    }\n",
       "\n",
       "    .dataframe thead th {\n",
       "        text-align: right;\n",
       "    }\n",
       "</style>\n",
       "<table border=\"1\" class=\"dataframe\">\n",
       "  <thead>\n",
       "    <tr style=\"text-align: right;\">\n",
       "      <th></th>\n",
       "      <th>% labour force participation</th>\n",
       "      <th>% private dwellings where Internet accessed</th>\n",
       "      <th>% persons living in crowded dwellings</th>\n",
       "      <th>Total fertility rate</th>\n",
       "      <th>% Permanent migrants under the Family stream visa\\n(total)</th>\n",
       "      <th>Aboriginal population as proportion of total population (%)</th>\n",
       "      <th>% households in dwellings receiving rent assistance</th>\n",
       "      <th>% persons living in social housing</th>\n",
       "      <th>% mortgage stress</th>\n",
       "      <th>% rental stress</th>\n",
       "      <th>% Low income households</th>\n",
       "      <th>% people receiving an unemployment benefit</th>\n",
       "      <th>% disability support pensioners</th>\n",
       "      <th>% unemployed</th>\n",
       "    </tr>\n",
       "    <tr>\n",
       "      <th>Code\n",
       "(PHN/LGA)</th>\n",
       "      <th></th>\n",
       "      <th></th>\n",
       "      <th></th>\n",
       "      <th></th>\n",
       "      <th></th>\n",
       "      <th></th>\n",
       "      <th></th>\n",
       "      <th></th>\n",
       "      <th></th>\n",
       "      <th></th>\n",
       "      <th></th>\n",
       "      <th></th>\n",
       "      <th></th>\n",
       "      <th></th>\n",
       "    </tr>\n",
       "  </thead>\n",
       "  <tbody>\n",
       "    <tr>\n",
       "      <th>11100</th>\n",
       "      <td>67.6</td>\n",
       "      <td>81.9</td>\n",
       "      <td>17.3</td>\n",
       "      <td>1.52</td>\n",
       "      <td>5.2</td>\n",
       "      <td>2.1</td>\n",
       "      <td>13.2</td>\n",
       "      <td>5.7</td>\n",
       "      <td>9.8</td>\n",
       "      <td>25.2</td>\n",
       "      <td>36.2</td>\n",
       "      <td>4.6</td>\n",
       "      <td>2.9</td>\n",
       "      <td>3.1</td>\n",
       "    </tr>\n",
       "    <tr>\n",
       "      <th>11300</th>\n",
       "      <td>62.9</td>\n",
       "      <td>84.1</td>\n",
       "      <td>21.7</td>\n",
       "      <td>1.12</td>\n",
       "      <td>6.4</td>\n",
       "      <td>0.5</td>\n",
       "      <td>13.9</td>\n",
       "      <td>2.4</td>\n",
       "      <td>13.8</td>\n",
       "      <td>33.2</td>\n",
       "      <td>39.5</td>\n",
       "      <td>3.8</td>\n",
       "      <td>2.2</td>\n",
       "      <td>3.8</td>\n",
       "    </tr>\n",
       "    <tr>\n",
       "      <th>11520</th>\n",
       "      <td>68.9</td>\n",
       "      <td>87.5</td>\n",
       "      <td>10.7</td>\n",
       "      <td>1.48</td>\n",
       "      <td>4.2</td>\n",
       "      <td>0.6</td>\n",
       "      <td>7.4</td>\n",
       "      <td>1.8</td>\n",
       "      <td>8.7</td>\n",
       "      <td>20.1</td>\n",
       "      <td>27.0</td>\n",
       "      <td>2.6</td>\n",
       "      <td>1.7</td>\n",
       "      <td>2.0</td>\n",
       "    </tr>\n",
       "    <tr>\n",
       "      <th>12930</th>\n",
       "      <td>63.9</td>\n",
       "      <td>85.4</td>\n",
       "      <td>14.8</td>\n",
       "      <td>1.47</td>\n",
       "      <td>6.9</td>\n",
       "      <td>0.6</td>\n",
       "      <td>13.2</td>\n",
       "      <td>2.1</td>\n",
       "      <td>12.8</td>\n",
       "      <td>29.4</td>\n",
       "      <td>36.8</td>\n",
       "      <td>4.2</td>\n",
       "      <td>2.4</td>\n",
       "      <td>3.1</td>\n",
       "    </tr>\n",
       "    <tr>\n",
       "      <th>14170</th>\n",
       "      <td>76.0</td>\n",
       "      <td>86.8</td>\n",
       "      <td>10.8</td>\n",
       "      <td>1.32</td>\n",
       "      <td>4.0</td>\n",
       "      <td>1.4</td>\n",
       "      <td>13.6</td>\n",
       "      <td>2.7</td>\n",
       "      <td>4.7</td>\n",
       "      <td>16.8</td>\n",
       "      <td>23.7</td>\n",
       "      <td>4.4</td>\n",
       "      <td>2.7</td>\n",
       "      <td>3.7</td>\n",
       "    </tr>\n",
       "  </tbody>\n",
       "</table>\n",
       "</div>"
      ],
      "text/plain": [
       "                 % labour force participation  \\\n",
       "Code\\n(PHN/LGA)                                 \n",
       "11100                                    67.6   \n",
       "11300                                    62.9   \n",
       "11520                                    68.9   \n",
       "12930                                    63.9   \n",
       "14170                                    76.0   \n",
       "\n",
       "                 % private dwellings where Internet accessed  \\\n",
       "Code\\n(PHN/LGA)                                                \n",
       "11100                                                   81.9   \n",
       "11300                                                   84.1   \n",
       "11520                                                   87.5   \n",
       "12930                                                   85.4   \n",
       "14170                                                   86.8   \n",
       "\n",
       "                 % persons living in crowded dwellings  Total fertility rate  \\\n",
       "Code\\n(PHN/LGA)                                                                \n",
       "11100                                             17.3                  1.52   \n",
       "11300                                             21.7                  1.12   \n",
       "11520                                             10.7                  1.48   \n",
       "12930                                             14.8                  1.47   \n",
       "14170                                             10.8                  1.32   \n",
       "\n",
       "                 % Permanent migrants under the Family stream visa\\n(total)  \\\n",
       "Code\\n(PHN/LGA)                                                               \n",
       "11100                                                          5.2            \n",
       "11300                                                          6.4            \n",
       "11520                                                          4.2            \n",
       "12930                                                          6.9            \n",
       "14170                                                          4.0            \n",
       "\n",
       "                 Aboriginal population as proportion of total population (%)  \\\n",
       "Code\\n(PHN/LGA)                                                                \n",
       "11100                                                          2.1             \n",
       "11300                                                          0.5             \n",
       "11520                                                          0.6             \n",
       "12930                                                          0.6             \n",
       "14170                                                          1.4             \n",
       "\n",
       "                 % households in dwellings receiving rent assistance  \\\n",
       "Code\\n(PHN/LGA)                                                        \n",
       "11100                                                         13.2     \n",
       "11300                                                         13.9     \n",
       "11520                                                          7.4     \n",
       "12930                                                         13.2     \n",
       "14170                                                         13.6     \n",
       "\n",
       "                 % persons living in social housing  % mortgage stress  \\\n",
       "Code\\n(PHN/LGA)                                                          \n",
       "11100                                           5.7                9.8   \n",
       "11300                                           2.4               13.8   \n",
       "11520                                           1.8                8.7   \n",
       "12930                                           2.1               12.8   \n",
       "14170                                           2.7                4.7   \n",
       "\n",
       "                 % rental stress  % Low income households  \\\n",
       "Code\\n(PHN/LGA)                                             \n",
       "11100                       25.2                     36.2   \n",
       "11300                       33.2                     39.5   \n",
       "11520                       20.1                     27.0   \n",
       "12930                       29.4                     36.8   \n",
       "14170                       16.8                     23.7   \n",
       "\n",
       "                 % people receiving an unemployment benefit  \\\n",
       "Code\\n(PHN/LGA)                                               \n",
       "11100                                                   4.6   \n",
       "11300                                                   3.8   \n",
       "11520                                                   2.6   \n",
       "12930                                                   4.2   \n",
       "14170                                                   4.4   \n",
       "\n",
       "                 % disability support pensioners  % unemployed  \n",
       "Code\\n(PHN/LGA)                                                 \n",
       "11100                                        2.9           3.1  \n",
       "11300                                        2.2           3.8  \n",
       "11520                                        1.7           2.0  \n",
       "12930                                        2.4           3.1  \n",
       "14170                                        2.7           3.7  "
      ]
     },
     "execution_count": 157,
     "metadata": {},
     "output_type": "execute_result"
    }
   ],
   "source": [
    "# for nonhealth-relevant data\n",
    "nonhealth_feature = raw_nonhealth.iloc[:,1:]\n",
    "log_data_nonhealth = np.log(nonhealth_feature + 1)\n",
    "\n",
    "fig, (ax1, ax2) = plt.subplots(1, 2, figsize=(16, 6))\n",
    "ax1.hist(nonhealth_feature.values.flatten(), bins=200)\n",
    "ax1.set_title('raw data value_nonhealth')\n",
    "ax1.set_xlabel('value')\n",
    "ax1.set_ylabel('num occurrences')\n",
    "ax2.hist(log_data_nonhealth.values.flatten(), bins=200)\n",
    "ax2.set_title('log data value_nonhealth')\n",
    "ax2.set_xlabel('log value')\n",
    "ax2.set_ylabel('num occurrences')\n",
    "plt.show()\n",
    "\n",
    "nonhealth_feature.head()"
   ]
  },
  {
   "cell_type": "code",
   "execution_count": 40,
   "metadata": {},
   "outputs": [
    {
     "name": "stdout",
     "output_type": "stream",
     "text": [
      "5\n"
     ]
    }
   ],
   "source": [
    "# for health\n",
    "pca = PCA()\n",
    "health_pca = pca.fit_transform(health_feature.to_numpy())\n",
    "var = 0\n",
    "n = 0\n",
    "# increase the value of n by 1, stop until n explaining 90% of the variance\n",
    "while var < 0.9:\n",
    "    var += pca.explained_variance_ratio_[n]\n",
    "    n += 1\n",
    "# update PCA with the correct number of components, namely, 'n' explaining 90% of the variance\n",
    "pca = PCA(n_components = n)\n",
    "health_pca = pca.fit_transform(health_feature.to_numpy())\n",
    "\n",
    "print(n)"
   ]
  },
  {
   "cell_type": "code",
   "execution_count": 41,
   "metadata": {},
   "outputs": [
    {
     "name": "stdout",
     "output_type": "stream",
     "text": [
      "Gene that contributes most to the first eigenvector: %exercise\n"
     ]
    }
   ],
   "source": [
    "df_h = pd.DataFrame(health_pca)\n",
    "#  find the name(index) of the feature with the highest feature score on pc1\n",
    "most_important = np.abs(pca.components_[0]).argmax()\n",
    "cols = health_feature.columns \n",
    "LGAcodes = cols[most_important]\n",
    "print(f'Gene that contributes most to the first eigenvector: {LGAcodes}')"
   ]
  },
  {
   "cell_type": "code",
   "execution_count": 43,
   "metadata": {},
   "outputs": [
    {
     "name": "stdout",
     "output_type": "stream",
     "text": [
      "4\n"
     ]
    }
   ],
   "source": [
    "# for health log\n",
    "pca = PCA()\n",
    "healthlog_pca = pca.fit_transform(log_data_health.to_numpy())\n",
    "var = 0\n",
    "n = 0\n",
    "# increase the value of n by 1, stop until n explaining 90% of the variance\n",
    "while var < 0.9:\n",
    "    var += pca.explained_variance_ratio_[n]\n",
    "    n += 1\n",
    "# update PCA with the correct number of components, namely, 'n' explaining 90% of the variance\n",
    "pca = PCA(n_components = n)\n",
    "health_pca = pca.fit_transform(log_data_health.to_numpy())\n",
    "\n",
    "print(n)"
   ]
  },
  {
   "cell_type": "code",
   "execution_count": 17,
   "metadata": {},
   "outputs": [],
   "source": [
    "# MI feature selection for health\n",
    "X_train,X_test,y_train,y_test=train_test_split(raw_health.drop(labels=['mental admission/100,000(18-19)', '%mental'], axis=1),\n",
    "    raw_health['%mental'],\n",
    "    test_size=0.3,\n",
    "    random_state=0)"
   ]
  },
  {
   "cell_type": "code",
   "execution_count": 18,
   "metadata": {},
   "outputs": [
    {
     "name": "stdout",
     "output_type": "stream",
     "text": [
      "[0.24636082 0.11789434 0.097659   0.05153083 0.18093075 0.14743315\n",
      " 0.06945384 0.33143144 0.03266135 0.13812464 0.29443954 0.2824536\n",
      " 0.06627613 0.07046749]\n"
     ]
    }
   ],
   "source": [
    "mutual_info = mutual_info_regression(X_train, y_train, random_state = 1)\n",
    "print(mutual_info)"
   ]
  },
  {
   "cell_type": "code",
   "execution_count": 19,
   "metadata": {},
   "outputs": [
    {
     "name": "stdout",
     "output_type": "stream",
     "text": [
      "self-harm rate/100,000    0.331431\n",
      "%asthma                   0.294440\n",
      "%COPD                     0.282454\n",
      "%poor SA-heath            0.246361\n",
      "%smoker                   0.180931\n",
      "%alcohol                  0.147433\n",
      "%HSV                      0.138125\n",
      "%psycho                   0.117894\n",
      "%high BP                  0.097659\n",
      "%osteoporosis             0.070467\n",
      "%exercise                 0.069454\n",
      "%arthritis                0.066276\n",
      "%overweight               0.051531\n",
      "IMR/1,000                 0.032661\n",
      "dtype: float64\n"
     ]
    }
   ],
   "source": [
    "mutual_info = pd.Series(mutual_info)\n",
    "mutual_info.index = X_train.columns\n",
    "sort_value_health = mutual_info.sort_values(ascending=False)\n",
    "print(sort_value_health)"
   ]
  },
  {
   "cell_type": "code",
   "execution_count": 20,
   "metadata": {},
   "outputs": [
    {
     "data": {
      "text/plain": [
       "<AxesSubplot:>"
      ]
     },
     "execution_count": 20,
     "metadata": {},
     "output_type": "execute_result"
    },
    {
     "data": {
      "image/png": "[encoded data removed]",
      "text/plain": [
       "<Figure size 1080x360 with 1 Axes>"
      ]
     },
     "metadata": {
      "needs_background": "light"
     },
     "output_type": "display_data"
    }
   ],
   "source": [
    "sort_value_health.plot.bar(figsize=(15,5))\n"
   ]
  },
  {
   "cell_type": "code",
   "execution_count": 21,
   "metadata": {},
   "outputs": [
    {
     "name": "stdout",
     "output_type": "stream",
     "text": [
      "{'%poor SA-heath': array([0.36551561, 0.16125473, 0.23261297, 0.69150927, 0.16161487,\n",
      "       0.52844826, 0.20622196, 0.22273488, 0.2147412 , 0.40225798,\n",
      "       0.58581975, 0.33204459, 0.06166805]), '%psycho': array([0.36344363, 0.14362201, 0.09221822, 0.35783341, 0.04362494,\n",
      "       0.35119291, 0.0749487 , 0.2236643 , 0.17476631, 0.24778734,\n",
      "       0.27160531, 0.17326969, 0.03674374]), '%high BP': array([0.15975939, 0.12411828, 0.16098692, 0.2226141 , 0.09835044,\n",
      "       0.24001712, 0.06387683, 0.10917406, 0.29185311, 0.1785791 ,\n",
      "       0.22017564, 0.21868981, 0.09425514]), '%overweight': array([0.23843856, 0.09473954, 0.14343302, 0.24891144, 0.18985447,\n",
      "       0.16367011, 0.01713848, 0.12156171, 0.0867139 , 0.08258822,\n",
      "       0.30692179, 0.1401683 , 0.04210224]), '%smoker': array([0.70298579, 0.37287434, 0.23647914, 0.24808937, 0.14301941,\n",
      "       0.40088626, 0.29427848, 0.34000691, 0.24210389, 0.36919187,\n",
      "       0.46058921, 0.26029193, 0.12821839]), '%alcohol': array([0.16042748, 0.0417719 , 0.09990879, 0.17917245, 0.1411704 ,\n",
      "       0.08154145, 0.42184959, 0.17474243, 0.07667388, 0.14898012,\n",
      "       0.10195695, 0.09452544, 0.34184402]), '%exercise': array([0.52299254, 0.34693866, 0.23209005, 0.16231577, 0.39224803,\n",
      "       0.07690067, 0.09291162, 0.11506003, 0.3710192 , 0.11199246,\n",
      "       0.2856491 , 0.13055289, 0.        ]), 'self-harm rate/100,000': array([0.21392406, 0.0759122 , 0.06099015, 0.00764945, 0.2910316 ,\n",
      "       0.42354245, 0.09417485, 0.25290764, 0.        , 0.25734989,\n",
      "       0.35323755, 0.        , 0.15067547]), 'IMR/1,000': array([0.22837642, 0.20868789, 0.0897715 , 0.1229014 , 0.34209491,\n",
      "       0.17264958, 0.10370945, 0.27244931, 0.072007  , 0.13376591,\n",
      "       0.18870292, 0.01063307, 0.1603194 ]), '%HSV': array([0.22347354, 0.14561664, 0.29885643, 0.05348681, 0.2606643 ,\n",
      "       0.06135745, 0.36136372, 0.02188983, 0.06650038, 0.231362  ,\n",
      "       0.26668151, 0.51484614, 0.        ]), '%asthma': array([0.39949031, 0.23225886, 0.17519496, 0.07682199, 0.38115521,\n",
      "       0.15670036, 0.1174663 , 0.24937562, 0.12943539, 0.20562203,\n",
      "       0.44636599, 0.39597733, 0.0558172 ]), '%COPD': array([0.60515057, 0.25822073, 0.25249875, 0.29191832, 0.45699055,\n",
      "       0.11622368, 0.28573951, 0.35268825, 0.2084592 , 0.25807683,\n",
      "       0.45075504, 0.24484435, 0.        ]), '%arthritis': array([0.34139801, 0.15659212, 0.20445714, 0.10957612, 0.2562793 ,\n",
      "       0.09651799, 0.11796078, 0.        , 0.        , 0.50875664,\n",
      "       0.38286336, 0.26920651, 0.        ]), '%osteoporosis': array([0.07466533, 0.03681555, 0.11544079, 0.04615584, 0.12050748,\n",
      "       0.33965176, 0.        , 0.16754638, 0.17682957, 0.        ,\n",
      "       0.06024323, 0.        , 0.        ])}\n"
     ]
    }
   ],
   "source": [
    "# mutual correlation between features\n",
    "dic = {}\n",
    "raw_feature_health_ = raw_health.iloc[:,2:]\n",
    "\n",
    "raw_feature_health_.head()\n",
    "for i in range(0, 14):\n",
    "    X_train,X_test,y_train,y_test=train_test_split(raw_feature_health_.drop(labels = raw_feature_health_.columns[i], axis=1), \n",
    "    raw_feature_health_[raw_feature_health_.columns[i]],\n",
    "    test_size=0.3,\n",
    "    random_state=3)\n",
    "    \n",
    "    mutual_info = mutual_info_regression(X_train, y_train, random_state = 3)\n",
    "    dic[raw_feature_health_.columns[i]] = mutual_info\n",
    "\n",
    "print(dic)"
   ]
  },
  {
   "cell_type": "code",
   "execution_count": 22,
   "metadata": {},
   "outputs": [
    {
     "name": "stdout",
     "output_type": "stream",
     "text": [
      "Index(['%poor SA-heath', '%psycho', '%high BP', '%overweight', '%smoker',\n",
      "       '%alcohol', '%exercise', 'self-harm rate/100,000', 'IMR/1,000', '%HSV',\n",
      "       '%asthma', '%COPD', '%arthritis', '%osteoporosis'],\n",
      "      dtype='object')\n",
      "                        %poor SA-heath   %psycho  %high BP  %overweight  \\\n",
      "%poor SA-heath                0.000000  0.000000  0.000000     0.000000   \n",
      "%psycho                       0.364480  0.000000  0.000000     0.000000   \n",
      "%high BP                      0.160507  0.133870  0.000000     0.000000   \n",
      "%overweight                   0.235526  0.093479  0.152210     0.000000   \n",
      "%smoker                       0.697248  0.365354  0.229547     0.248500   \n",
      "%alcohol                      0.161021  0.042698  0.099130     0.184513   \n",
      "%exercise                     0.525720  0.349066  0.236054     0.162993   \n",
      "self-harm rate/100,000        0.210073  0.075430  0.062433     0.012394   \n",
      "IMR/1,000                     0.225556  0.216176  0.099473     0.122232   \n",
      "%HSV                          0.219107  0.160191  0.295355     0.070100   \n",
      "%asthma                       0.400874  0.240023  0.176887     0.079705   \n",
      "%COPD                         0.595485  0.264913  0.236337     0.299420   \n",
      "%arthritis                    0.336721  0.164931  0.211573     0.124872   \n",
      "%osteoporosis                 0.068167  0.036780  0.104848     0.044129   \n",
      "\n",
      "                         %smoker  %alcohol  %exercise  self-harm rate/100,000  \\\n",
      "%poor SA-heath          0.000000  0.000000   0.000000                0.000000   \n",
      "%psycho                 0.000000  0.000000   0.000000                0.000000   \n",
      "%high BP                0.000000  0.000000   0.000000                0.000000   \n",
      "%overweight             0.000000  0.000000   0.000000                0.000000   \n",
      "%smoker                 0.000000  0.000000   0.000000                0.000000   \n",
      "%alcohol                0.142095  0.000000   0.000000                0.000000   \n",
      "%exercise               0.396567  0.079221   0.000000                0.000000   \n",
      "self-harm rate/100,000  0.292655  0.422696   0.093543                0.000000   \n",
      "IMR/1,000               0.341051  0.173696   0.109385                0.262678   \n",
      "%HSV                    0.251384  0.069016   0.366191                0.010945   \n",
      "%asthma                 0.375174  0.152840   0.114729                0.253363   \n",
      "%COPD                   0.458790  0.109090   0.285694                0.352963   \n",
      "%arthritis              0.258286  0.095522   0.124257                0.000000   \n",
      "%osteoporosis           0.124363  0.340748   0.000000                0.159111   \n",
      "\n",
      "                        IMR/1,000      %HSV   %asthma     %COPD  %arthritis  \\\n",
      "%poor SA-heath           0.000000  0.000000  0.000000  0.000000         0.0   \n",
      "%psycho                  0.000000  0.000000  0.000000  0.000000         0.0   \n",
      "%high BP                 0.000000  0.000000  0.000000  0.000000         0.0   \n",
      "%overweight              0.000000  0.000000  0.000000  0.000000         0.0   \n",
      "%smoker                  0.000000  0.000000  0.000000  0.000000         0.0   \n",
      "%alcohol                 0.000000  0.000000  0.000000  0.000000         0.0   \n",
      "%exercise                0.000000  0.000000  0.000000  0.000000         0.0   \n",
      "self-harm rate/100,000   0.000000  0.000000  0.000000  0.000000         0.0   \n",
      "IMR/1,000                0.000000  0.000000  0.000000  0.000000         0.0   \n",
      "%HSV                     0.069254  0.000000  0.000000  0.000000         0.0   \n",
      "%asthma                  0.131601  0.218492  0.000000  0.000000         0.0   \n",
      "%COPD                    0.198581  0.262379  0.448561  0.000000         0.0   \n",
      "%arthritis               0.005317  0.511801  0.389420  0.257025         0.0   \n",
      "%osteoporosis            0.168574  0.000000  0.058030  0.000000         0.0   \n",
      "\n",
      "                        %osteoporosis  \n",
      "%poor SA-heath                    0.0  \n",
      "%psycho                           0.0  \n",
      "%high BP                          0.0  \n",
      "%overweight                       0.0  \n",
      "%smoker                           0.0  \n",
      "%alcohol                          0.0  \n",
      "%exercise                         0.0  \n",
      "self-harm rate/100,000            0.0  \n",
      "IMR/1,000                         0.0  \n",
      "%HSV                              0.0  \n",
      "%asthma                           0.0  \n",
      "%COPD                             0.0  \n",
      "%arthritis                        0.0  \n",
      "%osteoporosis                     0.0  \n"
     ]
    }
   ],
   "source": [
    "lst = raw_feature_health_.columns\n",
    "print(lst)\n",
    "\n",
    "df = pd.DataFrame(data = 0, columns = lst, index = lst)\n",
    "\n",
    "\n",
    "for i in range(0,13):\n",
    "    for j in range(i+1, 14):\n",
    "        df.iloc[i,j] = (dic[lst[i]][j-1] + dic[lst[j]][i])/2\n",
    "df = df.T\n",
    "print(df)\n",
    "\n"
   ]
  },
  {
   "cell_type": "code",
   "execution_count": 23,
   "metadata": {},
   "outputs": [
    {
     "data": {
      "text/plain": [
       "Text(0.5, 1.0, 'Heatmap of MI between health-relevant features')"
      ]
     },
     "execution_count": 23,
     "metadata": {},
     "output_type": "execute_result"
    },
    {
     "data": {
      "image/png": "[encoded data removed]",
      "text/plain": [
       "<Figure size 720x576 with 2 Axes>"
      ]
     },
     "metadata": {
      "needs_background": "light"
     },
     "output_type": "display_data"
    }
   ],
   "source": [
    "mask = np.zeros_like(df, dtype = np.bool)\n",
    "mask[np.triu_indices_from(mask)] = True\n",
    "\n",
    "plt.figure(num =3, figsize = (10,8))\n",
    "sns.heatmap(df,cmap='Greens',mask=mask, xticklabels = True)\n",
    "plt.title('Heatmap of MI between health-relevant features')"
   ]
  },
  {
   "cell_type": "code",
   "execution_count": 52,
   "metadata": {},
   "outputs": [],
   "source": [
    " # smoker and poor SA-health, COPD and SA-health...\n",
    "    "
   ]
  },
  {
   "cell_type": "code",
   "execution_count": 24,
   "metadata": {},
   "outputs": [
    {
     "name": "stdout",
     "output_type": "stream",
     "text": [
      "                  %mental  mental admission/100,000(18-19)  %poor SA-heath  \\\n",
      "Code\\n(PHN/LGA)                                                              \n",
      "PHN101           2.917771                         6.249589        2.595255   \n",
      "11100            2.833213                         6.152945        2.681022   \n",
      "11300            2.803360                         6.224360        2.587764   \n",
      "11520            2.884801                         6.237543        2.459589   \n",
      "11570a           2.785011                         6.508769        2.985682   \n",
      "\n",
      "                  %psycho  %high BP  %overweight   %smoker  %alcohol  \\\n",
      "Code\\n(PHN/LGA)                                                        \n",
      "PHN101           2.433613  3.169686     3.591818  2.587764  2.727853   \n",
      "11100            2.468100  3.186353     3.591818  2.747271  2.509599   \n",
      "11300            2.493205  3.214868     3.569533  2.587764  2.406945   \n",
      "11520            2.261763  3.178054     3.589059  2.388763  2.694627   \n",
      "11570a           2.797281  3.190476     3.572346  2.772589  2.312535   \n",
      "\n",
      "                 %exercise  self-harm rate/100,000  IMR/1,000      %HSV  \\\n",
      "Code\\n(PHN/LGA)                                                           \n",
      "PHN101            4.143135                2.251292   1.386294  1.686399   \n",
      "11100             4.239887                2.360854   1.526056  1.757858   \n",
      "11300             4.215086                2.186051   1.458615  1.722767   \n",
      "11520             4.110874                2.054124   1.163151  1.722767   \n",
      "11570a            4.312141                2.091864   1.252763  1.791759   \n",
      "\n",
      "                  %asthma     %COPD  %arthritis  %osteoporosis  \n",
      "Code\\n(PHN/LGA)                                                 \n",
      "PHN101           2.219203  1.098612    2.602690       1.722767  \n",
      "11100            2.151762  1.098612    2.587764       1.458615  \n",
      "11300            2.066863  1.029619    2.580217       1.824549  \n",
      "11520            2.104134  0.955511    2.595255       1.757858  \n",
      "11570a           2.261763  1.098612    2.772589       1.757858  \n"
     ]
    }
   ],
   "source": [
    "# MI feature selection for health_log\n",
    "log_health = np.log(raw_health + 1)\n",
    "print(log_health.head())\n",
    "\n",
    "X_train_log,X_test_log,y_train_log,y_test_log = train_test_split(log_health.drop(labels=['mental admission/100,000(18-19)', '%mental'], axis=1),\n",
    "    log_health['%mental'],\n",
    "    test_size=0.3,\n",
    "    random_state=3)"
   ]
  },
  {
   "cell_type": "code",
   "execution_count": 25,
   "metadata": {},
   "outputs": [
    {
     "name": "stdout",
     "output_type": "stream",
     "text": [
      "[0.23449546 0.15033933 0.09505992 0.0887968  0.24193619 0.30538553\n",
      " 0.06825224 0.46701298 0.1653956  0.17446047 0.4259445  0.32384423\n",
      " 0.11304577 0.13585884]\n"
     ]
    }
   ],
   "source": [
    "mutual_info_log = mutual_info_regression(X_train_log, y_train_log, random_state = 3)\n",
    "print(mutual_info_log)"
   ]
  },
  {
   "cell_type": "code",
   "execution_count": 26,
   "metadata": {},
   "outputs": [
    {
     "name": "stdout",
     "output_type": "stream",
     "text": [
      "self-harm rate/100,000    0.467013\n",
      "%asthma                   0.425944\n",
      "%COPD                     0.323844\n",
      "%alcohol                  0.305386\n",
      "%smoker                   0.241936\n",
      "%poor SA-heath            0.234495\n",
      "%HSV                      0.174460\n",
      "IMR/1,000                 0.165396\n",
      "%psycho                   0.150339\n",
      "%osteoporosis             0.135859\n",
      "%arthritis                0.113046\n",
      "%high BP                  0.095060\n",
      "%overweight               0.088797\n",
      "%exercise                 0.068252\n",
      "dtype: float64\n"
     ]
    }
   ],
   "source": [
    "mutual_info_log = pd.Series(mutual_info_log)\n",
    "mutual_info_log.index = X_train_log.columns\n",
    "sort_value_health_log = mutual_info_log.sort_values(ascending=False)\n",
    "print(sort_value_health_log)"
   ]
  },
  {
   "cell_type": "code",
   "execution_count": 27,
   "metadata": {},
   "outputs": [
    {
     "data": {
      "text/plain": [
       "<AxesSubplot:>"
      ]
     },
     "execution_count": 27,
     "metadata": {},
     "output_type": "execute_result"
    },
    {
     "data": {
      "image/png": "[encoded data removed]",
      "text/plain": [
       "<Figure size 1080x360 with 1 Axes>"
      ]
     },
     "metadata": {
      "needs_background": "light"
     },
     "output_type": "display_data"
    }
   ],
   "source": [
    "sort_value_health_log.plot.bar(figsize=(15,5))"
   ]
  },
  {
   "cell_type": "code",
   "execution_count": null,
   "metadata": {},
   "outputs": [],
   "source": []
  },
  {
   "cell_type": "code",
   "execution_count": 188,
   "metadata": {},
   "outputs": [],
   "source": [
    "# MI feature selection for non-health\n",
    "X_train_n,X_test_n,y_train_n,y_test_n = train_test_split(raw_nonhealth.drop(labels=['Adimissions for mental health related conditions, Persons - All hospitals 2016/17 Asr Per 100,000'], axis=1),\n",
    "    raw_nonhealth['Adimissions for mental health related conditions, Persons - All hospitals 2016/17 Asr Per 100,000'],\n",
    "    test_size=0.3,\n",
    "    random_state=3)"
   ]
  },
  {
   "cell_type": "code",
   "execution_count": 166,
   "metadata": {},
   "outputs": [],
   "source": []
  },
  {
   "cell_type": "code",
   "execution_count": 189,
   "metadata": {},
   "outputs": [
    {
     "name": "stdout",
     "output_type": "stream",
     "text": [
      "[0.         0.04441818 0.07257468 0.01793669 0.05075814 0.09429432\n",
      " 0.3195865  0.11036994 0.13245818 0.04413671 0.03743507 0.03800875\n",
      " 0.         0.00341007]\n"
     ]
    }
   ],
   "source": [
    "mutual_info_n = mutual_info_regression(X_train_n, y_train_n, random_state = 4)\n",
    "print(mutual_info_n)"
   ]
  },
  {
   "cell_type": "code",
   "execution_count": 190,
   "metadata": {},
   "outputs": [
    {
     "name": "stdout",
     "output_type": "stream",
     "text": [
      "% households in dwellings receiving rent assistance            0.319587\n",
      "% mortgage stress                                              0.132458\n",
      "% persons living in social housing                             0.110370\n",
      "Aboriginal population as proportion of total population (%)    0.094294\n",
      "% persons living in crowded dwellings                          0.072575\n",
      "% Permanent migrants under the Family stream visa\\n(total)     0.050758\n",
      "% private dwellings where Internet accessed                    0.044418\n",
      "% rental stress                                                0.044137\n",
      "% people receiving an unemployment benefit                     0.038009\n",
      "% Low income households                                        0.037435\n",
      "Total fertility rate                                           0.017937\n",
      "% unemployed                                                   0.003410\n",
      "% disability support pensioners                                0.000000\n",
      "% labour force participation                                   0.000000\n",
      "dtype: float64\n"
     ]
    }
   ],
   "source": [
    "mutual_info_n = pd.Series(mutual_info_n)\n",
    "mutual_info_n.index = X_train_n.columns\n",
    "sort_value_health_n = mutual_info_n.sort_values(ascending=False)\n",
    "print(sort_value_health_n)"
   ]
  },
  {
   "cell_type": "code",
   "execution_count": 191,
   "metadata": {},
   "outputs": [
    {
     "data": {
      "text/plain": [
       "<AxesSubplot:>"
      ]
     },
     "execution_count": 191,
     "metadata": {},
     "output_type": "execute_result"
    },
    {
     "data": {
      "image/png": "[encoded data removed]",
      "text/plain": [
       "<Figure size 1080x360 with 1 Axes>"
      ]
     },
     "metadata": {
      "needs_background": "light"
     },
     "output_type": "display_data"
    }
   ],
   "source": [
    "sort_value_health_n.plot.bar(figsize=(15,5))"
   ]
  },
  {
   "cell_type": "code",
   "execution_count": 170,
   "metadata": {},
   "outputs": [
    {
     "name": "stdout",
     "output_type": "stream",
     "text": [
      "{'% labour force participation': array([0.14757346, 0.00346394, 0.14092338, 0.12735383, 0.05055601,\n",
      "       0.13740815, 0.076247  , 0.14802916, 0.2610707 , 0.40802946,\n",
      "       0.23015809, 0.36556027, 0.03717623]), '% private dwellings where Internet accessed': array([0.14470603, 0.13292927, 0.23066614, 0.4838193 , 0.41030125,\n",
      "       0.30733005, 0.21834521, 0.13389627, 0.1879873 , 0.38445218,\n",
      "       0.53187339, 0.55009906, 0.1551054 ]), '% persons living in crowded dwellings': array([0.00541322, 0.13431916, 0.04846045, 0.2257336 , 0.3428822 ,\n",
      "       0.00794555, 0.2357668 , 0.0561837 , 0.11586976, 0.10076538,\n",
      "       0.23038327, 0.08235197, 0.11330633]), 'Total fertility rate': array([0.14827922, 0.22763833, 0.05219236, 0.28885117, 0.30006892,\n",
      "       0.12875434, 0.        , 0.09000966, 0.07442518, 0.23425019,\n",
      "       0.27427209, 0.14386299, 0.1044716 ]), '% Permanent migrants under the Family stream visa\\n(total)': array([0.13681208, 0.48017972, 0.22804204, 0.28984812, 0.27998815,\n",
      "       0.10570425, 0.06985342, 0.16349541, 0.09342854, 0.23998925,\n",
      "       0.15675686, 0.28392772, 0.05769528]), 'Aboriginal population as proportion of total population (%)': array([0.04899621, 0.40453236, 0.35199186, 0.3050346 , 0.28510015,\n",
      "       0.24142036, 0.44958312, 0.21403918, 0.31286935, 0.26965241,\n",
      "       0.48588634, 0.28088424, 0.15493774]), '% households in dwellings receiving rent assistance': array([0.13921727, 0.30763346, 0.00477718, 0.12950387, 0.11659574,\n",
      "       0.23965063, 0.20111875, 0.25727903, 0.39385016, 0.27409401,\n",
      "       0.51358998, 0.20740227, 0.33084712]), '% persons living in social housing': array([0.07364115, 0.21549332, 0.2514021 , 0.        , 0.0787265 ,\n",
      "       0.43672754, 0.19876645, 0.13463451, 0.14706712, 0.14082387,\n",
      "       0.34231207, 0.0370386 , 0.16351007]), '% mortgage stress': array([0.15000469, 0.13393508, 0.05333667, 0.09193348, 0.14903906,\n",
      "       0.20284482, 0.25471828, 0.15021631, 0.28046607, 0.39796101,\n",
      "       0.20107564, 0.12857682, 0.05366589]), '% rental stress': array([0.26182405, 0.19220533, 0.11241945, 0.07413284, 0.08441713,\n",
      "       0.29930673, 0.39452163, 0.14414184, 0.2805    , 0.46052154,\n",
      "       0.22295903, 0.16237421, 0.20001396]), '% Low income households': array([0.4157681 , 0.38004129, 0.11064441, 0.2364817 , 0.23637284,\n",
      "       0.2714742 , 0.26643363, 0.14815775, 0.39892702, 0.4571057 ,\n",
      "       0.54775805, 0.63077238, 0.14566933]), '% people receiving an unemployment benefit': array([0.22969185, 0.53314835, 0.23053505, 0.27553831, 0.16671989,\n",
      "       0.49437027, 0.52033647, 0.3356455 , 0.19713166, 0.22574645,\n",
      "       0.53861839, 0.70424493, 0.51184953]), '% disability support pensioners': array([0.36451379, 0.55228679, 0.07102961, 0.14763292, 0.29632222,\n",
      "       0.27685938, 0.21296616, 0.05635857, 0.12984905, 0.1597298 ,\n",
      "       0.62059605, 0.6953017 , 0.20812844]), '% unemployed': array([0.03433319, 0.14962418, 0.10882992, 0.10854199, 0.05189502,\n",
      "       0.13449162, 0.32968796, 0.17114024, 0.04277464, 0.18874261,\n",
      "       0.13964822, 0.5062417 , 0.20499234])}\n"
     ]
    }
   ],
   "source": [
    "# mutual correlation between features nonhealth\n",
    "dic_n = {}\n",
    "raw_feature_health_n = raw_nonhealth.iloc[:,1:]\n",
    "\n",
    "for i in range(0, 14):\n",
    "    X_train_n,X_test_n,y_train_n,y_test_n = train_test_split(raw_feature_health_n.drop(labels = raw_feature_health_n.columns[i], axis=1), \n",
    "    raw_feature_health_n[raw_feature_health_n.columns[i]],\n",
    "    test_size=0.3,\n",
    "    random_state=5)\n",
    "    \n",
    "    mutual_info_n = mutual_info_regression(X_train_n, y_train_n, random_state = 2)\n",
    "    dic_n[raw_feature_health_n.columns[i]] = mutual_info_n\n",
    "\n",
    "print(dic_n)"
   ]
  },
  {
   "cell_type": "code",
   "execution_count": 173,
   "metadata": {},
   "outputs": [
    {
     "name": "stdout",
     "output_type": "stream",
     "text": [
      "Index(['% labour force participation',\n",
      "       '% private dwellings where Internet accessed',\n",
      "       '% persons living in crowded dwellings', 'Total fertility rate',\n",
      "       '% Permanent migrants under the Family stream visa\\n(total)',\n",
      "       'Aboriginal population as proportion of total population (%)',\n",
      "       '% households in dwellings receiving rent assistance',\n",
      "       '% persons living in social housing', '% mortgage stress',\n",
      "       '% rental stress', '% Low income households',\n",
      "       '% people receiving an unemployment benefit',\n",
      "       '% disability support pensioners', '% unemployed'],\n",
      "      dtype='object')\n",
      "                                                    % labour force participation  \\\n",
      "% labour force participation                                            0.000000   \n",
      "% private dwellings where Internet accessed                             0.146140   \n",
      "% persons living in crowded dwellings                                   0.004439   \n",
      "Total fertility rate                                                    0.144601   \n",
      "% Permanent migrants under the Family stream vi...                      0.132083   \n",
      "Aboriginal population as proportion of total po...                      0.049776   \n",
      "% households in dwellings receiving rent assist...                      0.138313   \n",
      "% persons living in social housing                                      0.074944   \n",
      "% mortgage stress                                                       0.149017   \n",
      "% rental stress                                                         0.261447   \n",
      "% Low income households                                                 0.411899   \n",
      "% people receiving an unemployment benefit                              0.229925   \n",
      "% disability support pensioners                                         0.365037   \n",
      "% unemployed                                                            0.035755   \n",
      "\n",
      "                                                    % private dwellings where Internet accessed  \\\n",
      "% labour force participation                                                           0.000000   \n",
      "% private dwellings where Internet accessed                                            0.000000   \n",
      "% persons living in crowded dwellings                                                  0.133624   \n",
      "Total fertility rate                                                                   0.229152   \n",
      "% Permanent migrants under the Family stream vi...                                     0.482000   \n",
      "Aboriginal population as proportion of total po...                                     0.407417   \n",
      "% households in dwellings receiving rent assist...                                     0.307482   \n",
      "% persons living in social housing                                                     0.216919   \n",
      "% mortgage stress                                                                      0.133916   \n",
      "% rental stress                                                                        0.190096   \n",
      "% Low income households                                                                0.382247   \n",
      "% people receiving an unemployment benefit                                             0.532511   \n",
      "% disability support pensioners                                                        0.551193   \n",
      "% unemployed                                                                           0.152365   \n",
      "\n",
      "                                                    % persons living in crowded dwellings  \\\n",
      "% labour force participation                                                     0.000000   \n",
      "% private dwellings where Internet accessed                                      0.000000   \n",
      "% persons living in crowded dwellings                                            0.000000   \n",
      "Total fertility rate                                                             0.050326   \n",
      "% Permanent migrants under the Family stream vi...                               0.226888   \n",
      "Aboriginal population as proportion of total po...                               0.347437   \n",
      "% households in dwellings receiving rent assist...                               0.006361   \n",
      "% persons living in social housing                                               0.243584   \n",
      "% mortgage stress                                                                0.054760   \n",
      "% rental stress                                                                  0.114145   \n",
      "% Low income households                                                          0.105705   \n",
      "% people receiving an unemployment benefit                                       0.230459   \n",
      "% disability support pensioners                                                  0.076691   \n",
      "% unemployed                                                                     0.111068   \n",
      "\n",
      "                                                    Total fertility rate  \\\n",
      "% labour force participation                                    0.000000   \n",
      "% private dwellings where Internet accessed                     0.000000   \n",
      "% persons living in crowded dwellings                           0.000000   \n",
      "Total fertility rate                                            0.000000   \n",
      "% Permanent migrants under the Family stream vi...              0.289350   \n",
      "Aboriginal population as proportion of total po...              0.302552   \n",
      "% households in dwellings receiving rent assist...              0.129129   \n",
      "% persons living in social housing                              0.000000   \n",
      "% mortgage stress                                               0.090972   \n",
      "% rental stress                                                 0.074279   \n",
      "% Low income households                                         0.235366   \n",
      "% people receiving an unemployment benefit                      0.274905   \n",
      "% disability support pensioners                                 0.145748   \n",
      "% unemployed                                                    0.106507   \n",
      "\n",
      "                                                    % Permanent migrants under the Family stream visa\\n(total)  \\\n",
      "% labour force participation                                                                 0.000000            \n",
      "% private dwellings where Internet accessed                                                  0.000000            \n",
      "% persons living in crowded dwellings                                                        0.000000            \n",
      "Total fertility rate                                                                         0.000000            \n",
      "% Permanent migrants under the Family stream vi...                                           0.000000            \n",
      "Aboriginal population as proportion of total po...                                           0.282544            \n",
      "% households in dwellings receiving rent assist...                                           0.111150            \n",
      "% persons living in social housing                                                           0.074290            \n",
      "% mortgage stress                                                                            0.156267            \n",
      "% rental stress                                                                              0.088923            \n",
      "% Low income households                                                                      0.238181            \n",
      "% people receiving an unemployment benefit                                                   0.161738            \n",
      "% disability support pensioners                                                              0.290125            \n",
      "% unemployed                                                                                 0.054795            \n",
      "\n",
      "                                                    Aboriginal population as proportion of total population (%)  \\\n",
      "% labour force participation                                                                 0.000000             \n",
      "% private dwellings where Internet accessed                                                  0.000000             \n",
      "% persons living in crowded dwellings                                                        0.000000             \n",
      "Total fertility rate                                                                         0.000000             \n",
      "% Permanent migrants under the Family stream vi...                                           0.000000             \n",
      "Aboriginal population as proportion of total po...                                           0.000000             \n",
      "% households in dwellings receiving rent assist...                                           0.240535             \n",
      "% persons living in social housing                                                           0.443155             \n",
      "% mortgage stress                                                                            0.208442             \n",
      "% rental stress                                                                              0.306088             \n",
      "% Low income households                                                                      0.270563             \n",
      "% people receiving an unemployment benefit                                                   0.490128             \n",
      "% disability support pensioners                                                              0.278872             \n",
      "% unemployed                                                                                 0.144715             \n",
      "\n",
      "                                                    % households in dwellings receiving rent assistance  \\\n",
      "% labour force participation                                                                 0.000000     \n",
      "% private dwellings where Internet accessed                                                  0.000000     \n",
      "% persons living in crowded dwellings                                                        0.000000     \n",
      "Total fertility rate                                                                         0.000000     \n",
      "% Permanent migrants under the Family stream vi...                                           0.000000     \n",
      "Aboriginal population as proportion of total po...                                           0.000000     \n",
      "% households in dwellings receiving rent assist...                                           0.000000     \n",
      "% persons living in social housing                                                           0.199943     \n",
      "% mortgage stress                                                                            0.255999     \n",
      "% rental stress                                                                              0.394186     \n",
      "% Low income households                                                                      0.270264     \n",
      "% people receiving an unemployment benefit                                                   0.516963     \n",
      "% disability support pensioners                                                              0.210184     \n",
      "% unemployed                                                                                 0.330268     \n",
      "\n",
      "                                                    % persons living in social housing  \\\n",
      "% labour force participation                                                  0.000000   \n",
      "% private dwellings where Internet accessed                                   0.000000   \n",
      "% persons living in crowded dwellings                                         0.000000   \n",
      "Total fertility rate                                                          0.000000   \n",
      "% Permanent migrants under the Family stream vi...                            0.000000   \n",
      "Aboriginal population as proportion of total po...                            0.000000   \n",
      "% households in dwellings receiving rent assist...                            0.000000   \n",
      "% persons living in social housing                                            0.000000   \n",
      "% mortgage stress                                                             0.142425   \n",
      "% rental stress                                                               0.145604   \n",
      "% Low income households                                                       0.144491   \n",
      "% people receiving an unemployment benefit                                    0.338979   \n",
      "% disability support pensioners                                               0.046699   \n",
      "% unemployed                                                                  0.167325   \n",
      "\n",
      "                                                    % mortgage stress  \\\n",
      "% labour force participation                                 0.000000   \n",
      "% private dwellings where Internet accessed                  0.000000   \n",
      "% persons living in crowded dwellings                        0.000000   \n",
      "Total fertility rate                                         0.000000   \n",
      "% Permanent migrants under the Family stream vi...           0.000000   \n",
      "Aboriginal population as proportion of total po...           0.000000   \n",
      "% households in dwellings receiving rent assist...           0.000000   \n",
      "% persons living in social housing                           0.000000   \n",
      "% mortgage stress                                            0.000000   \n",
      "% rental stress                                              0.280483   \n",
      "% Low income households                                      0.398444   \n",
      "% people receiving an unemployment benefit                   0.199104   \n",
      "% disability support pensioners                              0.129213   \n",
      "% unemployed                                                 0.048220   \n",
      "\n",
      "                                                    % rental stress  \\\n",
      "% labour force participation                               0.000000   \n",
      "% private dwellings where Internet accessed                0.000000   \n",
      "% persons living in crowded dwellings                      0.000000   \n",
      "Total fertility rate                                       0.000000   \n",
      "% Permanent migrants under the Family stream vi...         0.000000   \n",
      "Aboriginal population as proportion of total po...         0.000000   \n",
      "% households in dwellings receiving rent assist...         0.000000   \n",
      "% persons living in social housing                         0.000000   \n",
      "% mortgage stress                                          0.000000   \n",
      "% rental stress                                            0.000000   \n",
      "% Low income households                                    0.458814   \n",
      "% people receiving an unemployment benefit                 0.224353   \n",
      "% disability support pensioners                            0.161052   \n",
      "% unemployed                                               0.194378   \n",
      "\n",
      "                                                    % Low income households  \\\n",
      "% labour force participation                                       0.000000   \n",
      "% private dwellings where Internet accessed                        0.000000   \n",
      "% persons living in crowded dwellings                              0.000000   \n",
      "Total fertility rate                                               0.000000   \n",
      "% Permanent migrants under the Family stream vi...                 0.000000   \n",
      "Aboriginal population as proportion of total po...                 0.000000   \n",
      "% households in dwellings receiving rent assist...                 0.000000   \n",
      "% persons living in social housing                                 0.000000   \n",
      "% mortgage stress                                                  0.000000   \n",
      "% rental stress                                                    0.000000   \n",
      "% Low income households                                            0.000000   \n",
      "% people receiving an unemployment benefit                         0.543188   \n",
      "% disability support pensioners                                    0.625684   \n",
      "% unemployed                                                       0.142659   \n",
      "\n",
      "                                                    % people receiving an unemployment benefit  \\\n",
      "% labour force participation                                                          0.000000   \n",
      "% private dwellings where Internet accessed                                           0.000000   \n",
      "% persons living in crowded dwellings                                                 0.000000   \n",
      "Total fertility rate                                                                  0.000000   \n",
      "% Permanent migrants under the Family stream vi...                                    0.000000   \n",
      "Aboriginal population as proportion of total po...                                    0.000000   \n",
      "% households in dwellings receiving rent assist...                                    0.000000   \n",
      "% persons living in social housing                                                    0.000000   \n",
      "% mortgage stress                                                                     0.000000   \n",
      "% rental stress                                                                       0.000000   \n",
      "% Low income households                                                               0.000000   \n",
      "% people receiving an unemployment benefit                                            0.000000   \n",
      "% disability support pensioners                                                       0.699773   \n",
      "% unemployed                                                                          0.509046   \n",
      "\n",
      "                                                    % disability support pensioners  \\\n",
      "% labour force participation                                                0.00000   \n",
      "% private dwellings where Internet accessed                                 0.00000   \n",
      "% persons living in crowded dwellings                                       0.00000   \n",
      "Total fertility rate                                                        0.00000   \n",
      "% Permanent migrants under the Family stream vi...                          0.00000   \n",
      "Aboriginal population as proportion of total po...                          0.00000   \n",
      "% households in dwellings receiving rent assist...                          0.00000   \n",
      "% persons living in social housing                                          0.00000   \n",
      "% mortgage stress                                                           0.00000   \n",
      "% rental stress                                                             0.00000   \n",
      "% Low income households                                                     0.00000   \n",
      "% people receiving an unemployment benefit                                  0.00000   \n",
      "% disability support pensioners                                             0.00000   \n",
      "% unemployed                                                                0.20656   \n",
      "\n",
      "                                                    % unemployed  \n",
      "% labour force participation                                 0.0  \n",
      "% private dwellings where Internet accessed                  0.0  \n",
      "% persons living in crowded dwellings                        0.0  \n",
      "Total fertility rate                                         0.0  \n",
      "% Permanent migrants under the Family stream vi...           0.0  \n",
      "Aboriginal population as proportion of total po...           0.0  \n",
      "% households in dwellings receiving rent assist...           0.0  \n",
      "% persons living in social housing                           0.0  \n",
      "% mortgage stress                                            0.0  \n",
      "% rental stress                                              0.0  \n",
      "% Low income households                                      0.0  \n",
      "% people receiving an unemployment benefit                   0.0  \n",
      "% disability support pensioners                              0.0  \n",
      "% unemployed                                                 0.0  \n"
     ]
    }
   ],
   "source": [
    "lst_n = raw_feature_health_n.columns\n",
    "print(lst_n)\n",
    "\n",
    "df_n = pd.DataFrame(data = 0, columns = lst_n, index = lst_n)\n",
    "\n",
    "\n",
    "for i in range(0,13):\n",
    "    for j in range(i+1, 14):\n",
    "        df_n.iloc[i,j] = (dic_n[lst_n[i]][j-1] + dic_n[lst_n[j]][i])/2\n",
    "df_n = df_n.T\n",
    "print(df_n)"
   ]
  },
  {
   "cell_type": "code",
   "execution_count": 174,
   "metadata": {},
   "outputs": [
    {
     "data": {
      "text/plain": [
       "Text(0.5, 1.0, 'Heatmap of MI between nonhealth-relevant features')"
      ]
     },
     "execution_count": 174,
     "metadata": {},
     "output_type": "execute_result"
    },
    {
     "data": {
      "image/png": "[encoded data removed]",
      "text/plain": [
       "<Figure size 720x576 with 2 Axes>"
      ]
     },
     "metadata": {
      "needs_background": "light"
     },
     "output_type": "display_data"
    }
   ],
   "source": [
    "\n",
    "plt.figure(num =4, figsize = (10,8))\n",
    "sns.heatmap(df_n,cmap='Greens',mask=mask, xticklabels = True)\n",
    "plt.title('Heatmap of MI between nonhealth-relevant features')"
   ]
  },
  {
   "cell_type": "code",
   "execution_count": 138,
   "metadata": {},
   "outputs": [],
   "source": [
    "# '% people receiving an unemployment benefit' and '% disability support pensioners' ; private dwellings where Internet accessed' and 'disability support pensioners'; "
   ]
  },
  {
   "cell_type": "code",
   "execution_count": 81,
   "metadata": {},
   "outputs": [
    {
     "name": "stdout",
     "output_type": "stream",
     "text": [
      "185 80\n",
      "Code\\n(PHN/LGA)\n",
      "16260a    14.1\n",
      "55320     17.1\n",
      "24410     21.4\n",
      "14100     19.2\n",
      "26490     20.5\n",
      "Name: %mental, dtype: float64\n",
      "Code\\n(PHN/LGA)\n",
      "16260a    0.0\n",
      "55320     0.0\n",
      "24410     1.0\n",
      "14100     1.0\n",
      "26490     1.0\n",
      "Name: %mental, dtype: float64\n",
      "2\n"
     ]
    }
   ],
   "source": [
    "# decision tree for health\n",
    "X_train,X_test,y_train,y_test=train_test_split(raw_health.drop(labels=['mental admission/100,000(18-19)', '%mental'], axis=1),\n",
    "    raw_health['%mental'],\n",
    "    test_size=0.3,\n",
    "    random_state=0)\n",
    "\n",
    "\n",
    "n1 = len(y_train)\n",
    "n2 = len(y_test)\n",
    "print(n1, n2)\n",
    "y_train_labeled = y_train.copy()\n",
    "for i in range(0,n1):\n",
    "    value = y_train_labeled[i]\n",
    "    if value <= 17.5:\n",
    "        y_train_labeled[i] = 0\n",
    "    elif value > 17.5 and value < 27:\n",
    "        y_train_labeled[i] = 1\n",
    "    elif value >= 27:\n",
    "        y_train_labeled[i] = 2\n",
    "\n",
    "print(y_train.head())\n",
    "print(y_train_labeled.head())\n",
    "print(y_train_labeled.value_counts()[2])\n"
   ]
  },
  {
   "cell_type": "code",
   "execution_count": 82,
   "metadata": {},
   "outputs": [
    {
     "name": "stdout",
     "output_type": "stream",
     "text": [
      "Code\\n(PHN/LGA)\n",
      "27070    18.4\n",
      "24650    19.1\n",
      "13910    22.9\n",
      "16650    14.3\n",
      "36630    27.9\n",
      "Name: %mental, dtype: float64\n",
      "Code\\n(PHN/LGA)\n",
      "27070    1.0\n",
      "24650    1.0\n",
      "13910    1.0\n",
      "16650    0.0\n",
      "36630    2.0\n",
      "Name: %mental, dtype: float64\n",
      "2\n"
     ]
    }
   ],
   "source": [
    "y_test_labeled = y_test.copy()\n",
    "for i in range(0,n2):\n",
    "    value = y_test_labeled[i]\n",
    "    if value <= 17.5:\n",
    "        y_test_labeled[i] = 0\n",
    "    elif value > 17.5 and value < 27:\n",
    "        y_test_labeled[i] = 1\n",
    "    elif value >= 27:\n",
    "        y_test_labeled[i] = 2\n",
    "\n",
    "print(y_test.head())\n",
    "print(y_test_labeled.head())\n",
    "print(y_test_labeled.value_counts()[2])"
   ]
  },
  {
   "cell_type": "code",
   "execution_count": 86,
   "metadata": {},
   "outputs": [],
   "source": [
    "from sklearn.tree import DecisionTreeClassifier\n",
    "\n",
    "dt = DecisionTreeClassifier(criterion=\"entropy\",random_state=6, max_depth=3)\n",
    "dt = dt.fit(X_train, y_train_labeled)\n",
    "\n"
   ]
  },
  {
   "cell_type": "code",
   "execution_count": 87,
   "metadata": {},
   "outputs": [
    {
     "name": "stdout",
     "output_type": "stream",
     "text": [
      "0.925\n"
     ]
    }
   ],
   "source": [
    "y_pred=dt.predict(X_test)\n",
    "print(accuracy_score(y_test_labeled, y_pred))"
   ]
  },
  {
   "cell_type": "code",
   "execution_count": 88,
   "metadata": {},
   "outputs": [
    {
     "data": {
      "image/png": "[encoded data removed]",
      "text/plain": [
       "<Figure size 432x288 with 1 Axes>"
      ]
     },
     "metadata": {
      "needs_background": "light"
     },
     "output_type": "display_data"
    }
   ],
   "source": [
    "features_health = lst\n",
    "data = tree.export_graphviz(dt, out_file=None, feature_names=features_health)\n",
    "graph = pydotplus.graph_from_dot_data(data)\n",
    "graph.write_png('mydecisiontree.png')\n",
    "\n",
    "img=pltimg.imread('mydecisiontree.png')\n",
    "imgplot = plt.imshow(img)\n",
    "plt.show()"
   ]
  },
  {
   "cell_type": "code",
   "execution_count": 207,
   "metadata": {},
   "outputs": [],
   "source": [
    "# decision tree for non-health\n",
    "X_train_n,X_test_n,y_train_n,y_test_n = train_test_split(raw_nonhealth.drop(labels=['Adimissions for mental health related conditions, Persons - All hospitals 2016/17 Asr Per 100,000'], axis=1),\n",
    "    raw_nonhealth['Adimissions for mental health related conditions, Persons - All hospitals 2016/17 Asr Per 100,000'],\n",
    "    test_size=0.3,\n",
    "    random_state=3)"
   ]
  },
  {
   "cell_type": "code",
   "execution_count": 208,
   "metadata": {},
   "outputs": [
    {
     "name": "stdout",
     "output_type": "stream",
     "text": [
      "280 121\n",
      "Code\\n(PHN/LGA)\n",
      "11650    23.561\n",
      "59340    20.543\n",
      "25990     8.159\n",
      "50080    16.886\n",
      "14200    12.416\n",
      "Name: Adimissions for mental health related conditions, Persons - All hospitals 2016/17 Asr Per 100,000, dtype: float64\n",
      "Code\\n(PHN/LGA)\n",
      "11650    1.0\n",
      "59340    1.0\n",
      "25990    0.0\n",
      "50080    1.0\n",
      "14200    1.0\n",
      "Name: Adimissions for mental health related conditions, Persons - All hospitals 2016/17 Asr Per 100,000, dtype: float64\n",
      "12\n"
     ]
    }
   ],
   "source": [
    "n3 = len(y_train_n)\n",
    "n4 = len(y_test_n)\n",
    "print(n3, n4)\n",
    "y_train_n_labeled = y_train_n.copy()\n",
    "for i in range(0,n3):\n",
    "    value = y_train_n_labeled[i]\n",
    "    if value <= 10:\n",
    "        y_train_n_labeled[i] = 0\n",
    "    elif value > 10 and value < 30:\n",
    "        y_train_n_labeled[i] = 1\n",
    "    elif value >= 30:\n",
    "        y_train_n_labeled[i] = 2\n",
    "\n",
    "print(y_train_n.head())\n",
    "print(y_train_n_labeled.head())\n",
    "print(y_train_n_labeled.value_counts()[2])"
   ]
  },
  {
   "cell_type": "code",
   "execution_count": 209,
   "metadata": {},
   "outputs": [
    {
     "name": "stdout",
     "output_type": "stream",
     "text": [
      "Code\\n(PHN/LGA)\n",
      "61410    44.651\n",
      "15350    25.383\n",
      "51750    13.361\n",
      "17620    13.989\n",
      "14750    17.566\n",
      "Name: Adimissions for mental health related conditions, Persons - All hospitals 2016/17 Asr Per 100,000, dtype: float64\n",
      "Code\\n(PHN/LGA)\n",
      "61410    2.0\n",
      "15350    1.0\n",
      "51750    1.0\n",
      "17620    1.0\n",
      "14750    1.0\n",
      "Name: Adimissions for mental health related conditions, Persons - All hospitals 2016/17 Asr Per 100,000, dtype: float64\n",
      "5\n"
     ]
    }
   ],
   "source": [
    "y_test_n_labeled = y_test_n.copy()\n",
    "for i in range(0,n4):\n",
    "    value = y_test_n_labeled[i]\n",
    "    if value <= 10:\n",
    "        y_test_n_labeled[i] = 0\n",
    "    elif value > 10 and value < 30:\n",
    "        y_test_n_labeled[i] = 1\n",
    "    elif value >= 30:\n",
    "        y_test_n_labeled[i] = 2\n",
    "\n",
    "print(y_test_n.head())\n",
    "print(y_test_n_labeled.head())\n",
    "print(y_test_n_labeled.value_counts()[2])"
   ]
  },
  {
   "cell_type": "code",
   "execution_count": 221,
   "metadata": {},
   "outputs": [],
   "source": [
    "from sklearn.tree import DecisionTreeClassifier\n",
    "\n",
    "dt_n = DecisionTreeClassifier(criterion=\"entropy\",random_state=6, max_depth=2)\n",
    "dt_n = dt_n.fit(X_train_n, y_train_n_labeled)\n",
    "\n"
   ]
  },
  {
   "cell_type": "code",
   "execution_count": 222,
   "metadata": {},
   "outputs": [
    {
     "name": "stdout",
     "output_type": "stream",
     "text": [
      "0.8099173553719008\n"
     ]
    }
   ],
   "source": [
    "y_pred_n=dt_n.predict(X_test_n)\n",
    "print(accuracy_score(y_test_n_labeled, y_pred_n))"
   ]
  },
  {
   "cell_type": "code",
   "execution_count": 223,
   "metadata": {},
   "outputs": [
    {
     "data": {
      "image/png": "[encoded data removed]",
      "text/plain": [
       "<Figure size 432x288 with 1 Axes>"
      ]
     },
     "metadata": {
      "needs_background": "light"
     },
     "output_type": "display_data"
    },
    {
     "name": "stdout",
     "output_type": "stream",
     "text": [
      "Index(['% labour force participation',\n",
      "       '% private dwellings where Internet accessed',\n",
      "       '% persons living in crowded dwellings', 'Total fertility rate',\n",
      "       '% Permanent migrants under the Family stream visa\\n(total)',\n",
      "       'Aboriginal population as proportion of total population (%)',\n",
      "       '% households in dwellings receiving rent assistance',\n",
      "       '% persons living in social housing', '% mortgage stress',\n",
      "       '% rental stress', '% Low income households',\n",
      "       '% people receiving an unemployment benefit',\n",
      "       '% disability support pensioners', '% unemployed'],\n",
      "      dtype='object')\n"
     ]
    }
   ],
   "source": [
    "features_nonhealth = lst_n\n",
    "data_n = tree.export_graphviz(dt_n, out_file=None, feature_names=features_nonhealth)\n",
    "graph_n = pydotplus.graph_from_dot_data(data_n)\n",
    "graph_n.write_png('mydecisiontree_n.png')\n",
    "\n",
    "img_n=pltimg.imread('mydecisiontree_n.png')\n",
    "img_nplot = plt.imshow(img_n)\n",
    "plt.show()\n",
    "print(lst_n)"
   ]
  },
  {
   "cell_type": "code",
   "execution_count": 230,
   "metadata": {},
   "outputs": [
    {
     "name": "stdout",
     "output_type": "stream",
     "text": [
      "185 80\n",
      "Code\\n(PHN/LGA)\n",
      "16260a    14.1\n",
      "55320     17.1\n",
      "24410     21.4\n",
      "14100     19.2\n",
      "26490     20.5\n",
      "Name: %mental, dtype: float64\n",
      "Code\\n(PHN/LGA)\n",
      "16260a    0.0\n",
      "55320     0.0\n",
      "24410     1.0\n",
      "14100     1.0\n",
      "26490     1.0\n",
      "Name: %mental, dtype: float64\n",
      "2\n",
      "                 %smoker  %asthma  %COPD\n",
      "Code\\n(PHN/LGA)                         \n",
      "16260a              10.6      7.5    1.7\n",
      "55320                8.2      8.8    1.5\n",
      "24410               13.8     12.3    2.3\n",
      "14100                8.5      8.4    1.2\n",
      "26490               11.7     12.7    2.1\n",
      "Index(['%smoker', '%asthma', '%COPD'], dtype='object')\n"
     ]
    }
   ],
   "source": [
    "# decision tree for health 3 selected features\n",
    "X_train,X_test,y_train,y_test=train_test_split(raw_health.drop(labels=['mental admission/100,000(18-19)', '%mental'], axis=1),\n",
    "    raw_health['%mental'],\n",
    "    test_size=0.3,\n",
    "    random_state=0)\n",
    "\n",
    "X_train = X_train.iloc[:,[4,10,11]]\n",
    "X_test = X_test.iloc[:,[4,10,11]]\n",
    "\n",
    "lst_selected = X_train.columns\n",
    "\n",
    "n1 = len(y_train)\n",
    "n2 = len(y_test)\n",
    "print(n1, n2)\n",
    "y_train_labeled = y_train.copy()\n",
    "for i in range(0,n1):\n",
    "    value = y_train_labeled[i]\n",
    "    if value <= 17.5:\n",
    "        y_train_labeled[i] = 0\n",
    "    elif value > 17.5 and value < 27:\n",
    "        y_train_labeled[i] = 1\n",
    "    elif value >= 27:\n",
    "        y_train_labeled[i] = 2\n",
    "\n",
    "print(y_train.head())\n",
    "print(y_train_labeled.head())\n",
    "print(y_train_labeled.value_counts()[2])\n",
    "print(X_train.head())\n",
    "print(lst_selected)"
   ]
  },
  {
   "cell_type": "code",
   "execution_count": 231,
   "metadata": {},
   "outputs": [
    {
     "name": "stdout",
     "output_type": "stream",
     "text": [
      "Code\\n(PHN/LGA)\n",
      "27070    18.4\n",
      "24650    19.1\n",
      "13910    22.9\n",
      "16650    14.3\n",
      "36630    27.9\n",
      "Name: %mental, dtype: float64\n",
      "Code\\n(PHN/LGA)\n",
      "27070    1.0\n",
      "24650    1.0\n",
      "13910    1.0\n",
      "16650    0.0\n",
      "36630    2.0\n",
      "Name: %mental, dtype: float64\n",
      "2\n"
     ]
    }
   ],
   "source": [
    "y_test_labeled = y_test.copy()\n",
    "for i in range(0,n2):\n",
    "    value = y_test_labeled[i]\n",
    "    if value <= 17.5:\n",
    "        y_test_labeled[i] = 0\n",
    "    elif value > 17.5 and value < 27:\n",
    "        y_test_labeled[i] = 1\n",
    "    elif value >= 27:\n",
    "        y_test_labeled[i] = 2\n",
    "\n",
    "print(y_test.head())\n",
    "print(y_test_labeled.head())\n",
    "print(y_test_labeled.value_counts()[2])\n",
    "\n"
   ]
  },
  {
   "cell_type": "code",
   "execution_count": 232,
   "metadata": {},
   "outputs": [
    {
     "name": "stdout",
     "output_type": "stream",
     "text": [
      "0.9\n"
     ]
    },
    {
     "data": {
      "image/png": "[encoded data removed]",
      "text/plain": [
       "<Figure size 432x288 with 1 Axes>"
      ]
     },
     "metadata": {
      "needs_background": "light"
     },
     "output_type": "display_data"
    }
   ],
   "source": [
    "from sklearn.tree import DecisionTreeClassifier\n",
    "\n",
    "dt = DecisionTreeClassifier(criterion=\"entropy\",random_state=4, max_depth=3)\n",
    "dt = dt.fit(X_train, y_train_labeled)\n",
    "\n",
    "y_pred=dt.predict(X_test)\n",
    "print(accuracy_score(y_test_labeled, y_pred))\n",
    "\n",
    "data = tree.export_graphviz(dt, out_file=None, feature_names= lst_selected)\n",
    "graph = pydotplus.graph_from_dot_data(data)\n",
    "graph.write_png('mydecisiontree.png')\n",
    "\n",
    "img=pltimg.imread('mydecisiontree.png')\n",
    "imgplot = plt.imshow(img)\n",
    "plt.show()"
   ]
  },
  {
   "cell_type": "code",
   "execution_count": 258,
   "metadata": {},
   "outputs": [],
   "source": [
    "# decision tree for non-health with 3 selected features\n",
    "X_train_n,X_test_n,y_train_n,y_test_n = train_test_split(raw_nonhealth.drop(labels=['Adimissions for mental health related conditions, Persons - All hospitals 2016/17 Asr Per 100,000'], axis=1),\n",
    "    raw_nonhealth['Adimissions for mental health related conditions, Persons - All hospitals 2016/17 Asr Per 100,000'],\n",
    "    test_size=0.3,\n",
    "    random_state=8)\n",
    "\n",
    "\n",
    "X_train_n = X_train_n.iloc[:,[6,7,8]]\n",
    "X_test_n = X_test_n.iloc[:,[6,7,8]]\n",
    "lst_selected_n = X_train_n.columns"
   ]
  },
  {
   "cell_type": "code",
   "execution_count": 259,
   "metadata": {},
   "outputs": [
    {
     "name": "stdout",
     "output_type": "stream",
     "text": [
      "280 121\n",
      "Code\\n(PHN/LGA)\n",
      "56090     7.949\n",
      "14850    16.322\n",
      "47700    10.393\n",
      "33960    22.601\n",
      "57910    15.343\n",
      "Name: Adimissions for mental health related conditions, Persons - All hospitals 2016/17 Asr Per 100,000, dtype: float64\n",
      "Code\\n(PHN/LGA)\n",
      "56090    0.0\n",
      "14850    1.0\n",
      "47700    1.0\n",
      "33960    1.0\n",
      "57910    1.0\n",
      "Name: Adimissions for mental health related conditions, Persons - All hospitals 2016/17 Asr Per 100,000, dtype: float64\n",
      "11\n",
      "Code\\n(PHN/LGA)\n",
      "16200    15.313\n",
      "35760    12.498\n",
      "10650    12.070\n",
      "51680     9.035\n",
      "34580    12.807\n",
      "Name: Adimissions for mental health related conditions, Persons - All hospitals 2016/17 Asr Per 100,000, dtype: float64\n",
      "Code\\n(PHN/LGA)\n",
      "16200    1.0\n",
      "35760    1.0\n",
      "10650    1.0\n",
      "51680    0.0\n",
      "34580    1.0\n",
      "Name: Adimissions for mental health related conditions, Persons - All hospitals 2016/17 Asr Per 100,000, dtype: float64\n",
      "6\n",
      "                 % households in dwellings receiving rent assistance  \\\n",
      "Code\\n(PHN/LGA)                                                        \n",
      "56090                                                         11.6     \n",
      "14850                                                         27.0     \n",
      "47700                                                         10.9     \n",
      "33960                                                         34.6     \n",
      "57910                                                         13.3     \n",
      "\n",
      "                 % persons living in social housing  % mortgage stress  \n",
      "Code\\n(PHN/LGA)                                                         \n",
      "56090                                           1.1                9.5  \n",
      "14850                                           3.3               11.7  \n",
      "47700                                           2.5                7.3  \n",
      "33960                                           3.7                7.9  \n",
      "57910                                           3.4                8.6  \n",
      "Index(['% households in dwellings receiving rent assistance',\n",
      "       '% persons living in social housing', '% mortgage stress'],\n",
      "      dtype='object')\n"
     ]
    }
   ],
   "source": [
    "n3 = len(y_train_n)\n",
    "n4 = len(y_test_n)\n",
    "print(n3, n4)\n",
    "y_train_n_labeled = y_train_n.copy()\n",
    "for i in range(0,n3):\n",
    "    value = y_train_n_labeled[i]\n",
    "    if value <= 10:\n",
    "        y_train_n_labeled[i] = 0\n",
    "    elif value > 10 and value < 30:\n",
    "        y_train_n_labeled[i] = 1\n",
    "    elif value >= 30:\n",
    "        y_train_n_labeled[i] = 2\n",
    "\n",
    "print(y_train_n.head())\n",
    "print(y_train_n_labeled.head())\n",
    "print(y_train_n_labeled.value_counts()[2])\n",
    "\n",
    "\n",
    "y_test_n_labeled = y_test_n.copy()\n",
    "for i in range(0,n4):\n",
    "    value = y_test_n_labeled[i]\n",
    "    if value <= 10:\n",
    "        y_test_n_labeled[i] = 0\n",
    "    elif value > 10 and value < 30:\n",
    "        y_test_n_labeled[i] = 1\n",
    "    elif value >= 30:\n",
    "        y_test_n_labeled[i] = 2\n",
    "\n",
    "print(y_test_n.head())\n",
    "print(y_test_n_labeled.head())\n",
    "print(y_test_n_labeled.value_counts()[2])\n",
    "print(X_train_n.head())\n",
    "print(lst_selected_n)"
   ]
  },
  {
   "cell_type": "code",
   "execution_count": 270,
   "metadata": {},
   "outputs": [
    {
     "name": "stdout",
     "output_type": "stream",
     "text": [
      "0.768595041322314\n"
     ]
    }
   ],
   "source": [
    "from sklearn.tree import DecisionTreeClassifier\n",
    "\n",
    "dt_n = DecisionTreeClassifier(criterion=\"entropy\",random_state=6, max_depth=2)\n",
    "dt_n = dt_n.fit(X_train_n, y_train_n_labeled)\n",
    "\n",
    "y_pred_n=dt_n.predict(X_test_n)\n",
    "print(accuracy_score(y_test_n_labeled, y_pred_n))"
   ]
  },
  {
   "cell_type": "code",
   "execution_count": 271,
   "metadata": {},
   "outputs": [
    {
     "data": {
      "image/png": "[encoded data removed]",
      "text/plain": [
       "<Figure size 432x288 with 1 Axes>"
      ]
     },
     "metadata": {
      "needs_background": "light"
     },
     "output_type": "display_data"
    },
    {
     "name": "stdout",
     "output_type": "stream",
     "text": [
      "Index(['% labour force participation',\n",
      "       '% private dwellings where Internet accessed',\n",
      "       '% persons living in crowded dwellings', 'Total fertility rate',\n",
      "       '% Permanent migrants under the Family stream visa\\n(total)',\n",
      "       'Aboriginal population as proportion of total population (%)',\n",
      "       '% households in dwellings receiving rent assistance',\n",
      "       '% persons living in social housing', '% mortgage stress',\n",
      "       '% rental stress', '% Low income households',\n",
      "       '% people receiving an unemployment benefit',\n",
      "       '% disability support pensioners', '% unemployed'],\n",
      "      dtype='object')\n"
     ]
    }
   ],
   "source": [
    "features_nonhealth = lst_n\n",
    "data_n = tree.export_graphviz(dt_n, out_file=None, feature_names=lst_selected_n)\n",
    "graph_n = pydotplus.graph_from_dot_data(data_n)\n",
    "graph_n.write_png('mydecisiontree_n.png')\n",
    "\n",
    "img_n=pltimg.imread('mydecisiontree_n.png')\n",
    "img_nplot = plt.imshow(img_n)\n",
    "plt.show()\n",
    "print(lst_n)"
   ]
  },
  {
   "cell_type": "code",
   "execution_count": 194,
   "metadata": {},
   "outputs": [
    {
     "name": "stdout",
     "output_type": "stream",
     "text": [
      "0.6115702479338843\n"
     ]
    },
    {
     "data": {
      "image/png": "[encoded data removed]",
      "text/plain": [
       "<Figure size 432x288 with 1 Axes>"
      ]
     },
     "metadata": {
      "needs_background": "light"
     },
     "output_type": "display_data"
    },
    {
     "name": "stdout",
     "output_type": "stream",
     "text": [
      "Index(['% labour force participation',\n",
      "       '% private dwellings where Internet accessed',\n",
      "       '% persons living in crowded dwellings', 'Total fertility rate',\n",
      "       '% Permanent migrants under the Family stream visa\\n(total)',\n",
      "       'Aboriginal population as proportion of total population (%)',\n",
      "       '% households in dwellings receiving rent assistance',\n",
      "       '% persons living in social housing', '% mortgage stress',\n",
      "       '% rental stress', '% Low income households',\n",
      "       '% people receiving an unemployment benefit',\n",
      "       '% disability support pensioners', '% unemployed'],\n",
      "      dtype='object')\n"
     ]
    }
   ],
   "source": []
  },
  {
   "cell_type": "code",
   "execution_count": 53,
   "metadata": {},
   "outputs": [
    {
     "name": "stdout",
     "output_type": "stream",
     "text": [
      "0.9\n"
     ]
    },
    {
     "data": {
      "image/png": "[encoded data removed]",
      "text/plain": [
       "<Figure size 432x288 with 1 Axes>"
      ]
     },
     "metadata": {
      "needs_background": "light"
     },
     "output_type": "display_data"
    }
   ],
   "source": []
  }
 ],
 "metadata": {
  "kernelspec": {
   "display_name": "Python 3",
   "language": "python",
   "name": "python3"
  },
  "language_info": {
   "codemirror_mode": {
    "name": "ipython",
    "version": 3
   },
   "file_extension": ".py",
   "mimetype": "text/x-python",
   "name": "python",
   "nbconvert_exporter": "python",
   "pygments_lexer": "ipython3",
   "version": "3.7.4"
  }
 },
 "nbformat": 4,
 "nbformat_minor": 4
}
